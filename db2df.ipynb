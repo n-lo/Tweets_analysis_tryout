{
 "cells": [
  {
   "cell_type": "code",
   "execution_count": 1,
   "metadata": {
    "collapsed": true
   },
   "outputs": [],
   "source": [
    "# -*- coding: utf-8 -*-\n",
    "# goto https://github.com/n-lo/Tweets_analysis_tryout for other parts\n",
    "%matplotlib inline\n",
    "from __future__ import print_function\n",
    "import pprint\n",
    "from pymongo import MongoClient\n",
    "import pandas as pd\n",
    "import numpy as np\n",
    "\n",
    "import logging\n",
    "logging.basicConfig(format='%(asctime)s : %(levelname)s : %(message)s', level=logging.INFO)\n",
    "# e.g. logging.info(\"%i tweets found...\" % len(df))\n",
    "\n",
    "pp = pprint.PrettyPrinter(indent=4)\n",
    "#hdf5_file = 'timeline.h5'\n",
    "hdf5_file = 'onp.h5'"
   ]
  },
  {
   "cell_type": "code",
   "execution_count": 2,
   "metadata": {
    "collapsed": false
   },
   "outputs": [
    {
     "name": "stdout",
     "output_type": "stream",
     "text": [
      "Open connection to MongoDB.\n",
      "Total number of tweets in db:  8674\n"
     ]
    }
   ],
   "source": [
    "# ==================================================\n",
    "#  Connect to mongoDB database\n",
    "#  note: make sure MongoDB is running (mongod)\n",
    "# ==================================================\n",
    "print(\"Open connection to MongoDB.\")\n",
    "client = MongoClient('localhost', 27017)\n",
    "#db = client.timeline.tweets\n",
    "db = client.onp.tweets\n",
    "print(\"Total number of tweets in db: \", db.count())"
   ]
  },
  {
   "cell_type": "code",
   "execution_count": 3,
   "metadata": {
    "collapsed": false
   },
   "outputs": [
    {
     "name": "stdout",
     "output_type": "stream",
     "text": [
      "Find tweets in database.\n",
      "8674 tweets found.\n"
     ]
    }
   ],
   "source": [
    "# ===================================================\n",
    "#  Get tweets from database\n",
    "# ===================================================\n",
    "\n",
    "# find tweets written in English to dataframe\n",
    "print(\"Find tweets in database.\")\n",
    "#datain = db.find({\"lang\" : \"en\"})\n",
    "datain = db.find() # load all tweets\n",
    "print(\"%i tweets found.\" % datain.count())"
   ]
  },
  {
   "cell_type": "code",
   "execution_count": 4,
   "metadata": {
    "collapsed": false
   },
   "outputs": [
    {
     "name": "stdout",
     "output_type": "stream",
     "text": [
      "Storing into dataframe...\n",
      "Done.\n"
     ]
    }
   ],
   "source": [
    "# this line will simply convert the first level json items into df, \n",
    "#   any sublevel items are stored as string at this stage\n",
    "print(\"Storing into dataframe...\")\n",
    "df = pd.DataFrame(list(datain))\n",
    "print(\"Done.\")"
   ]
  },
  {
   "cell_type": "code",
   "execution_count": 5,
   "metadata": {
    "collapsed": false
   },
   "outputs": [
    {
     "name": "stdout",
     "output_type": "stream",
     "text": [
      "Number of tweets after dropping duplicates (using id_str tag): 8674\n"
     ]
    }
   ],
   "source": [
    "# drop duplicated tweets using 'id_str', ie. tweet's id\n",
    "df.drop_duplicates(subset='id_str', keep='last', inplace=True)\n",
    "print(\"Number of tweets after dropping duplicates (using id_str tag): %d\" % len(df))"
   ]
  },
  {
   "cell_type": "code",
   "execution_count": 6,
   "metadata": {
    "collapsed": false
   },
   "outputs": [
    {
     "name": "stdout",
     "output_type": "stream",
     "text": [
      "Storing nested 'user' items into separate dataframe...\n"
     ]
    }
   ],
   "source": [
    "print(\"Storing nested 'user' items into separate dataframe...\")\n",
    "df_users = pd.io.json.json_normalize(list(df['user']))"
   ]
  },
  {
   "cell_type": "code",
   "execution_count": 7,
   "metadata": {
    "collapsed": false
   },
   "outputs": [
    {
     "name": "stdout",
     "output_type": "stream",
     "text": [
      "Number of 'user' entries in df: 8674\n"
     ]
    }
   ],
   "source": [
    "# sanity check\n",
    "print(\"Number of 'user' entries in df: %d\" % len(df_users))"
   ]
  },
  {
   "cell_type": "code",
   "execution_count": 8,
   "metadata": {
    "collapsed": false
   },
   "outputs": [
    {
     "name": "stdout",
     "output_type": "stream",
     "text": [
      "Tidy up dataframes.\n"
     ]
    }
   ],
   "source": [
    "print(\"Tidy up dataframes.\")\n",
    "df_users.drop(['default_profile', 'default_profile_image', 'profile_background_color', \n",
    "               'profile_background_image_url', 'profile_background_image_url_https', \n",
    "               'profile_background_tile', 'profile_banner_url', 'profile_image_url',\n",
    "               'profile_image_url_https', 'profile_link_color', 'profile_sidebar_border_color', \n",
    "               'profile_sidebar_fill_color', 'profile_text_color', 'profile_use_background_image'],\n",
    "              axis = 1, inplace = True)\n",
    "\n",
    "# renaming df_users columns with prefix \"user_\" to avoid duplicate column names when \n",
    "#  joining tables (buildin join function only provides column name suffix)\n",
    "cnames = df_users.columns\n",
    "cnames = [\"user_\"+n for n in cnames]\n",
    "df_users.columns = cnames"
   ]
  },
  {
   "cell_type": "code",
   "execution_count": 9,
   "metadata": {
    "collapsed": false
   },
   "outputs": [
    {
     "name": "stdout",
     "output_type": "stream",
     "text": [
      "Joining tweets and users dataframes...\n"
     ]
    }
   ],
   "source": [
    "print(\"Joining tweets and users dataframes...\")\n",
    "df_join = df.join(df_users)"
   ]
  },
  {
   "cell_type": "code",
   "execution_count": 10,
   "metadata": {
    "collapsed": false
   },
   "outputs": [
    {
     "name": "stdout",
     "output_type": "stream",
     "text": [
      "Joined df has 8674 entries.\n"
     ]
    }
   ],
   "source": [
    "# sanity check...\n",
    "print(\"Joined df has %d entries.\" % len(df_join))"
   ]
  },
  {
   "cell_type": "code",
   "execution_count": 11,
   "metadata": {
    "collapsed": false
   },
   "outputs": [
    {
     "data": {
      "text/plain": [
       "Index([                           u'_id',                   u'contributors',\n",
       "                          u'coordinates',                     u'created_at',\n",
       "                             u'entities',              u'extended_entities',\n",
       "                       u'favorite_count',                      u'favorited',\n",
       "                                  u'geo',                             u'id',\n",
       "                               u'id_str',        u'in_reply_to_screen_name',\n",
       "                u'in_reply_to_status_id',      u'in_reply_to_status_id_str',\n",
       "                  u'in_reply_to_user_id',        u'in_reply_to_user_id_str',\n",
       "                      u'is_quote_status',                           u'lang',\n",
       "                             u'metadata',                          u'place',\n",
       "                   u'possibly_sensitive',                  u'quoted_status',\n",
       "                     u'quoted_status_id',           u'quoted_status_id_str',\n",
       "                        u'retweet_count',                      u'retweeted',\n",
       "                     u'retweeted_status',                         u'source',\n",
       "                                 u'text',                      u'truncated',\n",
       "                                 u'user',      u'user_contributors_enabled',\n",
       "                      u'user_created_at',               u'user_description',\n",
       "       u'user_entities.description.urls',         u'user_entities.url.urls',\n",
       "                u'user_favourites_count',       u'user_follow_request_sent',\n",
       "                 u'user_followers_count',                 u'user_following',\n",
       "                   u'user_friends_count',               u'user_geo_enabled',\n",
       "            u'user_has_extended_profile',                        u'user_id',\n",
       "                          u'user_id_str',    u'user_is_translation_enabled',\n",
       "                   u'user_is_translator',                      u'user_lang',\n",
       "                    u'user_listed_count',                  u'user_location',\n",
       "                            u'user_name',             u'user_notifications',\n",
       "                       u'user_protected',               u'user_screen_name',\n",
       "                  u'user_statuses_count',                 u'user_time_zone',\n",
       "                             u'user_url',                u'user_utc_offset',\n",
       "                        u'user_verified'],\n",
       "      dtype='object')"
      ]
     },
     "execution_count": 11,
     "metadata": {},
     "output_type": "execute_result"
    }
   ],
   "source": [
    "df_join.columns"
   ]
  },
  {
   "cell_type": "code",
   "execution_count": null,
   "metadata": {
    "collapsed": false,
    "scrolled": false
   },
   "outputs": [],
   "source": [
    "# store df to disk\n",
    "print(\"Writing dataframe to disk...\")\n",
    "hdf = pd.HDFStore(hdf5_file)\n",
    "hdf['df'] = df_join\n",
    "#print(hdf['df'].shape)\n",
    "hdf.close()"
   ]
  },
  {
   "cell_type": "code",
   "execution_count": 13,
   "metadata": {
    "collapsed": false,
    "scrolled": true
   },
   "outputs": [
    {
     "name": "stdout",
     "output_type": "stream",
     "text": [
      "Data loaded into dataframe, now disconnect from database.\n"
     ]
    }
   ],
   "source": [
    "# disconnect from MongoDB\n",
    "print(\"Data loaded into dataframe, now disconnect from database.\")\n",
    "client.close()"
   ]
  },
  {
   "cell_type": "code",
   "execution_count": 13,
   "metadata": {
    "collapsed": false
   },
   "outputs": [
    {
     "name": "stdout",
     "output_type": "stream",
     "text": [
      "Load df from hdf5 file.\n"
     ]
    }
   ],
   "source": [
    "'''\n",
    "# to load the df\n",
    "print(\"Load df from hdf5 file.\")\n",
    "hdf = pd.HDFStore('df.h5')\n",
    "df = hdf['df']\n",
    "hdf.close()\n",
    "'''"
   ]
  },
  {
   "cell_type": "code",
   "execution_count": null,
   "metadata": {
    "collapsed": true
   },
   "outputs": [],
   "source": []
  }
 ],
 "metadata": {
  "kernelspec": {
   "display_name": "Python 2",
   "language": "python",
   "name": "python2"
  },
  "language_info": {
   "codemirror_mode": {
    "name": "ipython",
    "version": 2
   },
   "file_extension": ".py",
   "mimetype": "text/x-python",
   "name": "python",
   "nbconvert_exporter": "python",
   "pygments_lexer": "ipython2",
   "version": "2.7.12"
  }
 },
 "nbformat": 4,
 "nbformat_minor": 0
}
