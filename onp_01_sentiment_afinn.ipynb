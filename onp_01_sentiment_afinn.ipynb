{
 "cells": [
  {
   "cell_type": "markdown",
   "metadata": {},
   "source": [
    "# Part 1: sentiment analysis"
   ]
  },
  {
   "cell_type": "code",
   "execution_count": 1,
   "metadata": {
    "collapsed": false,
    "scrolled": true
   },
   "outputs": [],
   "source": [
    "# -*- coding: utf-8 -*-\n",
    "# goto https://github.com/n-lo/Tweets_analysis_tryout for other parts\n",
    "%matplotlib inline\n",
    "\n",
    "from __future__ import print_function\n",
    "import pprint, datetime\n",
    "import pandas as pd\n",
    "import numpy as np\n",
    "import gensim, re\n",
    "from dateutil import parser\n",
    "from ggplot import *\n",
    "\n",
    "import matplotlib.pylab as pylab\n",
    "pylab.rcParams['figure.figsize'] = 14, 10\n",
    "\n",
    "import logging\n",
    "logging.basicConfig(format='%(asctime)s : %(levelname)s : %(message)s', level=logging.INFO)\n",
    "# e.g. logging.info(\"%i tweets found...\" % len(df))\n",
    "\n",
    "pp = pprint.PrettyPrinter(indent=4)"
   ]
  },
  {
   "cell_type": "markdown",
   "metadata": {},
   "source": [
    "## Load in data\n",
    "\n",
    "Dataset contains Tweets between 09-08-2016 and 22-08-2016.  \n",
    "\n",
    "Load dataframe from hdf5 file (see db2df.ipynb for loading data from MongoDB databases to dataframe)"
   ]
  },
  {
   "cell_type": "code",
   "execution_count": 2,
   "metadata": {
    "collapsed": false,
    "scrolled": true
   },
   "outputs": [
    {
     "name": "stdout",
     "output_type": "stream",
     "text": [
      "Load df from hdf5 file.\n",
      "8963 Tweets loaded.\n"
     ]
    }
   ],
   "source": [
    "print(\"Load df from hdf5 file.\")\n",
    "hdf = pd.HDFStore('onp.h5')\n",
    "df = hdf['df']\n",
    "hdf.close()\n",
    "print(\"%d Tweets loaded.\" % len(df))"
   ]
  },
  {
   "cell_type": "markdown",
   "metadata": {},
   "source": [
    "Drop unused columns for this session (reduce memory usage)"
   ]
  },
  {
   "cell_type": "code",
   "execution_count": 3,
   "metadata": {
    "collapsed": false,
    "scrolled": true
   },
   "outputs": [],
   "source": [
    "df.drop(['favorited', 'possibly_sensitive', 'truncated', 'user_entities.description.urls', \n",
    "         'user_entities.url.urls', 'user_is_translator', 'contributors', 'coordinates',\n",
    "         'entities', 'extended_entities', 'geo', 'in_reply_to_screen_name', 'in_reply_to_status_id',\n",
    "         'in_reply_to_user_id', 'user_geo_enabled', 'user_verified', 'user_url',\n",
    "         'user_protected', 'user_listed_count', 'user_has_extended_profile', 'quoted_status_id',\n",
    "         'user_contributors_enabled', 'user_notifications'], \n",
    "        axis = 1, inplace = True)"
   ]
  },
  {
   "cell_type": "code",
   "execution_count": 4,
   "metadata": {
    "collapsed": false,
    "scrolled": true
   },
   "outputs": [
    {
     "data": {
      "text/plain": [
       "Index([u'_id', u'created_at', u'favorite_count', u'id', u'id_str',\n",
       "       u'in_reply_to_status_id_str', u'in_reply_to_user_id_str',\n",
       "       u'is_quote_status', u'lang', u'metadata', u'place', u'quoted_status',\n",
       "       u'quoted_status_id_str', u'retweet_count', u'retweeted',\n",
       "       u'retweeted_status', u'source', u'text', u'user', u'user_created_at',\n",
       "       u'user_description', u'user_favourites_count',\n",
       "       u'user_follow_request_sent', u'user_followers_count', u'user_following',\n",
       "       u'user_friends_count', u'user_id', u'user_id_str',\n",
       "       u'user_is_translation_enabled', u'user_lang', u'user_location',\n",
       "       u'user_name', u'user_screen_name', u'user_statuses_count',\n",
       "       u'user_time_zone', u'user_utc_offset'],\n",
       "      dtype='object')"
      ]
     },
     "execution_count": 4,
     "metadata": {},
     "output_type": "execute_result"
    }
   ],
   "source": [
    "df.columns"
   ]
  },
  {
   "cell_type": "markdown",
   "metadata": {},
   "source": [
    "#### Note:\n",
    "When the data set gets too big, can try selecting radom samples:  \n",
    "\n",
    "from sklearn.cross_validation import train_test_split  \n",
    "import random  \n",
    "random.seed(1234)  \n",
    "train, test = train_test_split(df, test_size = 0.5)  \n",
    "del(df)  \n",
    "df = train"
   ]
  },
  {
   "cell_type": "markdown",
   "metadata": {},
   "source": [
    "## Quick look at the dataset"
   ]
  },
  {
   "cell_type": "markdown",
   "metadata": {},
   "source": [
    "### 1. Check how many are retweets  \n",
    "Retweets are marked with 'RT' at the beginning of the Tweeted content. Here we use Regex to search the contents.  "
   ]
  },
  {
   "cell_type": "code",
   "execution_count": 5,
   "metadata": {
    "collapsed": false,
    "scrolled": false
   },
   "outputs": [
    {
     "name": "stdout",
     "output_type": "stream",
     "text": [
      "This data set contains 5983 retweets out of a total of 8963 tweets\n"
     ]
    },
    {
     "data": {
      "image/png": "[encoded data removed]",
      "text/plain": [
       "<matplotlib.figure.Figure at 0x2a7f00b8>"
      ]
     },
     "metadata": {},
     "output_type": "display_data"
    },
    {
     "data": {
      "text/plain": [
       "<ggplot: (56713981)>"
      ]
     },
     "execution_count": 5,
     "metadata": {},
     "output_type": "execute_result"
    }
   ],
   "source": [
    "df['retweet'] = 0\n",
    "\n",
    "for index, row in df.iterrows():\n",
    "    text = row['text']\n",
    "    match = re.search(r'^\\bRT\\b', text)\n",
    "    if match:\n",
    "        df.set_value(index, 'retweet', 1)\n",
    "\n",
    "print(\"This data set contains %i retweets out of a total of %i tweets\" % \n",
    "      (sum(df['retweet']), len(df)))\n",
    "\n",
    "ggplot(df, aes(x = 'retweet')) + geom_bar() + \\\n",
    "    scale_x_continuous(labels = [\"Original\", \"Retweet\"]) + xlab(\"Original/Retweet\") + ylab(\"Counts\")"
   ]
  },
  {
   "cell_type": "markdown",
   "metadata": {},
   "source": [
    "### 2. Most retweeted tweets"
   ]
  },
  {
   "cell_type": "code",
   "execution_count": 16,
   "metadata": {
    "collapsed": false
   },
   "outputs": [],
   "source": [
    "df['my_retweet_cnt'] = 0\n",
    "df['my_retweet_cnt'] = df.groupby('text').transform('count')"
   ]
  },
  {
   "cell_type": "markdown",
   "metadata": {},
   "source": [
    "Top 10% retweets:"
   ]
  },
  {
   "cell_type": "code",
   "execution_count": 17,
   "metadata": {
    "collapsed": false
   },
   "outputs": [
    {
     "data": {
      "text/plain": [
       "RT @Kon__K: Time I reshare 2015 photo of @WilsonSecurity staff from #Nauru with  Pauline #Hanson at white supremacist rally. https://t.co/P…        591\n",
       "RT @vanbadham: Australian Nazi Ross \"The Skull\" May objected to me posting photos of him &amp; Pauline Hanson with this profile picture https:/…    371\n",
       "Name: text, dtype: int64"
      ]
     },
     "execution_count": 17,
     "metadata": {},
     "output_type": "execute_result"
    }
   ],
   "source": [
    "df[df['my_retweet_cnt'] >= np.percentile(df['my_retweet_cnt'], 90)]['text'].value_counts()"
   ]
  },
  {
   "cell_type": "markdown",
   "metadata": {},
   "source": [
    "### 3. Count number of tweets by each user"
   ]
  },
  {
   "cell_type": "code",
   "execution_count": 18,
   "metadata": {
    "collapsed": false,
    "scrolled": true
   },
   "outputs": [],
   "source": [
    "df['tweets_cnt'] = 0\n",
    "df['tweets_cnt'] = df.groupby('user_id').transform('count')"
   ]
  },
  {
   "cell_type": "code",
   "execution_count": 21,
   "metadata": {
    "collapsed": false,
    "scrolled": false
   },
   "outputs": [
    {
     "data": {
      "image/png": "[encoded data removed]",
      "text/plain": [
       "<matplotlib.figure.Figure at 0x212c7908>"
      ]
     },
     "metadata": {},
     "output_type": "display_data"
    },
    {
     "data": {
      "text/plain": [
       "<ggplot: (17572836)>"
      ]
     },
     "execution_count": 21,
     "metadata": {},
     "output_type": "execute_result"
    }
   ],
   "source": [
    "ggplot(df, aes(x='tweets_cnt')) + geom_bar() + \\\n",
    "    ggtitle(\"Distribution of number of tweets per user\") + xlab(\"Number of tweets per user\") +\\\n",
    "    ylab(\"User count\")"
   ]
  },
  {
   "cell_type": "markdown",
   "metadata": {},
   "source": [
    "#### Subset high tweets_cnt users"
   ]
  },
  {
   "cell_type": "code",
   "execution_count": 22,
   "metadata": {
    "collapsed": false,
    "scrolled": true
   },
   "outputs": [
    {
     "name": "stdout",
     "output_type": "stream",
     "text": [
      "24 users in the top 5 per cent tweets count.\n"
     ]
    }
   ],
   "source": [
    "df_active_twitters = df[df['tweets_cnt'] >= np.percentile(df['tweets_cnt'], 95)]\n",
    "print(\"%d users in the top 5 per cent tweets count.\" % \n",
    "      len(df_active_twitters['user_id'].value_counts()))"
   ]
  },
  {
   "cell_type": "code",
   "execution_count": 28,
   "metadata": {
    "collapsed": false,
    "scrolled": false
   },
   "outputs": [
    {
     "name": "stdout",
     "output_type": "stream",
     "text": [
      "Information on the top 5 per cent most active twitter users.\n"
     ]
    },
    {
     "data": {
      "text/html": [
       "<div>\n",
       "<table border=\"1\" class=\"dataframe\">\n",
       "  <thead>\n",
       "    <tr style=\"text-align: right;\">\n",
       "      <th></th>\n",
       "      <th>user_description</th>\n",
       "      <th>user_created_at</th>\n",
       "      <th>user_location</th>\n",
       "      <th>tweets_cnt</th>\n",
       "    </tr>\n",
       "  </thead>\n",
       "  <tbody>\n",
       "    <tr>\n",
       "      <th>3908</th>\n",
       "      <td>Say NO to RACISM</td>\n",
       "      <td>Fri Aug 12 06:22:32 +0000 2016</td>\n",
       "      <td>Sydney, New South Wales</td>\n",
       "      <td>17</td>\n",
       "    </tr>\n",
       "    <tr>\n",
       "      <th>5393</th>\n",
       "      <td>Experimental, marine ecologist studying ocean ...</td>\n",
       "      <td>Thu Apr 25 21:01:18 +0000 2013</td>\n",
       "      <td>Brisbane, Queensland</td>\n",
       "      <td>13</td>\n",
       "    </tr>\n",
       "    <tr>\n",
       "      <th>6414</th>\n",
       "      <td></td>\n",
       "      <td>Wed Feb 16 09:14:43 +0000 2011</td>\n",
       "      <td>Sydney</td>\n",
       "      <td>16</td>\n",
       "    </tr>\n",
       "    <tr>\n",
       "      <th>7246</th>\n",
       "      <td></td>\n",
       "      <td>Fri Jun 01 10:32:21 +0000 2012</td>\n",
       "      <td>Adelaide South Australia</td>\n",
       "      <td>20</td>\n",
       "    </tr>\n",
       "    <tr>\n",
       "      <th>7348</th>\n",
       "      <td>In space no one can hear you complain about th...</td>\n",
       "      <td>Tue Sep 14 10:03:38 +0000 2010</td>\n",
       "      <td>Brisbane Australia</td>\n",
       "      <td>14</td>\n",
       "    </tr>\n",
       "    <tr>\n",
       "      <th>7717</th>\n",
       "      <td></td>\n",
       "      <td>Thu Jan 09 14:41:53 +0000 2014</td>\n",
       "      <td>Australia</td>\n",
       "      <td>13</td>\n",
       "    </tr>\n",
       "    <tr>\n",
       "      <th>7821</th>\n",
       "      <td>Glad you're seated it's a long story. Too long...</td>\n",
       "      <td>Fri Jan 28 00:57:17 +0000 2011</td>\n",
       "      <td>Australia</td>\n",
       "      <td>18</td>\n",
       "    </tr>\n",
       "    <tr>\n",
       "      <th>7891</th>\n",
       "      <td></td>\n",
       "      <td>Sat May 31 14:58:58 +0000 2014</td>\n",
       "      <td></td>\n",
       "      <td>13</td>\n",
       "    </tr>\n",
       "    <tr>\n",
       "      <th>7910</th>\n",
       "      <td>Artist. Learning Ukulele slowly. Leftie. Athei...</td>\n",
       "      <td>Sun Nov 03 21:47:50 +0000 2013</td>\n",
       "      <td>Blue Mountains</td>\n",
       "      <td>19</td>\n",
       "    </tr>\n",
       "    <tr>\n",
       "      <th>8024</th>\n",
       "      <td></td>\n",
       "      <td>Sun Mar 22 01:29:02 +0000 2015</td>\n",
       "      <td></td>\n",
       "      <td>14</td>\n",
       "    </tr>\n",
       "    <tr>\n",
       "      <th>8351</th>\n",
       "      <td></td>\n",
       "      <td>Sat Mar 05 08:11:39 +0000 2016</td>\n",
       "      <td></td>\n",
       "      <td>16</td>\n",
       "    </tr>\n",
       "    <tr>\n",
       "      <th>8558</th>\n",
       "      <td>Interested in world affairs, communication, ed...</td>\n",
       "      <td>Thu Dec 01 05:19:56 +0000 2011</td>\n",
       "      <td>Southern hemisphere</td>\n",
       "      <td>25</td>\n",
       "    </tr>\n",
       "    <tr>\n",
       "      <th>8590</th>\n",
       "      <td>If you're going to kick authority in the teeth...</td>\n",
       "      <td>Tue Dec 01 21:40:31 +0000 2009</td>\n",
       "      <td>Sunshine Coast, Queensland. OZ</td>\n",
       "      <td>18</td>\n",
       "    </tr>\n",
       "    <tr>\n",
       "      <th>8672</th>\n",
       "      <td>Anarchist/Motorcyclist/FatVegan/Dyke/UniqueDes...</td>\n",
       "      <td>Wed Sep 09 07:45:36 +0000 2015</td>\n",
       "      <td>Yuggera land/rural Queensland</td>\n",
       "      <td>17</td>\n",
       "    </tr>\n",
       "    <tr>\n",
       "      <th>8685</th>\n",
       "      <td>Concerned citizen.Politically aware. Climate C...</td>\n",
       "      <td>Sun Jul 17 00:14:38 +0000 2011</td>\n",
       "      <td>Far North Queensland</td>\n",
       "      <td>13</td>\n",
       "    </tr>\n",
       "    <tr>\n",
       "      <th>8711</th>\n",
       "      <td>#antiracist #VAW #animallover #Unionthug #True...</td>\n",
       "      <td>Tue Feb 07 08:14:00 +0000 2012</td>\n",
       "      <td>Cape York and Cairns</td>\n",
       "      <td>32</td>\n",
       "    </tr>\n",
       "    <tr>\n",
       "      <th>8736</th>\n",
       "      <td>LIBERAL LABOR GREENS NEVER AGAIN</td>\n",
       "      <td>Fri Jul 22 02:16:06 +0000 2011</td>\n",
       "      <td>Sydney</td>\n",
       "      <td>19</td>\n",
       "    </tr>\n",
       "    <tr>\n",
       "      <th>8800</th>\n",
       "      <td>#blockedbybishop \\r\\n#NoSafeSeats I start stuf...</td>\n",
       "      <td>Mon Feb 02 15:26:50 +0000 2009</td>\n",
       "      <td>Earth Citizen</td>\n",
       "      <td>15</td>\n",
       "    </tr>\n",
       "    <tr>\n",
       "      <th>8816</th>\n",
       "      <td>Official-The First Online Media Updater  Found...</td>\n",
       "      <td>Tue Jan 06 12:40:24 +0000 2015</td>\n",
       "      <td>Sydney</td>\n",
       "      <td>14</td>\n",
       "    </tr>\n",
       "    <tr>\n",
       "      <th>8860</th>\n",
       "      <td>SAHM of three</td>\n",
       "      <td>Wed Dec 26 22:32:33 +0000 2012</td>\n",
       "      <td></td>\n",
       "      <td>13</td>\n",
       "    </tr>\n",
       "    <tr>\n",
       "      <th>8913</th>\n",
       "      <td>lefty, single dad, Nth Qld Cowboys NRL fan it'...</td>\n",
       "      <td>Sun Apr 20 09:03:45 +0000 2014</td>\n",
       "      <td>Queensland.</td>\n",
       "      <td>30</td>\n",
       "    </tr>\n",
       "    <tr>\n",
       "      <th>8919</th>\n",
       "      <td>Carer. Chronicler for NoFibs. More info at: ht...</td>\n",
       "      <td>Thu May 24 01:35:30 +0000 2012</td>\n",
       "      <td>Brisbane, Queensland</td>\n",
       "      <td>15</td>\n",
       "    </tr>\n",
       "    <tr>\n",
       "      <th>8949</th>\n",
       "      <td>#DevilsAdvocate#FriendOfDorothyDix#Humourist#H...</td>\n",
       "      <td>Wed Apr 27 05:09:31 +0000 2016</td>\n",
       "      <td>Batehaven, NSW, Australia</td>\n",
       "      <td>14</td>\n",
       "    </tr>\n",
       "    <tr>\n",
       "      <th>8961</th>\n",
       "      <td>Love Jesus, love my husband, love my kids, lov...</td>\n",
       "      <td>Wed Jan 06 12:56:45 +0000 2010</td>\n",
       "      <td>Brisbane Australia</td>\n",
       "      <td>61</td>\n",
       "    </tr>\n",
       "  </tbody>\n",
       "</table>\n",
       "</div>"
      ],
      "text/plain": [
       "                                       user_description  \\\n",
       "3908                                   Say NO to RACISM   \n",
       "5393  Experimental, marine ecologist studying ocean ...   \n",
       "6414                                                      \n",
       "7246                                                      \n",
       "7348  In space no one can hear you complain about th...   \n",
       "7717                                                      \n",
       "7821  Glad you're seated it's a long story. Too long...   \n",
       "7891                                                      \n",
       "7910  Artist. Learning Ukulele slowly. Leftie. Athei...   \n",
       "8024                                                      \n",
       "8351                                                      \n",
       "8558  Interested in world affairs, communication, ed...   \n",
       "8590  If you're going to kick authority in the teeth...   \n",
       "8672  Anarchist/Motorcyclist/FatVegan/Dyke/UniqueDes...   \n",
       "8685  Concerned citizen.Politically aware. Climate C...   \n",
       "8711  #antiracist #VAW #animallover #Unionthug #True...   \n",
       "8736                   LIBERAL LABOR GREENS NEVER AGAIN   \n",
       "8800  #blockedbybishop \\r\\n#NoSafeSeats I start stuf...   \n",
       "8816  Official-The First Online Media Updater  Found...   \n",
       "8860                                      SAHM of three   \n",
       "8913  lefty, single dad, Nth Qld Cowboys NRL fan it'...   \n",
       "8919  Carer. Chronicler for NoFibs. More info at: ht...   \n",
       "8949  #DevilsAdvocate#FriendOfDorothyDix#Humourist#H...   \n",
       "8961  Love Jesus, love my husband, love my kids, lov...   \n",
       "\n",
       "                     user_created_at                   user_location  \\\n",
       "3908  Fri Aug 12 06:22:32 +0000 2016         Sydney, New South Wales   \n",
       "5393  Thu Apr 25 21:01:18 +0000 2013            Brisbane, Queensland   \n",
       "6414  Wed Feb 16 09:14:43 +0000 2011                          Sydney   \n",
       "7246  Fri Jun 01 10:32:21 +0000 2012        Adelaide South Australia   \n",
       "7348  Tue Sep 14 10:03:38 +0000 2010             Brisbane Australia    \n",
       "7717  Thu Jan 09 14:41:53 +0000 2014                       Australia   \n",
       "7821  Fri Jan 28 00:57:17 +0000 2011                       Australia   \n",
       "7891  Sat May 31 14:58:58 +0000 2014                                   \n",
       "7910  Sun Nov 03 21:47:50 +0000 2013                  Blue Mountains   \n",
       "8024  Sun Mar 22 01:29:02 +0000 2015                                   \n",
       "8351  Sat Mar 05 08:11:39 +0000 2016                                   \n",
       "8558  Thu Dec 01 05:19:56 +0000 2011             Southern hemisphere   \n",
       "8590  Tue Dec 01 21:40:31 +0000 2009  Sunshine Coast, Queensland. OZ   \n",
       "8672  Wed Sep 09 07:45:36 +0000 2015   Yuggera land/rural Queensland   \n",
       "8685  Sun Jul 17 00:14:38 +0000 2011            Far North Queensland   \n",
       "8711  Tue Feb 07 08:14:00 +0000 2012            Cape York and Cairns   \n",
       "8736  Fri Jul 22 02:16:06 +0000 2011                          Sydney   \n",
       "8800  Mon Feb 02 15:26:50 +0000 2009                   Earth Citizen   \n",
       "8816  Tue Jan 06 12:40:24 +0000 2015                          Sydney   \n",
       "8860  Wed Dec 26 22:32:33 +0000 2012                                   \n",
       "8913  Sun Apr 20 09:03:45 +0000 2014                    Queensland.    \n",
       "8919  Thu May 24 01:35:30 +0000 2012            Brisbane, Queensland   \n",
       "8949  Wed Apr 27 05:09:31 +0000 2016       Batehaven, NSW, Australia   \n",
       "8961  Wed Jan 06 12:56:45 +0000 2010              Brisbane Australia   \n",
       "\n",
       "      tweets_cnt  \n",
       "3908          17  \n",
       "5393          13  \n",
       "6414          16  \n",
       "7246          20  \n",
       "7348          14  \n",
       "7717          13  \n",
       "7821          18  \n",
       "7891          13  \n",
       "7910          19  \n",
       "8024          14  \n",
       "8351          16  \n",
       "8558          25  \n",
       "8590          18  \n",
       "8672          17  \n",
       "8685          13  \n",
       "8711          32  \n",
       "8736          19  \n",
       "8800          15  \n",
       "8816          14  \n",
       "8860          13  \n",
       "8913          30  \n",
       "8919          15  \n",
       "8949          14  \n",
       "8961          61  "
      ]
     },
     "execution_count": 28,
     "metadata": {},
     "output_type": "execute_result"
    }
   ],
   "source": [
    "df_active_twitters = df_active_twitters.drop_duplicates(subset='user_id', keep='last')\n",
    "print('Information on the top 5 per cent most active twitter users.')\n",
    "df_active_twitters[['user_description', 'user_created_at', \n",
    "                    'user_location', 'tweets_cnt']]\n",
    "#df_active_twitters.ix[:, 'user_created_at':'user_statuses_count'].transpose()"
   ]
  },
  {
   "cell_type": "code",
   "execution_count": 29,
   "metadata": {
    "collapsed": false,
    "scrolled": true
   },
   "outputs": [
    {
     "name": "stdout",
     "output_type": "stream",
     "text": [
      "5276 unique twitter users in this data set.\n"
     ]
    }
   ],
   "source": [
    "print(\"%d unique twitter users in this data set.\" % len(df['user_id'].unique()))"
   ]
  },
  {
   "cell_type": "markdown",
   "metadata": {
    "collapsed": true
   },
   "source": [
    "## Sentiment analysis\n",
    "\n",
    "Now try the sentiment analysis with AFINN valence rated words from  \n",
    "http://www2.imm.dtu.dk/pubdb/views/publication_details.php?id=6010  \n",
    "\n",
    "To import:  \n",
    "afinn = \n",
    "   dict(map(lambda (k,v): (k,int(v)), [ line.split('\\t') for line in open(\"AFINN-111.txt\") ]))  \n",
    "afinn[\"Good\".lower()]  \n",
    "> 3  \n",
    "\n",
    "sum(map(lambda word: afinn.get(word, 0), \"Rainy day but still in a good mood\".lower().split()))  \n",
    "> 2  "
   ]
  },
  {
   "cell_type": "markdown",
   "metadata": {},
   "source": [
    "### 1. Calculate sentiment scores\n",
    "\n",
    "#### Import positive and negative words"
   ]
  },
  {
   "cell_type": "code",
   "execution_count": 30,
   "metadata": {
    "collapsed": false,
    "scrolled": true
   },
   "outputs": [],
   "source": [
    "wd_file = \"AFINN-111.txt\"\n",
    "\n",
    "afinn = dict(map(lambda (k,v): (k,int(v)), [ line.split('\\t') for line in open(wd_file) ]))"
   ]
  },
  {
   "cell_type": "markdown",
   "metadata": {},
   "source": [
    "#### Get a list of stopwords"
   ]
  },
  {
   "cell_type": "code",
   "execution_count": 31,
   "metadata": {
    "collapsed": true,
    "scrolled": true
   },
   "outputs": [],
   "source": [
    "sw = set(gensim.parsing.preprocessing.STOPWORDS)\n",
    "my_sw = ['http', 'https', 'RT']"
   ]
  },
  {
   "cell_type": "markdown",
   "metadata": {},
   "source": [
    "#### Functions to remove URLs, tokenize text"
   ]
  },
  {
   "cell_type": "code",
   "execution_count": 32,
   "metadata": {
    "collapsed": false,
    "scrolled": true
   },
   "outputs": [],
   "source": [
    "def remove_url(text):\n",
    "    text = text.lower()\n",
    "    text = re.sub(r\"http\\S+\", \" \", text)\n",
    "    text = re.sub(r\"@+\", \" \", text)\n",
    "    return text"
   ]
  },
  {
   "cell_type": "code",
   "execution_count": 33,
   "metadata": {
    "collapsed": true,
    "scrolled": true
   },
   "outputs": [],
   "source": [
    "def split_wd(text, stopwords=sw):\n",
    "    new_sw = set(sw)\n",
    "    new_sw |= set(my_sw)\n",
    "    return [wd\n",
    "            for wd in gensim.utils.tokenize(text, lower=True)\n",
    "            if wd not in new_sw and len(wd) > 3]"
   ]
  },
  {
   "cell_type": "markdown",
   "metadata": {},
   "source": [
    "#### Calculate the sentiment score"
   ]
  },
  {
   "cell_type": "code",
   "execution_count": 34,
   "metadata": {
    "collapsed": false,
    "scrolled": true
   },
   "outputs": [],
   "source": [
    "# for each tweets, get the sentiment score\n",
    "df['sentiment_afinn'] = 0\n",
    "\n",
    "#n = 0\n",
    "for index, row in df.iterrows():\n",
    "    text = row['text']\n",
    "    text = remove_url(text)\n",
    "    tokens = split_wd(text, sw)\n",
    "\n",
    "    score = sum(map(lambda word: afinn.get(word, 0), tokens))\n",
    "    df.set_value(index, 'sentiment_afinn', score)\n",
    "\n",
    "#    n += 1\n",
    "#    if n >= 10:\n",
    "#        break"
   ]
  },
  {
   "cell_type": "code",
   "execution_count": 35,
   "metadata": {
    "collapsed": false,
    "scrolled": false
   },
   "outputs": [
    {
     "data": {
      "image/png": "[encoded data removed]",
      "text/plain": [
       "<matplotlib.figure.Figure at 0x218956a0>"
      ]
     },
     "metadata": {},
     "output_type": "display_data"
    },
    {
     "name": "stdout",
     "output_type": "stream",
     "text": [
      "<ggplot: (35405014)>\n"
     ]
    },
    {
     "data": {
      "image/png": "[encoded data removed]",
      "text/plain": [
       "<matplotlib.figure.Figure at 0x2aade860>"
      ]
     },
     "metadata": {},
     "output_type": "display_data"
    },
    {
     "name": "stdout",
     "output_type": "stream",
     "text": [
      "<ggplot: (54131993)>\n"
     ]
    }
   ],
   "source": [
    "p1 = ggplot(df, aes(x = 'sentiment_afinn')) + geom_bar() + ggtitle(\"Distribution of sentiment scores\")\n",
    "    \n",
    "p2 = ggplot(df, aes(x = 'sentiment_afinn')) + geom_bar() + \\\n",
    "     scale_y_continuous(limits = (0,600)) + ggtitle(\"Distribution of sentiment scores (zoom in)\")\n",
    "    \n",
    "print(p1)\n",
    "print(p2)"
   ]
  },
  {
   "cell_type": "markdown",
   "metadata": {},
   "source": [
    "#### Save to dataframe"
   ]
  },
  {
   "cell_type": "code",
   "execution_count": null,
   "metadata": {
    "collapsed": false
   },
   "outputs": [],
   "source": [
    "print(\"Writing dataframe to disk...\")\n",
    "hdf = pd.HDFStore(\"onp_sentiment.h5\")\n",
    "hdf['df'] = df\n",
    "hdf.close()"
   ]
  },
  {
   "cell_type": "markdown",
   "metadata": {},
   "source": [
    "### 2. Sentiment changes over time\n",
    "\n",
    "#### Function to remove time of the day"
   ]
  },
  {
   "cell_type": "code",
   "execution_count": 37,
   "metadata": {
    "collapsed": true,
    "scrolled": true
   },
   "outputs": [],
   "source": [
    "def remove_time(t):\n",
    "    return datetime.datetime(t.year, t.month, t.day)"
   ]
  },
  {
   "cell_type": "markdown",
   "metadata": {},
   "source": [
    "#### Total sentiment score by date\n",
    "\n",
    "Add a new tweet's date column with only year, month, day, no time"
   ]
  },
  {
   "cell_type": "code",
   "execution_count": 38,
   "metadata": {
    "collapsed": false,
    "scrolled": true
   },
   "outputs": [],
   "source": [
    "df['date'] = df['created_at'].apply(parser.parse) # convert string to date object\n",
    "df['date'] = df['date'].apply(remove_time)"
   ]
  },
  {
   "cell_type": "code",
   "execution_count": 39,
   "metadata": {
    "collapsed": false,
    "scrolled": true
   },
   "outputs": [],
   "source": [
    "by_date_afinn = pd.DataFrame(df.groupby('date')['sentiment_afinn'].sum())\n",
    "by_date_afinn['tweets'] = df.groupby('date')['text'].count()\n",
    "by_date_afinn['pos cnt'] = \\\n",
    "    df[df['sentiment_afinn'] > 0].groupby('date')['sentiment_afinn'].count()\n",
    "by_date_afinn['neg cnt'] = \\\n",
    "    df[df['sentiment_afinn'] < 0].groupby('date')['sentiment_afinn'].count()\n",
    "#by_date_afinn['date'] = pd.to_datetime(by_date_afinn.index)\n",
    "by_date_afinn['date'] = by_date_afinn.index.day\n",
    "\n",
    "by_date_afinn = by_date_afinn.reset_index(drop=True)"
   ]
  },
  {
   "cell_type": "code",
   "execution_count": 40,
   "metadata": {
    "collapsed": false,
    "scrolled": true
   },
   "outputs": [
    {
     "data": {
      "text/html": [
       "<div>\n",
       "<table border=\"1\" class=\"dataframe\">\n",
       "  <thead>\n",
       "    <tr style=\"text-align: right;\">\n",
       "      <th></th>\n",
       "      <th>sentiment_afinn</th>\n",
       "      <th>tweets</th>\n",
       "      <th>pos cnt</th>\n",
       "      <th>neg cnt</th>\n",
       "      <th>date</th>\n",
       "    </tr>\n",
       "  </thead>\n",
       "  <tbody>\n",
       "    <tr>\n",
       "      <th>0</th>\n",
       "      <td>2</td>\n",
       "      <td>2</td>\n",
       "      <td>1</td>\n",
       "      <td>NaN</td>\n",
       "      <td>9</td>\n",
       "    </tr>\n",
       "    <tr>\n",
       "      <th>1</th>\n",
       "      <td>-54</td>\n",
       "      <td>199</td>\n",
       "      <td>35</td>\n",
       "      <td>59.0</td>\n",
       "      <td>10</td>\n",
       "    </tr>\n",
       "    <tr>\n",
       "      <th>2</th>\n",
       "      <td>100</td>\n",
       "      <td>295</td>\n",
       "      <td>68</td>\n",
       "      <td>57.0</td>\n",
       "      <td>11</td>\n",
       "    </tr>\n",
       "    <tr>\n",
       "      <th>3</th>\n",
       "      <td>-48</td>\n",
       "      <td>559</td>\n",
       "      <td>81</td>\n",
       "      <td>78.0</td>\n",
       "      <td>12</td>\n",
       "    </tr>\n",
       "    <tr>\n",
       "      <th>4</th>\n",
       "      <td>-400</td>\n",
       "      <td>458</td>\n",
       "      <td>53</td>\n",
       "      <td>219.0</td>\n",
       "      <td>13</td>\n",
       "    </tr>\n",
       "    <tr>\n",
       "      <th>5</th>\n",
       "      <td>-202</td>\n",
       "      <td>831</td>\n",
       "      <td>394</td>\n",
       "      <td>237.0</td>\n",
       "      <td>14</td>\n",
       "    </tr>\n",
       "    <tr>\n",
       "      <th>6</th>\n",
       "      <td>-1763</td>\n",
       "      <td>3451</td>\n",
       "      <td>800</td>\n",
       "      <td>1063.0</td>\n",
       "      <td>15</td>\n",
       "    </tr>\n",
       "    <tr>\n",
       "      <th>7</th>\n",
       "      <td>-1231</td>\n",
       "      <td>1527</td>\n",
       "      <td>254</td>\n",
       "      <td>515.0</td>\n",
       "      <td>16</td>\n",
       "    </tr>\n",
       "    <tr>\n",
       "      <th>8</th>\n",
       "      <td>-80</td>\n",
       "      <td>479</td>\n",
       "      <td>84</td>\n",
       "      <td>89.0</td>\n",
       "      <td>17</td>\n",
       "    </tr>\n",
       "    <tr>\n",
       "      <th>9</th>\n",
       "      <td>-210</td>\n",
       "      <td>502</td>\n",
       "      <td>69</td>\n",
       "      <td>111.0</td>\n",
       "      <td>18</td>\n",
       "    </tr>\n",
       "    <tr>\n",
       "      <th>10</th>\n",
       "      <td>-13</td>\n",
       "      <td>203</td>\n",
       "      <td>51</td>\n",
       "      <td>52.0</td>\n",
       "      <td>19</td>\n",
       "    </tr>\n",
       "    <tr>\n",
       "      <th>11</th>\n",
       "      <td>-163</td>\n",
       "      <td>168</td>\n",
       "      <td>22</td>\n",
       "      <td>52.0</td>\n",
       "      <td>20</td>\n",
       "    </tr>\n",
       "    <tr>\n",
       "      <th>12</th>\n",
       "      <td>-216</td>\n",
       "      <td>289</td>\n",
       "      <td>38</td>\n",
       "      <td>122.0</td>\n",
       "      <td>21</td>\n",
       "    </tr>\n",
       "  </tbody>\n",
       "</table>\n",
       "</div>"
      ],
      "text/plain": [
       "    sentiment_afinn  tweets  pos cnt  neg cnt  date\n",
       "0                 2       2        1      NaN     9\n",
       "1               -54     199       35     59.0    10\n",
       "2               100     295       68     57.0    11\n",
       "3               -48     559       81     78.0    12\n",
       "4              -400     458       53    219.0    13\n",
       "5              -202     831      394    237.0    14\n",
       "6             -1763    3451      800   1063.0    15\n",
       "7             -1231    1527      254    515.0    16\n",
       "8               -80     479       84     89.0    17\n",
       "9              -210     502       69    111.0    18\n",
       "10              -13     203       51     52.0    19\n",
       "11             -163     168       22     52.0    20\n",
       "12             -216     289       38    122.0    21"
      ]
     },
     "execution_count": 40,
     "metadata": {},
     "output_type": "execute_result"
    }
   ],
   "source": [
    "by_date_afinn"
   ]
  },
  {
   "cell_type": "markdown",
   "metadata": {},
   "source": [
    "#### Simple bar plot"
   ]
  },
  {
   "cell_type": "code",
   "execution_count": 41,
   "metadata": {
    "collapsed": false,
    "scrolled": false
   },
   "outputs": [
    {
     "data": {
      "image/png": "[encoded data removed]",
      "text/plain": [
       "<matplotlib.figure.Figure at 0x10db1a90>"
      ]
     },
     "metadata": {},
     "output_type": "display_data"
    },
    {
     "name": "stdout",
     "output_type": "stream",
     "text": [
      "<ggplot: (18037729)>\n"
     ]
    }
   ],
   "source": [
    "p1 = ggplot(by_date_afinn, aes(x='date', weight='sentiment_afinn')) + geom_bar() + \\\n",
    "    xlab(\"Date (August 2016)\") + ylab(\"Sentiment score\") + ggtitle(\"Sentiment score\")\n",
    "    \n",
    "print(p1)"
   ]
  },
  {
   "cell_type": "markdown",
   "metadata": {},
   "source": [
    "#### Box plot"
   ]
  },
  {
   "cell_type": "code",
   "execution_count": 43,
   "metadata": {
    "collapsed": true,
    "scrolled": true
   },
   "outputs": [],
   "source": [
    "def return_day(t):\n",
    "    return t.day\n",
    "\n",
    "df['day'] = df['date'].apply(return_day)"
   ]
  },
  {
   "cell_type": "code",
   "execution_count": 44,
   "metadata": {
    "collapsed": false,
    "scrolled": false
   },
   "outputs": [
    {
     "data": {
      "image/png": "[encoded data removed]",
      "text/plain": [
       "<matplotlib.figure.Figure at 0x3a0a7c50>"
      ]
     },
     "metadata": {},
     "output_type": "display_data"
    },
    {
     "data": {
      "text/plain": [
       "<ggplot: (51170438)>"
      ]
     },
     "execution_count": 44,
     "metadata": {},
     "output_type": "execute_result"
    }
   ],
   "source": [
    "ggplot(df, aes(x='day', y='sentiment_afinn', group = 'day')) + \\\n",
    "    geom_boxplot() + ylab(\"sentiment score\") + xlab(\"Date (August 2016)\") + \\\n",
    "    ggtitle(\"Sentiment score\")"
   ]
  },
  {
   "cell_type": "markdown",
   "metadata": {},
   "source": [
    "### Notes\n",
    "Tweets are mostly negative, except on the 11th August where the total score is positive.  \n",
    "On the 10th, 13th, 15th, 16th, 20th, 21st, the first, second, and third quartile (IQR) scores negative sentiment.  \n",
    "\n",
    "The following codes will print out some of those tweets.  "
   ]
  },
  {
   "cell_type": "code",
   "execution_count": null,
   "metadata": {
    "collapsed": false,
    "scrolled": true
   },
   "outputs": [],
   "source": [
    "pos_day_tweets = df.loc[(df['date'] == '2016-08-11')]\n",
    "print(\"Number of tweets: %d\" % len(pos_day_tweets))\n",
    "pos_day_tweets[pos_day_tweets['sentiment_afinn'] > 0]['text'].value_counts()"
   ]
  },
  {
   "cell_type": "code",
   "execution_count": null,
   "metadata": {
    "collapsed": false,
    "scrolled": true
   },
   "outputs": [],
   "source": [
    "pos_day_tweets = df.loc[(df['date'] == '2016-08-13')]\n",
    "print(\"Number of tweets: %d\" % len(pos_day_tweets))\n",
    "pos_day_tweets[pos_day_tweets['sentiment_afinn'] > 0]['text'].value_counts()"
   ]
  },
  {
   "cell_type": "code",
   "execution_count": null,
   "metadata": {
    "collapsed": false,
    "scrolled": true
   },
   "outputs": [],
   "source": [
    "pos_day_tweets = df.loc[(df['date'] == '2016-08-15')]\n",
    "print(\"Number of tweets: %d\" % len(pos_day_tweets))\n",
    "pos_day_tweets[pos_day_tweets['sentiment_afinn'] > 0]['text'].value_counts()"
   ]
  },
  {
   "cell_type": "markdown",
   "metadata": {},
   "source": [
    "#### Todo:\n",
    "\n",
    "Add in sarcastic detection later on."
   ]
  }
 ],
 "metadata": {
  "kernelspec": {
   "display_name": "Python 2",
   "language": "python",
   "name": "python2"
  },
  "language_info": {
   "codemirror_mode": {
    "name": "ipython",
    "version": 2
   },
   "file_extension": ".py",
   "mimetype": "text/x-python",
   "name": "python",
   "nbconvert_exporter": "python",
   "pygments_lexer": "ipython2",
   "version": "2.7.12"
  }
 },
 "nbformat": 4,
 "nbformat_minor": 0
}
