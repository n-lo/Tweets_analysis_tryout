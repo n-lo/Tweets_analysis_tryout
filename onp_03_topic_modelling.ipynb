{
 "cells": [
  {
   "cell_type": "markdown",
   "metadata": {},
   "source": [
    "# Part 3: topic modelling"
   ]
  },
  {
   "cell_type": "code",
   "execution_count": 2,
   "metadata": {
    "collapsed": false,
    "scrolled": true
   },
   "outputs": [],
   "source": [
    "# -*- coding: utf-8 -*-\n",
    "# goto https://github.com/n-lo/Tweets_analysis_tryout for other parts\n",
    "%matplotlib inline\n",
    "\n",
    "from __future__ import print_function\n",
    "import pprint, datetime\n",
    "import pandas as pd\n",
    "import numpy as np\n",
    "import gensim, re\n",
    "import pyLDAvis.gensim\n",
    "from dateutil import parser\n",
    "from ggplot import *\n",
    "\n",
    "import matplotlib.pylab as pylab\n",
    "pylab.rcParams['figure.figsize'] = 14, 10\n",
    "\n",
    "import logging\n",
    "logging.basicConfig(format='%(asctime)s : %(levelname)s : %(message)s', level=logging.INFO)\n",
    "# e.g. logging.info(\"%i tweets found...\" % len(df))\n",
    "\n",
    "pp = pprint.PrettyPrinter(indent=4)"
   ]
  },
  {
   "cell_type": "markdown",
   "metadata": {},
   "source": [
    "### This is part three of data exploration, see part one for quick data look and sentiment analysis, part two for word cloud."
   ]
  },
  {
   "cell_type": "markdown",
   "metadata": {},
   "source": [
    "## Load in data\n",
    "\n",
    "Dataset contains Tweets between 09-08-2016 and 23-08-2016, with sentiment score from part one sentiment analysis.  \n",
    "\n",
    "Load dataframe from hdf5 file (see db2df.ipynb for loading data from MongoDB to dataframe)"
   ]
  },
  {
   "cell_type": "code",
   "execution_count": 3,
   "metadata": {
    "collapsed": false,
    "scrolled": true
   },
   "outputs": [
    {
     "name": "stdout",
     "output_type": "stream",
     "text": [
      "Load df from hdf5 file.\n",
      "9486 Tweets loaded.\n"
     ]
    }
   ],
   "source": [
    "print(\"Load df from hdf5 file.\")\n",
    "hdf = pd.HDFStore('onp_sentiment.h5')\n",
    "df = hdf['df']\n",
    "hdf.close()\n",
    "print(\"%d Tweets loaded.\" % len(df))"
   ]
  },
  {
   "cell_type": "markdown",
   "metadata": {},
   "source": [
    "#### Note:\n",
    "When the data set gets too big, can try random select samples:  \n",
    "\n",
    "from sklearn.cross_validation import train_test_split  \n",
    "import random  \n",
    "random.seed(1234)  \n",
    "train, test = train_test_split(df, test_size = 0.5)  \n",
    "del(df)  \n",
    "df = train  "
   ]
  },
  {
   "cell_type": "markdown",
   "metadata": {
    "collapsed": true,
    "scrolled": true
   },
   "source": [
    "# Topic modelling\n",
    "\n",
    "Try out some topic modelling and see what the tweets about.\n",
    "\n",
    "### 1. Tokenize tweets text"
   ]
  },
  {
   "cell_type": "code",
   "execution_count": 4,
   "metadata": {
    "collapsed": true
   },
   "outputs": [],
   "source": [
    "sw = set(gensim.parsing.preprocessing.STOPWORDS)\n",
    "my_sw = ['http', 'https', 'RT']"
   ]
  },
  {
   "cell_type": "code",
   "execution_count": 5,
   "metadata": {
    "collapsed": false
   },
   "outputs": [],
   "source": [
    "def remove_junk(text):\n",
    "    text = text.lower()\n",
    "    text = re.sub(r\"http\\S+\", \" \", text)\n",
    "    text = re.sub(r\"@+\", \" \", text)\n",
    "    return text"
   ]
  },
  {
   "cell_type": "code",
   "execution_count": 6,
   "metadata": {
    "collapsed": false
   },
   "outputs": [],
   "source": [
    "def split_wd(text, stopwords=sw):\n",
    "    new_sw = set(sw)\n",
    "    new_sw |= set(my_sw)\n",
    "    return [wd\n",
    "            for wd in gensim.utils.tokenize(text, lower=True)\n",
    "            if wd not in new_sw and len(wd) > 3]"
   ]
  },
  {
   "cell_type": "code",
   "execution_count": 7,
   "metadata": {
    "collapsed": false,
    "scrolled": true
   },
   "outputs": [],
   "source": [
    "words_onp = []\n",
    "\n",
    "# = 0\n",
    "for index, row in df.iterrows():\n",
    "    text = row['text']\n",
    "    text = remove_junk(text)\n",
    "    tokens = split_wd(text, sw)\n",
    "\n",
    "    words_onp.append(tokens)\n",
    "#   n += 1\n",
    "#   if n >= 10:\n",
    "#       break"
   ]
  },
  {
   "cell_type": "markdown",
   "metadata": {},
   "source": [
    "### 2. Vectorize the word tokens\n",
    "\n",
    "#### First assign IDs to the tokens"
   ]
  },
  {
   "cell_type": "code",
   "execution_count": 8,
   "metadata": {
    "collapsed": false
   },
   "outputs": [],
   "source": [
    "dictionary = gensim.corpora.Dictionary(words_onp)"
   ]
  },
  {
   "cell_type": "markdown",
   "metadata": {},
   "source": [
    "#### Remove tokens only appear once, and save the dictionary to disk."
   ]
  },
  {
   "cell_type": "code",
   "execution_count": 9,
   "metadata": {
    "collapsed": false
   },
   "outputs": [],
   "source": [
    "once = [token_id for token_id, docfreq in dictionary.dfs.iteritems() if docfreq == 1]\n",
    "dictionary.filter_tokens(once)\n",
    "dictionary.compactify()\n",
    "dictionary.save('models/onp_tm.dict')\n",
    "#print(dictionary)"
   ]
  },
  {
   "cell_type": "markdown",
   "metadata": {},
   "source": [
    "#### Now convert to vectors and save to disk"
   ]
  },
  {
   "cell_type": "code",
   "execution_count": 10,
   "metadata": {
    "collapsed": true
   },
   "outputs": [],
   "source": [
    "corpus = [dictionary.doc2bow(t) for t in words_onp]\n",
    "gensim.corpora.MmCorpus.serialize('models/onp_tm.mm', corpus)\n",
    "#print(corpus)"
   ]
  },
  {
   "cell_type": "markdown",
   "metadata": {},
   "source": [
    "### 3. Prepare the model\n",
    "\n",
    "#### Initialize a model, and save to disk\n",
    "\n",
    "Do not modify model valuable 'tfidf' from now on.  \n",
    "tfidf - Term Frequency * Inverse Document Frequency"
   ]
  },
  {
   "cell_type": "code",
   "execution_count": 11,
   "metadata": {
    "collapsed": true
   },
   "outputs": [],
   "source": [
    "tfidf = gensim.models.TfidfModel(corpus)\n",
    "tfidf.save('models/onp_tm.tfidf')"
   ]
  },
  {
   "cell_type": "markdown",
   "metadata": {},
   "source": [
    "#### Put a model wrapper around the corpus, and save to disk"
   ]
  },
  {
   "cell_type": "code",
   "execution_count": 12,
   "metadata": {
    "collapsed": true
   },
   "outputs": [],
   "source": [
    "corpus_tfidf = tfidf[corpus]\n",
    "gensim.corpora.MmCorpus.serialize('models/onp_tm.mm_corpus_tfidf', corpus_tfidf)\n",
    "#for doc in corpus_tfidf:\n",
    "#    print(doc)"
   ]
  },
  {
   "cell_type": "markdown",
   "metadata": {},
   "source": [
    "#### Set number of topics to model"
   ]
  },
  {
   "cell_type": "code",
   "execution_count": 13,
   "metadata": {
    "collapsed": true
   },
   "outputs": [],
   "source": [
    "n_topics = 5"
   ]
  },
  {
   "cell_type": "markdown",
   "metadata": {},
   "source": [
    "### 4. Use Latent Dirichlet Allocation (LDA) model\n",
    "\n",
    "#### Two methods:\n",
    "#### A) with online LDA"
   ]
  },
  {
   "cell_type": "code",
   "execution_count": 14,
   "metadata": {
    "collapsed": false
   },
   "outputs": [],
   "source": [
    "lda_model = gensim.models.ldamodel.LdaModel(corpus=corpus_tfidf, id2word=dictionary, \n",
    "                                            num_topics=n_topics, \n",
    "                                            update_every=1, chunksize=10000, passes=5)"
   ]
  },
  {
   "cell_type": "markdown",
   "metadata": {},
   "source": [
    "#### B) or batch LDA, no online updates   \n",
    "\n",
    "lda_model = gensim.models.ldamodel.LdaModel(corpus=corpus_tfidf, id2word=dictionary, num_topics=n_topics, update_every=0, passes=20)"
   ]
  },
  {
   "cell_type": "markdown",
   "metadata": {},
   "source": [
    "#### Now save the model to disk"
   ]
  },
  {
   "cell_type": "code",
   "execution_count": 15,
   "metadata": {
    "collapsed": false
   },
   "outputs": [],
   "source": [
    "lda_model.save('models/onp_tm.lda')"
   ]
  },
  {
   "cell_type": "markdown",
   "metadata": {},
   "source": [
    "#### Print out most frequent words in each of the topics"
   ]
  },
  {
   "cell_type": "code",
   "execution_count": 16,
   "metadata": {
    "collapsed": false
   },
   "outputs": [
    {
     "name": "stdout",
     "output_type": "stream",
     "text": [
      "[   [   (u'hanson', 0.011922363650115526),\n",
      "        (u'qanda', 0.011473320802754684),\n",
      "        (u'pauline', 0.011094896871790499),\n",
      "        (u'nation', 0.011076265871551041),\n",
      "        (u'malcolm', 0.0090486029170585795)],\n",
      "    [   (u'rally', 0.03398625728474846),\n",
      "        (u'nauru', 0.033271345338744721),\n",
      "        (u'wilsonsecurity', 0.03071066808112409),\n",
      "        (u'kon__k', 0.030667158488315614),\n",
      "        (u'supremacist', 0.030660671536618792)],\n",
      "    [   (u'squat', 0.018315980112206094),\n",
      "        (u'toilets', 0.017023791782655385),\n",
      "        (u'right', 0.013399973432148084),\n",
      "        (u'offices', 0.012437345439820485),\n",
      "        (u'melbourne', 0.012077186646590509)],\n",
      "    [   (u'dressed', 0.033171004538378561),\n",
      "        (u'storm', 0.032060450942781114),\n",
      "        (u'muslims', 0.031311538389819524),\n",
      "        (u'supporters', 0.028187059744568022),\n",
      "        (u'church', 0.027219690450427467)],\n",
      "    [   (u'skull', 0.02130379536236169),\n",
      "        (u'nazi', 0.021189106653404313),\n",
      "        (u'ross', 0.021095704984894884),\n",
      "        (u'photos', 0.0208253359624175),\n",
      "        (u'picture', 0.020808822417730962)]]\n"
     ]
    }
   ],
   "source": [
    "top_words = [[word for word in lda_model.show_topic(topicno, topn=5)] \n",
    "             for topicno in range(lda_model.num_topics)]\n",
    "pp.pprint(top_words)"
   ]
  },
  {
   "cell_type": "markdown",
   "metadata": {},
   "source": [
    "### Visualise the model with pyLDAvis\n",
    "\n",
    "To load preivous saved model from disk:  \n",
    "\n",
    "dictionary = gensim.corpora.Dictionary.load('models/onp_tm.dict')  \n",
    "corpus_tfidf = gensim.corpora.MmCorpus('models/onp_tm.mm_corpus_tfidf')  \n",
    "lda_model = gensim.models.ldamodel.LdaModel.load('models/onp_tm.lda')"
   ]
  },
  {
   "cell_type": "code",
   "execution_count": 18,
   "metadata": {
    "collapsed": false
   },
   "outputs": [
    {
     "data": {
      "text/html": [
       "\n",
       "<link rel=\"stylesheet\" type=\"text/css\" href=\"https://cdn.rawgit.com/bmabey/pyLDAvis/files/ldavis.v1.0.0.css\">\n",
       "\n",
       "\n",
       "<div id=\"ldavis_el219609626360807354159885\"></div>\n",
       "<script type=\"text/javascript\">\n",
       "\n",
       "var ldavis_el219609626360807354159885_data = {\"plot.opts\": {\"xlab\": \"PC1\", \"ylab\": \"PC2\"}, \"topic.order\": [4, 2, 5, 3, 1], \"token.table\": {\"Topic\": [1, 3, 4, 5, 4, 1, 2, 3, 4, 5, 5, 4, 5, 1, 3, 4, 5, 1, 4, 5, 1, 3, 4, 1, 3, 1, 2, 3, 4, 5, 1, 2, 3, 4, 5, 1, 2, 3, 4, 5, 1, 2, 3, 4, 5, 1, 1, 2, 4, 5, 2, 5, 1, 4, 5, 3, 4, 2, 3, 3, 1, 2, 3, 5, 1, 3, 4, 5, 5, 1, 3, 3, 1, 2, 3, 4, 5, 5, 4, 5, 2, 3, 4, 5, 1, 2, 3, 4, 5, 3, 5, 1, 2, 3, 4, 1, 2, 3, 4, 5, 1, 4, 5, 1, 2, 3, 4, 5, 3, 2, 3, 4, 5, 1, 1, 3, 4, 5, 1, 5, 1, 2, 5, 4, 5, 4, 5, 4, 2, 3, 5, 2, 3, 1, 3, 3, 5, 1, 3, 4, 5, 2, 3, 1, 4, 4, 5, 2, 4, 5, 2, 4, 5, 1, 2, 3, 4, 5, 1, 3, 4, 5, 1, 2, 4, 1, 4, 5, 1, 2, 4, 5, 3, 1, 3, 4, 5, 4, 4, 4, 5, 1, 3, 4, 5, 1, 3, 5, 1, 2, 3, 1, 2, 5, 2, 1, 3, 1, 3, 1, 2, 4, 5, 4, 4, 5, 1, 2, 3, 4, 5, 1, 2, 3, 5, 1, 2, 4, 5, 5, 1, 1, 2, 3, 5, 2, 5, 4, 2, 3, 1, 3, 4, 2, 4, 5, 1, 3, 4, 1, 2, 3, 4, 5, 4, 2, 3, 1, 2, 3, 4, 5, 2, 3, 4, 1, 2, 3, 4, 5, 3, 5, 1, 1, 2, 4, 5, 1, 4, 5, 1, 2, 3, 5, 1, 2, 3, 4, 5, 1, 4, 5, 1, 5, 2, 4, 5, 1, 4, 1, 2, 3, 4, 5, 4, 1, 3, 4, 1, 2, 3, 5, 2, 3, 4, 5, 4, 5, 1, 2, 3, 5, 3, 1, 3, 5, 4, 5, 1, 2, 3, 4, 5, 1, 2, 3, 4, 5, 5, 1, 2, 3, 4, 5, 1, 2, 3, 4, 5, 1, 2, 3, 4, 5, 1, 3, 4, 5, 3, 1, 3, 4, 5, 1, 2, 4, 2, 3, 4, 5, 2, 3, 4, 5, 2, 4, 5, 4, 1, 2, 4, 1, 1, 2, 3, 4, 5, 1, 3, 1, 2, 3, 4, 5, 1, 2, 3, 4, 5, 1, 2, 3, 4, 5, 1, 1, 2, 4, 5, 3, 4, 5, 1, 3, 4, 5, 3, 4, 5, 2, 4, 5, 3, 3, 4, 5, 2, 1, 1, 2, 3, 4, 5, 3, 4, 5, 3, 4, 5, 2, 4, 1, 2, 3, 4, 5, 4, 1, 3, 1, 2, 4, 5, 3, 1, 5, 4, 5, 1, 3, 4, 5, 1, 3, 4, 1, 2, 4, 5, 1, 3, 1, 3, 4, 1, 3, 4, 1, 1, 2, 4, 5, 1, 3, 1, 2, 4, 1, 4, 5, 1, 2, 3, 4, 5, 4, 5, 1, 2, 3, 4, 5, 1, 1, 3, 4, 5, 1, 2, 3, 4, 5, 4, 1, 4, 3, 4, 5, 1, 3, 5, 3, 1, 2, 4, 5, 1, 2, 3, 4, 5, 1, 2, 3, 4, 5, 1, 2, 3, 4, 5, 1, 2, 5, 5, 1, 3, 4, 5, 2, 5, 1, 3, 1, 2, 3, 4, 5, 2, 5, 1, 2, 4, 5, 5, 1, 2, 3, 4, 5, 1, 4, 5, 3, 1, 3, 5, 2, 3, 1, 1, 2, 3, 4, 5, 1, 2, 4, 5, 3, 4, 1, 2, 3, 4, 5, 1, 2, 4, 1, 2, 3, 5, 4, 1, 2, 3, 4, 5, 1, 2, 3, 4, 5, 1, 2, 3, 4, 5, 1, 2, 3, 4, 5, 3, 4, 5, 1, 4, 5, 3, 4, 5, 1, 3, 5, 2, 3, 4, 5, 1, 2, 4, 5, 2, 3, 4, 1, 2, 3, 4, 5, 1, 2, 3, 5, 1, 2, 4, 5, 1, 2, 4, 1, 2, 4, 5, 2, 3, 4, 5, 2, 3, 4, 1, 2, 3, 4, 5], \"Freq\": [0.065466434512787539, 0.91653008317902551, 0.088454520835850745, 0.88454520835850747, 0.91891190253691923, 0.40147933967909327, 0.055376460645392173, 0.38763522451774518, 0.027688230322696086, 0.12459703645213238, 0.93054519151899473, 0.038029638530670082, 0.95074096326675206, 0.95465961595043025, 0.03535776355371964, 0.01767888177685982, 0.88371511516614609, 0.99146036411007077, 0.081136484389278604, 0.89250132828206463, 0.064942703427994838, 0.87672649627793042, 0.032471351713997419, 0.96181817816209447, 0.89969339555844308, 0.41871790967570122, 0.20525387729201042, 0.13546755901272686, 0.13957263655856708, 0.10673201619184541, 0.89772894780196133, 0.033876564067998542, 0.025407423050998905, 0.016938282033999271, 0.016938282033999271, 0.040350020861457898, 0.42771022113145374, 0.1210500625843737, 0.16140008344583159, 0.25017012934103899, 0.082443607725822765, 0.1803453919002373, 0.43798166604343342, 0.21641447028028477, 0.082443607725822765, 0.93667952723289849, 0.033587053410661982, 0.9404374954985355, 0.033587053410661982, 0.943992718523744, 0.95164684477905881, 0.96405544860814163, 0.036504754678067568, 0.91261886695168926, 0.036504754678067568, 0.92005721747962355, 0.035386816056908597, 0.93164305194521535, 0.038818460497717304, 0.93541054473323249, 0.030136299114987414, 0.030136299114987414, 0.030136299114987414, 0.93422527256460985, 0.36717349363487994, 0.20291166753506523, 0.096624603588126301, 0.32852365219962942, 0.92662595271437542, 0.081977279357207819, 0.86076143325068211, 0.95046427552528867, 0.024770999965767263, 0.024770999965767263, 0.024770999965767263, 0.14862599979460359, 0.79267199890455242, 0.97109312575071915, 0.038266301633355655, 0.91839123920053567, 0.036116510971936466, 0.018058255485968233, 0.93902928527034812, 0.018058255485968233, 0.065141182255275251, 0.0093058831793250366, 0.67932947209072769, 0.19542354676582577, 0.055835299075950223, 0.066745334182494023, 0.86768934437242218, 0.90050861420692929, 0.91948324678852222, 0.043784916513739149, 0.9564011381872809, 0.67462065282982786, 0.054136225227084951, 0.087450825366829535, 0.029150275122276512, 0.15824435066378678, 0.93295780656360838, 0.01865915613127217, 0.03731831226254434, 0.12668289141222125, 0.050673156564888501, 0.60807787877866193, 0.16046499578881357, 0.050673156564888501, 0.88391923532031347, 0.031828690604202819, 0.12731476241681128, 0.63657381208405639, 0.1591434530210141, 0.96707773483164428, 0.016352788895972966, 0.62140597804697262, 0.34340856681543225, 0.016352788895972966, 0.048487842302446044, 0.9212690037464748, 0.91851543673597069, 0.95968355242412595, 0.97180171517687286, 0.038029686894754042, 0.95074217236885106, 0.92465109721535865, 0.9226563714653222, 0.94922438795710529, 0.92822497823246686, 0.046411248911623341, 0.95721462394675172, 0.92822221116066184, 0.04641111055803309, 0.036798646705230323, 0.95676481433598837, 0.87207123033321865, 0.072672602527768221, 0.016297585437568762, 0.61930824662761308, 0.34224929418894406, 0.016297585437568762, 0.93122615732365577, 0.046561307866182788, 0.92035601517575616, 0.92522951965612521, 0.91898079621057516, 0.036759231848423009, 0.88915557151528235, 0.02868243779081556, 0.086047313372446685, 0.90299151662125021, 0.069460885893942323, 0.034730442946971161, 0.82895675065564223, 0.050494827451105111, 0.025247413725552555, 0.021039511437960463, 0.075742241176657663, 0.11427216295664344, 0.79990514069650409, 0.019045360492773906, 0.076181441971095623, 0.03274609745290636, 0.916890728681378, 0.03274609745290636, 0.92775836872453588, 0.018555167374490717, 0.037110334748981434, 0.017322054144002712, 0.95271297792014908, 0.034644108288005425, 0.90956836530671048, 0.85907024915212393, 0.030965500437088966, 0.55737900786760142, 0.30965500437088966, 0.092896501311266894, 0.92523230062815487, 0.89989775425275842, 0.12651409566067348, 0.82234162179437764, 0.83594175224275435, 0.12860642342196221, 0.016075802927745277, 0.016075802927745277, 0.98159767610500104, 0.013446543508287686, 0.013446543508287686, 0.17529425350450772, 0.21911781688063467, 0.59161810557771355, 0.27476169913003534, 0.049956672569097339, 0.67441507968281411, 0.95842359245312925, 0.076549724507541841, 0.88032183183673118, 0.081977102950874847, 0.86075958098418592, 0.37481839806602646, 0.02204814106270744, 0.17638512850165952, 0.41891468019144135, 0.92339037423623116, 0.88130389555213551, 0.95500638539745952, 0.19739079051929892, 0.22336326295604877, 0.15583483462049916, 0.15583483462049916, 0.27011371334219852, 0.95634578659553526, 0.026939317932268596, 0.013469658966134298, 0.88852385473281958, 0.095280750545484669, 0.047640375272742334, 0.142921125818227, 0.71460562909113501, 0.92265715203019028, 0.95903875353849566, 0.34410679348313211, 0.019117044082396228, 0.59262836655428308, 0.019117044082396228, 0.972851628186027, 0.89485565151972157, 0.84188412407464552, 0.92657875587434779, 0.046328937793717384, 0.95519471561386504, 0.036045083608070377, 0.018022541804035189, 0.065691018767074491, 0.90325150804727428, 0.016422754691768623, 0.95587533094043919, 0.036070767205299593, 0.018035383602649797, 0.31215492098842396, 0.012005958499554766, 0.33616683798753344, 0.19209533599287626, 0.14407150199465721, 0.92487190214325365, 0.93056387040042543, 0.044312565257163115, 0.59016078971467556, 0.3755568661820663, 0.0076644258404503325, 0.015328851680900665, 0.0076644258404503325, 0.96068045127247981, 0.043667293239658171, 0.89464562055077113, 0.018266344195644567, 0.036532688391289134, 0.31052785132595762, 0.62105570265191523, 0.018266344195644567, 0.068428146932818623, 0.8895659101266421, 0.92525593968424835, 0.01159325612633221, 0.95644363042240732, 0.005796628063166105, 0.02318651225266442, 0.047452179112812319, 0.901591403143434, 0.047452179112812319, 0.018275167159254146, 0.47515434614060781, 0.091375835796270732, 0.42032884466284537, 0.24769928830183319, 0.12384964415091659, 0.041283214716972196, 0.51604018396215245, 0.061924822075458297, 0.068134459742570902, 0.88574797665342175, 0.068134459742570902, 0.39743667368767099, 0.58086898462044223, 0.019696166388568234, 0.94541598665127535, 0.019696166388568234, 0.059770738320689021, 0.89656107481033531, 0.2233236521283383, 0.047515670665603894, 0.31360342639298572, 0.2280752191948987, 0.1853111155958552, 0.8617925460336564, 0.94002180318782114, 0.035472520875012119, 0.017736260437506059, 0.055862970307375637, 0.11172594061475127, 0.055862970307375637, 0.78208158430325891, 0.061853407389509889, 0.015463351847377472, 0.86594770345313843, 0.061853407389509889, 0.94315986055206225, 0.04715799302760311, 0.033949556967105846, 0.033949556967105846, 0.033949556967105846, 0.91663803811185796, 0.92706512444623645, 0.94387049447979143, 0.90413137154082412, 0.91324480506552297, 0.88360755520874568, 0.95166751379251358, 0.47317210234437557, 0.070099570717685272, 0.070099570717685272, 0.035049785358842636, 0.33297296090900502, 0.78063067273495457, 0.062954086510883439, 0.033575512805804501, 0.037772451906530058, 0.088135721115236806, 0.90466741845605891, 0.27369589629946267, 0.10105694632595545, 0.25264236581488864, 0.16842824387659242, 0.2021138926519109, 0.010335046604891592, 0.92498667113779753, 0.0051675233024457961, 0.025837616512228982, 0.03100513981467478, 0.11727097586988526, 0.73294359918678287, 0.07329435991867829, 0.043976615951206971, 0.043976615951206971, 0.0085672280581269473, 0.95096231445209123, 0.017134456116253895, 0.017134456116253895, 0.94934295396065327, 0.84134050672192506, 0.1246430380328778, 0.015580379754109724, 0.015580379754109724, 0.033320256667482583, 0.93296718668951228, 0.033320256667482583, 0.96861146415614285, 0.97051149313510354, 0.017807550332754194, 0.0089037751663770971, 0.29869594825853185, 0.011488305702251225, 0.6318568136238174, 0.057441528511256126, 0.059767911509091116, 0.86663471688182125, 0.074709889386363901, 0.90726740178624454, 0.0688364280928732, 0.0688364280928732, 0.89487356520735151, 0.98656339654876335, 0.07043823174952811, 0.042262939049716869, 0.014087646349905622, 0.74664525654499792, 0.12678881714915061, 0.074574982426020495, 0.89489978911224588, 0.15811081456569651, 0.15811081456569651, 0.44558502286696289, 0.17248452498075983, 0.071868552075316602, 0.22146717863697907, 0.21593049917105461, 0.14949034557996088, 0.14949034557996088, 0.26576061436437487, 0.8393772415561338, 0.044177749555585989, 0.029451833037057326, 0.073629582592643308, 0.014725916518528663, 0.93668065402016942, 0.011494874075199574, 0.94257967416636501, 0.011494874075199574, 0.03448462222559872, 0.966255525264751, 0.017729459179169745, 0.0088647295895848723, 0.57734479272533168, 0.34365761471745931, 0.013746304588698372, 0.054985218354793489, 0.96600871298114221, 0.017724930513415452, 0.0088624652567077262, 0.033893138485916137, 0.93206130836269374, 0.016946569242958068, 0.91749480619864121, 0.97051149600887643, 0.01780755038548397, 0.0089037751927419848, 0.97285374920502121, 0.95875076902018896, 0.037947030398530535, 0.17076163679338741, 0.62612600157575382, 0.018973515199265267, 0.13281460639485687, 0.96875156242175398, 0.017775258026087228, 0.0088876290130436141, 0.16015560143529092, 0.16015560143529092, 0.64062240574116369, 0.94314031973979606, 0.031438010657993204, 0.27841931784635038, 0.037624232141398699, 0.18812116070699347, 0.12039754285247582, 0.37624232141398695, 0.93765221134568122, 0.044821608391548022, 0.94125377622250839, 0.010448020186765617, 0.95599384708905399, 0.015672030280148425, 0.020896040373531235, 0.94118602554285025, 0.30770582771141713, 0.64960119183521392, 0.066266661978089517, 0.86146660571516376, 0.040176818172107678, 0.040176818172107678, 0.12053045451632302, 0.80353636344215351, 0.95589979006757908, 0.036071690191229397, 0.018035845095614698, 0.014472578102661579, 0.76704663944106366, 0.086835468615969469, 0.14472578102661579, 0.0851565438541039, 0.89414371046809094, 0.94367082806834612, 0.036295031848782543, 0.018147515924391271, 0.94776830845310611, 0.035764841828419096, 0.017882420914209548, 0.94363238721152853, 0.011618167671522276, 0.95849883290058768, 0.0058090838357611379, 0.023236335343044551, 0.061389193787391744, 0.92083790681087618, 0.016878557000665869, 0.92832063503662277, 0.050635671001997611, 0.11575971944233543, 0.810318036096348, 0.038586573147445145, 0.572107792977815, 0.057594744259511575, 0.034556846555706948, 0.23805827627264786, 0.09599124043251929, 0.08363667775253536, 0.92000345527788896, 0.20032028760378257, 0.097830838132079864, 0.30746834841510812, 0.21429612162265113, 0.18168584224529116, 0.96175004398375274, 0.0087286324267243035, 0.96887819936639774, 0.017457264853448607, 0.0087286324267243035, 0.17769912578428976, 0.30801181802610222, 0.2013923425555284, 0.023693216771238635, 0.28431860125486363, 0.89494453318048661, 0.073126534224162487, 0.87751841068994996, 0.040469593623946108, 0.76892227885497599, 0.16187837449578443, 0.0627351996692736, 0.87829279536983051, 0.83992541134817122, 0.92155933438709958, 0.016991713895288134, 0.93454426424084736, 0.033983427790576268, 0.016991713895288134, 0.22615848768270108, 0.57134775835629747, 0.095224626392716241, 0.059515391495447656, 0.035709234897268592, 0.1818325529688479, 0.094869158070703244, 0.42691121131816462, 0.055340342207910224, 0.23717289517675813, 0.031382443846832586, 0.12552977538733034, 0.031382443846832586, 0.75317865232398196, 0.062764887693665172, 0.033703578088161996, 0.033703578088161996, 0.90999660838037399, 0.92391090517392094, 0.0086369408475980604, 0.96733737493098282, 0.017273881695196121, 0.0086369408475980604, 0.077903805749216889, 0.85694186324138577, 0.081977203038683277, 0.86076063190617436, 0.014767545467835635, 0.12552413647660288, 0.088605272807013802, 0.62762068238301449, 0.14029168194443853, 0.83383626810292466, 0.13341380289646795, 0.023120260843962924, 0.94793069460247981, 0.005780065210990731, 0.023120260843962924, 0.92265717603107145, 0.81350188578662741, 0.051110066122720045, 0.025555033061360023, 0.021295860884466684, 0.093701787891653412, 0.91988672223879031, 0.034069878601436676, 0.034069878601436676, 0.97080362136008724, 0.31926717160185941, 0.51437488758077343, 0.15963358580092971, 0.92822308705447221, 0.04641115435272361, 0.91898188987492457, 0.75510973411808702, 0.053936409579863356, 0.031462905588253626, 0.053936409579863356, 0.10787281915972671, 0.011604991712355526, 0.95741181626933081, 0.0058024958561777628, 0.023209983424711051, 0.90393832251343997, 0.064567023036674276, 0.033573775337639007, 0.23501642736347303, 0.033573775337639007, 0.67147550675278012, 0.033573775337639007, 0.049552792764923102, 0.90846786735692364, 0.033035195176615406, 0.8722759436151899, 0.065095219672775359, 0.013019043934555073, 0.03905713180366522, 0.96496862426779706, 0.019353803943077539, 0.096769019715387691, 0.019353803943077539, 0.75479835378002402, 0.11612282365846523, 0.014876123727777147, 0.72397135475182117, 0.0049587079092590488, 0.22810056382591626, 0.024793539546295245, 0.096366014027040148, 0.37341830435478057, 0.30114379383450046, 0.048183007013520074, 0.18068627630070028, 0.0078555541140416518, 0.094266649368499822, 0.054988878798291563, 0.62058877500929055, 0.21995551519316625, 0.030418063721590102, 0.12167225488636041, 0.85170578420452292, 0.042382729660381542, 0.93242005252839388, 0.042382729660381542, 0.90982022162570619, 0.01700598545094778, 0.068023941803791121, 0.041481560504268579, 0.91259433109390875, 0.041481560504268579, 0.029695313531738998, 0.089085940595216989, 0.83146877888869197, 0.059390627063477995, 0.049983075133440066, 0.6997630518681609, 0.024991537566720033, 0.22492383810048031, 0.17111886912097085, 0.042779717280242713, 0.77003491104436894, 0.91366407415498085, 0.034155666323550687, 0.025616749742663016, 0.017077833161775344, 0.0085389165808876719, 0.9366800432449095, 0.9177145571595493, 0.043700693198073771, 0.95380305983826896, 0.011526601773750656, 0.95094464633442921, 0.011526601773750656, 0.023053203547501313, 0.016641161233448869, 0.94854619030658549, 0.033282322466897739, 0.011537986281270568, 0.95188386820482174, 0.011537986281270568, 0.023075972562541135, 0.15068473559746892, 0.030136947119493784, 0.75342367798734455, 0.030136947119493784, 0.93775598094317369, 0.044655046711579702, 0.90959217694366323, 0.25222102962705972, 0.084073676542353232, 0.056049117694902159, 0.02802455884745108, 0.58851573579647265], \"Term\": [\"abctv\", \"abctv\", \"adambspencer\", \"adambspencer\", \"amdwaters\", \"anti\", \"anti\", \"anti\", \"anti\", \"anti\", \"apparentl\", \"appearing\", \"appearing\", \"aren\", \"aren\", \"aren\", \"arrived\", \"artbylynettag\", \"articles\", \"articles\", \"asks\", \"asks\", \"asks\", \"attire\", \"ausp\", \"auspol\", \"auspol\", \"auspol\", \"auspol\", \"auspol\", \"aussies\", \"aussies\", \"aussies\", \"aussies\", \"aussies\", \"australia\", \"australia\", \"australia\", \"australia\", \"australia\", \"australian\", \"australian\", \"australian\", \"australian\", \"australian\", \"baird\", \"begun\", \"begun\", \"begun\", \"beliefs\", \"bernardi\", \"betootaadvocate\", \"bigger\", \"bigger\", \"bigger\", \"bigot\", \"bigot\", \"blame\", \"blame\", \"borders\", \"braddybb\", \"braddybb\", \"braddybb\", \"braddybb\", \"brian\", \"brian\", \"brian\", \"brian\", \"briancox\", \"brings\", \"brings\", \"british\", \"buzzfeedoz\", \"buzzfeedoz\", \"buzzfeedoz\", \"buzzfeedoz\", \"buzzfeedoz\", \"campaignarf\", \"canthavepudding\", \"canthavepudding\", \"case\", \"case\", \"case\", \"case\", \"change\", \"change\", \"change\", \"change\", \"change\", \"chris\", \"chris\", \"chrismurphys\", \"christ\", \"christ\", \"christianity\", \"church\", \"church\", \"church\", \"church\", \"church\", \"clash\", \"clash\", \"clash\", \"climate\", \"climate\", \"climate\", \"climate\", \"climate\", \"comment\", \"concerned\", \"concerned\", \"concerned\", \"concerned\", \"concerns\", \"continues\", \"continues\", \"continues\", \"continues\", \"convinced\", \"convinced\", \"cops\", \"cory\", \"counterproductive\", \"crackpot\", \"crackpot\", \"debacle\", \"debates\", \"decline\", \"defecation\", \"defecation\", \"delivered\", \"demands\", \"demands\", \"denial\", \"denial\", \"denier\", \"denier\", \"deny\", \"deny\", \"deny\", \"deny\", \"deptofaustralia\", \"deptofaustralia\", \"derryn\", \"destroys\", \"dismissed\", \"dismissed\", \"disturbing\", \"disturbing\", \"disturbing\", \"door\", \"door\", \"door\", \"dressed\", \"dressed\", \"dressed\", \"dressed\", \"dressed\", \"elect\", \"elect\", \"elect\", \"elect\", \"electing\", \"electing\", \"electing\", \"embarrassing\", \"embarrassing\", \"embarrassing\", \"emergency\", \"emergency\", \"emergency\", \"esteemed\", \"exaggeration\", \"existence\", \"existence\", \"existence\", \"existence\", \"exposes\", \"fark\", \"fear\", \"fear\", \"folkes\", \"folkes\", \"folkes\", \"folkes\", \"frbower\", \"frbower\", \"frbower\", \"freedom\", \"freedom\", \"freedom\", \"gosford\", \"gosford\", \"gosford\", \"graph\", \"graphs\", \"graphs\", \"grapple\", \"grapple\", \"group\", \"group\", \"group\", \"group\", \"growth\", \"guardian\", \"halalforhanson\", \"hanson\", \"hanson\", \"hanson\", \"hanson\", \"hanson\", \"hansonites\", \"hansonites\", \"hansonites\", \"hardly\", \"hate\", \"hate\", \"hate\", \"hate\", \"hawking\", \"hinch\", \"hits\", \"hits\", \"hits\", \"hits\", \"hoax\", \"holes\", \"ideology\", \"important\", \"important\", \"insists\", \"insists\", \"insists\", \"installs\", \"installs\", \"installs\", \"isis\", \"isis\", \"isis\", \"islam\", \"islam\", \"islam\", \"islam\", \"islam\", \"islamophobia\", \"jesus\", \"jesus\", \"johndory\", \"johndory\", \"johndory\", \"johndory\", \"johndory\", \"johnjohnsonson\", \"johnjohnsonson\", \"johnwren\", \"julianburnside\", \"julianburnside\", \"julianburnside\", \"julianburnside\", \"julianburnside\", \"kenny\", \"kenny\", \"kids\", \"kon__k\", \"kon__k\", \"kon__k\", \"kon__k\", \"lewis\", \"lewis\", \"lewis\", \"life\", \"life\", \"life\", \"life\", \"like\", \"like\", \"like\", \"like\", \"like\", \"looks\", \"looks\", \"looks\", \"lunch\", \"lunch\", \"mailonline\", \"mailonline\", \"mailonline\", \"makes\", \"makes\", \"malcolm\", \"malcolm\", \"malcolm\", \"malcolm\", \"malcolm\", \"manus\", \"mariamveiszadeh\", \"mariamveiszadeh\", \"mariamveiszadeh\", \"meet\", \"meet\", \"meet\", \"meet\", \"melbourne\", \"melbourne\", \"melbourne\", \"melbourne\", \"members\", \"members\", \"mikecarlton\", \"mikecarlton\", \"mikecarlton\", \"mikecarlton\", \"minister\", \"mock\", \"mocks\", \"month\", \"motion\", \"mrtomhartney\", \"muslim\", \"muslim\", \"muslim\", \"muslim\", \"muslim\", \"muslims\", \"muslims\", \"muslims\", \"muslims\", \"muslims\", \"mystery\", \"nation\", \"nation\", \"nation\", \"nation\", \"nation\", \"nauru\", \"nauru\", \"nauru\", \"nauru\", \"nauru\", \"naurufiles\", \"naurufiles\", \"naurufiles\", \"naurufiles\", \"naurufiles\", \"nazi\", \"nazi\", \"nazi\", \"nazi\", \"newmatilda\", \"nick\", \"nick\", \"nick\", \"nick\", \"nightmare\", \"nightmare\", \"nightmare\", \"niltiac\", \"objected\", \"objected\", \"objected\", \"office\", \"office\", \"office\", \"office\", \"offices\", \"offices\", \"offices\", \"ones\", \"oxygen\", \"oxygen\", \"oxygen\", \"parish\", \"parliament\", \"parliament\", \"parliament\", \"parliament\", \"parliament\", \"particle\", \"particle\", \"party\", \"party\", \"party\", \"party\", \"party\", \"pauline\", \"pauline\", \"pauline\", \"pauline\", \"pauline\", \"paulinehanson\", \"paulinehanson\", \"paulinehanson\", \"paulinehanson\", \"paulinehanson\", \"pester\", \"photo\", \"photo\", \"photo\", \"photo\", \"photos\", \"photos\", \"photos\", \"physicist\", \"physicist\", \"physicist\", \"physicist\", \"picture\", \"picture\", \"picture\", \"place\", \"place\", \"place\", \"points\", \"posting\", \"posting\", \"posting\", \"presented\", \"priest\", \"profbriancox\", \"profbriancox\", \"profbriancox\", \"profbriancox\", \"profbriancox\", \"profile\", \"profile\", \"profile\", \"psyvret\", \"psyvret\", \"psyvret\", \"puerile\", \"puerile\", \"qanda\", \"qanda\", \"qanda\", \"qanda\", \"qanda\", \"quotethon\", \"raised\", \"raised\", \"rally\", \"rally\", \"rally\", \"rally\", \"rant\", \"reaches\", \"reaches\", \"read\", \"read\", \"real\", \"real\", \"real\", \"real\", \"reckons\", \"reckons\", \"reckons\", \"reclaim\", \"reclaim\", \"reclaim\", \"reclaim\", \"repeatedly\", \"repeatedly\", \"representat\", \"representat\", \"representat\", \"representative\", \"representative\", \"representative\", \"representatives\", \"reshare\", \"reshare\", \"reshare\", \"reshare\", \"responds\", \"responds\", \"response\", \"response\", \"response\", \"returns\", \"returns\", \"returns\", \"right\", \"right\", \"right\", \"right\", \"right\", \"rob_stott\", \"rob_stott\", \"roberts\", \"roberts\", \"roberts\", \"roberts\", \"roberts\", \"roqchams\", \"ross\", \"ross\", \"ross\", \"ross\", \"says\", \"says\", \"says\", \"says\", \"says\", \"sbscomedy\", \"scaa\", \"scaa\", \"schools\", \"schools\", \"schools\", \"scienceweek\", \"scienceweek\", \"seanbradbery\", \"secure\", \"security\", \"security\", \"security\", \"security\", \"senate\", \"senate\", \"senate\", \"senate\", \"senate\", \"senator\", \"senator\", \"senator\", \"senator\", \"senator\", \"senators\", \"senators\", \"senators\", \"senators\", \"senators\", \"shits\", \"shits\", \"shits\", \"shunned\", \"skull\", \"skull\", \"skull\", \"skull\", \"slams\", \"slams\", \"smackdown\", \"smackdown\", \"squat\", \"squat\", \"squat\", \"squat\", \"squat\", \"srpeatling\", \"srpeatling\", \"staff\", \"staff\", \"staff\", \"staff\", \"stephen\", \"storm\", \"storm\", \"storm\", \"storm\", \"storm\", \"stormed\", \"stormed\", \"stormed\", \"stoush\", \"stunt\", \"stunt\", \"stunt\", \"style\", \"style\", \"sunday\", \"supporters\", \"supporters\", \"supporters\", \"supporters\", \"supporters\", \"supremacist\", \"supremacist\", \"supremacist\", \"supremacist\", \"takes\", \"takes\", \"talking\", \"talking\", \"talking\", \"talking\", \"talking\", \"team\", \"team\", \"team\", \"thedrum\", \"thedrum\", \"thedrum\", \"thedrum\", \"themarkjacka\", \"think\", \"think\", \"think\", \"think\", \"think\", \"time\", \"time\", \"time\", \"time\", \"time\", \"toilet\", \"toilet\", \"toilet\", \"toilet\", \"toilet\", \"toilets\", \"toilets\", \"toilets\", \"toilets\", \"toilets\", \"tonight\", \"tonight\", \"tonight\", \"trobinsonnewera\", \"trobinsonnewera\", \"trobinsonnewera\", \"vanbadham\", \"vanbadham\", \"vanbadham\", \"views\", \"views\", \"views\", \"vote\", \"vote\", \"vote\", \"vote\", \"voters\", \"voters\", \"voters\", \"voters\", \"vows\", \"vows\", \"vows\", \"wake\", \"wake\", \"wake\", \"wake\", \"wake\", \"wannabe\", \"western\", \"western\", \"wezking\", \"white\", \"white\", \"white\", \"white\", \"wilson\", \"wilson\", \"wilson\", \"wilsonsecurity\", \"wilsonsecurity\", \"wilsonsecurity\", \"wilsonsecurity\", \"worried\", \"worried\", \"worried\", \"worried\", \"worry\", \"worry\", \"writes\", \"years\", \"years\", \"years\", \"years\", \"years\"]}, \"mdsDat\": {\"y\": [0.21706735044695846, 0.0056749893502564394, -0.13077642310454113, -0.10093100747969798, 0.0089650907870240954], \"cluster\": [1, 1, 1, 1, 1], \"Freq\": [23.263867442842141, 21.033669052036576, 20.556008261988087, 18.15703975621253, 16.989415486920667], \"topics\": [1, 2, 3, 4, 5], \"x\": [-0.091829369124157276, 0.26036158264318932, -0.14788018754484558, 0.0063558766697358474, -0.027007902643922204]}, \"R\": 30, \"lambda.step\": 0.01, \"tinfo\": {\"Category\": [\"Default\", \"Default\", \"Default\", \"Default\", \"Default\", \"Default\", \"Default\", \"Default\", \"Default\", \"Default\", \"Default\", \"Default\", \"Default\", \"Default\", \"Default\", \"Default\", \"Default\", \"Default\", \"Default\", \"Default\", \"Default\", \"Default\", \"Default\", \"Default\", \"Default\", \"Default\", \"Default\", \"Default\", \"Default\", \"Default\", \"Topic1\", \"Topic1\", \"Topic1\", \"Topic1\", \"Topic1\", \"Topic1\", \"Topic1\", \"Topic1\", \"Topic1\", \"Topic1\", \"Topic1\", \"Topic1\", \"Topic1\", \"Topic1\", \"Topic1\", \"Topic1\", \"Topic1\", \"Topic1\", \"Topic1\", \"Topic1\", \"Topic1\", \"Topic1\", \"Topic1\", \"Topic1\", \"Topic1\", \"Topic1\", \"Topic1\", \"Topic1\", \"Topic1\", \"Topic1\", \"Topic1\", \"Topic1\", \"Topic1\", \"Topic1\", \"Topic1\", \"Topic1\", \"Topic1\", \"Topic1\", \"Topic1\", \"Topic1\", \"Topic1\", \"Topic1\", \"Topic1\", \"Topic1\", \"Topic1\", \"Topic1\", \"Topic1\", \"Topic2\", \"Topic2\", \"Topic2\", \"Topic2\", \"Topic2\", \"Topic2\", \"Topic2\", \"Topic2\", \"Topic2\", \"Topic2\", \"Topic2\", \"Topic2\", \"Topic2\", \"Topic2\", \"Topic2\", \"Topic2\", \"Topic2\", \"Topic2\", \"Topic2\", \"Topic2\", \"Topic2\", \"Topic2\", \"Topic2\", \"Topic2\", \"Topic2\", \"Topic2\", \"Topic2\", \"Topic2\", \"Topic2\", \"Topic2\", \"Topic2\", \"Topic2\", \"Topic2\", \"Topic2\", \"Topic2\", \"Topic2\", \"Topic2\", \"Topic2\", \"Topic2\", \"Topic2\", \"Topic2\", \"Topic2\", \"Topic2\", \"Topic2\", \"Topic2\", \"Topic2\", \"Topic2\", \"Topic2\", \"Topic2\", \"Topic2\", \"Topic3\", \"Topic3\", \"Topic3\", \"Topic3\", \"Topic3\", \"Topic3\", \"Topic3\", \"Topic3\", \"Topic3\", \"Topic3\", \"Topic3\", \"Topic3\", \"Topic3\", \"Topic3\", \"Topic3\", \"Topic3\", \"Topic3\", \"Topic3\", \"Topic3\", \"Topic3\", \"Topic3\", \"Topic3\", \"Topic3\", \"Topic3\", \"Topic3\", \"Topic3\", \"Topic3\", \"Topic3\", \"Topic3\", \"Topic3\", \"Topic3\", \"Topic3\", \"Topic3\", \"Topic3\", \"Topic3\", \"Topic3\", \"Topic3\", \"Topic3\", \"Topic3\", \"Topic3\", \"Topic3\", \"Topic3\", \"Topic3\", \"Topic3\", \"Topic3\", \"Topic3\", \"Topic3\", \"Topic3\", \"Topic3\", \"Topic3\", \"Topic3\", \"Topic3\", \"Topic3\", \"Topic3\", \"Topic3\", \"Topic3\", \"Topic3\", \"Topic4\", \"Topic4\", \"Topic4\", \"Topic4\", \"Topic4\", \"Topic4\", \"Topic4\", \"Topic4\", \"Topic4\", \"Topic4\", \"Topic4\", \"Topic4\", \"Topic4\", \"Topic4\", \"Topic4\", \"Topic4\", \"Topic4\", \"Topic4\", \"Topic4\", \"Topic4\", \"Topic4\", \"Topic4\", \"Topic4\", \"Topic4\", \"Topic4\", \"Topic4\", \"Topic4\", \"Topic4\", \"Topic4\", \"Topic4\", \"Topic4\", \"Topic4\", \"Topic4\", \"Topic4\", \"Topic4\", \"Topic4\", \"Topic4\", \"Topic4\", \"Topic4\", \"Topic4\", \"Topic4\", \"Topic4\", \"Topic4\", \"Topic4\", \"Topic4\", \"Topic4\", \"Topic4\", \"Topic4\", \"Topic4\", \"Topic4\", \"Topic4\", \"Topic4\", \"Topic4\", \"Topic4\", \"Topic4\", \"Topic4\", \"Topic4\", \"Topic4\", \"Topic5\", \"Topic5\", \"Topic5\", \"Topic5\", \"Topic5\", \"Topic5\", \"Topic5\", \"Topic5\", \"Topic5\", \"Topic5\", \"Topic5\", \"Topic5\", \"Topic5\", \"Topic5\", \"Topic5\", \"Topic5\", \"Topic5\", \"Topic5\", \"Topic5\", \"Topic5\", \"Topic5\", \"Topic5\", \"Topic5\", \"Topic5\", \"Topic5\", \"Topic5\", \"Topic5\", \"Topic5\", \"Topic5\", \"Topic5\", \"Topic5\", \"Topic5\", \"Topic5\", \"Topic5\", \"Topic5\", \"Topic5\", \"Topic5\", \"Topic5\", \"Topic5\", \"Topic5\", \"Topic5\", \"Topic5\", \"Topic5\", \"Topic5\", \"Topic5\", \"Topic5\", \"Topic5\", \"Topic5\", \"Topic5\", \"Topic5\", \"Topic5\", \"Topic5\", \"Topic5\", \"Topic5\", \"Topic5\", \"Topic5\", \"Topic5\", \"Topic5\", \"Topic5\", \"Topic5\", \"Topic5\", \"Topic5\", \"Topic5\", \"Topic5\", \"Topic5\", \"Topic5\", \"Topic5\"], \"Term\": [\"rally\", \"nauru\", \"supremacist\", \"reshare\", \"kon__k\", \"wilsonsecurity\", \"white\", \"staff\", \"photo\", \"dressed\", \"storm\", \"time\", \"skull\", \"ross\", \"posting\", \"objected\", \"photos\", \"profile\", \"picture\", \"nazi\", \"muslims\", \"vanbadham\", \"supporters\", \"wake\", \"aussies\", \"church\", \"frbower\", \"parish\", \"artbylynettag\", \"right\", \"artbylynettag\", \"parish\", \"frbower\", \"concerns\", \"roqchams\", \"representat\", \"insists\", \"reckons\", \"attire\", \"hansonites\", \"mock\", \"isis\", \"aren\", \"representative\", \"sunday\", \"priest\", \"pester\", \"wannabe\", \"baird\", \"cops\", \"mariamveiszadeh\", \"chrismurphys\", \"clash\", \"hinch\", \"derryn\", \"embarrassing\", \"kids\", \"stormed\", \"wake\", \"representatives\", \"aussies\", \"thedrum\", \"dressed\", \"storm\", \"muslims\", \"nick\", \"paulinehanson\", \"folkes\", \"supporters\", \"church\", \"right\", \"johndory\", \"auspol\", \"physicist\", \"nation\", \"malcolm\", \"roberts\", \"supremacist\", \"reshare\", \"kon__k\", \"cory\", \"rally\", \"puerile\", \"wilsonsecurity\", \"bernardi\", \"white\", \"staff\", \"emergency\", \"defecation\", \"style\", \"demands\", \"deptofaustralia\", \"worry\", \"wilson\", \"photo\", \"johnjohnsonson\", \"important\", \"niltiac\", \"jesus\", \"western\", \"christ\", \"begun\", \"presented\", \"hoax\", \"graph\", \"electing\", \"nightmare\", \"nauru\", \"security\", \"response\", \"team\", \"blame\", \"time\", \"disturbing\", \"reclaim\", \"naurufiles\", \"door\", \"senate\", \"australia\", \"srpeatling\", \"voters\", \"johndory\", \"auspol\", \"hanson\", \"pauline\", \"toilet\", \"australian\", \"posting\", \"objected\", \"profile\", \"photos\", \"picture\", \"ross\", \"skull\", \"british\", \"stoush\", \"nazi\", \"denial\", \"raised\", \"secure\", \"ausp\", \"borders\", \"points\", \"newmatilda\", \"bigot\", \"mocks\", \"abctv\", \"particle\", \"minister\", \"responds\", \"scienceweek\", \"exaggeration\", \"vanbadham\", \"comment\", \"denier\", \"rant\", \"views\", \"takes\", \"repeatedly\", \"asks\", \"graphs\", \"grapple\", \"smackdown\", \"brings\", \"elect\", \"change\", \"climate\", \"continues\", \"deny\", \"australian\", \"profbriancox\", \"existence\", \"senator\", \"malcolm\", \"roberts\", \"hits\", \"nation\", \"freedom\", \"party\", \"stunt\", \"anti\", \"auspol\", \"islam\", \"hanson\", \"mailonline\", \"place\", \"decline\", \"christianity\", \"growth\", \"case\", \"members\", \"amdwaters\", \"dismissed\", \"bigger\", \"sbscomedy\", \"lewis\", \"trobinsonnewera\", \"debacle\", \"destroys\", \"exposes\", \"themarkjacka\", \"motion\", \"writes\", \"scaa\", \"installs\", \"ones\", \"manus\", \"fark\", \"johnwren\", \"islamophobia\", \"guardian\", \"quotethon\", \"makes\", \"ideology\", \"melbourne\", \"offices\", \"looks\", \"oxygen\", \"vote\", \"returns\", \"parliament\", \"think\", \"squat\", \"toilets\", \"worried\", \"office\", \"senators\", \"vows\", \"schools\", \"julianburnside\", \"talking\", \"concerned\", \"right\", \"like\", \"malcolm\", \"time\", \"roberts\", \"australian\", \"nation\", \"auspol\", \"hanson\", \"pauline\", \"apparentl\", \"month\", \"campaignarf\", \"delivered\", \"halalforhanson\", \"counterproductive\", \"crackpot\", \"appearing\", \"canthavepudding\", \"convinced\", \"mikecarlton\", \"shits\", \"braddybb\", \"briancox\", \"betootaadvocate\", \"mystery\", \"hardly\", \"beliefs\", \"esteemed\", \"shunned\", \"kenny\", \"hawking\", \"debates\", \"stephen\", \"rob_stott\", \"wezking\", \"mrtomhartney\", \"adambspencer\", \"seanbradbery\", \"holes\", \"articles\", \"chris\", \"tonight\", \"arrived\", \"read\", \"slams\", \"buzzfeedoz\", \"real\", \"gosford\", \"fear\", \"meet\", \"reaches\", \"qanda\", \"years\", \"hate\", \"hanson\", \"pauline\", \"brian\", \"lunch\", \"nation\", \"psyvret\", \"life\", \"malcolm\", \"australia\", \"roberts\", \"senator\", \"church\", \"toilets\", \"says\", \"group\", \"auspol\", \"muslim\", \"right\", \"supporters\", \"storm\", \"muslims\", \"squat\"], \"loglift\": [30.0, 29.0, 28.0, 27.0, 26.0, 25.0, 24.0, 23.0, 22.0, 21.0, 20.0, 19.0, 18.0, 17.0, 16.0, 15.0, 14.0, 13.0, 12.0, 11.0, 10.0, 9.0, 8.0, 7.0, 6.0, 5.0, 4.0, 3.0, 2.0, 1.0, 1.4474, 1.4474, 1.4357, 1.4197, 1.4179999999999999, 1.4093, 1.4089, 1.4076, 1.4073, 1.4072, 1.4066000000000001, 1.4065000000000001, 1.4055, 1.4045000000000001, 1.3998999999999999, 1.3956999999999999, 1.3955, 1.3954, 1.3953, 1.3948, 1.3942000000000001, 1.3940999999999999, 1.3928, 1.3871, 1.3864000000000001, 1.3857999999999999, 1.3758999999999999, 1.3724000000000001, 1.3640000000000001, 1.3597999999999999, 1.3515999999999999, 1.3243, 1.2721, 1.2502, 1.2118, 1.2905, 1.2847, 1.2874000000000001, 1.1753, 1.0640000000000001, 0.90080000000000005, 0.93679999999999997, 0.58460000000000001, 0.91610000000000003, 0.15579999999999999, -0.050099999999999999, -0.14929999999999999, 1.5147999999999999, 1.5145999999999999, 1.514, 1.5139, 1.5126999999999999, 1.5111000000000001, 1.5105999999999999, 1.5081, 1.5072000000000001, 1.5057, 1.5055000000000001, 1.5051000000000001, 1.5049999999999999, 1.5049999999999999, 1.5047999999999999, 1.5045999999999999, 1.5025999999999999, 1.5015000000000001, 1.5003, 1.4990000000000001, 1.4988999999999999, 1.4956, 1.4956, 1.4954000000000001, 1.4953000000000001, 1.4945999999999999, 1.4945999999999999, 1.4934000000000001, 1.4893000000000001, 1.4892000000000001, 1.4805999999999999, 1.4867999999999999, 1.4851000000000001, 1.4592000000000001, 1.4833000000000001, 1.2363999999999999, 1.4269000000000001, 1.2882, 1.2399, 1.4379999999999999, 0.99960000000000004, 0.7087, 1.3694999999999999, 1.2195, 0.56999999999999995, -0.023, 0.067699999999999996, 0.021399999999999999, 0.58099999999999996, -0.16339999999999999, 1.5532999999999999, 1.5531999999999999, 1.5522, 1.5517000000000001, 1.5507, 1.5491999999999999, 1.5484, 1.5396000000000001, 1.5387, 1.5348999999999999, 1.5278, 1.5226, 1.5121, 1.5121, 1.5108999999999999, 1.506, 1.5012000000000001, 1.5006999999999999, 1.4986999999999999, 1.4954000000000001, 1.4952000000000001, 1.4923999999999999, 1.4888999999999999, 1.486, 1.4857, 1.4833000000000001, 1.4784999999999999, 1.4703999999999999, 1.4695, 1.4686999999999999, 1.4686999999999999, 1.4664999999999999, 1.4624999999999999, 1.4590000000000001, 1.4542999999999999, 1.4541999999999999, 1.4540999999999999, 1.3635999999999999, 1.1984999999999999, 1.0808, 1.1114999999999999, 1.1073999999999999, 0.7621, 1.0996999999999999, 1.0058, 0.73040000000000005, 0.41830000000000001, 0.40670000000000001, 1.0651999999999999, 0.21029999999999999, 1.0533999999999999, 0.77290000000000003, 0.90539999999999998, 0.62460000000000004, -0.43190000000000001, 0.49330000000000002, -0.2898, 1.6525000000000001, 1.6406000000000001, 1.6402000000000001, 1.6395999999999999, 1.6384000000000001, 1.6377999999999999, 1.6372, 1.6355, 1.6331, 1.6308, 1.6302000000000001, 1.6256999999999999, 1.6206, 1.6201000000000001, 1.6164000000000001, 1.6161000000000001, 1.6160000000000001, 1.6154999999999999, 1.6153999999999999, 1.6120000000000001, 1.6119000000000001, 1.605, 1.5999000000000001, 1.5996999999999999, 1.5974999999999999, 1.5967, 1.5963000000000001, 1.5947, 1.5861000000000001, 1.5851999999999999, 1.5632999999999999, 1.5584, 1.5663, 1.5692999999999999, 1.5053000000000001, 1.5147999999999999, 1.4197, 1.4268000000000001, 1.2405999999999999, 1.2293000000000001, 1.4314, 1.2527999999999999, 1.4081999999999999, 1.4699, 1.4379999999999999, 1.2323, 1.2991999999999999, 1.2687999999999999, 0.27410000000000001, 1.0551999999999999, 0.23569999999999999, 0.22040000000000001, 0.1724, 0.17199999999999999, -0.069400000000000003, -0.2717, -0.16830000000000001, -0.20480000000000001, 1.7218, 1.7077, 1.7069000000000001, 1.7067000000000001, 1.7057, 1.7057, 1.7052, 1.7052, 1.7012, 1.6995, 1.6957, 1.6953, 1.6937, 1.6886000000000001, 1.6884999999999999, 1.6883999999999999, 1.6882999999999999, 1.6838, 1.6747000000000001, 1.6728000000000001, 1.6717, 1.6707000000000001, 1.6707000000000001, 1.6706000000000001, 1.6700999999999999, 1.6698999999999999, 1.667, 1.6658999999999999, 1.6651, 1.6638999999999999, 1.6625000000000001, 1.6585000000000001, 1.6064000000000001, 1.6585000000000001, 1.6375, 1.6453, 1.5306, 1.5736000000000001, 1.3724000000000001, 1.5810999999999999, 1.528, 1.3572, 0.79169999999999996, 1.2571000000000001, 1.4447000000000001, 0.45950000000000002, 0.45140000000000002, 0.65129999999999999, 1.2164999999999999, 0.1759, 1.3473999999999999, 0.90129999999999999, 0.094600000000000004, 0.39079999999999998, 0.054300000000000001, 0.34189999999999998, -0.061600000000000002, 0.25629999999999997, 0.51800000000000002, 0.88070000000000004, -0.47949999999999998, 0.68559999999999999, -0.57040000000000002, -0.46050000000000002, -0.60029999999999994, -0.67459999999999998, -0.1714], \"Freq\": [191.0, 193.0, 172.0, 172.0, 172.0, 173.0, 173.0, 173.0, 173.0, 237.0, 234.0, 201.0, 115.0, 114.0, 112.0, 112.0, 112.0, 112.0, 112.0, 116.0, 238.0, 117.0, 222.0, 117.0, 118.0, 240.0, 74.0, 68.0, 68.0, 260.0, 67.841738679229323, 68.178102528117321, 72.712509414938168, 30.843073836269649, 29.961098877790178, 52.468183848575222, 52.811048795291093, 52.704472832992387, 15.809283394562277, 70.544665762990419, 16.097860699358655, 52.649518315237316, 53.65606542601757, 52.991069184240992, 18.476369136220004, 12.736724361840155, 12.032070089983257, 12.030494218657065, 12.029241537932975, 12.260889591411443, 52.885075262702415, 12.497030003432069, 50.196529756300599, 14.565725297306875, 15.167891168322482, 50.12701314593884, 13.933892094003642, 26.936671631834038, 106.57026146391217, 8.6434072716470673, 106.12745996061106, 67.180181942723891, 197.28679554244502, 190.68170283564845, 186.22749471709847, 54.272387503213736, 57.084559239041845, 52.434457152301071, 167.64444641208624, 161.89095203339366, 149.13826888671588, 77.458131626979167, 101.68755500232228, 42.301834534648826, 64.562994556060829, 46.566654743306756, 43.013605249373974, 164.87476117156604, 164.65566242360532, 164.90964411959501, 25.896439842440163, 182.75777313767998, 30.320992805049936, 165.14361269769356, 25.964075216007206, 164.74298204855813, 164.02324652670262, 54.71973853998032, 20.414634391747555, 20.413358930903758, 20.412217457028444, 20.342755399562829, 21.206588738625179, 56.791813335535082, 164.26090733669426, 21.594884843724614, 20.326699102095422, 14.58284423355563, 21.179738870770116, 21.475702476001764, 21.430618999273989, 27.933314994243446, 11.565087956349359, 11.564446329312863, 11.724593022584198, 28.480843482021974, 27.986150330528329, 178.91340409914505, 54.749964492806761, 55.026321068379993, 54.78737835446492, 23.88185334401506, 146.05011671509794, 30.549484659406314, 52.702340022799696, 49.580007638567224, 25.511685619960431, 48.01583656020933, 52.945451527191821, 24.804895828964938, 28.492568633432878, 48.524663480944582, 50.071661941474453, 43.326622535417563, 38.811270316707983, 31.219141523754143, 34.666622167428486, 109.12837821722506, 109.12452096909134, 109.21147806193002, 109.44307337309353, 109.35628999125325, 110.86393961113183, 111.95751382719411, 23.194848565812929, 22.686604375492763, 111.35479198817363, 25.741236877842482, 21.02302652141087, 15.17832219325074, 13.473205615714221, 14.935550893246003, 15.151870417712511, 11.658960235221107, 26.052223353942921, 10.176223552487913, 14.006960313249666, 12.294605667952238, 13.807445264484418, 14.84090851026842, 14.480488800796461, 7.4000068281783991, 106.54961986841744, 12.240991928830253, 12.307555205338698, 8.5449798063508435, 21.525454096444445, 27.656457907736456, 20.923469689960523, 27.32578486832579, 23.103118712506429, 21.471235758831995, 21.468797661487365, 21.467795026930347, 42.20260411922709, 73.232164068290871, 71.730269260892939, 38.199817769368778, 38.173836434130841, 85.483974455428267, 32.538275481548482, 36.298305679353362, 53.9788975830647, 65.731979494900372, 66.268444925696656, 31.197501061139171, 60.242168329457186, 26.899968452233782, 30.977527911244941, 28.660213615676156, 27.728811410668619, 32.512078474138022, 28.040245355134143, 29.617640108263593, 48.121157965595394, 55.26724123469247, 19.725832179014748, 19.565179541543909, 19.229940813531631, 51.721048179831577, 39.588216351687912, 11.155085571363648, 25.288027167601324, 25.405444142130548, 10.357456057687939, 19.44500483215916, 21.660347538461341, 8.930925013981275, 10.868410371967206, 10.86580145766856, 8.5232816135029328, 9.3028098448632583, 9.0369063643710579, 12.446922392244403, 55.4147389351591, 6.9736998188329364, 8.3476733946457475, 7.9923158160745293, 11.029383682156489, 8.722228117683251, 8.1334236768401951, 7.6324847460994647, 14.839131159529291, 6.3150596466812781, 56.061963344873362, 57.733810411184365, 25.524087460318217, 12.66905362190707, 27.547682110560675, 21.403894188440109, 53.305106995947945, 39.077626027901751, 85.022268490469202, 79.023966329063398, 25.21116903363005, 55.321446839304748, 23.655421103410031, 18.457867298990685, 18.898469723964972, 34.084969805669949, 19.827527075216384, 20.289280194839428, 62.202302685074507, 25.268439816089661, 48.371795283391535, 45.646136612380339, 46.308609475787229, 41.851846117832217, 40.230340028651298, 33.708305044556106, 29.540038695645819, 26.720560644602855, 15.320887665175247, 12.314204166902844, 10.60751956390906, 12.715617256072191, 11.752997957186045, 12.511871223322746, 24.582664953582157, 24.581525611222087, 24.3314175467039, 19.16969057963572, 27.275616238249068, 27.46329547002874, 30.666161359619192, 9.9225765222823714, 9.5362508943421389, 14.226066483885798, 14.483348280885458, 14.539570833828838, 6.9782733908110188, 10.775037567000803, 13.211485171487224, 8.8097856831268366, 8.8092823499461197, 8.8088270946228189, 10.791859096615928, 6.6227171288130968, 8.5094880651277549, 10.161577206078025, 7.484702412740682, 9.0221903682825833, 11.040450707244844, 13.367565174882328, 27.842603668201811, 10.096099976917516, 13.184299315218986, 11.301888966194223, 31.692640325589409, 20.399330420432602, 26.830899374732617, 13.053108964167158, 14.016677702714063, 19.306733636023921, 49.833920478642902, 21.309771825182484, 15.122433648102358, 51.784320535574182, 48.190250924980909, 33.725458437424294, 18.757500868175924, 48.10932790362272, 16.325965356457441, 22.8950352956874, 39.302253110821077, 31.117759828932062, 38.503365834361773, 30.249708028740713, 38.362148943964129, 27.944388532447881, 24.074444293577113, 18.590549241075127, 25.62115709526304, 19.24243936750511, 25.01245733111713, 23.848701354831729, 21.884258845778636, 20.618130432279809, 19.384176332436837], \"Total\": [191.0, 193.0, 172.0, 172.0, 172.0, 173.0, 173.0, 173.0, 173.0, 237.0, 234.0, 201.0, 115.0, 114.0, 112.0, 112.0, 112.0, 112.0, 112.0, 116.0, 238.0, 117.0, 222.0, 117.0, 118.0, 240.0, 74.0, 68.0, 68.0, 260.0, 68.585696878600302, 68.926133118135539, 74.368554222403461, 32.055334213021354, 31.193136083190865, 55.103960463037495, 55.486069105751952, 55.445142420475968, 16.63516074376329, 74.240929374249276, 16.951478082613765, 55.446561161753053, 56.564663569893689, 55.920840069556249, 19.586893058849984, 13.559311157878458, 12.81119658925037, 12.811204942969425, 12.811212000597392, 13.064559962805967, 56.381670957274949, 13.325802563885858, 53.592991717563848, 15.640660968762305, 16.298040924017343, 53.893343014236592, 15.130948529525378, 29.35144007110819, 117.110875897097, 9.5376124452397821, 118.07572904887942, 76.810555754083111, 237.64810388984452, 234.78740902402433, 238.26888501363317, 64.183287941760497, 67.907488049505446, 62.205291051067626, 222.48421972233177, 240.13495483789211, 260.44043068257571, 130.47291745225417, 243.60075755775392, 72.746823958939302, 237.48985965387163, 210.45688422196463, 214.65624133413058, 172.33963190776373, 172.14418456898971, 172.51408734577362, 27.092263834599375, 191.42382616501604, 31.808628442771624, 173.34047304654615, 27.321059427288226, 173.5116766638514, 173.00842871089256, 57.729873817893747, 21.546500545680374, 21.546544444898419, 21.546564776759354, 21.477059941572094, 22.393885431558299, 60.091960288804358, 173.99059675782277, 22.900434760444703, 21.584781512854128, 15.486085551411518, 22.566962535267585, 22.882932210422641, 22.83891530742585, 29.77337689535328, 12.334844790191681, 12.334871682720133, 12.52055990116588, 30.537990105176508, 30.011773618055752, 193.51630200229548, 58.85221503625386, 59.246770915342431, 60.541491863675695, 25.760939181470228, 201.66543750898694, 34.864540012014295, 69.096189559764412, 68.218073062478624, 28.793183016032046, 84.011881201898021, 123.9156732326741, 29.981905268858036, 40.013544478017607, 130.47291745225417, 243.60075755775392, 192.51151434182404, 180.61367036948866, 83.016819578686864, 194.07205047612834, 112.3119102125536, 112.31191054511939, 112.51594756401121, 112.8065994449391, 112.83542118747725, 114.56548415743997, 115.78173541365641, 24.198700142926146, 23.691712200019612, 116.72386835219021, 27.174912382249818, 22.310667463431976, 16.276759878924164, 14.449366933421636, 16.03573969147185, 16.348866389934027, 12.640321340076387, 28.259112048730621, 11.060339586445233, 15.275003250782969, 13.409322637011885, 15.101420203205913, 16.289511855511325, 15.940014621325565, 8.1483441044650142, 117.60565159654043, 13.575900965263479, 13.760343860231229, 9.5624029211537085, 24.107096932794921, 30.975564706831744, 23.486157486928295, 30.796377336177542, 26.126808592275935, 24.397056348752763, 24.3970265618387, 24.397003848898173, 52.506225880020224, 107.45890322604832, 118.40588601021568, 61.151648587982436, 61.358782491474251, 194.07205047612834, 52.705046455425617, 64.588008324402779, 126.49000206217437, 210.45688422196463, 214.65624133413058, 52.309342160320789, 237.48985965387163, 45.637548522343764, 69.571458664703783, 56.379113172483684, 72.232857668790658, 243.60075755775392, 83.291975400138554, 192.51151434182404, 50.771301392965768, 59.008993836055481, 21.069833701853629, 20.911727518337219, 20.576346180471692, 55.376334706141897, 42.410625889641544, 11.970679637113582, 27.204050512358588, 27.393691830527771, 11.173876848503264, 21.073847791533669, 23.594516162907233, 9.7334010926975925, 11.888941896372165, 11.888906161762755, 9.3267281170194085, 10.185517254743049, 9.8945442013816116, 13.674926763718821, 60.891124465326016, 7.715476149829998, 9.2829765548791006, 8.8898988381662338, 12.295371203212357, 9.7310773298916668, 9.0774590244923541, 8.5319480967455057, 16.730594737422884, 7.1268715354323646, 64.669032294547208, 66.925544142387707, 29.353722148183198, 14.527191891055319, 33.675347422453655, 25.915750439378186, 70.984178276643021, 51.669429066304026, 135.43212068356846, 127.29846748971141, 33.181861322415102, 87.045037442208908, 31.864949870719823, 23.375563551511306, 24.709909600087851, 54.745491998253286, 29.785151950990645, 31.41819474873261, 260.44043068257571, 48.445839639948574, 210.45688422196463, 201.66543750898694, 214.65624133413058, 194.07205047612834, 237.48985965387163, 243.60075755775392, 192.51151434182404, 180.61367036948866, 16.119582516475571, 13.139959771398898, 11.327440909950086, 13.581071240218712, 12.565361010655209, 13.377214504744863, 26.295246730993828, 26.2952801718986, 26.132653465740944, 20.6237265366942, 29.455465382623771, 29.670440253678546, 33.182574813994961, 10.791841055937287, 10.372847344452577, 15.475300330692745, 15.756470606194158, 15.889953074487311, 7.6959580686819171, 11.905909907978966, 14.613869362585252, 9.7544358488921254, 9.7544441011192458, 9.7544355951520991, 11.956476833749964, 7.3390412494450903, 9.4570844013933808, 11.305244667547829, 8.3340733658292852, 10.057488025823403, 12.324911629177517, 14.982320670772523, 32.875202351891353, 11.31586393440822, 15.090544327261286, 12.836343364522373, 40.369787307010952, 24.889975002904517, 40.034692007032881, 15.808515166280351, 17.900945733778304, 29.248714809654754, 132.8930775572799, 35.682988104947569, 20.99059871537483, 192.51151434182404, 180.61367036948866, 103.49330945383406, 32.709613532585472, 237.48985965387163, 24.975710897106246, 54.719061734744344, 210.45688422196463, 123.9156732326741, 214.65624133413058, 126.49000206217437, 240.13495483789211, 127.29846748971141, 84.412345495771362, 45.355297626039558, 243.60075755775392, 57.061690379094557, 260.44043068257571, 222.48421972233177, 234.78740902402433, 238.26888501363317, 135.43212068356846], \"logprob\": [30.0, 29.0, 28.0, 27.0, 26.0, 25.0, 24.0, 23.0, 22.0, 21.0, 20.0, 19.0, 18.0, 17.0, 16.0, 15.0, 14.0, 13.0, 12.0, 11.0, 10.0, 9.0, 8.0, 7.0, 6.0, 5.0, 4.0, 3.0, 2.0, 1.0, -4.4736000000000002, -4.4686000000000003, -4.4042000000000003, -5.2618, -5.2907999999999999, -4.7305000000000001, -4.7240000000000002, -4.726, -5.9301000000000004, -4.4344999999999999, -5.9120999999999997, -4.7271000000000001, -4.7081, -4.7206000000000001, -5.7742000000000004, -6.1462000000000003, -6.2031999999999998, -6.2032999999999996, -6.2034000000000002, -6.1843000000000004, -4.7225999999999999, -6.1651999999999996, -4.7747999999999999, -6.0121000000000002, -5.9715999999999996, -4.7762000000000002, -6.0564, -5.3971999999999998, -4.0218999999999996, -6.5339, -4.0260999999999996, -4.4833999999999996, -3.4060999999999999, -3.4401000000000002, -3.4638, -4.6966999999999999, -4.6462000000000003, -4.7312000000000003, -3.5689000000000002, -3.6038000000000001, -3.6859000000000002, -4.3410000000000002, -4.0688000000000004, -4.9459, -4.5231000000000003, -4.8498999999999999, -4.9291999999999998, -3.4847999999999999, -3.4861, -3.4845999999999999, -5.3358999999999996, -3.3818000000000001, -5.1780999999999997, -3.4830999999999999, -5.3331999999999997, -3.4855999999999998, -3.4900000000000002, -4.5876999999999999, -5.5736999999999997, -5.5738000000000003, -5.5738000000000003, -5.5772000000000004, -5.5355999999999996, -4.5506000000000002, -3.4885000000000002, -5.5175000000000001, -5.5780000000000003, -5.9100999999999999, -5.5369000000000002, -5.5229999999999997, -5.5251000000000001, -5.2601000000000004, -6.1420000000000003, -6.1420000000000003, -6.1283000000000003, -5.2407000000000004, -5.2583000000000002, -3.4030999999999998, -4.5872000000000002, -4.5820999999999996, -4.5865, -5.4168000000000003, -3.6059999999999999, -5.1706000000000003, -4.6253000000000002, -4.6863999999999999, -5.3507999999999996, -4.7183999999999999, -4.6207000000000003, -5.3788999999999998, -5.2403000000000004, -4.7079000000000004, -4.6764999999999999, -4.8212000000000002, -4.9311999999999996, -5.1489000000000003, -5.0442, -3.8744999999999998, -3.8744999999999998, -3.8736999999999999, -3.8715999999999999, -3.8723999999999998, -3.8586999999999998, -3.8489, -5.4230999999999998, -5.4451999999999998, -3.8542999999999998, -5.3189000000000002, -5.5213999999999999, -5.8471000000000002, -5.9663000000000004, -5.8632, -5.8489000000000004, -6.1109, -5.3068999999999997, -6.2469000000000001, -5.9273999999999996, -6.0578000000000003, -5.9417999999999997, -5.8696000000000002, -5.8941999999999997, -6.5655000000000001, -3.8984000000000001, -6.0621999999999998, -6.0568, -6.4215999999999998, -5.4977999999999998, -5.2470999999999997, -5.5260999999999996, -5.2591999999999999, -5.4269999999999996, -5.5003000000000002, -5.5004, -5.5004, -4.8244999999999996, -4.2733999999999996, -4.2941000000000003, -4.9241999999999999, -4.9248000000000003, -4.1186999999999996, -5.0846, -4.9752000000000001, -4.5784000000000002, -4.3814000000000002, -4.3733000000000004, -5.1266999999999996, -4.4686000000000003, -5.2748999999999997, -5.1337000000000002, -5.2115, -5.2445000000000004, -5.0853999999999999, -5.2332999999999998, -5.1786000000000003, -4.5692000000000004, -4.4306999999999999, -5.4610000000000003, -5.4691000000000001, -5.4863999999999997, -4.4969999999999999, -4.7644000000000002, -6.0309999999999997, -5.2126000000000001, -5.2079000000000004, -6.1052, -5.4752999999999998, -5.3673999999999999, -6.2534000000000001, -6.0570000000000004, -6.0572999999999997, -6.3000999999999996, -6.2126000000000001, -6.2416, -5.9214000000000002, -4.4279999999999999, -6.5007000000000001, -6.3209, -6.3643999999999998, -6.0423, -6.2770000000000001, -6.3468999999999998, -6.4104999999999999, -5.7455999999999996, -6.5999999999999996, -4.4164000000000003, -4.3871000000000002, -5.2032999999999996, -5.9036999999999997, -5.1269999999999998, -5.3792999999999997, -4.4668999999999999, -4.7773000000000003, -4.0, -4.0731000000000002, -5.2156000000000002, -4.4297000000000004, -5.2793000000000001, -5.5274000000000001, -5.5038, -4.9139999999999997, -5.4558, -5.4328000000000003, -4.3125, -5.2133000000000003, -4.5640000000000001, -4.6219999999999999, -4.6075999999999997, -4.7088000000000001, -4.7483000000000004, -4.9252000000000002, -5.0571000000000002, -5.1574999999999998, -5.6471999999999998, -5.8657000000000004, -6.0148999999999999, -5.8335999999999997, -5.9123000000000001, -5.8497000000000003, -5.1744000000000003, -5.1744000000000003, -5.1847000000000003, -5.4230999999999998, -5.0704000000000002, -5.0636000000000001, -4.9532999999999996, -6.0815999999999999, -6.1212999999999997, -5.7214, -5.7034000000000002, -5.6996000000000002, -6.4336000000000002, -5.9992000000000001, -5.7953000000000001, -6.2005999999999997, -6.2005999999999997, -6.2007000000000003, -5.9976000000000003, -6.4859, -6.2351999999999999, -6.0578000000000003, -6.3635999999999999, -6.1767000000000003, -5.9748999999999999, -5.7835999999999999, -5.0499000000000001, -6.0643000000000002, -5.7973999999999997, -5.9515000000000002, -4.9203000000000001, -5.3609, -5.0869, -5.8074000000000003, -5.7362000000000002, -5.4160000000000004, -4.4676999999999998, -5.3173000000000004, -5.6601999999999997, -4.4292999999999996, -4.5012999999999996, -4.8582000000000001, -5.4447999999999999, -4.5030000000000001, -5.5837000000000003, -5.2454999999999998, -4.7050999999999998, -4.9386000000000001, -4.7256999999999998, -4.9668999999999999, -4.7294, -5.0461999999999998, -5.1952999999999996, -5.4538000000000002, -5.133, -5.4192999999999998, -5.1570999999999998, -5.2046999999999999, -5.2907000000000002, -5.3502999999999998, -5.4119999999999999]}};\n",
       "\n",
       "function LDAvis_load_lib(url, callback){\n",
       "  var s = document.createElement('script');\n",
       "  s.src = url;\n",
       "  s.async = true;\n",
       "  s.onreadystatechange = s.onload = callback;\n",
       "  s.onerror = function(){console.warn(\"failed to load library \" + url);};\n",
       "  document.getElementsByTagName(\"head\")[0].appendChild(s);\n",
       "}\n",
       "\n",
       "if(typeof(LDAvis) !== \"undefined\"){\n",
       "   // already loaded: just create the visualization\n",
       "   !function(LDAvis){\n",
       "       new LDAvis(\"#\" + \"ldavis_el219609626360807354159885\", ldavis_el219609626360807354159885_data);\n",
       "   }(LDAvis);\n",
       "}else if(typeof define === \"function\" && define.amd){\n",
       "   // require.js is available: use it to load d3/LDAvis\n",
       "   require.config({paths: {d3: \"https://cdnjs.cloudflare.com/ajax/libs/d3/3.5.5/d3.min\"}});\n",
       "   require([\"d3\"], function(d3){\n",
       "      window.d3 = d3;\n",
       "      LDAvis_load_lib(\"https://cdn.rawgit.com/bmabey/pyLDAvis/files/ldavis.v1.0.0.js\", function(){\n",
       "        new LDAvis(\"#\" + \"ldavis_el219609626360807354159885\", ldavis_el219609626360807354159885_data);\n",
       "      });\n",
       "    });\n",
       "}else{\n",
       "    // require.js not available: dynamically load d3 & LDAvis\n",
       "    LDAvis_load_lib(\"https://cdnjs.cloudflare.com/ajax/libs/d3/3.5.5/d3.min.js\", function(){\n",
       "         LDAvis_load_lib(\"https://cdn.rawgit.com/bmabey/pyLDAvis/files/ldavis.v1.0.0.js\", function(){\n",
       "                 new LDAvis(\"#\" + \"ldavis_el219609626360807354159885\", ldavis_el219609626360807354159885_data);\n",
       "            })\n",
       "         });\n",
       "}\n",
       "</script>"
      ],
      "text/plain": [
       "<IPython.core.display.HTML object>"
      ]
     },
     "execution_count": 18,
     "metadata": {},
     "output_type": "execute_result"
    }
   ],
   "source": [
    "vis_data = pyLDAvis.gensim.prepare(lda_model, corpus_tfidf, dictionary)\n",
    "pyLDAvis.display(vis_data)"
   ]
  },
  {
   "cell_type": "markdown",
   "metadata": {},
   "source": [
    "Each circle on the left represent a topic, while on the left shows the frequent keywords within a highlighted/selected topic.  \n",
    "The lambda slider is used to adjust the relevence/ranking terms within a topic, a ratio between the term frequency in a topic and overall in the data set. Study shows 0.6 to be the optimal value for correctly identifing a topic, however this can be data-dependant.  \n",
    "\n",
    "See Sievert & Shirley (2014) for details (http://nlp.stanford.edu/events/illvi2014/papers/sievert-illvi2014.pdf)."
   ]
  },
  {
   "cell_type": "markdown",
   "metadata": {},
   "source": [
    "\n",
    "\n",
    "\n",
    "\n",
    "\n",
    "\n",
    "### Modelling with sentiment taking into account\n",
    "\n",
    "### (A) Positive sentiment"
   ]
  },
  {
   "cell_type": "code",
   "execution_count": 19,
   "metadata": {
    "collapsed": true
   },
   "outputs": [],
   "source": [
    "words_onp_pos = []\n",
    "\n",
    "# = 0\n",
    "for index, row in df.iterrows():\n",
    "    if (row['sentiment_afinn'] > 0):\n",
    "        text = row['text']\n",
    "        text = remove_junk(text)\n",
    "        tokens = split_wd(text, sw)\n",
    "        words_onp_pos.append(tokens)\n",
    "#   n += 1\n",
    "#   if n >= 10:\n",
    "#       break"
   ]
  },
  {
   "cell_type": "markdown",
   "metadata": {},
   "source": [
    "#### Vectorize the word tokens"
   ]
  },
  {
   "cell_type": "code",
   "execution_count": 20,
   "metadata": {
    "collapsed": false
   },
   "outputs": [],
   "source": [
    "# first assign IDs to the tokens\n",
    "dictionary_pos = gensim.corpora.Dictionary(words_onp_pos)\n",
    "# remove tokens only appear once\n",
    "once_pos = [token_id for token_id, docfreq in dictionary_pos.dfs.iteritems() if docfreq == 1]\n",
    "dictionary_pos.filter_tokens(once_pos)\n",
    "dictionary_pos.compactify()\n",
    "dictionary_pos.save('models/onp_pos_tm.dict')\n",
    "#print(dictionary)\n",
    "\n",
    "# now convert to vectors\n",
    "corpus_pos = [dictionary_pos.doc2bow(t) for t in words_onp_pos]\n",
    "gensim.corpora.MmCorpus.serialize('models/onp_pos_tm.mm', corpus_pos)\n",
    "#print(corpus)"
   ]
  },
  {
   "cell_type": "markdown",
   "metadata": {},
   "source": [
    "#### Prepare the model\n",
    "\n",
    "Initialize a model, do not modify valuable tfidf from now on.  \n",
    "tfidf - Term Frequency * Inverse Document Frequency"
   ]
  },
  {
   "cell_type": "code",
   "execution_count": 21,
   "metadata": {
    "collapsed": true
   },
   "outputs": [],
   "source": [
    "tfidf_pos = gensim.models.TfidfModel(corpus_pos)\n",
    "tfidf_pos.save('models/onp_pos_tm.tfidf')\n",
    "\n",
    "# put a model wrapper around corpus\n",
    "corpus_tfidf_pos = tfidf_pos[corpus_pos]\n",
    "gensim.corpora.MmCorpus.serialize('models/onp_pos_tm.mm_corpus_tfidf', corpus_tfidf_pos)\n",
    "#for doc in corpus_tfidf:\n",
    "#    print(doc)"
   ]
  },
  {
   "cell_type": "code",
   "execution_count": 34,
   "metadata": {
    "collapsed": true
   },
   "outputs": [],
   "source": [
    "# number of topics to model\n",
    "n_topics = 5"
   ]
  },
  {
   "cell_type": "markdown",
   "metadata": {},
   "source": [
    "#### Use Latent Dirichlet Allocation (LDA) model\n",
    "\n",
    "#### 1. with online LDA"
   ]
  },
  {
   "cell_type": "code",
   "execution_count": 35,
   "metadata": {
    "collapsed": false
   },
   "outputs": [],
   "source": [
    "lda_model_pos = gensim.models.ldamodel.LdaModel(corpus=corpus_tfidf_pos, id2word=dictionary_pos, \n",
    "                                                num_topics=n_topics, \n",
    "                                                update_every=1, chunksize=10000, passes=5)"
   ]
  },
  {
   "cell_type": "markdown",
   "metadata": {},
   "source": [
    "#### 2. or batch LDA, no online updates   \n",
    "\n",
    "lda_model = gensim.models.ldamodel.LdaModel(corpus=corpus_tfidf, id2word=dictionary, num_topics=n_topics, update_every=0, passes=20)"
   ]
  },
  {
   "cell_type": "markdown",
   "metadata": {},
   "source": [
    "#### Now save the model"
   ]
  },
  {
   "cell_type": "code",
   "execution_count": 36,
   "metadata": {
    "collapsed": false
   },
   "outputs": [],
   "source": [
    "lda_model_pos.save('models/onp_pos_tm.lda')"
   ]
  },
  {
   "cell_type": "markdown",
   "metadata": {},
   "source": [
    "#### Visualise the model with pyLDAvis\n",
    "\n",
    "To load preivous saved model from disk:  \n",
    "\n",
    "dictionary = gensim.corpora.Dictionary.load('models/onp_pos_tm.dict')  \n",
    "corpus_tfidf = gensim.corpora.MmCorpus('models/onp_pos_tm.mm_corpus_tfidf')  \n",
    "lda_model = gensim.models.ldamodel.LdaModel.load('models/onp_pos_tm.lda')"
   ]
  },
  {
   "cell_type": "code",
   "execution_count": 37,
   "metadata": {
    "collapsed": false
   },
   "outputs": [
    {
     "data": {
      "text/html": [
       "\n",
       "<link rel=\"stylesheet\" type=\"text/css\" href=\"https://cdn.rawgit.com/bmabey/pyLDAvis/files/ldavis.v1.0.0.css\">\n",
       "\n",
       "\n",
       "<div id=\"ldavis_el219603048307685563769686\"></div>\n",
       "<script type=\"text/javascript\">\n",
       "\n",
       "var ldavis_el219603048307685563769686_data = {\"plot.opts\": {\"xlab\": \"PC1\", \"ylab\": \"PC2\"}, \"topic.order\": [4, 1, 5, 2, 3], \"token.table\": {\"Topic\": [2, 4, 5, 1, 2, 3, 4, 2, 5, 1, 3, 1, 3, 1, 1, 2, 3, 4, 5, 1, 3, 4, 5, 1, 2, 3, 4, 5, 4, 2, 2, 3, 4, 5, 3, 1, 2, 4, 5, 2, 1, 2, 2, 2, 1, 3, 5, 5, 4, 5, 1, 2, 3, 4, 5, 4, 3, 2, 5, 4, 2, 2, 4, 2, 4, 5, 2, 5, 3, 1, 2, 3, 4, 5, 3, 1, 2, 5, 2, 5, 5, 2, 4, 5, 2, 3, 5, 2, 4, 1, 4, 1, 3, 2, 5, 4, 4, 1, 3, 1, 2, 3, 4, 5, 1, 2, 4, 1, 5, 2, 5, 4, 1, 2, 3, 4, 5, 3, 3, 2, 5, 2, 5, 1, 1, 2, 5, 5, 4, 3, 4, 1, 5, 1, 5, 4, 2, 4, 5, 3, 3, 5, 5, 1, 5, 4, 3, 5, 2, 5, 2, 4, 5, 1, 1, 2, 3, 4, 5, 3, 4, 1, 1, 3, 4, 1, 1, 2, 3, 4, 5, 5, 3, 1, 5, 3, 1, 1, 3, 4, 1, 2, 3, 4, 5, 4, 1, 2, 3, 4, 5, 2, 5, 1, 4, 5, 4, 4, 1, 4, 5, 4, 1, 4, 4, 1, 3, 2, 3, 5, 1, 2, 3, 4, 5, 1, 4, 5, 2, 5, 1, 2, 1, 2, 1, 1, 2, 5, 1, 2, 4, 1, 3, 3, 1, 2, 3, 4, 5, 3, 3, 5, 1, 3, 4, 5, 2, 3, 5, 4, 5, 1, 2, 3, 4, 5, 2, 1, 2, 3, 4, 5, 1, 2, 3, 5, 3, 2, 5, 5, 1, 2, 5, 5, 2, 3, 4, 5, 1, 2, 3, 4, 5, 4, 3, 2, 1, 2, 3, 5, 3, 2, 5, 1, 2, 3, 4, 5, 4, 3, 2, 5, 2, 2, 4, 5, 4, 5, 1, 2, 3, 4, 5, 1, 2, 4, 5, 2, 2, 3, 4, 5, 1, 2, 3, 4, 5, 1, 2, 3, 5, 5, 1, 2, 5, 5, 1, 4, 5, 1, 5, 1, 1, 1, 5, 5, 2, 1, 3, 4, 5, 3, 2, 3, 5, 3, 5, 2, 3, 1, 2, 5, 3, 3, 1, 2, 2, 4, 5], \"Freq\": [0.86242031435271871, 0.8069540546248446, 0.85859271876514109, 0.066708275367943243, 0.86720757978326213, 0.78338793432871512, 0.93260426985428801, 0.92164651182108459, 0.038401937992545189, 0.92509584551926805, 0.066078274679947716, 0.015181826542554766, 0.971636898723505, 0.93655727050177373, 0.17844993819216215, 0.10197139325266409, 0.57358908704623557, 0.089224969096081075, 0.063732120782915055, 0.82688473211067992, 0.075171339282789087, 0.093964174103486356, 0.018792834820697272, 0.40352814441118379, 0.16141125776447351, 0.24211688664671027, 0.040352814441118379, 0.16141125776447351, 0.80919919350789227, 0.91204327494945059, 0.75441982427682797, 0.068583620388802544, 0.068583620388802544, 0.068583620388802544, 0.93497139043264255, 0.94888953312199287, 0.76948213647696295, 0.10992601949670899, 0.054963009748354497, 0.88011071320725875, 0.76850561267443152, 0.1537011225348863, 0.90113052633738144, 0.83715313400722191, 0.85602950467912686, 0.061144964619937632, 0.061144964619937632, 0.75331654376002866, 0.84835272199650202, 0.75331473458451992, 0.73953300807795519, 0.066368346878790854, 0.047405962056279179, 0.13273669375758171, 0.0094811924112558361, 0.84835123364669907, 0.75676944351243081, 0.93994114644334226, 0.79662206626002219, 0.93436695366349798, 0.93052300894744377, 0.85933408683725576, 0.89331098962773892, 0.94937992285411243, 0.84246873864375238, 0.10530859233046905, 0.85669042457983002, 0.10708630307247875, 0.87310655283797578, 0.66670408511568302, 0.0086584946118919877, 0.27707182758054361, 0.043292473059459935, 0.0086584946118919877, 0.84084744100537834, 0.87396758704343802, 0.072830632253619826, 0.86161421938536042, 0.92153432382048062, 0.083775847620043697, 0.75331737683253874, 0.12666355631321435, 0.12666355631321435, 0.63331778156607177, 0.94938111052966367, 0.72998701981419334, 0.70130247063226248, 0.15442349920819581, 0.77211749604097912, 0.96491161267153225, 0.91152200729296573, 0.014789578503453985, 0.97611218122796295, 0.87628376274940589, 0.07966216024994599, 0.89331415220399069, 0.93842906461325337, 0.88127706822895602, 0.68156169459056226, 0.57712292721229907, 0.038474861814153272, 0.076949723628306543, 0.076949723628306543, 0.19237430907076636, 0.67992729227353965, 0.056660607689461642, 0.22664243075784657, 0.32741785766212117, 0.54569642943686858, 0.25030128100335275, 0.62575320250838196, 0.93442375658335342, 0.43983057440302253, 0.14661019146767418, 0.20525426805474387, 0.087966114880604504, 0.087966114880604504, 0.84530385089257432, 0.64267745939857945, 0.93053342553227114, 0.79190129298184708, 0.94051642531023705, 0.04478649644334462, 0.77632858435724761, 0.10223864042386502, 0.30671592127159503, 0.51119320211932506, 0.74855668741814485, 0.90440651262683269, 0.87534279251307412, 0.85344227439310161, 0.86790179073258533, 0.078900162793871395, 0.83086549928188869, 0.75331383493466575, 0.75823820277990561, 0.88121614347576094, 0.041962673498845762, 0.041962673498845762, 0.8603687497338367, 0.67548205601490918, 0.75331743977005372, 0.7738222637694675, 0.89500274430074478, 0.77629738922945069, 0.81456599042700961, 0.79403521041639757, 0.19850880260409939, 0.90242313480906033, 0.77741144350825131, 0.21008258609282857, 0.63024775827848567, 0.10504129304641428, 0.83086839966381776, 0.073079822790606486, 0.21923946837181948, 0.10961973418590974, 0.10961973418590974, 0.47501884813894218, 0.84084850842907077, 0.90179321637772425, 0.85354260231138668, 0.041328806289349686, 0.041328806289349686, 0.9092337383656931, 0.86285074555428443, 0.030142080739108259, 0.51241537256484038, 0.060284161478216518, 0.12056832295643304, 0.30142080739108257, 0.74855081918372013, 0.71130392162419809, 0.14164910118534224, 0.70824550592671121, 0.84084852281894551, 0.88243789647352955, 0.040285118977608836, 0.040285118977608836, 0.88627261750739439, 0.64580154801130341, 0.008846596548100048, 0.28309108953920153, 0.053079579288600284, 0.008846596548100048, 0.95121271209329994, 0.082548912956934076, 0.30955842358850277, 0.082548912956934076, 0.3301956518277363, 0.18573505415310168, 0.14025347805794428, 0.70126739028972129, 0.070716370885972685, 0.7778800797456995, 0.14143274177194537, 0.9101542933888167, 0.81283692602485391, 0.80579793011047185, 0.85307527705394792, 0.91019565621373655, 0.76336523140397949, 0.87074991929497136, 0.12439284561356734, 0.91454119837619197, 0.015119739849764433, 0.96766335038492368, 0.81361285181542431, 0.035374471818061921, 0.10612341545418577, 0.44157394272318373, 0.13586890545328731, 0.20380335817993095, 0.13586890545328731, 0.10190167908996547, 0.79621136223537636, 0.07238285111230694, 0.14476570222461388, 0.21095427714536266, 0.70318092381787556, 0.876657900342936, 0.07969617275844873, 0.86327633837425011, 0.84143364894490436, 0.9488969682890851, 0.81301557502342536, 0.081301557502342539, 0.081301557502342539, 0.49718741991906973, 0.062148427489883716, 0.43503899242918603, 0.92509354206059369, 0.066078110147185259, 0.81610206715722633, 0.035114528390701838, 0.35114528390701838, 0.1053435851721055, 0.35114528390701838, 0.17557264195350919, 0.91179956457480849, 0.83960416762983936, 0.85859111406901067, 0.041704657882110814, 0.041704657882110814, 0.79238849976010539, 0.12511397364633242, 0.85748023010150476, 0.057165348673433654, 0.057165348673433654, 0.92273291685879699, 0.85484088741753517, 0.85281318545533846, 0.0095821706230936905, 0.047910853115468451, 0.067075194361655835, 0.019164341246187381, 0.89817638998911575, 0.029700640261039263, 0.50491088443766752, 0.059401280522078527, 0.11880256104415705, 0.29700640261039263, 0.90435881649140004, 0.12279713402753532, 0.12279713402753532, 0.61398567013767669, 0.91760824602207436, 0.93037819329995908, 0.89291687742010417, 0.93512964057573711, 0.93553602207022579, 0.87632632931757892, 0.84945256703955208, 0.74855287189007513, 0.68579175706382167, 0.052753212081832437, 0.052753212081832437, 0.26376606040916217, 0.036831178571427425, 0.58929885714283881, 0.073662357142854851, 0.1473247142857097, 0.18415589285713713, 0.85344215907000054, 0.66225727833071468, 0.9320811867359956, 0.037970687298136359, 0.75941374596272715, 0.037970687298136359, 0.18985343649068179, 0.702173476178931, 0.89467262519439228, 0.11183407814929903, 0.65970757724826756, 0.0086803628585298363, 0.27777161147295476, 0.052082177151179014, 0.0086803628585298363, 0.91398725194814634, 0.68907875196238533, 0.92226430726405684, 0.046113215363202842, 0.93994033223811801, 0.54125233499311731, 0.20296962562241899, 0.20296962562241899, 0.83599068721035585, 0.13933178120172596, 0.63643306499539276, 0.0090919009285056109, 0.26366512692666272, 0.081827108356550493, 0.0090919009285056109, 0.10312888838693263, 0.10312888838693263, 0.61877333032159576, 0.10312888838693263, 0.88730341924191314, 0.15948274150374195, 0.15948274150374195, 0.55818959526309686, 0.079741370751870974, 0.72184373223235321, 0.14934697908255584, 0.024891163180425974, 0.074673489541277921, 0.024891163180425974, 0.015081186950129707, 0.045243560850389122, 0.93503359090804194, 0.87506408051577633, 0.87319965726381876, 0.048679431488286629, 0.6815120408360128, 0.24339715744143317, 0.74854985553988174, 0.83086476348404603, 0.85901837439174811, 0.80376577243400604, 0.83087020813226253, 0.80533792086925926, 0.8979588464637841, 0.71195072007321347, 0.78730579352833185, 0.89065585887950027, 0.81521631718496024, 0.85933549667687759, 0.82729431003663523, 0.075208573639694118, 0.094010717049617637, 0.018802143409923529, 0.84084880981736099, 0.41486275861808553, 0.29633054187006108, 0.23706443349604886, 0.72313434719239544, 0.9188609366256858, 0.8257090267368421, 0.84023908859270335, 0.93656176222618492, 0.12657276293886668, 0.75943657763320005, 0.70217529161962111, 0.87534580732245215, 0.078611866820644166, 0.86473053502708586, 0.85080160855983722, 0.070900134046653102, 0.070900134046653102], \"Term\": [\"abcthedrum\", \"absolute\", \"activity\", \"actually\", \"actually\", \"ahmadiyyatimes\", \"ameliaadams\", \"anti\", \"anti\", \"apparentl\", \"apparentl\", \"artbylynettag\", \"artbylynettag\", \"ausp\", \"auspol\", \"auspol\", \"auspol\", \"auspol\", \"auspol\", \"aussies\", \"aussies\", \"aussies\", \"aussies\", \"australia\", \"australia\", \"australia\", \"australia\", \"australia\", \"bernadi\", \"betootaadvocate\", \"better\", \"better\", \"better\", \"better\", \"biseahmed\", \"borders\", \"brian\", \"brian\", \"brian\", \"briancox\", \"brisbanetimes\", \"brisbanetimes\", \"buzzfeedoz\", \"campaign\", \"canberratimes\", \"canberratimes\", \"canberratimes\", \"cater\", \"central\", \"chain\", \"church\", \"church\", \"church\", \"church\", \"church\", \"coast\", \"committed\", \"concerning\", \"condemn\", \"confirms\", \"convinced\", \"courtesy\", \"creti\", \"days\", \"dear\", \"dear\", \"derryn\", \"derryn\", \"doammuslims\", \"dressed\", \"dressed\", \"dressed\", \"dressed\", \"dressed\", \"drops\", \"dutton\", \"dutton\", \"elect\", \"election\", \"election\", \"employees\", \"enjoy\", \"enjoy\", \"enjoy\", \"esteemed\", \"evidence\", \"excited\", \"fabulous\", \"fabulous\", \"flatearthgang\", \"folkes\", \"frbower\", \"frbower\", \"freedom\", \"freedom\", \"fuchujim\", \"gift\", \"glad\", \"global\", \"good\", \"good\", \"good\", \"good\", \"good\", \"gosford\", \"gosford\", \"gosford\", \"government\", \"government\", \"great\", \"great\", \"group\", \"hanson\", \"hanson\", \"hanson\", \"hanson\", \"hanson\", \"heckliar\", \"hermakit\", \"hinch\", \"hippopeteamus\", \"hits\", \"hits\", \"honored\", \"hope\", \"hope\", \"hope\", \"human\", \"ianhartley_\", \"idiocy\", \"idiotic\", \"immigration\", \"immigration\", \"incomprehensibility\", \"installed\", \"invite\", \"islam\", \"islam\", \"islam\", \"islamophobia\", \"itsbouquet\", \"jerked\", \"johndory\", \"johnwren\", \"joke\", \"josietaylor\", \"julianburnside\", \"julianburnside\", \"laugh\", \"laughed\", \"leader\", \"leader\", \"leader\", \"levels\", \"like\", \"like\", \"like\", \"like\", \"like\", \"liners\", \"linessue\", \"loud_lass\", \"lunch\", \"lunch\", \"lunch\", \"making\", \"malcolm\", \"malcolm\", \"malcolm\", \"malcolm\", \"malcolm\", \"marcfennell\", \"mass\", \"mickkime\", \"mickkime\", \"mike\", \"minister\", \"muslim\", \"muslim\", \"muslim\", \"muslims\", \"muslims\", \"muslims\", \"muslims\", \"muslims\", \"myknittingwool\", \"nation\", \"nation\", \"nation\", \"nation\", \"nation\", \"needs\", \"needs\", \"news\", \"news\", \"news\", \"newssyd\", \"nick\", \"nickevershed\", \"night\", \"nobby\", \"office\", \"onenation\", \"onenation\", \"ozgitano\", \"parish\", \"parish\", \"party\", \"party\", \"party\", \"pauline\", \"pauline\", \"pauline\", \"pauline\", \"pauline\", \"paulinehansonoz\", \"paulinehansonoz\", \"paulinehansonoz\", \"people\", \"people\", \"peter\", \"peter\", \"petstarr\", \"photo\", \"points\", \"politician\", \"politician\", \"politician\", \"politicsfairfax\", \"politicsfairfax\", \"politicsfairfax\", \"psyvret\", \"psyvret\", \"pure\", \"qanda\", \"qanda\", \"qanda\", \"qanda\", \"qanda\", \"qldaah\", \"queensland\", \"quick\", \"reaches\", \"reaches\", \"reaches\", \"reaches\", \"real\", \"real\", \"real\", \"renowned\", \"repealed\", \"right\", \"right\", \"right\", \"right\", \"right\", \"rob_stott\", \"roberts\", \"roberts\", \"roberts\", \"roberts\", \"roberts\", \"rwnj\", \"says\", \"says\", \"says\", \"scared\", \"scientist\", \"seats\", \"seculawyer\", \"secure\", \"secures\", \"seeing\", \"segue\", \"senate\", \"senate\", \"senate\", \"senate\", \"senator\", \"senator\", \"senator\", \"senator\", \"senator\", \"showed\", \"sitting\", \"sorry\", \"squat\", \"squat\", \"squat\", \"squat\", \"standing\", \"stop\", \"stop\", \"storm\", \"storm\", \"storm\", \"storm\", \"storm\", \"story\", \"stress\", \"stunt\", \"stunt\", \"subtext\", \"support\", \"support\", \"support\", \"supporter\", \"supporter\", \"supporters\", \"supporters\", \"supporters\", \"supporters\", \"supporters\", \"supporting\", \"supporting\", \"supporting\", \"supporting\", \"term\", \"thanks\", \"thanks\", \"thanks\", \"thanks\", \"theage\", \"theage\", \"theage\", \"theage\", \"theage\", \"thedrum\", \"thedrum\", \"thedrum\", \"thefeedsbs\", \"think\", \"toilets\", \"toilets\", \"toilets\", \"topic\", \"transcript\", \"trashed\", \"trump\", \"trumpian\", \"trvllngjwllr\", \"video\", \"virgotweet\", \"vision\", \"voted\", \"votes\", \"vows\", \"wake\", \"wake\", \"wake\", \"wake\", \"walks\", \"want\", \"want\", \"want\", \"warming\", \"waste\", \"wezking\", \"wilsonsecurity\", \"workmanalice\", \"world\", \"world\", \"xenophobes\", \"xenophobic\", \"year\", \"year\", \"years\", \"years\", \"years\"]}, \"mdsDat\": {\"y\": [0.034537727709247686, -0.062922240128522405, -0.15091418792768332, 0.17067786093105855, 0.0086208394158995127], \"cluster\": [1, 1, 1, 1, 1], \"Freq\": [27.495529516121508, 22.556182210666204, 18.267908277843752, 16.06964677660968, 15.610733218758858], \"topics\": [1, 2, 3, 4, 5], \"x\": [-0.20395602851747424, 0.19615951172713136, -0.12388318433401789, -0.0027394434209362379, 0.13441914454529669]}, \"R\": 30, \"lambda.step\": 0.01, \"tinfo\": {\"Category\": [\"Default\", \"Default\", \"Default\", \"Default\", \"Default\", \"Default\", \"Default\", \"Default\", \"Default\", \"Default\", \"Default\", \"Default\", \"Default\", \"Default\", \"Default\", \"Default\", \"Default\", \"Default\", \"Default\", \"Default\", \"Default\", \"Default\", \"Default\", \"Default\", \"Default\", \"Default\", \"Default\", \"Default\", \"Default\", \"Default\", \"Topic1\", \"Topic1\", \"Topic1\", \"Topic1\", \"Topic1\", \"Topic1\", \"Topic1\", \"Topic1\", \"Topic1\", \"Topic1\", \"Topic1\", \"Topic1\", \"Topic1\", \"Topic1\", \"Topic1\", \"Topic1\", \"Topic1\", \"Topic1\", \"Topic1\", \"Topic1\", \"Topic1\", \"Topic1\", \"Topic1\", \"Topic1\", \"Topic1\", \"Topic1\", \"Topic1\", \"Topic1\", \"Topic1\", \"Topic1\", \"Topic1\", \"Topic1\", \"Topic1\", \"Topic1\", \"Topic1\", \"Topic1\", \"Topic1\", \"Topic1\", \"Topic1\", \"Topic1\", \"Topic1\", \"Topic1\", \"Topic1\", \"Topic1\", \"Topic1\", \"Topic1\", \"Topic2\", \"Topic2\", \"Topic2\", \"Topic2\", \"Topic2\", \"Topic2\", \"Topic2\", \"Topic2\", \"Topic2\", \"Topic2\", \"Topic2\", \"Topic2\", \"Topic2\", \"Topic2\", \"Topic2\", \"Topic2\", \"Topic2\", \"Topic2\", \"Topic2\", \"Topic2\", \"Topic2\", \"Topic2\", \"Topic2\", \"Topic2\", \"Topic2\", \"Topic2\", \"Topic2\", \"Topic2\", \"Topic2\", \"Topic2\", \"Topic2\", \"Topic2\", \"Topic2\", \"Topic2\", \"Topic2\", \"Topic2\", \"Topic2\", \"Topic2\", \"Topic2\", \"Topic2\", \"Topic2\", \"Topic2\", \"Topic2\", \"Topic2\", \"Topic2\", \"Topic2\", \"Topic3\", \"Topic3\", \"Topic3\", \"Topic3\", \"Topic3\", \"Topic3\", \"Topic3\", \"Topic3\", \"Topic3\", \"Topic3\", \"Topic3\", \"Topic3\", \"Topic3\", \"Topic3\", \"Topic3\", \"Topic3\", \"Topic3\", \"Topic3\", \"Topic3\", \"Topic3\", \"Topic3\", \"Topic3\", \"Topic3\", \"Topic3\", \"Topic3\", \"Topic3\", \"Topic3\", \"Topic3\", \"Topic3\", \"Topic3\", \"Topic3\", \"Topic3\", \"Topic3\", \"Topic3\", \"Topic3\", \"Topic3\", \"Topic3\", \"Topic3\", \"Topic3\", \"Topic3\", \"Topic3\", \"Topic3\", \"Topic3\", \"Topic3\", \"Topic3\", \"Topic3\", \"Topic4\", \"Topic4\", \"Topic4\", \"Topic4\", \"Topic4\", \"Topic4\", \"Topic4\", \"Topic4\", \"Topic4\", \"Topic4\", \"Topic4\", \"Topic4\", \"Topic4\", \"Topic4\", \"Topic4\", \"Topic4\", \"Topic4\", \"Topic4\", \"Topic4\", \"Topic4\", \"Topic4\", \"Topic4\", \"Topic4\", \"Topic4\", \"Topic4\", \"Topic4\", \"Topic4\", \"Topic4\", \"Topic4\", \"Topic4\", \"Topic4\", \"Topic4\", \"Topic4\", \"Topic4\", \"Topic4\", \"Topic4\", \"Topic4\", \"Topic4\", \"Topic4\", \"Topic4\", \"Topic4\", \"Topic4\", \"Topic4\", \"Topic5\", \"Topic5\", \"Topic5\", \"Topic5\", \"Topic5\", \"Topic5\", \"Topic5\", \"Topic5\", \"Topic5\", \"Topic5\", \"Topic5\", \"Topic5\", \"Topic5\", \"Topic5\", \"Topic5\", \"Topic5\", \"Topic5\", \"Topic5\", \"Topic5\", \"Topic5\", \"Topic5\", \"Topic5\", \"Topic5\", \"Topic5\", \"Topic5\", \"Topic5\", \"Topic5\", \"Topic5\", \"Topic5\", \"Topic5\", \"Topic5\", \"Topic5\", \"Topic5\", \"Topic5\", \"Topic5\", \"Topic5\", \"Topic5\", \"Topic5\", \"Topic5\", \"Topic5\", \"Topic5\", \"Topic5\", \"Topic5\", \"Topic5\", \"Topic5\", \"Topic5\", \"Topic5\", \"Topic5\", \"Topic5\", \"Topic5\"], \"Term\": [\"frbower\", \"parish\", \"artbylynettag\", \"thedrum\", \"right\", \"dressed\", \"storm\", \"muslims\", \"supporters\", \"church\", \"muslim\", \"lunch\", \"auspol\", \"wake\", \"aussies\", \"anti\", \"reaches\", \"hits\", \"freedom\", \"stunt\", \"group\", \"islam\", \"party\", \"squat\", \"convinced\", \"real\", \"theage\", \"roberts\", \"actually\", \"toilets\", \"johnwren\", \"workmanalice\", \"ausp\", \"apparentl\", \"psyvret\", \"points\", \"borders\", \"minister\", \"secure\", \"petstarr\", \"making\", \"rwnj\", \"flatearthgang\", \"immigration\", \"dutton\", \"glad\", \"loud_lass\", \"canberratimes\", \"video\", \"peter\", \"nickevershed\", \"onenation\", \"right\", \"trumpian\", \"levels\", \"incomprehensibility\", \"transcript\", \"vision\", \"virgotweet\", \"honored\", \"wake\", \"aussies\", \"paulinehansonoz\", \"church\", \"dressed\", \"theage\", \"storm\", \"muslims\", \"supporters\", \"politician\", \"brisbanetimes\", \"gosford\", \"good\", \"hanson\", \"pauline\", \"auspol\", \"convinced\", \"hits\", \"stunt\", \"anti\", \"secures\", \"term\", \"hinch\", \"briancox\", \"betootaadvocate\", \"sorry\", \"islam\", \"buzzfeedoz\", \"actually\", \"esteemed\", \"days\", \"wezking\", \"rob_stott\", \"election\", \"scientist\", \"real\", \"campaign\", \"freedom\", \"subtext\", \"concerning\", \"abcthedrum\", \"vows\", \"courtesy\", \"laugh\", \"photo\", \"years\", \"year\", \"party\", \"stop\", \"derryn\", \"squat\", \"brian\", \"better\", \"toilets\", \"senate\", \"senator\", \"roberts\", \"malcolm\", \"nation\", \"qanda\", \"support\", \"auspol\", \"artbylynettag\", \"parish\", \"frbower\", \"thedrum\", \"qldaah\", \"heckliar\", \"queensland\", \"islamophobia\", \"doammuslims\", \"xenophobic\", \"idiocy\", \"biseahmed\", \"pure\", \"scared\", \"warming\", \"xenophobes\", \"evidence\", \"standing\", \"committed\", \"walks\", \"mike\", \"liners\", \"drops\", \"ahmadiyyatimes\", \"wilsonsecurity\", \"stress\", \"sitting\", \"hermakit\", \"itsbouquet\", \"global\", \"mass\", \"auspol\", \"julianburnside\", \"muslims\", \"dressed\", \"storm\", \"supporters\", \"hanson\", \"australia\", \"want\", \"pauline\", \"right\", \"church\", \"nation\", \"wake\", \"aussies\", \"group\", \"story\", \"myknittingwool\", \"lunch\", \"muslim\", \"showed\", \"idiotic\", \"ianhartley_\", \"renowned\", \"creti\", \"fuchujim\", \"central\", \"coast\", \"linessue\", \"josietaylor\", \"ameliaadams\", \"newssyd\", \"folkes\", \"nick\", \"night\", \"bernadi\", \"trashed\", \"confirms\", \"dear\", \"ozgitano\", \"absolute\", \"invite\", \"gift\", \"office\", \"supporter\", \"reaches\", \"news\", \"fabulous\", \"leader\", \"supporting\", \"nation\", \"thanks\", \"qanda\", \"church\", \"politicsfairfax\", \"supporters\", \"right\", \"auspol\", \"think\", \"seats\", \"voted\", \"trump\", \"repealed\", \"elect\", \"laughed\", \"thefeedsbs\", \"nobby\", \"seculawyer\", \"seeing\", \"installed\", \"chain\", \"cater\", \"jerked\", \"employees\", \"waste\", \"johndory\", \"hippopeteamus\", \"topic\", \"marcfennell\", \"segue\", \"human\", \"condemn\", \"trvllngjwllr\", \"votes\", \"quick\", \"activity\", \"world\", \"joke\", \"excited\", \"needs\", \"mickkime\", \"people\", \"great\", \"like\", \"says\", \"government\", \"hope\", \"enjoy\", \"roberts\", \"malcolm\", \"nation\", \"toilets\", \"good\", \"squat\", \"senator\", \"qanda\", \"auspol\", \"senate\"], \"loglift\": [30.0, 29.0, 28.0, 27.0, 26.0, 25.0, 24.0, 23.0, 22.0, 21.0, 20.0, 19.0, 18.0, 17.0, 16.0, 15.0, 14.0, 13.0, 12.0, 11.0, 10.0, 9.0, 8.0, 7.0, 6.0, 5.0, 4.0, 3.0, 2.0, 1.0, 1.2217, 1.2109000000000001, 1.2108000000000001, 1.21, 1.21, 1.2065999999999999, 1.2063999999999999, 1.2004999999999999, 1.1940999999999999, 1.1883999999999999, 1.1836, 1.1830000000000001, 1.1754, 1.1720999999999999, 1.1719999999999999, 1.1680999999999999, 1.1635, 1.1534, 1.1523000000000001, 1.1516999999999999, 1.1465000000000001, 1.1443000000000001, 1.1305000000000001, 1.129, 1.1289, 1.1288, 1.1287, 1.1023000000000001, 1.1016999999999999, 1.0985, 1.097, 1.0942000000000001, 1.0757000000000001, 0.99160000000000004, 0.88980000000000004, 0.97270000000000001, 0.87470000000000003, 0.85629999999999995, 0.84419999999999995, 1.0532999999999999, 1.0346, 0.92090000000000005, 0.73560000000000003, 0.49769999999999998, 0.45490000000000003, -0.40600000000000003, 1.4283999999999999, 1.4204000000000001, 1.4199999999999999, 1.4056999999999999, 1.4025000000000001, 1.3969, 1.3914, 1.3905000000000001, 1.3866000000000001, 1.3829, 1.3814, 1.3768, 1.3712, 1.3685, 1.3685, 1.3672, 1.3661000000000001, 1.3656999999999999, 1.3641000000000001, 1.3613999999999999, 1.3594999999999999, 1.3592, 1.3534999999999999, 1.3534999999999999, 1.3526, 1.3488, 1.3488, 1.341, 1.3409, 1.3389, 1.3231999999999999, 1.2864, 1.3202, 1.3092999999999999, 1.2051000000000001, 1.228, 1.2324999999999999, 1.0986, 1.0891999999999999, 0.96450000000000002, 0.83150000000000002, 0.79600000000000004, 0.33679999999999999, 0.43519999999999998, 0.89370000000000005, -0.80200000000000005, 1.6739999999999999, 1.6735, 1.6688000000000001, 1.6338999999999999, 1.5643, 1.5617000000000001, 1.5590999999999999, 1.5556000000000001, 1.5521, 1.5404, 1.5403, 1.5347, 1.5299, 1.5044999999999999, 1.4984999999999999, 1.4973000000000001, 1.4972000000000001, 1.4971000000000001, 1.4876, 1.4833000000000001, 1.4833000000000001, 1.4833000000000001, 1.4831000000000001, 1.4724999999999999, 1.4674, 1.4623999999999999, 1.4476, 1.4433, 1.4409000000000001, 1.4255, 1.4123000000000001, 1.1392, 1.3364, 0.44130000000000003, 0.41170000000000001, 0.4118, 0.3594, 0.098299999999999998, 0.27210000000000001, 0.47889999999999999, 0.081100000000000005, -1.3375999999999999, -1.4107000000000001, -0.77200000000000002, -0.96550000000000002, -0.96789999999999998, 1.7534000000000001, 1.7451000000000001, 1.7341, 1.7316, 1.7231000000000001, 1.7067000000000001, 1.7064999999999999, 1.7031000000000001, 1.7019, 1.7003999999999999, 1.7002999999999999, 1.6995, 1.6994, 1.6989000000000001, 1.6980999999999999, 1.6952, 1.6922999999999999, 1.6884999999999999, 1.6843999999999999, 1.6825000000000001, 1.669, 1.6672, 1.6672, 1.6601999999999999, 1.6557999999999999, 1.6519999999999999, 1.6353, 1.6347, 1.6180000000000001, 1.6158999999999999, 1.5800000000000001, 1.5370999999999999, 1.5956999999999999, 1.4415, 1.4124000000000001, 0.74260000000000004, 1.25, 0.79210000000000003, -0.1968, 0.95720000000000005, -0.68789999999999996, -0.83560000000000001, -0.60899999999999999, 1.7235, 1.7221, 1.7159, 1.7059, 1.6994, 1.6978, 1.6968000000000001, 1.6942999999999999, 1.6933, 1.6929000000000001, 1.6900999999999999, 1.6887000000000001, 1.6886000000000001, 1.6886000000000001, 1.6886000000000001, 1.6886000000000001, 1.6853, 1.6815, 1.6786000000000001, 1.6691, 1.6691, 1.669, 1.6689000000000001, 1.6547000000000001, 1.6529, 1.6414, 1.637, 1.6369, 1.6361000000000001, 1.6312, 1.6241000000000001, 1.5866, 1.5869, 1.4668000000000001, 1.4757, 1.1396999999999999, 1.4421999999999999, 1.2952999999999999, 1.2596000000000001, 1.3532, 0.62060000000000004, 0.60750000000000004, 0.15770000000000001, 0.49349999999999999, 0.27879999999999999, 0.2291, 0.1305, 0.040500000000000001, -0.99909999999999999, 0.42020000000000002], \"Freq\": [67.0, 66.0, 65.0, 66.0, 104.0, 115.0, 115.0, 113.0, 109.0, 105.0, 24.0, 24.0, 78.0, 53.0, 53.0, 26.0, 23.0, 22.0, 25.0, 21.0, 16.0, 23.0, 28.0, 26.0, 16.0, 17.0, 40.0, 33.0, 14.0, 20.0, 10.423137867144375, 10.839779199558059, 10.838777154198777, 13.954346878558173, 13.953560974313381, 12.589030646359252, 12.586546102107718, 11.385706536490758, 12.611195876709246, 7.3170274261465442, 12.489426561968489, 5.9544309637618555, 5.5383012898252995, 11.251898675575418, 12.188685225151275, 8.0265730527970529, 5.1558243347298864, 14.250586045845761, 4.8462061068004543, 10.914004524141111, 6.4433499599799422, 13.882667066086633, 88.873096197137016, 4.0934438628094991, 4.0932165274258274, 4.0927269695621051, 4.0926076298693834, 5.2580533146747443, 3.4864261687086411, 3.1871476906207041, 43.800262311672476, 43.699704303247024, 11.137544167797722, 78.168093212988197, 77.310840952054349, 29.217906482004683, 75.964998405491841, 73.173271583871255, 70.348370131505064, 9.6961126135347868, 10.067952346402961, 12.187627520454068, 14.912835947033857, 15.424223034388032, 12.757574640849276, 14.373313565221931, 15.169469140610701, 20.843816895219867, 20.236263275076311, 23.954911840352537, 10.464285439188904, 10.276543565202907, 7.7967396471496366, 8.2356390501178609, 7.9162847648801504, 11.576730000929137, 21.396612634866067, 8.9262744356086685, 13.323194173440211, 5.6017165109288207, 5.6013862690823046, 5.3603480234315937, 8.8596734306136984, 10.550686426144635, 5.6909136048994355, 15.394699295197068, 5.2461166639458607, 22.046269790809522, 4.6448599603868148, 4.6447678447213114, 5.0575926639871147, 5.0566439005640751, 5.0566272046099963, 4.7778738440783206, 5.1235825007492446, 12.136596818256182, 10.775762984509354, 23.081012912998123, 7.5519077771670471, 7.8010316491482197, 19.823023107901875, 14.011770717399498, 11.280391233787428, 13.900919644859581, 12.707230891775406, 16.067135826769679, 17.443463024956824, 16.587220117693334, 15.306223994785398, 9.9259525998605849, 8.1486118603672235, 7.9352408736117583, 64.17373827254707, 64.410613661054128, 65.538560301177768, 62.062629446620463, 6.7026945137702825, 5.1507617230721712, 5.1722160017502832, 6.0357070749863553, 4.9391692308112995, 4.8693531589755104, 4.8687588209789148, 4.5330584230135189, 5.1680763887743719, 3.5848704462230687, 3.3912666977922985, 3.4885480882863424, 3.3553531314065945, 3.4879435524585936, 3.205395272005811, 2.872731067904061, 2.8726868673252044, 2.872533106797786, 2.8722091880596006, 3.050328831375126, 2.829468005214554, 3.4329303835717, 2.3461604415161506, 2.407454662748957, 2.2850732777927818, 3.3448412053111469, 3.1631562751038791, 44.778506419339841, 3.501939090699429, 32.103418661405343, 31.844535742212909, 31.769438267896529, 28.780467992828267, 6.8738562295831338, 5.9429708840190667, 4.9756862715710675, 5.8323426633879087, 5.0038231977661551, 4.7007057440094719, 4.0904059377600586, 3.6996713631950113, 3.6927356817505639, 14.895335157247557, 8.054914806564522, 7.654854909362955, 21.966364213600546, 22.345267431759972, 6.2255052428313595, 6.2246785140042276, 6.8297801353125696, 7.6406597262939773, 5.9103459101428708, 5.9098740720656942, 7.2542401168368604, 7.2538778780630171, 4.8720707251005306, 6.46701534505591, 6.5707234485087742, 6.7135580923675731, 5.7241849974656844, 5.3272072907448695, 7.0927890629301986, 4.215492309912511, 3.9640153886585088, 4.5551665228168821, 8.0269742975397627, 3.6810798998514871, 4.1560808869735606, 3.2623454416538378, 3.5124535564334809, 4.2466121938703303, 5.8042030753918956, 18.706741975872603, 10.569291962465842, 5.1320736836396517, 6.4669272836018941, 6.3978606675517025, 16.362450865964696, 7.0338187407714399, 10.104604494655202, 13.921092380011318, 6.7342457653391481, 8.8837097906032785, 7.271732097806705, 6.8566943602204242, 5.0093379519559083, 4.8917754312353008, 5.8488836042694023, 5.3470191601421426, 4.9949198813780793, 4.948200032669372, 4.3826910762525912, 3.8839938343943285, 4.6628613367892644, 4.5366597565658671, 4.9801000860614923, 4.4862410390197311, 4.4861049600230896, 4.485962415405, 4.4858136769493067, 4.4857777610868723, 3.665633947732001, 4.3362276873117667, 4.2249739551750451, 3.3205902442123132, 3.3205202567605943, 3.320171558324458, 3.319820825157223, 3.075623510921079, 3.0368200116739619, 2.9656891179823535, 2.8034161053046041, 2.8031957860725947, 6.333455108051762, 3.0827983692841698, 3.3883645253128787, 5.4396970779370344, 5.3875377378044771, 9.6242931110369643, 5.4558284798462591, 13.354598872989, 5.377466643616839, 5.2237655726954948, 5.3807696953538082, 4.7691215693751978, 9.7765007406028559, 9.5077057656217683, 8.856248752484877, 5.2530176944285545, 5.3619250798391489, 5.1699563329088782, 4.8291914674064804, 4.6291983575394706, 4.5096202314996168, 4.5045746823023691], \"Total\": [67.0, 66.0, 65.0, 66.0, 104.0, 115.0, 115.0, 113.0, 109.0, 105.0, 24.0, 24.0, 78.0, 53.0, 53.0, 26.0, 23.0, 22.0, 25.0, 21.0, 16.0, 23.0, 28.0, 26.0, 16.0, 17.0, 40.0, 33.0, 14.0, 20.0, 11.17315009778309, 11.745087663896573, 11.745143993283609, 15.133567043684671, 15.133604725869981, 13.700117541148577, 13.700224890486457, 12.465466458273267, 13.895777066106556, 8.1086434190732319, 13.907387878875102, 6.6345347561025925, 6.2181861231703026, 12.674245078714533, 13.730486322261715, 9.0777353552124858, 5.8579384162665571, 16.354576476014977, 5.5681839091961738, 12.54765398874174, 7.4460355081545355, 16.078095087663652, 104.3604877573283, 4.8142296604805663, 4.8142401391345029, 4.8142569446645362, 4.8142612080778253, 6.3507725220620657, 4.2137747956649232, 3.864343089316769, 53.185425629304206, 53.211769780398512, 13.815427060871526, 105.47196561614179, 115.49351761754896, 40.174900335167322, 115.20255734670597, 113.0378213319524, 109.98800007429963, 12.299887366502015, 13.012266709672534, 17.648945904016326, 25.990996532498066, 34.104041130745273, 29.440142957324614, 78.453375449893571, 16.119966788319584, 22.328158695445406, 21.685757371800499, 26.040352447684434, 11.411274162887807, 11.27010195513922, 8.5972193802967887, 9.0897655033044309, 8.7715136109560099, 12.874414987413433, 23.830702779876653, 9.9874543553421002, 14.990643881651772, 6.3199066565086541, 6.3199145627203208, 6.0554018886770953, 10.020303473028347, 11.936614530423995, 6.4489903602733802, 17.493114678835646, 5.9726229251109348, 25.10602265523368, 5.3194865977230288, 5.3194819898241255, 5.7976370880742785, 5.8184492777680186, 5.8184588236250434, 5.5406380966262878, 5.9422391845983702, 14.104345689134925, 12.720725768814731, 28.268973319042122, 8.941818241350326, 9.3382624230026359, 26.336104799690606, 18.194054593779562, 14.580740916431225, 20.542557080614685, 18.956191680778957, 27.150909603956343, 33.669307840201043, 33.176209985481734, 48.456119611009385, 28.478240939861102, 14.780536697549268, 78.453375449893571, 65.868227198946911, 66.138704100492845, 67.615179145670595, 66.307778247613285, 7.6771258420859727, 5.9150327952728405, 5.9551872093664686, 6.9737539884568767, 5.726677899447469, 5.7120282729110556, 5.7120479459769129, 5.3477572160644753, 6.1266846405827371, 4.3591587339590827, 4.1486067030941722, 4.2724374323685899, 4.109662115312136, 4.2724484785801371, 3.9642192555713587, 3.5678233292042405, 3.5678245469736893, 3.5678246080317129, 3.5678291372487045, 3.8295203034633141, 3.5704123275490902, 4.3536388133525854, 3.0199743595739692, 3.1119809334399395, 2.9608484521398686, 4.401655820464212, 4.2176064391009849, 78.453375449893571, 5.0375599816315102, 113.0378213319524, 115.49351761754896, 115.20255734670597, 109.98800007429963, 34.104041130745273, 24.781418938180138, 16.873049832954667, 29.440142957324614, 104.3604877573283, 105.47196561614179, 48.456119611009385, 53.185425629304206, 53.211769780398512, 16.052674061762207, 8.7528573105895653, 8.4103165341374435, 24.196198481970118, 24.823061849607971, 7.0303534179026554, 7.0303524679120324, 7.7398823452394474, 8.6698977069485164, 6.7165859030798707, 6.7165621245300544, 8.2512848942433905, 8.2512993703209396, 5.5445083298405571, 7.3658857238253912, 7.5058631257325192, 7.6910036582221659, 6.5823973003337297, 6.1512953458602055, 8.2056064550061087, 4.9431586586980298, 4.6564778114697623, 5.3512166503704233, 9.4959013112804556, 4.3737778102311582, 4.9569117065278423, 3.9565402916935488, 4.2624425764652605, 5.2399557059249471, 7.1771134437174089, 23.978136994355957, 14.14099716192252, 6.4756983563219652, 9.5200655951382185, 9.6966040809832794, 48.456119611009385, 12.54054188649042, 28.478240939861102, 105.47196561614179, 16.090511705429332, 109.98800007429963, 104.3604877573283, 78.453375449893571, 5.7260672956143361, 5.599625369884877, 6.7366086914292218, 6.2207177407651182, 5.8490417030763986, 5.8030611467470798, 5.145280576201789, 4.571093807944143, 5.4933243922511927, 5.3468522256674689, 5.8861438460603193, 5.3098719477877587, 5.309865606446877, 5.3098528541996455, 5.309846538560131, 5.3098469821826422, 4.3532158573299657, 5.1691456646841267, 5.0511345737778619, 4.0077490868477819, 4.007743927488371, 4.0077329373208919, 4.0077125091852874, 3.7659012059311725, 3.7251443428391946, 3.6800048487245203, 3.4940962593736673, 3.4940897289633526, 7.9005939096311701, 3.8644983760383202, 4.2777547857422151, 7.1299479616958976, 7.0596988730026569, 14.221091132145116, 7.9903706124988236, 27.367335108769247, 8.1435125332466285, 9.1626034738027329, 9.7810377353822417, 7.8949307054603324, 33.669307840201043, 33.176209985481734, 48.456119611009385, 20.542557080614685, 25.990996532498066, 26.336104799690606, 27.150909603956343, 28.478240939861102, 78.453375449893571, 18.956191680778957], \"logprob\": [30.0, 29.0, 28.0, 27.0, 26.0, 25.0, 24.0, 23.0, 22.0, 21.0, 20.0, 19.0, 18.0, 17.0, 16.0, 15.0, 14.0, 13.0, 12.0, 11.0, 10.0, 9.0, 8.0, 7.0, 6.0, 5.0, 4.0, 3.0, 2.0, 1.0, -4.9195000000000002, -4.8803000000000001, -4.8803999999999998, -4.6276999999999999, -4.6277999999999997, -4.7306999999999997, -4.7309000000000001, -4.8311999999999999, -4.7290000000000001, -5.2732999999999999, -4.7386999999999997, -5.4794, -5.5518999999999998, -4.843, -4.7629999999999999, -5.1807999999999996, -5.6234000000000002, -4.6067, -5.6852999999999998, -4.8734999999999999, -5.4005000000000001, -4.6329000000000002, -2.7763, -5.8541999999999996, -5.8541999999999996, -5.8543000000000003, -5.8544, -5.6037999999999997, -6.0147000000000004, -6.1044, -3.4839000000000002, -3.4862000000000002, -4.8532000000000002, -2.9047000000000001, -2.9157000000000002, -3.8887999999999998, -2.9333, -2.9706999999999999, -3.0101, -4.9917999999999996, -4.9542000000000002, -4.7630999999999997, -4.5613000000000001, -4.5275999999999996, -4.7173999999999996, -4.5982000000000003, -4.3461999999999996, -4.0285000000000002, -4.0579999999999998, -3.8894000000000002, -4.7176, -4.7356999999999996, -5.0118, -4.9570999999999996, -4.9965999999999999, -4.6165000000000003, -4.0023, -4.8765000000000001, -4.476, -5.3425000000000002, -5.3425000000000002, -5.3864999999999998, -4.8840000000000003, -4.7092999999999998, -5.3266999999999998, -4.3315000000000001, -5.4080000000000004, -3.9723999999999999, -5.5297999999999998, -5.5297999999999998, -5.4446000000000003, -5.4447999999999999, -5.4447999999999999, -5.5015000000000001, -5.4317000000000002, -4.5693000000000001, -4.6882000000000001, -3.9264999999999999, -5.0437000000000003, -5.0113000000000003, -4.0787000000000004, -4.4256000000000002, -4.6425000000000001, -4.4336000000000002, -4.5233999999999996, -4.2887000000000004, -4.2065999999999999, -4.2568999999999999, -4.3372999999999999, -4.7704000000000004, -4.9676999999999998, -4.9942000000000002, -2.6930999999999998, -2.6894, -2.6720000000000002, -2.7265000000000001, -4.9522000000000004, -5.2154999999999996, -5.2114000000000003, -5.0570000000000004, -5.2575000000000003, -5.2717000000000001, -5.2717999999999998, -5.3433000000000002, -5.2122000000000002, -5.5778999999999996, -5.6334999999999997, -5.6052, -5.6440999999999999, -5.6054000000000004, -5.6898, -5.7994000000000003, -5.7994000000000003, -5.7995000000000001, -5.7995999999999999, -5.7393999999999998, -5.8146000000000004, -5.6212, -6.0019, -5.9760999999999997, -6.0282999999999998, -5.6471999999999998, -5.7031000000000001, -3.0529000000000002, -5.6013000000000002, -3.3856999999999999, -3.3938000000000001, -3.3961999999999999, -3.4950000000000001, -4.9268999999999998, -5.0724999999999998, -5.2500999999999998, -5.0911999999999997, -5.2445000000000004, -5.3068999999999997, -5.4459999999999997, -5.5464000000000002, -5.5483000000000002, -4.0254000000000003, -4.6402000000000001, -4.6910999999999996, -3.6368999999999998, -3.6198000000000001, -4.8978000000000002, -4.8978999999999999, -4.8052000000000001, -4.6929999999999996, -4.9497, -4.9497999999999998, -4.7449000000000003, -4.7449000000000003, -5.1429, -4.8597000000000001, -4.8437999999999999, -4.8223000000000003, -4.9817, -5.0536000000000003, -4.7674000000000003, -5.2877000000000001, -5.3491999999999997, -5.2102000000000004, -4.6436000000000002, -5.4231999999999996, -5.3018999999999998, -5.5439999999999996, -5.4701000000000004, -5.2803000000000004, -4.9679000000000002, -3.7976000000000001, -4.3685, -5.0909000000000004, -4.8597000000000001, -4.8704999999999998, -3.9315000000000002, -4.7756999999999996, -4.4135, -4.093, -4.8192000000000004, -4.5422000000000002, -4.7424999999999997, -4.8011999999999997, -5.0861999999999998, -5.1098999999999997, -4.9311999999999996, -5.0209000000000001, -5.0891000000000002, -5.0984999999999996, -5.2198000000000002, -5.3406000000000002, -5.1577999999999999, -5.1852999999999998, -5.0919999999999996, -5.1965000000000003, -5.1965000000000003, -5.1965000000000003, -5.1966000000000001, -5.1966000000000001, -5.3985000000000003, -5.2305000000000001, -5.2565, -5.4973000000000001, -5.4973999999999998, -5.4974999999999996, -5.4976000000000003, -5.5739999999999998, -5.5867000000000004, -5.6104000000000003, -5.6665999999999999, -5.6666999999999996, -4.8516000000000004, -5.5716000000000001, -5.4771000000000001, -5.0038, -5.0133999999999999, -4.4332000000000003, -5.0007999999999999, -4.1055999999999999, -5.0152999999999999, -5.0442999999999998, -5.0145999999999997, -5.1353, -4.4175000000000004, -4.4454000000000002, -4.5164, -5.0387000000000004, -5.0182000000000002, -5.0545999999999998, -5.1227999999999998, -5.1650999999999998, -5.1913, -5.1924000000000001]}};\n",
       "\n",
       "function LDAvis_load_lib(url, callback){\n",
       "  var s = document.createElement('script');\n",
       "  s.src = url;\n",
       "  s.async = true;\n",
       "  s.onreadystatechange = s.onload = callback;\n",
       "  s.onerror = function(){console.warn(\"failed to load library \" + url);};\n",
       "  document.getElementsByTagName(\"head\")[0].appendChild(s);\n",
       "}\n",
       "\n",
       "if(typeof(LDAvis) !== \"undefined\"){\n",
       "   // already loaded: just create the visualization\n",
       "   !function(LDAvis){\n",
       "       new LDAvis(\"#\" + \"ldavis_el219603048307685563769686\", ldavis_el219603048307685563769686_data);\n",
       "   }(LDAvis);\n",
       "}else if(typeof define === \"function\" && define.amd){\n",
       "   // require.js is available: use it to load d3/LDAvis\n",
       "   require.config({paths: {d3: \"https://cdnjs.cloudflare.com/ajax/libs/d3/3.5.5/d3.min\"}});\n",
       "   require([\"d3\"], function(d3){\n",
       "      window.d3 = d3;\n",
       "      LDAvis_load_lib(\"https://cdn.rawgit.com/bmabey/pyLDAvis/files/ldavis.v1.0.0.js\", function(){\n",
       "        new LDAvis(\"#\" + \"ldavis_el219603048307685563769686\", ldavis_el219603048307685563769686_data);\n",
       "      });\n",
       "    });\n",
       "}else{\n",
       "    // require.js not available: dynamically load d3 & LDAvis\n",
       "    LDAvis_load_lib(\"https://cdnjs.cloudflare.com/ajax/libs/d3/3.5.5/d3.min.js\", function(){\n",
       "         LDAvis_load_lib(\"https://cdn.rawgit.com/bmabey/pyLDAvis/files/ldavis.v1.0.0.js\", function(){\n",
       "                 new LDAvis(\"#\" + \"ldavis_el219603048307685563769686\", ldavis_el219603048307685563769686_data);\n",
       "            })\n",
       "         });\n",
       "}\n",
       "</script>"
      ],
      "text/plain": [
       "<IPython.core.display.HTML object>"
      ]
     },
     "execution_count": 37,
     "metadata": {},
     "output_type": "execute_result"
    }
   ],
   "source": [
    "vis_data_pos = pyLDAvis.gensim.prepare(lda_model_pos, corpus_tfidf_pos, dictionary_pos)\n",
    "pyLDAvis.display(vis_data_pos)"
   ]
  },
  {
   "cell_type": "markdown",
   "metadata": {},
   "source": [
    "### (B) Negative sentiment"
   ]
  },
  {
   "cell_type": "code",
   "execution_count": 38,
   "metadata": {
    "collapsed": true
   },
   "outputs": [],
   "source": [
    "words_onp_neg = []\n",
    "\n",
    "# = 0\n",
    "for index, row in df.iterrows():\n",
    "    if (row['sentiment_afinn'] < 0):\n",
    "        text = row['text']\n",
    "        text = remove_junk(text)\n",
    "        tokens = split_wd(text, sw)\n",
    "        words_onp_neg.append(tokens)\n",
    "#   n += 1\n",
    "#   if n >= 10:\n",
    "#       break"
   ]
  },
  {
   "cell_type": "markdown",
   "metadata": {},
   "source": [
    "#### Vectorize the word tokens"
   ]
  },
  {
   "cell_type": "code",
   "execution_count": 39,
   "metadata": {
    "collapsed": false
   },
   "outputs": [],
   "source": [
    "# first assign IDs to the tokens\n",
    "dictionary_neg = gensim.corpora.Dictionary(words_onp_neg)\n",
    "# remove tokens only appear once\n",
    "once_neg = [token_id for token_id, docfreq in dictionary_neg.dfs.iteritems() if docfreq == 1]\n",
    "dictionary_neg.filter_tokens(once_neg)\n",
    "dictionary_neg.compactify()\n",
    "dictionary_neg.save('models/onp_neg_tm.dict')\n",
    "#print(dictionary)\n",
    "\n",
    "# now convert to vectors\n",
    "corpus_neg = [dictionary_neg.doc2bow(t) for t in words_onp_neg]\n",
    "gensim.corpora.MmCorpus.serialize('models/onp_neg_tm.mm', corpus_neg)\n",
    "#print(corpus)"
   ]
  },
  {
   "cell_type": "markdown",
   "metadata": {},
   "source": [
    "#### Prepare the model\n",
    "\n",
    "Initialize a model, do not modify valuable tfidf from now on.  \n",
    "tfidf - Term Frequency * Inverse Document Frequency"
   ]
  },
  {
   "cell_type": "code",
   "execution_count": 40,
   "metadata": {
    "collapsed": true
   },
   "outputs": [],
   "source": [
    "tfidf_neg = gensim.models.TfidfModel(corpus_neg)\n",
    "tfidf_neg.save('models/onp_neg_tm.tfidf')\n",
    "\n",
    "# put a model wrapper around corpus\n",
    "corpus_tfidf_neg = tfidf_neg[corpus_neg]\n",
    "gensim.corpora.MmCorpus.serialize('models/onp_neg_tm.mm_corpus_tfidf', corpus_tfidf_neg)\n",
    "#for doc in corpus_tfidf:\n",
    "#    print(doc)"
   ]
  },
  {
   "cell_type": "code",
   "execution_count": 41,
   "metadata": {
    "collapsed": true
   },
   "outputs": [],
   "source": [
    "# number of topics to model\n",
    "n_topics = 5"
   ]
  },
  {
   "cell_type": "markdown",
   "metadata": {},
   "source": [
    "#### Use Latent Dirichlet Allocation (LDA) model\n",
    "\n",
    "#### 1. with online LDA"
   ]
  },
  {
   "cell_type": "code",
   "execution_count": 42,
   "metadata": {
    "collapsed": false
   },
   "outputs": [],
   "source": [
    "lda_model_neg = gensim.models.ldamodel.LdaModel(corpus=corpus_tfidf_neg, id2word=dictionary_neg, \n",
    "                                                num_topics=n_topics, \n",
    "                                                update_every=1, chunksize=10000, passes=5)"
   ]
  },
  {
   "cell_type": "markdown",
   "metadata": {},
   "source": [
    "#### 2. or batch LDA, no online updates   \n",
    "\n",
    "lda_model = gensim.models.ldamodel.LdaModel(corpus=corpus_tfidf, id2word=dictionary, num_topics=n_topics, update_every=0, passes=20)"
   ]
  },
  {
   "cell_type": "markdown",
   "metadata": {},
   "source": [
    "#### Now save the model"
   ]
  },
  {
   "cell_type": "code",
   "execution_count": 43,
   "metadata": {
    "collapsed": false
   },
   "outputs": [],
   "source": [
    "lda_model_neg.save('models/onp_neg_tm.lda')\n",
    "#top_words = [[word for word in lda_model_neg.show_topic(topicno, topn=5)] \n",
    "#             for topicno in range(lda_model_neg.num_topics)]\n",
    "#print(top_words)"
   ]
  },
  {
   "cell_type": "markdown",
   "metadata": {},
   "source": [
    "#### Visualise the model with pyLDAvis\n",
    "\n",
    "To load preivous saved model from disk:  \n",
    "\n",
    "dictionary = gensim.corpora.Dictionary.load('models/onp_neg_tm.dict')  \n",
    "corpus_tfidf = gensim.corpora.MmCorpus('models/onp_neg_tm.mm_corpus_tfidf')  \n",
    "lda_model = gensim.models.ldamodel.LdaModel.load('models/onp_neg_tm.lda')"
   ]
  },
  {
   "cell_type": "code",
   "execution_count": 44,
   "metadata": {
    "collapsed": false
   },
   "outputs": [
    {
     "data": {
      "text/html": [
       "\n",
       "<link rel=\"stylesheet\" type=\"text/css\" href=\"https://cdn.rawgit.com/bmabey/pyLDAvis/files/ldavis.v1.0.0.css\">\n",
       "\n",
       "\n",
       "<div id=\"ldavis_el219603048287285323634292\"></div>\n",
       "<script type=\"text/javascript\">\n",
       "\n",
       "var ldavis_el219603048287285323634292_data = {\"plot.opts\": {\"xlab\": \"PC1\", \"ylab\": \"PC2\"}, \"topic.order\": [2, 4, 5, 1, 3], \"token.table\": {\"Topic\": [4, 5, 4, 4, 2, 4, 5, 2, 3, 4, 5, 5, 4, 5, 2, 3, 1, 2, 3, 1, 2, 3, 4, 5, 1, 2, 3, 4, 5, 1, 2, 3, 4, 5, 2, 2, 2, 2, 3, 4, 2, 2, 1, 2, 3, 4, 5, 2, 5, 4, 3, 1, 2, 3, 4, 5, 3, 1, 5, 1, 2, 4, 2, 4, 5, 1, 2, 3, 4, 5, 2, 3, 4, 1, 2, 3, 4, 5, 3, 3, 5, 1, 3, 4, 5, 4, 1, 3, 5, 2, 3, 5, 2, 4, 5, 1, 2, 4, 1, 2, 4, 2, 3, 4, 5, 1, 3, 4, 5, 1, 2, 4, 1, 3, 4, 5, 1, 5, 2, 3, 4, 1, 3, 1, 2, 3, 4, 3, 2, 3, 4, 1, 3, 5, 1, 3, 1, 5, 1, 3, 4, 5, 1, 5, 1, 1, 2, 3, 1, 1, 4, 2, 3, 5, 1, 4, 5, 2, 2, 3, 4, 5, 2, 4, 5, 1, 3, 1, 2, 3, 4, 5, 3, 2, 3, 4, 2, 4, 2, 3, 2, 3, 5, 1, 3, 3, 2, 4, 5, 1, 2, 4, 1, 2, 3, 5, 2, 3, 4, 2, 3, 4, 5, 3, 5, 1, 4, 2, 5, 1, 3, 4, 5, 2, 3, 4, 5, 5, 3, 1, 5, 3, 4, 1, 5, 3, 1, 2, 3, 4, 5, 5, 1, 5, 4, 5, 4, 3, 3, 4, 1, 2, 5, 1, 2, 5, 1, 2, 3, 4, 5, 1, 2, 3, 4, 5, 1, 3, 5, 1, 3, 5, 5, 2, 5, 1, 3, 2, 3, 3, 5, 5, 5, 2, 1, 2, 3, 4, 5, 1, 2, 3, 4, 5, 2, 3, 4, 5, 3, 3, 5, 2, 4, 2, 3, 4, 1, 3, 5, 1, 1, 3, 2, 5, 1, 2, 3, 4, 5, 1, 2, 3, 4, 1, 2, 3, 4, 5, 2, 3, 1, 3, 5, 1, 4, 2, 1, 3, 5, 1, 2, 3, 1, 4, 1, 3, 5, 3, 4, 1, 2, 3, 4, 5, 1, 2, 3, 4, 5, 2, 1, 2, 3, 4, 5, 3, 5, 3, 4, 2, 1, 3, 5, 2, 3, 4, 5, 1, 2, 1, 2, 3, 4, 5, 4, 2, 3, 5, 1, 1, 2, 3, 4, 5, 1, 2, 4, 1, 2, 3, 1, 2, 4, 2, 4, 5, 1, 2, 4, 1, 2, 1, 2, 3, 4, 5, 5, 1, 3, 5, 3, 5, 3, 5, 1, 2, 3, 4, 5, 3, 5, 3, 4, 5, 1, 1, 3, 4, 5, 1, 2, 3, 4, 5, 2, 1, 5, 3, 4, 5, 2, 3, 3, 5, 3, 1, 2, 4, 1, 3, 5, 1, 2, 3, 1, 2, 3, 4, 5, 2, 3, 5, 4, 5, 2, 5], \"Freq\": [0.4472171767430404, 0.50311932383592051, 0.91218988651557542, 0.93690688460570326, 0.89663077633151067, 0.86439501533453045, 0.072032917944544209, 0.22354644983618463, 0.024838494426242735, 0.47193139409861196, 0.27322343868867011, 0.91884755003649576, 0.93691078780025017, 0.82026655131459447, 0.91831805108922659, 0.041741729594964846, 0.071476408005794551, 0.92919330407532919, 0.77414470291137039, 0.50639700366780183, 0.24731016458194974, 0.12954341954292606, 0.070660047023414205, 0.05888337251951184, 0.68442038184741727, 0.048887170131958375, 0.1140700636412362, 0.032591446754638917, 0.1140700636412362, 0.38069528216553122, 0.021149737898085066, 0.063449213694255199, 0.042299475796170133, 0.48644397165595654, 0.96237793722404186, 0.87740776009246524, 0.83173972100746663, 0.86766065535079462, 0.041317174064323552, 0.082634348128647103, 0.95184201920928035, 0.92039337774927121, 0.01939448973182175, 0.69820163034558302, 0.0387889794636435, 0.01939448973182175, 0.23273387678186103, 0.13841081034528183, 0.83046486207169101, 0.83649632963746245, 0.80665696053672997, 0.030821476752842532, 0.030821476752842532, 0.69348322693895692, 0.16951812214063391, 0.077053691882106326, 0.83284257940728779, 0.42061235165880556, 0.56081646887840741, 0.046760508245518584, 0.046760508245518584, 0.88844965666485309, 0.10538871787048036, 0.84310974296384289, 0.052694358935240181, 0.3866154141984694, 0.31632170252602038, 0.017573427918112245, 0.26360141877168364, 0.017573427918112245, 0.95634881615287959, 0.022240670143090224, 0.022240670143090224, 0.029975729842237505, 0.044963594763356256, 0.67445392145034389, 0.16486651413230627, 0.074939324605593757, 0.94111737648566263, 0.77414419261250611, 0.81926173833243909, 0.038331629713537388, 0.9199591131248972, 0.019165814856768694, 0.019165814856768694, 0.91517163440758176, 0.92361352072213998, 0.061574234714809335, 0.88101585578457886, 0.92039690582669487, 0.14432466158254545, 0.86594796949527264, 0.10567080546888979, 0.84536644375111836, 0.052835402734444897, 0.047142001729053529, 0.047142001729053529, 0.8956980328520171, 0.047141762616606679, 0.047141762616606679, 0.89569348971552687, 0.04859451622761244, 0.92329580832463642, 0.91479029254270239, 0.88271125058844935, 0.038304612741879629, 0.91931070580511109, 0.019152306370939814, 0.019152306370939814, 0.047381573833734335, 0.047381573833734335, 0.90024990284095241, 0.33059502830636772, 0.025430386792797518, 0.025430386792797518, 0.63575966981993792, 0.090775048376264614, 0.90775048376264611, 0.043638528095548086, 0.74185497762431751, 0.17455411238219234, 0.94840519493762476, 0.039516883122401029, 0.64897222142265443, 0.32448611071132721, 0.024960470054717476, 0.024960470054717476, 0.86221374234066694, 0.95327791736417533, 0.022169253892190124, 0.022169253892190124, 0.97049959698037147, 0.019806114224089216, 0.019806114224089216, 0.9321159747162695, 0.8676355663848927, 0.87162608262855545, 0.07263550688571295, 0.038756593567131799, 0.91077994882759739, 0.019378296783565899, 0.019378296783565899, 0.090775316466963699, 0.90775316466963696, 0.94480158415938176, 0.048520299437269251, 0.92188568930811576, 0.048520299437269251, 0.86785962316208687, 0.90336156358728892, 0.93690818987350089, 0.95760681036540374, 0.061409768713676482, 0.85973676199147075, 0.071726320552682826, 0.78898952607951112, 0.071726320552682826, 0.94626058746709651, 0.040624800729126186, 0.040624800729126186, 0.48749760874951426, 0.44687280802038809, 0.10719622694251733, 0.85756981554013867, 0.053598113471258667, 0.91535348605654088, 0.07041180661973391, 0.33715157909296917, 0.16857578954648458, 0.11238385969765639, 0.20603707611237004, 0.18730643282942733, 0.8358202184268223, 0.38132502862433626, 0.038132502862433623, 0.57198754293650433, 0.9575660391225056, 0.92466312200661094, 0.08739255297036741, 0.78653297673330669, 0.9516015982851721, 0.050084294646588007, 0.75163063523714602, 0.94480125653724956, 0.93456671297541682, 0.85045032063943082, 0.19151273702074648, 0.57453821106223946, 0.21279193002305163, 0.046749652225152434, 0.046749652225152434, 0.88824339227789617, 0.67571306516107366, 0.29378828920046685, 0.014689414460023342, 0.014689414460023342, 0.92048487903731524, 0.048446572580911326, 0.048446572580911326, 0.050837145579768636, 0.91506862043583548, 0.92599688671139002, 0.8192606894556449, 0.88419353594299188, 0.8169177371794395, 0.84718397834613268, 0.94987985007887421, 0.070032326054565761, 0.91042023870935496, 0.47287021158630094, 0.026270567310350053, 0.026270567310350053, 0.47287021158630094, 0.084367955306659859, 0.59057568714661901, 0.16873591061331972, 0.084367955306659859, 0.91477184284550583, 0.88639395537431931, 0.86812321263345682, 0.096458134737050755, 0.85829286609257904, 0.12261326658465416, 0.94480164732446292, 0.8192607222356747, 0.86395139272029953, 0.023532000733233024, 0.34121401063187889, 0.43534201356481095, 0.10589400329954861, 0.082362002566315595, 0.72471341680486934, 0.83368309198882773, 0.83032228937520791, 0.09072508331666948, 0.90725083316669475, 0.95437137069337685, 0.79942358164741767, 0.8245572658522542, 0.11779389512175061, 0.070099533295345268, 0.91129393283948845, 0.85936052139499719, 0.10224309100508112, 0.81794472804064899, 0.051121545502540562, 0.71391092377829957, 0.15864687195073324, 0.026441145325122206, 0.026441145325122206, 0.10576458130048882, 0.034740910010573722, 0.33582879676887933, 0.40531061679002678, 0.12738333670543697, 0.092642426694863264, 0.9399966513865069, 0.037599866055460278, 0.018799933027730139, 0.97174535850899979, 0.019053830558999996, 0.019053830558999996, 0.91486144062123809, 0.95760620224876336, 0.9188472993851351, 0.07903255236597645, 0.869358076025741, 0.31808423876934533, 0.63616847753869066, 0.92506087057580233, 0.071158528505830945, 0.76210088799184483, 0.93859085088437111, 0.78565488984416865, 0.34548679506909508, 0.16365163976957137, 0.10910109317971424, 0.20001867082947611, 0.18183515529952374, 0.030380548980872696, 0.48608878369396313, 0.27342494082785423, 0.030380548980872696, 0.18228329388523618, 0.84490714317632287, 0.021122678579408073, 0.021122678579408073, 0.12673607147644844, 0.86112172544616983, 0.87694280885146558, 0.097438089872385059, 0.95756597786779485, 0.88495692267119996, 0.42568171618544809, 0.042568171618544808, 0.51081805942253766, 0.056281822001728952, 0.056281822001728952, 0.90050915202766324, 0.94480159217501192, 0.96678299282381175, 0.040282624700992156, 0.069214606982496249, 0.89978989077245131, 0.017161015320500336, 0.41186436769200802, 0.27457624512800538, 0.17161015320500334, 0.13728812256400269, 0.90221400042918309, 0.13064721420837666, 0.26129442841675332, 0.58791246393769492, 0.16212269108433, 0.61606622612045403, 0.097273614650598, 0.097273614650598, 0.032424538216866, 0.050222576582893481, 0.90400637849208265, 0.96729339775907675, 0.019740681586919932, 0.019740681586919932, 0.93002780590800849, 0.86153936315953206, 0.9621131530950332, 0.89972259212029493, 0.07657213549959957, 0.019143033874899892, 0.73177296013424242, 0.13938532573985568, 0.10453899430489177, 0.93592843362121092, 0.92827591633587347, 0.96824849309551686, 0.019760173328479937, 0.019760173328479937, 0.96087351688949896, 0.86509201672523262, 0.53740040741632322, 0.24803095726907229, 0.14468472507362548, 0.020669246439089357, 0.062007739317268072, 0.035363754480506396, 0.33006170848472638, 0.43615297192624553, 0.10609126344151919, 0.094303345281350384, 0.90606814060991581, 0.30483982980350571, 0.13336742553903375, 0.019052489362719107, 0.15241991490175286, 0.40010227661710124, 0.89790591821959542, 0.074825493184966285, 0.96087335603897661, 0.94356134246749779, 0.9031587094811121, 0.94662804551200141, 0.019721417614833363, 0.019721417614833363, 0.43406162143218419, 0.28308366615142444, 0.20759468851104459, 0.056616733230284891, 0.068923296121445043, 0.89600284957878551, 0.23909408869287682, 0.053132019709528182, 0.10626403941905636, 0.50475418724051779, 0.10626403941905636, 0.89655123558734795, 0.88768281938490379, 0.080698438125900343, 0.83853252257888999, 0.96900910953564423, 0.49247471795215653, 0.15389834936004892, 0.092339009616029352, 0.030779669872009783, 0.24623735897607826, 0.042765595644287939, 0.042765595644287939, 0.89807750853004675, 0.81468716194569113, 0.14547985034744484, 0.029095970069488969, 0.066602650597184607, 0.79923180716621534, 0.066602650597184607, 0.29612831877774909, 0.65806293061722021, 0.032903146530861009, 0.047141750022754184, 0.047141750022754184, 0.8956932504323295, 0.069769056020154679, 0.90699772826201075, 0.55070245214877411, 0.29829716158058595, 0.02294593550619892, 0.02294593550619892, 0.091783742024795681, 0.91884803136451176, 0.97050084982935925, 0.019806139792435902, 0.019806139792435902, 0.15317714142045985, 0.76588570710229931, 0.93456555854720735, 0.72962195156181808, 0.89271011371597686, 0.81252547007073705, 0.045140303892818721, 0.045140303892818721, 0.090280607785637443, 0.1323283038201325, 0.79396982292079499, 0.73880312338033249, 0.10554330334004751, 0.21108660668009502, 0.88839645169889914, 0.32187173908854644, 0.14081888585123906, 0.020116983693034152, 0.5230415760188879, 0.37779744225460332, 0.13738088809258303, 0.10303566606943727, 0.034345222023145758, 0.37779744225460332, 0.93066531759210958, 0.93866371731914955, 0.83310678648979253, 0.11202788408416581, 0.11202788408416581, 0.78419518858916071, 0.047985560080969929, 0.86374008145745873, 0.14192419271597156, 0.85154515629582939, 0.80445545928932605, 0.045913590765405639, 0.045913590765405639, 0.87235822454270706, 0.96976146813428787, 0.019791050370087507, 0.019791050370087507, 0.82381369433030172, 0.074892154030027427, 0.074892154030027427, 0.18366409068075173, 0.073465636272300697, 0.33059536322535316, 0.33059536322535316, 0.036732818136150348, 0.90038243989258782, 0.047388549468030942, 0.047388549468030942, 0.85228348509045904, 0.077480316826405368, 0.092522643283025882, 0.83270378954723301], \"Term\": [\"abcnews\", \"abcnews\", \"abctv\", \"ancestors\", \"andrew\", \"anglican\", \"anglican\", \"anti\", \"anti\", \"anti\", \"anti\", \"arabic\", \"arrived\", \"asked\", \"attacks\", \"attacks\", \"attire\", \"attire\", \"attracted\", \"auspol\", \"auspol\", \"auspol\", \"auspol\", \"auspol\", \"australia\", \"australia\", \"australia\", \"australia\", \"australia\", \"australian\", \"australian\", \"australian\", \"australian\", \"australian\", \"bigot\", \"bigotry\", \"bizarre\", \"blame\", \"blame\", \"blame\", \"bolt\", \"brand\", \"brian\", \"brian\", \"brian\", \"brian\", \"brian\", \"brisbanetimes\", \"brisbanetimes\", \"bunk\", \"censored\", \"change\", \"change\", \"change\", \"change\", \"change\", \"charged\", \"children\", \"children\", \"christ\", \"christ\", \"christ\", \"christianity\", \"christianity\", \"christianity\", \"church\", \"church\", \"church\", \"church\", \"church\", \"clash\", \"clash\", \"clash\", \"climate\", \"climate\", \"climate\", \"climate\", \"climate\", \"close\", \"coherent\", \"complains\", \"continues\", \"continues\", \"continues\", \"continues\", \"counterproductive\", \"crap\", \"crap\", \"culture\", \"damaging\", \"dangerous\", \"dangerous\", \"decline\", \"decline\", \"decline\", \"defecation\", \"defecation\", \"defecation\", \"demands\", \"demands\", \"demands\", \"denial\", \"denial\", \"denied\", \"denier\", \"deny\", \"deny\", \"deny\", \"deny\", \"deptofaustralia\", \"deptofaustralia\", \"deptofaustralia\", \"destroy\", \"destroy\", \"destroy\", \"destroy\", \"destroys\", \"destroys\", \"discredited\", \"discredited\", \"discredited\", \"disturbing\", \"disturbing\", \"dressed\", \"dressed\", \"dressed\", \"dressed\", \"dumb\", \"embarrassing\", \"embarrassing\", \"embarrassing\", \"emergency\", \"emergency\", \"emergency\", \"employees\", \"eureka\", \"exaggerated\", \"exaggerated\", \"existence\", \"existence\", \"existence\", \"existence\", \"exposes\", \"exposes\", \"extends\", \"fact\", \"fact\", \"fact\", \"fark\", \"farrellpf\", \"flash\", \"folkes\", \"going\", \"going\", \"gosford\", \"gosford\", \"gosford\", \"graph\", \"group\", \"group\", \"group\", \"group\", \"growth\", \"growth\", \"growth\", \"guard\", \"guard\", \"hanson\", \"hanson\", \"hanson\", \"hanson\", \"hanson\", \"hillyhobbit\", \"hits\", \"hits\", \"hits\", \"hoax\", \"icymi\", \"idiot\", \"idiot\", \"important\", \"important\", \"innocent\", \"invitation\", \"invites\", \"irony\", \"islam\", \"islam\", \"islam\", \"jesus\", \"jesus\", \"jesus\", \"johndory\", \"johndory\", \"johndory\", \"johndory\", \"johnjohnsonson\", \"johnjohnsonson\", \"johnjohnsonson\", \"julianburnside\", \"julianburnside\", \"justjen\", \"killed\", \"kochie\", \"labelled\", \"latest\", \"legitimisation\", \"length\", \"length\", \"life\", \"life\", \"life\", \"life\", \"like\", \"like\", \"like\", \"like\", \"liked\", \"loathing\", \"long\", \"long\", \"look\", \"look\", \"lunch\", \"maimed\", \"makes\", \"malcolm\", \"malcolm\", \"malcolm\", \"malcolm\", \"malcolm\", \"malcolmroberts\", \"manus\", \"markhumphries\", \"matilda\", \"matilda\", \"mediawatch\", \"meehanelisabeth\", \"mgliksmanmdphd\", \"mgliksmanmdphd\", \"mock\", \"mock\", \"mocks\", \"muslim\", \"muslim\", \"muslim\", \"muslims\", \"muslims\", \"muslims\", \"muslims\", \"muslims\", \"nation\", \"nation\", \"nation\", \"nation\", \"nation\", \"nauru\", \"nauru\", \"nauru\", \"naurufiles\", \"naurufiles\", \"naurufiles\", \"newmatilda\", \"nick\", \"numerals\", \"office\", \"office\", \"onenation\", \"onenation\", \"oxygen\", \"oxygen\", \"panic\", \"particle\", \"patriots\", \"pauline\", \"pauline\", \"pauline\", \"pauline\", \"pauline\", \"people\", \"people\", \"people\", \"people\", \"people\", \"physicist\", \"physicist\", \"physicist\", \"physicist\", \"policy\", \"politicsfairfax\", \"politicsfairfax\", \"presented\", \"problem\", \"profbriancox\", \"profbriancox\", \"profbriancox\", \"professor\", \"professor\", \"professor\", \"protesters\", \"puerile\", \"puerile\", \"puts\", \"puts\", \"qanda\", \"qanda\", \"qanda\", \"qanda\", \"qanda\", \"quotethon\", \"racism\", \"racism\", \"racism\", \"racist\", \"racist\", \"racist\", \"racist\", \"racist\", \"raised\", \"raised\", \"rally\", \"rally\", \"rally\", \"rant\", \"readfearn\", \"recap\", \"reclaim\", \"reclaim\", \"reclaim\", \"reclaimanglesea\", \"reclaimanglesea\", \"reclaimanglesea\", \"reports\", \"responds\", \"response\", \"response\", \"response\", \"rhodes\", \"richardtuffin\", \"right\", \"right\", \"right\", \"right\", \"right\", \"roberts\", \"roberts\", \"roberts\", \"roberts\", \"roberts\", \"sandraeckersley\", \"says\", \"says\", \"says\", \"says\", \"says\", \"scaa\", \"scaa\", \"scholar\", \"scienceweek\", \"seanbradbery\", \"security\", \"security\", \"security\", \"senator\", \"senator\", \"senator\", \"senator\", \"service\", \"service\", \"shit\", \"shit\", \"shit\", \"shit\", \"shit\", \"showing\", \"skynewsaust\", \"skynewsaust\", \"snap\", \"spoke\", \"squat\", \"squat\", \"squat\", \"squat\", \"squat\", \"squatted\", \"squatted\", \"squatted\", \"storm\", \"storm\", \"storm\", \"stormed\", \"stormed\", \"stormed\", \"stunt\", \"stunt\", \"stunt\", \"style\", \"style\", \"style\", \"sunday\", \"sunday\", \"supporters\", \"supporters\", \"supporters\", \"supporters\", \"supporters\", \"teaching\", \"team\", \"team\", \"team\", \"thefeedsbs\", \"thefeedsbs\", \"themed\", \"themurdochtimes\", \"theshovel\", \"things\", \"things\", \"things\", \"things\", \"thinks\", \"thinks\", \"thought\", \"thought\", \"thought\", \"threaten\", \"toilet\", \"toilet\", \"toilet\", \"toilet\", \"toilets\", \"toilets\", \"toilets\", \"toilets\", \"toilets\", \"turnbull\", \"unloads\", \"values\", \"video\", \"video\", \"video\", \"views\", \"views\", \"watch\", \"watch\", \"week\", \"western\", \"western\", \"western\", \"wilson\", \"wilson\", \"wilson\", \"wonder\", \"wonder\", \"wonder\", \"worried\", \"worried\", \"worried\", \"worried\", \"worried\", \"worry\", \"worry\", \"worry\", \"wrong\", \"wrong\", \"youtube\", \"youtube\"]}, \"mdsDat\": {\"y\": [0.032143096772483351, 0.19553635606966585, -0.10074296655824594, -0.024557977557836942, -0.10237850872606637], \"cluster\": [1, 1, 1, 1, 1], \"Freq\": [23.200109028823569, 22.257601900608869, 20.004589400187303, 18.151472734569278, 16.386226935810992], \"topics\": [1, 2, 3, 4, 5], \"x\": [-0.25405154895469784, 0.079931498955063615, 0.071451431683480324, 0.13165906936619298, -0.028990451050039182]}, \"R\": 30, \"lambda.step\": 0.01, \"tinfo\": {\"Category\": [\"Default\", \"Default\", \"Default\", \"Default\", \"Default\", \"Default\", \"Default\", \"Default\", \"Default\", \"Default\", \"Default\", \"Default\", \"Default\", \"Default\", \"Default\", \"Default\", \"Default\", \"Default\", \"Default\", \"Default\", \"Default\", \"Default\", \"Default\", \"Default\", \"Default\", \"Default\", \"Default\", \"Default\", \"Default\", \"Default\", \"Topic1\", \"Topic1\", \"Topic1\", \"Topic1\", \"Topic1\", \"Topic1\", \"Topic1\", \"Topic1\", \"Topic1\", \"Topic1\", \"Topic1\", \"Topic1\", \"Topic1\", \"Topic1\", \"Topic1\", \"Topic1\", \"Topic1\", \"Topic1\", \"Topic1\", \"Topic1\", \"Topic1\", \"Topic1\", \"Topic1\", \"Topic1\", \"Topic1\", \"Topic1\", \"Topic1\", \"Topic1\", \"Topic1\", \"Topic1\", \"Topic1\", \"Topic1\", \"Topic1\", \"Topic1\", \"Topic1\", \"Topic1\", \"Topic1\", \"Topic1\", \"Topic1\", \"Topic1\", \"Topic1\", \"Topic1\", \"Topic1\", \"Topic1\", \"Topic1\", \"Topic1\", \"Topic1\", \"Topic1\", \"Topic1\", \"Topic1\", \"Topic2\", \"Topic2\", \"Topic2\", \"Topic2\", \"Topic2\", \"Topic2\", \"Topic2\", \"Topic2\", \"Topic2\", \"Topic2\", \"Topic2\", \"Topic2\", \"Topic2\", \"Topic2\", \"Topic2\", \"Topic2\", \"Topic2\", \"Topic2\", \"Topic2\", \"Topic2\", \"Topic2\", \"Topic2\", \"Topic2\", \"Topic2\", \"Topic2\", \"Topic2\", \"Topic2\", \"Topic2\", \"Topic2\", \"Topic2\", \"Topic2\", \"Topic2\", \"Topic2\", \"Topic2\", \"Topic2\", \"Topic2\", \"Topic2\", \"Topic2\", \"Topic2\", \"Topic2\", \"Topic2\", \"Topic2\", \"Topic2\", \"Topic2\", \"Topic2\", \"Topic2\", \"Topic2\", \"Topic3\", \"Topic3\", \"Topic3\", \"Topic3\", \"Topic3\", \"Topic3\", \"Topic3\", \"Topic3\", \"Topic3\", \"Topic3\", \"Topic3\", \"Topic3\", \"Topic3\", \"Topic3\", \"Topic3\", \"Topic3\", \"Topic3\", \"Topic3\", \"Topic3\", \"Topic3\", \"Topic3\", \"Topic3\", \"Topic3\", \"Topic3\", \"Topic3\", \"Topic3\", \"Topic3\", \"Topic3\", \"Topic3\", \"Topic3\", \"Topic3\", \"Topic3\", \"Topic3\", \"Topic3\", \"Topic3\", \"Topic3\", \"Topic3\", \"Topic3\", \"Topic3\", \"Topic3\", \"Topic3\", \"Topic3\", \"Topic3\", \"Topic3\", \"Topic3\", \"Topic3\", \"Topic3\", \"Topic3\", \"Topic3\", \"Topic4\", \"Topic4\", \"Topic4\", \"Topic4\", \"Topic4\", \"Topic4\", \"Topic4\", \"Topic4\", \"Topic4\", \"Topic4\", \"Topic4\", \"Topic4\", \"Topic4\", \"Topic4\", \"Topic4\", \"Topic4\", \"Topic4\", \"Topic4\", \"Topic4\", \"Topic4\", \"Topic4\", \"Topic4\", \"Topic4\", \"Topic4\", \"Topic4\", \"Topic4\", \"Topic4\", \"Topic4\", \"Topic4\", \"Topic4\", \"Topic4\", \"Topic4\", \"Topic4\", \"Topic4\", \"Topic4\", \"Topic4\", \"Topic4\", \"Topic4\", \"Topic4\", \"Topic4\", \"Topic4\", \"Topic4\", \"Topic4\", \"Topic5\", \"Topic5\", \"Topic5\", \"Topic5\", \"Topic5\", \"Topic5\", \"Topic5\", \"Topic5\", \"Topic5\", \"Topic5\", \"Topic5\", \"Topic5\", \"Topic5\", \"Topic5\", \"Topic5\", \"Topic5\", \"Topic5\", \"Topic5\", \"Topic5\", \"Topic5\", \"Topic5\", \"Topic5\", \"Topic5\", \"Topic5\", \"Topic5\", \"Topic5\", \"Topic5\", \"Topic5\", \"Topic5\", \"Topic5\", \"Topic5\", \"Topic5\", \"Topic5\", \"Topic5\", \"Topic5\", \"Topic5\", \"Topic5\", \"Topic5\", \"Topic5\", \"Topic5\", \"Topic5\", \"Topic5\", \"Topic5\", \"Topic5\", \"Topic5\", \"Topic5\", \"Topic5\", \"Topic5\", \"Topic5\", \"Topic5\", \"Topic5\", \"Topic5\"], \"Term\": [\"naurufiles\", \"deny\", \"continues\", \"existence\", \"team\", \"emergency\", \"rally\", \"wilson\", \"response\", \"nauru\", \"security\", \"embarrassing\", \"clash\", \"reclaim\", \"johndory\", \"physicist\", \"change\", \"climate\", \"destroy\", \"brian\", \"toilet\", \"bigot\", \"islam\", \"squatted\", \"puerile\", \"life\", \"australian\", \"storm\", \"disturbing\", \"christ\", \"naurufiles\", \"team\", \"emergency\", \"wilson\", \"rally\", \"response\", \"puerile\", \"security\", \"nauru\", \"reports\", \"farrellpf\", \"spoke\", \"disturbing\", \"reclaim\", \"crap\", \"guard\", \"fark\", \"manus\", \"quotethon\", \"threaten\", \"unloads\", \"rant\", \"theshovel\", \"invitation\", \"extends\", \"protesters\", \"lunch\", \"exaggerated\", \"latest\", \"employees\", \"storm\", \"wonder\", \"australia\", \"reclaimanglesea\", \"johndory\", \"muslims\", \"long\", \"dressed\", \"auspol\", \"supporters\", \"right\", \"life\", \"squat\", \"church\", \"australian\", \"pauline\", \"hanson\", \"toilet\", \"says\", \"destroy\", \"bigot\", \"clash\", \"embarrassing\", \"recap\", \"attacks\", \"important\", \"hoax\", \"presented\", \"graph\", \"andrew\", \"bolt\", \"nick\", \"folkes\", \"damaging\", \"brand\", \"sandraeckersley\", \"bigotry\", \"johnjohnsonson\", \"skynewsaust\", \"attire\", \"fact\", \"mock\", \"service\", \"seanbradbery\", \"sunday\", \"turnbull\", \"worry\", \"bizarre\", \"blame\", \"patriots\", \"physicist\", \"things\", \"muslim\", \"brian\", \"stormed\", \"racist\", \"senator\", \"malcolm\", \"nation\", \"qanda\", \"roberts\", \"people\", \"johndory\", \"auspol\", \"church\", \"supporters\", \"dressed\", \"deny\", \"continues\", \"existence\", \"raised\", \"julianburnside\", \"oxygen\", \"makes\", \"scaa\", \"denial\", \"dumb\", \"charged\", \"rhodes\", \"scholar\", \"hillyhobbit\", \"censored\", \"politicsfairfax\", \"meehanelisabeth\", \"views\", \"close\", \"loathing\", \"irony\", \"kochie\", \"week\", \"policy\", \"attracted\", \"coherent\", \"office\", \"eureka\", \"invites\", \"themed\", \"look\", \"idiot\", \"discredited\", \"change\", \"climate\", \"mgliksmanmdphd\", \"roberts\", \"malcolm\", \"nation\", \"onenation\", \"qanda\", \"senator\", \"thought\", \"like\", \"worried\", \"people\", \"auspol\", \"right\", \"australia\", \"responds\", \"denied\", \"scienceweek\", \"abctv\", \"icymi\", \"counterproductive\", \"problem\", \"squatted\", \"christ\", \"demands\", \"style\", \"defecation\", \"deptofaustralia\", \"jesus\", \"anglican\", \"western\", \"bunk\", \"readfearn\", \"mediawatch\", \"legitimisation\", \"richardtuffin\", \"decline\", \"christianity\", \"growth\", \"showing\", \"wrong\", \"flash\", \"ancestors\", \"arrived\", \"justjen\", \"gosford\", \"stunt\", \"islam\", \"hits\", \"shit\", \"anti\", \"racism\", \"profbriancox\", \"group\", \"church\", \"senator\", \"change\", \"climate\", \"culture\", \"puts\", \"length\", \"newmatilda\", \"mocks\", \"particle\", \"professor\", \"matilda\", \"destroys\", \"exposes\", \"denier\", \"going\", \"values\", \"asked\", \"youtube\", \"snap\", \"arabic\", \"numerals\", \"teaching\", \"liked\", \"panic\", \"innocent\", \"thinks\", \"labelled\", \"killed\", \"maimed\", \"complains\", \"markhumphries\", \"malcolmroberts\", \"themurdochtimes\", \"brisbanetimes\", \"dangerous\", \"thefeedsbs\", \"destroy\", \"watch\", \"video\", \"toilet\", \"australian\", \"life\", \"says\", \"group\", \"abcnews\", \"children\", \"toilets\", \"anti\", \"brian\", \"islam\", \"pauline\", \"hanson\", \"squat\", \"nation\", \"qanda\"], \"loglift\": [30.0, 29.0, 28.0, 27.0, 26.0, 25.0, 24.0, 23.0, 22.0, 21.0, 20.0, 19.0, 18.0, 17.0, 16.0, 15.0, 14.0, 13.0, 12.0, 11.0, 10.0, 9.0, 8.0, 7.0, 6.0, 5.0, 4.0, 3.0, 2.0, 1.0, 1.4277, 1.4242999999999999, 1.4241999999999999, 1.4214, 1.421, 1.4208000000000001, 1.4121999999999999, 1.4116, 1.4017999999999999, 1.3971, 1.3948, 1.3946000000000001, 1.3882000000000001, 1.363, 1.3500000000000001, 1.3369, 1.3357000000000001, 1.3352999999999999, 1.3339000000000001, 1.3322000000000001, 1.3293999999999999, 1.3263, 1.3258000000000001, 1.325, 1.3249, 1.3249, 1.3249, 1.3219000000000001, 1.3203, 1.3139000000000001, 1.2645999999999999, 1.2908999999999999, 1.0866, 1.1651, 1.0644, 1.1131, 1.2646999999999999, 1.0154000000000001, 0.78290000000000004, 0.88200000000000001, 0.83989999999999998, 0.68520000000000003, 0.74690000000000001, 0.4909, 0.47560000000000002, 0.37240000000000001, 0.3755, 0.31950000000000001, 0.2465, 0.3261, 1.4690000000000001, 1.4596, 1.4592000000000001, 1.4516, 1.4330000000000001, 1.4287000000000001, 1.4268000000000001, 1.4267000000000001, 1.4261999999999999, 1.4231, 1.4221999999999999, 1.4212, 1.4212, 1.4186000000000001, 1.4184000000000001, 1.4165000000000001, 1.4162999999999999, 1.4140999999999999, 1.4105000000000001, 1.4004000000000001, 1.3997999999999999, 1.3925000000000001, 1.3855, 1.3848, 1.3801000000000001, 1.3801000000000001, 1.3794999999999999, 1.3734999999999999, 1.3694999999999999, 1.3584000000000001, 1.3268, 1.3024, 1.2932999999999999, 1.1523000000000001, 1.3131999999999999, 1.0105, 0.68359999999999999, 0.434, 0.42249999999999999, 0.59819999999999995, 0.40260000000000001, 0.80410000000000004, 0.28270000000000001, 0.089700000000000002, 0.34499999999999997, 0.30209999999999998, 0.3649, 1.5256000000000001, 1.5244, 1.5243, 1.5173000000000001, 1.5172000000000001, 1.5161, 1.5136000000000001, 1.5126999999999999, 1.5115000000000001, 1.5015000000000001, 1.5007999999999999, 1.4938, 1.4937, 1.4884999999999999, 1.4877, 1.4806999999999999, 1.4789000000000001, 1.4754, 1.4742, 1.4672000000000001, 1.4560999999999999, 1.4457, 1.4455, 1.4442999999999999, 1.4417, 1.4415, 1.4415, 1.4369000000000001, 1.4298999999999999, 1.4298, 1.4225000000000001, 1.3880999999999999, 1.3304, 1.2333000000000001, 1.2258, 1.3605, 0.78249999999999997, 0.77370000000000005, 0.7137, 1.1386000000000001, 0.31240000000000001, 0.35499999999999998, 1.2497, 1.0839000000000001, 0.55200000000000005, 0.35880000000000001, -0.42930000000000001, -0.34300000000000003, -0.57789999999999997, 1.6465000000000001, 1.6440999999999999, 1.643, 1.6425000000000001, 1.6422000000000001, 1.6163000000000001, 1.6052, 1.6052, 1.6028, 1.6015999999999999, 1.6015999999999999, 1.6014999999999999, 1.6009, 1.6002000000000001, 1.5939000000000001, 1.5900000000000001, 1.5848, 1.5765, 1.5731999999999999, 1.5720000000000001, 1.5684, 1.5629, 1.5616000000000001, 1.5601, 1.5591999999999999, 1.5586, 1.5518000000000001, 1.5518000000000001, 1.5516000000000001, 1.5481, 1.5130999999999999, 1.2950999999999999, 1.1407, 1.1594, 1.038, 0.96689999999999998, 1.1917, 1.0037, 0.95840000000000003, 0.3881, 0.1573, -0.039800000000000002, -0.082199999999999995, 1.7165999999999999, 1.7116, 1.7099, 1.7090000000000001, 1.7040999999999999, 1.7005999999999999, 1.6989000000000001, 1.6988000000000001, 1.6930000000000001, 1.6929000000000001, 1.6875, 1.6819999999999999, 1.6766000000000001, 1.6742999999999999, 1.6727000000000001, 1.6660999999999999, 1.6559999999999999, 1.6558999999999999, 1.6557999999999999, 1.6489, 1.6382000000000001, 1.6342000000000001, 1.6316999999999999, 1.6314, 1.6296999999999999, 1.6295999999999999, 1.6295999999999999, 1.6206, 1.6133999999999999, 1.6055999999999999, 1.605, 1.5973999999999999, 1.5973999999999999, 1.3623000000000001, 1.5722, 1.5096000000000001, 1.1571, 1.0976999999999999, 1.0752999999999999, 0.89359999999999995, 1.0014000000000001, 1.1072, 1.1834, 0.81620000000000004, 0.50119999999999998, 0.33929999999999999, 0.27350000000000002, 0.1318, 0.12709999999999999, 0.37109999999999999, -0.54930000000000001, -0.23300000000000001], \"Freq\": [52.0, 52.0, 52.0, 51.0, 50.0, 50.0, 50.0, 50.0, 50.0, 53.0, 50.0, 45.0, 44.0, 52.0, 68.0, 47.0, 64.0, 66.0, 39.0, 51.0, 49.0, 24.0, 46.0, 23.0, 24.0, 38.0, 47.0, 34.0, 25.0, 21.0, 50.76514651475938, 48.670110584659504, 48.666640751277413, 48.565214224005636, 48.671746279830401, 48.612567208782188, 23.641388726177436, 48.259802473357603, 50.135723963104688, 11.025697227485491, 10.360917380647189, 11.588264315676369, 23.52803974576884, 47.362648202750208, 14.533813562381205, 12.544868654801844, 7.1155721178180382, 7.4048035314529574, 6.8328153205517523, 5.9373834719367187, 5.6040341292878582, 7.51751880255717, 6.8497956532032118, 5.5426978204462509, 5.542369408748506, 5.5422774443468947, 5.5422090170631018, 11.979945929476045, 7.1780074473436537, 5.5563949788641702, 28.239037944826595, 11.263310160595635, 42.199532112528743, 21.345966850357893, 45.78874239057793, 26.706111435380222, 8.5189782042775875, 25.658699474851943, 43.0981750913921, 24.423727591155508, 25.996299977582851, 17.523464718819337, 15.907421382032267, 21.569735330500425, 17.650249655748553, 18.515640053013957, 18.029915539784795, 15.873454771809342, 15.581150135484839, 12.639990924459422, 24.118137716220428, 43.07374981117114, 43.196094087582573, 17.780416638769818, 22.348673598516875, 18.545548113848316, 10.649637196575171, 10.649458805411294, 10.771053868072675, 9.2714497127516093, 9.6950573877406203, 8.6645178861089658, 8.6644420384404572, 7.9921725779253041, 7.9912620808071173, 8.102012918427592, 8.364570920064379, 18.895349577926012, 11.302314889082812, 12.633418273292927, 18.599229394223194, 12.779836721533671, 12.907463935762882, 5.9058092329377967, 12.682431114122151, 8.5568151962021552, 18.659661832746202, 5.2837595550469372, 21.189693152110475, 4.408215892140924, 39.714137428437922, 18.135024480901592, 15.868645940879619, 36.325972968329012, 12.425644158530327, 18.855836351281088, 23.364695976252094, 29.195390277069343, 29.325593408096477, 23.590361976825019, 28.241723853441062, 16.371828931939973, 20.103224530742295, 20.674396655788755, 17.884212284562288, 13.121704258958276, 12.843916506545735, 48.023304438084295, 47.934018510959099, 47.40198738894351, 18.163564970674219, 17.941723371682667, 12.803704447989478, 7.3634790492453304, 12.134653980762646, 18.662230863742298, 8.3312366427688218, 6.464350485194835, 5.5636665315009548, 5.5629249714685161, 5.3021804288689065, 5.489000774268713, 9.0250032031842995, 5.4902517471913574, 18.229593978790479, 5.5699923401606792, 4.8941410272569872, 5.044563896790204, 4.801784726389509, 4.2214867724219651, 4.9234686069209053, 4.3700983661963093, 4.3693826993956835, 10.699441461328545, 3.8806087637727176, 3.5774303006547354, 3.5771979516026065, 6.766789173716889, 9.1725034327277655, 17.340389457270732, 44.557758952177629, 45.473179715896876, 6.6203791289928144, 37.114073682738947, 36.857576077302163, 35.267489179923871, 9.8183071205564652, 15.932229405529279, 15.117582039156002, 6.6138199071195469, 7.0095806463955794, 9.4584389301262899, 9.4267068369383882, 11.057413469237073, 6.8683155260893649, 6.8878489545031574, 14.204056709182035, 14.380014248744267, 13.925530810279021, 13.369083906653772, 14.198806024907352, 10.983815246039544, 9.1910957880100685, 21.131929483358764, 19.27964455902254, 19.102237320798242, 19.102199178973972, 19.099264000076221, 18.991941250033602, 19.235445042592715, 12.404885161443312, 19.386722865275548, 6.35159950436078, 6.1160641027755771, 5.5028136801016965, 5.5220317396635075, 5.0348539407472819, 16.396876741474482, 16.418739243142255, 16.117209762174571, 4.8136357336355049, 11.133530616444178, 4.5723248409343942, 4.5722585798246778, 4.5711980586076812, 4.6089881739552823, 11.491277723095733, 20.142619263197833, 26.690126341269508, 15.1748382231414, 19.291548794339189, 19.21736771667355, 9.1491496461478121, 11.633844745541122, 11.650280794808722, 15.227271323329322, 11.256608139603738, 11.318714412950348, 11.155311917728651, 11.386834060019751, 13.110507824210819, 12.935471386957776, 9.8933220339186487, 9.4321943322876614, 9.5623643573276915, 15.91923496472481, 9.8744514990490426, 9.8120093758608817, 9.8114167894795354, 11.03940173699973, 14.346107018762108, 6.3107211422155727, 5.3286690624911008, 9.4334442247054238, 6.2043759444599029, 4.67090112434584, 4.6702870765303173, 4.6697791345691, 4.6583882288483016, 4.4259384560704307, 4.4693719012417388, 6.3311104404614307, 4.1006808048796044, 4.0819459453793172, 4.0818127145448146, 4.0816653081514538, 3.9911972950903358, 3.4050598381236497, 3.3558024730742479, 5.8932851542320472, 5.6091001171670083, 5.2848787159108088, 25.162930221474479, 5.5620887059945474, 6.6183086638943927, 25.907364682342823, 23.222976056041805, 18.281280490005575, 21.019139627871134, 10.979260919595566, 8.8691600596098787, 7.6329129643194467, 10.791161983598741, 10.889858113926131, 11.862269051357263, 10.123251418828982, 10.281212908382349, 9.9337417746132406, 7.7156663988789127, 8.1697135046123925, 7.5635723470248264], \"Total\": [52.0, 52.0, 52.0, 51.0, 50.0, 50.0, 50.0, 50.0, 50.0, 53.0, 50.0, 45.0, 44.0, 52.0, 68.0, 47.0, 64.0, 66.0, 39.0, 51.0, 49.0, 24.0, 46.0, 23.0, 24.0, 38.0, 47.0, 34.0, 25.0, 21.0, 52.48288510299858, 50.489394222184913, 50.489459400559682, 50.527889187297262, 50.65681220766939, 50.606843542142435, 24.824598879113509, 50.706294016503925, 53.191678849333528, 11.753035386947033, 11.069764757634314, 12.383784509260684, 25.305639538993084, 52.238323691794101, 16.240559133729487, 14.202163642819182, 8.0658205695699667, 8.3964759118490164, 7.7586913932504933, 6.7537415176817452, 6.3920655388025134, 8.6018933511234188, 7.841291246115655, 6.3505419351264853, 6.3505397329941813, 6.3505396791166495, 6.3505393084263808, 13.767371398308436, 8.2626680613877479, 6.4369672473710837, 34.369020782319069, 13.352533559110315, 61.365793763522611, 28.697425491299363, 68.076232903732162, 37.819844326103457, 10.367191971170138, 40.063348078294787, 84.913614592017112, 43.580702984624303, 48.381057478167932, 38.06541321268007, 32.488977437323769, 56.904094332633825, 47.281909819343042, 54.994866001174152, 53.388449339092432, 49.709241467758758, 52.486579625481724, 39.323035396505389, 24.938227562892262, 44.962673946705785, 45.107517143474283, 18.708818128195823, 23.956841503774832, 19.966338890391562, 11.487458358569379, 11.487459093412674, 11.624704807207765, 10.037576489201879, 10.505945102431239, 9.3984353681765462, 9.398429399813665, 8.6919023188310796, 8.6919356368721274, 8.8293580156287526, 9.1177675464791008, 20.641295074690483, 12.391813561990709, 13.990630305861629, 20.609930515636581, 14.265430210309287, 14.508882428344231, 6.6433506503493218, 14.333001720864949, 9.6705011241694354, 21.102144109192785, 6.0114959929334848, 24.203010555445452, 5.0912939659719845, 47.342480559017403, 22.153151701734288, 19.561223945201412, 51.561036862920787, 15.014417459870154, 30.840840147411516, 52.98786822965738, 84.990648380165297, 86.353523816357196, 58.271610468490898, 84.83262153778648, 32.915797559471045, 68.076232903732162, 84.913614592017112, 56.904094332633825, 43.580702984624303, 40.063348078294787, 52.213032761282498, 52.176231872908609, 51.604122445274307, 19.911363933100439, 19.670655946465338, 14.053129273437083, 8.1023076749252017, 13.364429119471771, 20.578453653414059, 9.2784417681423843, 7.2042426124154728, 6.2443182110200706, 6.2443192563210355, 5.9821477032596571, 6.1984216892805604, 10.262926965314106, 6.2545065154272974, 20.839602545278598, 6.3754002953439324, 5.6408326903453752, 5.8792381855305011, 5.6548705648107944, 4.9723076073517971, 5.8063800415781737, 5.1669926629439829, 5.1669960689121641, 12.653014107013712, 4.6102305564379735, 4.2800582820514146, 4.2800635690213591, 8.1557243180499075, 11.442622580657124, 22.915530006201514, 64.889817448982186, 66.720644018544846, 8.4894043020345826, 84.83262153778648, 84.990648380165297, 86.353523816357196, 15.719106420817301, 58.271610468490898, 52.98786822965738, 9.4747839830076508, 11.85284147713678, 27.223612310209788, 32.915797559471045, 84.913614592017112, 48.381057478167932, 61.365793763522611, 15.081722743881302, 15.304053960920754, 14.837403112964273, 14.251418692721966, 15.140649244904033, 12.019603303287074, 10.169986548988094, 23.38328240106172, 21.385567384114943, 21.212613710114628, 21.21261937703467, 21.212506116041776, 21.105250819845676, 21.390533456460155, 13.882541878559847, 21.780043410446275, 7.1727750468437801, 6.9642784259980175, 6.2868608429031525, 6.3165883553607163, 5.7797319861155092, 18.926703464835551, 18.977363425731596, 18.657373090868912, 5.5769261159117178, 12.906503754243801, 5.3367022020322912, 5.3367096369499381, 5.3366874040797176, 5.3995861884127203, 13.941883429884044, 30.392230088452639, 46.994263358186117, 26.224347339790111, 37.642084959953806, 40.260089151919978, 15.308401423776909, 23.491730134924339, 24.615505357618755, 56.904094332633825, 52.98786822965738, 64.889817448982186, 66.720644018544846, 12.485586868586006, 14.447817355271424, 14.27912017688587, 10.930616983058641, 10.47290371844209, 10.654269632585564, 17.767726140231929, 11.022310076140364, 11.016243096395582, 11.016210561644639, 12.461606207768368, 16.284054165103726, 7.2019578969946538, 6.0955795308083509, 10.808165055780016, 7.1553575304952037, 5.4415990985679885, 5.4416005829759193, 5.4415962480486328, 5.4658437938436206, 5.2486489164710219, 5.321762861272898, 7.5569622758805393, 4.8964538508011151, 4.8824507894523625, 4.8824505940971132, 4.8824445385937025, 4.8174065073092009, 4.1395673523286742, 4.1117183955036491, 7.2248691955880027, 6.9288227599831043, 6.5283892278357278, 39.323035396505389, 7.0460150652487323, 8.9263490797407776, 49.709241467758758, 47.281909819343042, 38.06541321268007, 52.486579625481724, 24.615505357618755, 17.888400571422139, 14.264916321019289, 29.116131476048839, 40.260089151919978, 51.561036862920787, 46.994263358186117, 54.994866001174152, 53.388449339092432, 32.488977437323769, 86.353523816357196, 58.271610468490898], \"logprob\": [30.0, 29.0, 28.0, 27.0, 26.0, 25.0, 24.0, 23.0, 22.0, 21.0, 20.0, 19.0, 18.0, 17.0, 16.0, 15.0, 14.0, 13.0, 12.0, 11.0, 10.0, 9.0, 8.0, 7.0, 6.0, 5.0, 4.0, 3.0, 2.0, 1.0, -3.5508000000000002, -3.593, -3.5931000000000002, -3.5952000000000002, -3.593, -3.5941999999999998, -4.3151000000000002, -3.6015000000000001, -3.5632999999999999, -5.0777999999999999, -5.1399999999999997, -5.0281000000000002, -4.3198999999999996, -3.6202000000000001, -4.8015999999999996, -4.9486999999999997, -5.5157999999999996, -5.4759000000000002, -5.5563000000000002, -5.6967999999999996, -5.7545999999999999, -5.4607999999999999, -5.5537999999999998, -5.7656000000000001, -5.7656000000000001, -5.7656999999999998, -5.7656999999999998, -4.9947999999999997, -5.5069999999999997, -5.7630999999999997, -4.1374000000000004, -5.0564999999999998, -3.7355999999999998, -4.4172000000000002, -3.6539999999999999, -4.1932, -5.3357999999999999, -4.2332000000000001, -3.7145999999999999, -4.2824999999999998, -4.2201000000000004, -4.6144999999999996, -4.7112999999999996, -4.4067999999999996, -4.6073000000000004, -4.5594000000000001, -4.5860000000000003, -4.7134, -4.7320000000000002, -4.9412000000000003, -4.2535999999999996, -3.6737000000000002, -3.6707999999999998, -4.5585000000000004, -4.3297999999999996, -4.5164, -5.0711000000000004, -5.0711000000000004, -5.0597000000000003, -5.2096, -5.165, -5.2773000000000003, -5.2774000000000001, -5.3581000000000003, -5.3582000000000001, -5.3445, -5.3125999999999998, -4.4977, -5.0115999999999996, -4.9001999999999999, -4.5134999999999996, -4.8887, -4.8788, -5.6605999999999996, -4.8963999999999999, -5.2899000000000003, -4.5102000000000002, -5.7718999999999996, -4.3830999999999998, -5.9531000000000001, -3.7549000000000001, -4.5387000000000004, -4.6722000000000001, -3.8441000000000001, -4.9168000000000003, -4.4997999999999996, -4.2854000000000001, -4.0625999999999998, -4.0580999999999996, -4.2756999999999996, -4.0957999999999997, -4.641, -4.4356999999999998, -4.4077000000000002, -4.5526999999999997, -4.8623000000000003, -4.8837000000000002, -3.4582000000000002, -3.46, -3.4712000000000001, -4.4303999999999997, -4.4427000000000003, -4.7801, -5.3333000000000004, -4.8338000000000001, -4.4034000000000004, -5.2099000000000002, -5.4635999999999996, -5.6135999999999999, -5.6136999999999997, -5.6616999999999997, -5.6271000000000004, -5.1299000000000001, -5.6269, -4.4268000000000001, -5.6124999999999998, -5.7417999999999996, -5.7115999999999998, -5.7609000000000004, -5.8897000000000004, -5.7358000000000002, -5.8551000000000002, -5.8552, -4.9596999999999998, -5.9739000000000004, -6.0552000000000001, -6.0552999999999999, -5.4177999999999997, -5.1136999999999997, -4.4767999999999999, -3.5331000000000001, -3.5127000000000002, -5.4397000000000002, -3.7159, -3.7227999999999999, -3.7669000000000001, -5.0456000000000003, -4.5614999999999997, -4.6139999999999999, -5.4406999999999996, -5.3826000000000001, -5.0830000000000002, -5.0862999999999996, -4.9268000000000001, -5.4028999999999998, -5.4001000000000001, -4.5791000000000004, -4.5667999999999997, -4.5989000000000004, -4.6397000000000004, -4.5795000000000003, -4.8361999999999998, -5.0144000000000002, -4.1818999999999997, -4.2736000000000001, -4.2827999999999999, -4.2827999999999999, -4.2830000000000004, -4.2885999999999997, -4.2759, -4.7145999999999999, -4.2680999999999996, -5.3838999999999997, -5.4217000000000004, -5.5274000000000001, -5.5239000000000003, -5.6162999999999998, -4.4356, -4.4341999999999997, -4.4527999999999999, -5.6612, -4.8227000000000002, -5.7126000000000001, -5.7126000000000001, -5.7129000000000003, -5.7046000000000001, -4.7911000000000001, -4.2298, -3.9483999999999999, -4.5129999999999999, -4.2729999999999997, -4.2767999999999997, -5.0190000000000001, -4.7786999999999997, -4.7773000000000003, -4.5095999999999998, -4.8117000000000001, -4.8061999999999996, -4.8207000000000004, -4.6978999999999997, -4.5568999999999997, -4.5704000000000002, -4.8384999999999998, -4.8861999999999997, -4.8724999999999996, -4.3628, -4.8403999999999998, -4.8467000000000002, -4.8468, -4.7289000000000003, -4.4668999999999999, -5.2881, -5.4572000000000003, -4.8860999999999999, -5.3051000000000004, -5.5890000000000004, -5.5891000000000002, -5.5891999999999999, -5.5917000000000003, -5.6429, -5.6330999999999998, -5.2849000000000004, -5.7191999999999998, -5.7237999999999998, -5.7237999999999998, -5.7237999999999998, -5.7462999999999997, -5.9051, -5.9196999999999997, -5.3564999999999996, -5.4059999999999997, -5.4654999999999996, -3.9049999999999998, -5.4143999999999997, -5.2404999999999999, -3.8757999999999999, -3.9851999999999999, -4.2244999999999999, -4.0849000000000002, -4.7343000000000002, -4.9478, -5.0979000000000001, -4.7515999999999998, -4.7424999999999997, -4.657, -4.8155000000000001, -4.7999999999999998, -4.8343999999999996, -5.0871000000000004, -5.0298999999999996, -5.1070000000000002]}};\n",
       "\n",
       "function LDAvis_load_lib(url, callback){\n",
       "  var s = document.createElement('script');\n",
       "  s.src = url;\n",
       "  s.async = true;\n",
       "  s.onreadystatechange = s.onload = callback;\n",
       "  s.onerror = function(){console.warn(\"failed to load library \" + url);};\n",
       "  document.getElementsByTagName(\"head\")[0].appendChild(s);\n",
       "}\n",
       "\n",
       "if(typeof(LDAvis) !== \"undefined\"){\n",
       "   // already loaded: just create the visualization\n",
       "   !function(LDAvis){\n",
       "       new LDAvis(\"#\" + \"ldavis_el219603048287285323634292\", ldavis_el219603048287285323634292_data);\n",
       "   }(LDAvis);\n",
       "}else if(typeof define === \"function\" && define.amd){\n",
       "   // require.js is available: use it to load d3/LDAvis\n",
       "   require.config({paths: {d3: \"https://cdnjs.cloudflare.com/ajax/libs/d3/3.5.5/d3.min\"}});\n",
       "   require([\"d3\"], function(d3){\n",
       "      window.d3 = d3;\n",
       "      LDAvis_load_lib(\"https://cdn.rawgit.com/bmabey/pyLDAvis/files/ldavis.v1.0.0.js\", function(){\n",
       "        new LDAvis(\"#\" + \"ldavis_el219603048287285323634292\", ldavis_el219603048287285323634292_data);\n",
       "      });\n",
       "    });\n",
       "}else{\n",
       "    // require.js not available: dynamically load d3 & LDAvis\n",
       "    LDAvis_load_lib(\"https://cdnjs.cloudflare.com/ajax/libs/d3/3.5.5/d3.min.js\", function(){\n",
       "         LDAvis_load_lib(\"https://cdn.rawgit.com/bmabey/pyLDAvis/files/ldavis.v1.0.0.js\", function(){\n",
       "                 new LDAvis(\"#\" + \"ldavis_el219603048287285323634292\", ldavis_el219603048287285323634292_data);\n",
       "            })\n",
       "         });\n",
       "}\n",
       "</script>"
      ],
      "text/plain": [
       "<IPython.core.display.HTML object>"
      ]
     },
     "execution_count": 44,
     "metadata": {},
     "output_type": "execute_result"
    }
   ],
   "source": [
    "vis_data_neg = pyLDAvis.gensim.prepare(lda_model_neg, corpus_tfidf_neg, dictionary_neg)\n",
    "pyLDAvis.display(vis_data_neg)"
   ]
  },
  {
   "cell_type": "markdown",
   "metadata": {
    "collapsed": true
   },
   "source": [
    "## Similar words with word2vec"
   ]
  },
  {
   "cell_type": "code",
   "execution_count": 45,
   "metadata": {
    "collapsed": false
   },
   "outputs": [
    {
     "name": "stdout",
     "output_type": "stream",
     "text": [
      "[   (u'senator', 0.9957336783409119),\n",
      "    (u'malcolm', 0.9939283132553101),\n",
      "    (u'profbriancox', 0.9926587343215942),\n",
      "    (u'roberts', 0.9921092391014099),\n",
      "    (u'elect', 0.9916069507598877),\n",
      "    (u'takes', 0.9908980131149292),\n",
      "    (u'readfearn', 0.9842835068702698),\n",
      "    (u'abctv', 0.9841217398643494),\n",
      "    (u'denied', 0.9823267459869385),\n",
      "    (u'scientist', 0.981223464012146)]\n"
     ]
    }
   ],
   "source": [
    "m = gensim.models.Word2Vec(words_onp, size=100, window=5, min_count=3, workers=4)\n",
    "pp.pprint(m.most_similar(\"nation\"))"
   ]
  },
  {
   "cell_type": "code",
   "execution_count": 46,
   "metadata": {
    "collapsed": false
   },
   "outputs": [
    {
     "name": "stdout",
     "output_type": "stream",
     "text": [
      "[   (u'malcolm', 0.9970388412475586),\n",
      "    (u'senator', 0.9967544674873352),\n",
      "    (u'roberts', 0.9961132407188416),\n",
      "    (u'denier', 0.9943068027496338),\n",
      "    (u'icymi', 0.9939748048782349),\n",
      "    (u'denied', 0.993387758731842),\n",
      "    (u'scaa', 0.9931299090385437),\n",
      "    (u'abctv', 0.9930740594863892),\n",
      "    (u'mocks', 0.9928045868873596),\n",
      "    (u'discredited', 0.9915701746940613)]\n"
     ]
    }
   ],
   "source": [
    "m = gensim.models.Word2Vec(words_onp_neg, size=100, window=5, min_count=3, workers=4)\n",
    "pp.pprint(m.most_similar(\"nation\"))"
   ]
  },
  {
   "cell_type": "code",
   "execution_count": 47,
   "metadata": {
    "collapsed": false
   },
   "outputs": [
    {
     "name": "stdout",
     "output_type": "stream",
     "text": [
      "[   (u'qanda', 0.9998025894165039),\n",
      "    (u'roberts', 0.9997572898864746),\n",
      "    (u'malcolm', 0.99972003698349),\n",
      "    (u'believe', 0.9997132420539856),\n",
      "    (u'senator', 0.9997057914733887),\n",
      "    (u'profbriancox', 0.9996393918991089),\n",
      "    (u'scientist', 0.9996350407600403),\n",
      "    (u'years', 0.9996035099029541),\n",
      "    (u'esteemed', 0.9995802640914917),\n",
      "    (u'world', 0.9995610117912292)]\n"
     ]
    }
   ],
   "source": [
    "m = gensim.models.Word2Vec(words_onp_pos, size=100, window=5, min_count=3, workers=4)\n",
    "pp.pprint(m.most_similar(\"nation\"))"
   ]
  },
  {
   "cell_type": "markdown",
   "metadata": {},
   "source": []
  },
  {
   "cell_type": "markdown",
   "metadata": {
    "collapsed": true
   },
   "source": [
    "## Todo:  \n",
    "\n",
    "In the next part of topic modelling, try grouping frequent consecutive words into phrases."
   ]
  }
 ],
 "metadata": {
  "kernelspec": {
   "display_name": "Python 2",
   "language": "python",
   "name": "python2"
  },
  "language_info": {
   "codemirror_mode": {
    "name": "ipython",
    "version": 2
   },
   "file_extension": ".py",
   "mimetype": "text/x-python",
   "name": "python",
   "nbconvert_exporter": "python",
   "pygments_lexer": "ipython2",
   "version": "2.7.12"
  }
 },
 "nbformat": 4,
 "nbformat_minor": 0
}
