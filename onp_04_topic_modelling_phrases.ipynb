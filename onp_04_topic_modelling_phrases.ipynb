{
 "cells": [
  {
   "cell_type": "markdown",
   "metadata": {},
   "source": [
    "# Part 4: topic modelling with phrases"
   ]
  },
  {
   "cell_type": "code",
   "execution_count": 2,
   "metadata": {
    "collapsed": false,
    "scrolled": true
   },
   "outputs": [],
   "source": [
    "# -*- coding: utf-8 -*-\n",
    "# goto https://github.com/n-lo/Tweets_analysis_tryout for other parts\n",
    "%matplotlib inline\n",
    "\n",
    "from __future__ import print_function\n",
    "import pprint, datetime\n",
    "import pandas as pd\n",
    "import numpy as np\n",
    "import gensim, re\n",
    "from nltk.collocations import TrigramCollocationFinder\n",
    "from nltk.metrics import BigramAssocMeasures, TrigramAssocMeasures\n",
    "import pyLDAvis.gensim\n",
    "from dateutil import parser\n",
    "from ggplot import *\n",
    "\n",
    "import matplotlib.pylab as pylab\n",
    "pylab.rcParams['figure.figsize'] = 14, 10\n",
    "\n",
    "import logging\n",
    "logging.basicConfig(format='%(asctime)s : %(levelname)s : %(message)s', level=logging.INFO)\n",
    "# e.g. logging.info(\"%i tweets found...\" % len(df))\n",
    "\n",
    "pp = pprint.PrettyPrinter(indent=4)"
   ]
  },
  {
   "cell_type": "markdown",
   "metadata": {},
   "source": [
    "### This is part four of data exploration, see part one for quick data look and sentiment analysis, part two for word cloud, part three for topic modelling."
   ]
  },
  {
   "cell_type": "markdown",
   "metadata": {},
   "source": [
    "## Load in data\n",
    "\n",
    "Dataset contains Tweets between 09-08-2016 and 23-08-2016, with sentiment score from part one sentiment analysis.  \n",
    "\n",
    "Load dataframe from hdf5 file (see db2df.ipynb for loading data from MongoDB to dataframe)"
   ]
  },
  {
   "cell_type": "code",
   "execution_count": 3,
   "metadata": {
    "collapsed": false,
    "scrolled": true
   },
   "outputs": [
    {
     "name": "stdout",
     "output_type": "stream",
     "text": [
      "Load df from hdf5 file.\n",
      "9486 Tweets loaded.\n"
     ]
    }
   ],
   "source": [
    "print(\"Load df from hdf5 file.\")\n",
    "hdf = pd.HDFStore('onp_sentiment.h5')\n",
    "df = hdf['df']\n",
    "hdf.close()\n",
    "print(\"%d Tweets loaded.\" % len(df))"
   ]
  },
  {
   "cell_type": "markdown",
   "metadata": {},
   "source": [
    "#### Note:\n",
    "When the data set gets too big, can try random select samples:  \n",
    "\n",
    "from sklearn.cross_validation import train_test_split  \n",
    "import random  \n",
    "random.seed(1234)  \n",
    "train, test = train_test_split(df, test_size = 0.5)  \n",
    "del(df)  \n",
    "df = train  "
   ]
  },
  {
   "cell_type": "markdown",
   "metadata": {
    "collapsed": true,
    "scrolled": true
   },
   "source": [
    "# Topic modelling\n",
    "\n",
    "### 1. Finding frequent phrases  \n",
    "\n",
    "Here we use trigram association measure from NLTK.\n",
    "\n",
    "#### Tokenize the text first  "
   ]
  },
  {
   "cell_type": "code",
   "execution_count": 4,
   "metadata": {
    "collapsed": true
   },
   "outputs": [],
   "source": [
    "sw = set(gensim.parsing.preprocessing.STOPWORDS)\n",
    "my_sw = ['http', 'https', 'RT']"
   ]
  },
  {
   "cell_type": "code",
   "execution_count": 5,
   "metadata": {
    "collapsed": true
   },
   "outputs": [],
   "source": [
    "def split_wd(text, stopwords=sw):\n",
    "    new_sw = set(sw)\n",
    "    new_sw |= set(my_sw)\n",
    "    return [wd\n",
    "            for wd in gensim.utils.tokenize(text, lower=True)\n",
    "            if wd not in new_sw and len(wd) > 3]"
   ]
  },
  {
   "cell_type": "code",
   "execution_count": 6,
   "metadata": {
    "collapsed": true
   },
   "outputs": [],
   "source": [
    "def remove_junk(text):\n",
    "    text = text.lower()\n",
    "    text = re.sub(r\"http\\S+\", \" \", text)\n",
    "    #text = re.sub(r\"@+\", \" \", text)\n",
    "    return text"
   ]
  },
  {
   "cell_type": "code",
   "execution_count": 7,
   "metadata": {
    "collapsed": false
   },
   "outputs": [],
   "source": [
    "n = 0\n",
    "for index, row in df.iterrows():\n",
    "    text = row['text']\n",
    "    text = remove_junk(text)\n",
    "    tokens = split_wd(text, sw)\n",
    "    if n == 0:\n",
    "        words_onp_tuple = tokens\n",
    "        n = 1\n",
    "    else:\n",
    "        words_onp_tuple = words_onp_tuple + tokens"
   ]
  },
  {
   "cell_type": "markdown",
   "metadata": {},
   "source": [
    "#### Find common phrases"
   ]
  },
  {
   "cell_type": "code",
   "execution_count": 8,
   "metadata": {
    "collapsed": true
   },
   "outputs": [],
   "source": [
    "def phrases(wd, top_no = 1000, min_freq = 30):\n",
    "    tcf = TrigramCollocationFinder.from_words(wd)\n",
    "    tcf.apply_freq_filter(min_freq)\n",
    "    trigrams = [' '.join(w) for w in tcf.nbest(TrigramAssocMeasures.chi_sq, top_no)]\n",
    "    logging.info(\"%i trigrams found: %s...\" % (len(trigrams), trigrams[:20]))\n",
    "\n",
    "    bcf = tcf.bigram_finder()\n",
    "    bcf.apply_freq_filter(min_freq)\n",
    "    bigrams = [' '.join(w) for w in bcf.nbest(BigramAssocMeasures.pmi, top_no)]\n",
    "    logging.info(\"%i bigrams found: %s...\" % (len(bigrams), bigrams[:20]))\n",
    "\n",
    "    pat_gram2 = re.compile('(%s)' % '|'.join(bigrams), re.UNICODE)\n",
    "    pat_gram3 = re.compile('(%s)' % '|'.join(trigrams), re.UNICODE)\n",
    "\n",
    "    return pat_gram2, pat_gram3"
   ]
  },
  {
   "cell_type": "code",
   "execution_count": 9,
   "metadata": {
    "collapsed": false
   },
   "outputs": [],
   "source": [
    "bigrams, trigrams = phrases(words_onp_tuple)"
   ]
  },
  {
   "cell_type": "markdown",
   "metadata": {},
   "source": [
    "### 2. Tokenize\n",
    "\n",
    "Taking into account of common phrases"
   ]
  },
  {
   "cell_type": "code",
   "execution_count": 10,
   "metadata": {
    "collapsed": true
   },
   "outputs": [],
   "source": [
    "words_onp = []\n",
    "\n",
    "for index, row in df.iterrows():\n",
    "    text = row['text']\n",
    "    text = remove_junk(text)\n",
    "    text = re.sub(trigrams, lambda match: match.group(0).replace(u' ', u'_'), text)\n",
    "    text = re.sub(bigrams, lambda match: match.group(0).replace(u' ', u'_'), text)\n",
    "    tokens = split_wd(text, sw)\n",
    "\n",
    "    words_onp.append(tokens)"
   ]
  },
  {
   "cell_type": "markdown",
   "metadata": {},
   "source": [
    "### 3. Vectorize the word tokens"
   ]
  },
  {
   "cell_type": "code",
   "execution_count": 11,
   "metadata": {
    "collapsed": false
   },
   "outputs": [],
   "source": [
    "# first assign IDs to the tokens\n",
    "dictionary = gensim.corpora.Dictionary(words_onp)\n",
    "# remove tokens only appear once\n",
    "once = [token_id for token_id, docfreq in dictionary.dfs.iteritems() if docfreq == 1]\n",
    "dictionary.filter_tokens(once)\n",
    "dictionary.compactify()\n",
    "dictionary.save('models/onp_tm_phrases.dict')\n",
    "#print(dictionary)\n",
    "\n",
    "# now convert to vectors\n",
    "corpus = [dictionary.doc2bow(t) for t in words_onp]\n",
    "gensim.corpora.MmCorpus.serialize('models/onp_tm_phrases.mm', corpus)\n",
    "#print(corpus)"
   ]
  },
  {
   "cell_type": "markdown",
   "metadata": {},
   "source": [
    "### 4. Prepare the model\n",
    "\n",
    "Initialize a model, do not modify valuable tfidf from now on.  \n",
    "tfidf - Term Frequency * Inverse Document Frequency"
   ]
  },
  {
   "cell_type": "code",
   "execution_count": 12,
   "metadata": {
    "collapsed": true
   },
   "outputs": [],
   "source": [
    "tfidf = gensim.models.TfidfModel(corpus)\n",
    "tfidf.save('models/onp_tm_phrases.tfidf')\n",
    "\n",
    "# put a model wrapper around corpus\n",
    "corpus_tfidf = tfidf[corpus]\n",
    "gensim.corpora.MmCorpus.serialize('models/onp_tm_phrases.mm_corpus_tfidf', corpus_tfidf)\n",
    "#for doc in corpus_tfidf:\n",
    "#    print(doc)"
   ]
  },
  {
   "cell_type": "code",
   "execution_count": 13,
   "metadata": {
    "collapsed": true
   },
   "outputs": [],
   "source": [
    "# number of topics to model\n",
    "n_topics = 5"
   ]
  },
  {
   "cell_type": "markdown",
   "metadata": {},
   "source": [
    "#### Use Latent Dirichlet Allocation (LDA) model\n",
    "\n",
    "#### 1. with online LDA"
   ]
  },
  {
   "cell_type": "code",
   "execution_count": 14,
   "metadata": {
    "collapsed": false
   },
   "outputs": [],
   "source": [
    "lda_model = gensim.models.ldamodel.LdaModel(corpus=corpus_tfidf, id2word=dictionary, \n",
    "                                            num_topics=n_topics, \n",
    "                                            update_every=1, chunksize=10000, passes=5)"
   ]
  },
  {
   "cell_type": "markdown",
   "metadata": {},
   "source": [
    "#### 2. or batch LDA, no online updates   \n",
    "\n",
    "lda_model = gensim.models.ldamodel.LdaModel(corpus=corpus_tfidf, id2word=dictionary, num_topics=n_topics, update_every=0, passes=20)"
   ]
  },
  {
   "cell_type": "markdown",
   "metadata": {},
   "source": [
    "#### Now save the model"
   ]
  },
  {
   "cell_type": "code",
   "execution_count": 15,
   "metadata": {
    "collapsed": false
   },
   "outputs": [],
   "source": [
    "lda_model.save('models/onp_tm_phrases.lda')\n",
    "#lda_model.print_topics(10)\n",
    "#top_words = [[word for word in lda_model.show_topic(topicno, topn=5)] \n",
    "#             for topicno in range(lda_model.num_topics)]\n",
    "#print(top_words)"
   ]
  },
  {
   "cell_type": "markdown",
   "metadata": {},
   "source": [
    "#### Visualise the model with pyLDAvis\n",
    "\n",
    "To load preivous saved model from disk:  \n",
    "\n",
    "dictionary = gensim.corpora.Dictionary.load('models/onp_tm_phrases.dict')  \n",
    "corpus_tfidf = gensim.corpora.MmCorpus('models/onp_tm_phrases.mm_corpus_tfidf')  \n",
    "lda_model = gensim.models.ldamodel.LdaModel.load('models/onp_tm_phrases.lda')"
   ]
  },
  {
   "cell_type": "code",
   "execution_count": 18,
   "metadata": {
    "collapsed": false
   },
   "outputs": [
    {
     "data": {
      "text/html": [
       "\n",
       "<link rel=\"stylesheet\" type=\"text/css\" href=\"https://cdn.rawgit.com/bmabey/pyLDAvis/files/ldavis.v1.0.0.css\">\n",
       "\n",
       "\n",
       "<div id=\"ldavis_el187403123066881554942248\"></div>\n",
       "<script type=\"text/javascript\">\n",
       "\n",
       "var ldavis_el187403123066881554942248_data = {\"plot.opts\": {\"xlab\": \"PC1\", \"ylab\": \"PC2\"}, \"topic.order\": [5, 4, 1, 3, 2], \"token.table\": {\"Topic\": [3, 1, 1, 2, 3, 4, 5, 2, 4, 5, 2, 3, 5, 4, 1, 4, 5, 1, 2, 3, 4, 5, 1, 2, 4, 5, 1, 2, 3, 4, 5, 1, 2, 3, 4, 5, 3, 1, 3, 3, 1, 3, 4, 3, 3, 5, 5, 2, 3, 1, 2, 3, 4, 5, 5, 5, 1, 2, 2, 5, 4, 5, 2, 4, 5, 1, 3, 4, 1, 2, 3, 4, 1, 2, 3, 4, 5, 1, 2, 3, 4, 5, 5, 2, 2, 3, 5, 4, 5, 2, 5, 3, 3, 3, 4, 1, 2, 3, 2, 4, 3, 4, 2, 3, 2, 1, 1, 1, 2, 4, 5, 2, 4, 5, 2, 3, 1, 2, 4, 5, 5, 5, 1, 3, 2, 3, 5, 3, 5, 3, 1, 2, 3, 1, 1, 4, 5, 3, 5, 1, 2, 4, 5, 2, 4, 5, 5, 1, 5, 2, 3, 4, 5, 3, 5, 3, 4, 1, 2, 3, 4, 5, 2, 4, 3, 5, 1, 4, 3, 5, 1, 2, 3, 4, 5, 2, 5, 1, 2, 3, 4, 2, 4, 1, 2, 3, 4, 5, 1, 2, 4, 1, 3, 5, 1, 2, 3, 4, 1, 1, 2, 3, 4, 5, 1, 2, 4, 1, 2, 3, 4, 5, 2, 3, 5, 1, 5, 1, 2, 3, 4, 5, 1, 2, 3, 3, 5, 1, 2, 3, 4, 5, 1, 3, 5, 2, 4, 4, 2, 5, 1, 1, 2, 4, 1, 2, 3, 4, 5, 4, 1, 2, 4, 5, 5, 5, 4, 1, 4, 1, 2, 3, 4, 5, 4, 2, 1, 3, 4, 5, 1, 2, 3, 4, 5, 1, 3, 5, 1, 2, 3, 4, 5, 1, 2, 5, 1, 2, 3, 5, 2, 3, 4, 5, 1, 3, 5, 3, 1, 2, 3, 4, 5, 4, 1, 2, 3, 4, 5, 4, 1, 2, 3, 4, 5, 1, 2, 3, 4, 5, 1, 2, 3, 4, 5, 2, 4, 2, 4, 5, 1, 3, 4, 2, 3, 4, 5, 1, 4, 2, 2, 1, 5, 5, 3, 5, 1, 4, 1, 2, 3, 4, 3, 5, 3, 3, 4, 5, 1, 2, 5, 3, 4, 5, 1, 2, 3, 4, 5, 1, 4, 3, 3, 5, 1, 2, 5, 4, 5, 1, 5, 3, 3, 5, 3, 5, 1, 2, 3, 4, 1, 2, 4, 5, 4, 5, 1, 4, 5, 5, 5, 1, 2, 3, 3, 4, 5, 3, 2, 1, 2, 3, 4, 5, 2, 1, 2, 3, 4, 5, 2, 2, 3, 5, 4, 4, 4, 1, 2, 3, 4, 5, 2, 4, 2, 3, 2, 4, 5, 2, 4, 2, 4, 4, 1, 4, 5, 1, 1, 2, 3, 4, 5, 1, 3, 4, 5, 1, 2, 3, 5, 1, 2, 3, 4, 5, 1, 2, 3, 4, 5, 3, 4, 2, 3, 4, 5, 4, 2, 3, 4, 1, 3, 5, 1, 2, 4, 5, 4, 5, 1, 2, 3, 4, 1, 2, 5, 1, 2, 3, 4, 1, 4, 5, 1, 2, 3, 4, 5], \"Freq\": [0.94238547367232273, 0.9447994505644991, 0.10052257887719371, 0.10052257887719371, 0.016753763146198954, 0.016753763146198954, 0.77067310472515183, 0.060863785340789046, 0.060863785340789046, 0.91295678011183568, 0.96516474560474097, 0.93795499007116112, 0.046897749503558052, 0.98886207213006627, 0.93613698108728238, 0.042551680958512833, 0.96730261868839595, 0.0868691378555978, 0.29219619096882898, 0.059228957628816685, 0.35932234294815452, 0.20532705311323116, 0.01597900314930965, 0.007989501574654825, 0.92678218265995971, 0.05592651102258378, 0.1200573188868948, 0.22810890588510013, 0.19209171021903168, 0.22810890588510013, 0.22810890588510013, 0.46903922502958001, 0.26912086682025083, 0.076891676234357373, 0.053824173364050168, 0.13840501722184329, 0.9940814915147117, 0.93466734059489442, 0.033380976449817655, 0.92256945677156765, 0.93466711236676092, 0.033380968298812888, 0.9098384342387914, 0.93044098584494883, 0.87199199422542595, 0.058132799615028395, 0.93792917542513232, 0.97102188858086791, 0.93044342648117007, 0.015599588775946653, 0.34319095307082637, 0.14039629898351988, 0.031199177551893307, 0.48358725205434627, 0.97951611201858391, 0.97875041897248161, 0.025346825702432917, 0.96317937669245091, 0.97149975994293147, 0.038859990397717259, 0.018232071703983971, 0.94806772860716648, 0.05185045564679959, 0.88145774599559312, 0.05185045564679959, 0.050202245091250007, 0.95384265673375013, 0.9315873524325391, 0.80448479198416012, 0.038308799618293338, 0.076617599236586675, 0.076617599236586675, 0.66647542196039933, 0.22215847398679978, 0.027769809248349972, 0.055539618496699944, 0.055539618496699944, 0.16954795192741126, 0.59341783174593943, 0.12716096394555845, 0.042386987981852815, 0.084773975963705631, 0.95954785315292934, 0.97007591831212991, 0.93223315924637473, 0.032145971008495679, 0.93300753020530502, 0.89056923815062106, 0.052386425773565941, 0.95720467750236982, 0.89305369426967562, 0.93044168466253208, 0.94741320117280048, 0.07477124768785097, 0.89725497225421158, 0.04965313624527392, 0.84410331616965661, 0.082755227075456531, 0.92191169260698258, 0.038412987191957605, 0.84418795729706908, 0.060299139806933508, 0.96089789647445945, 0.029118118074983622, 0.92971629141247381, 0.92642557814000059, 0.98062483129260514, 0.76743675231168806, 0.18272303626468764, 0.036544607252937532, 0.036544607252937532, 0.9359354875089263, 0.95190626481311247, 0.027997243082738602, 0.97038680121455267, 0.03234622670715176, 0.0056761678303884145, 0.022704671321553658, 0.71519714662894018, 0.24975138453709023, 0.95238235403948057, 0.96091409010924556, 0.93466600478922757, 0.033380928742472414, 0.041438649461665901, 0.91165028815664972, 0.041438649461665901, 0.050216715916059557, 0.93737869709977839, 0.94693840237881233, 0.062970175884592416, 0.85009737444199762, 0.078712719855740521, 0.92642753826277713, 0.91986678901712338, 0.039994208218135797, 0.039994208218135797, 0.94977579437672577, 0.91976137807806746, 0.88595249943842802, 0.014455218265097205, 0.96849962376151277, 0.014455218265097205, 0.065841540968660545, 0.13168308193732109, 0.79009849162392654, 0.92293924010298012, 0.15850817052326044, 0.84537690945738897, 0.96187952359693119, 0.08985120850452602, 0.059900805669684018, 0.83861127937557622, 0.94313497434560756, 0.97951653675356087, 0.91831670081635097, 0.86337457958972752, 0.89514438031874011, 0.036643337206030295, 0.036643337206030295, 0.02093904983201731, 0.010469524916008655, 0.92548773882641377, 0.92084243641084629, 0.94313351723077621, 0.93792852418106931, 0.95644457603058175, 0.04347475345593553, 0.95465795276231236, 0.031821931758743746, 0.028140671520760847, 0.084422014562282544, 0.64723544497749941, 0.084422014562282544, 0.14070335760380423, 0.041966489221009158, 0.94424600747270604, 0.87655345732531109, 0.036523060721887962, 0.036523060721887962, 0.036523060721887962, 0.91645581038918911, 0.038185658766216213, 0.006513535183080954, 0.3973256461679382, 0.013027070366161908, 0.39081211098485724, 0.18889252030934767, 0.92772409658072386, 0.040335830286118431, 0.040335830286118431, 0.016911046600001652, 0.42277616500004128, 0.54115349120005285, 0.97607978873355317, 0.0054529597135952691, 0.010905919427190538, 0.010905919427190538, 0.91671891809058847, 0.94960856922133885, 0.7986398839965233, 0.1197959825994785, 0.019965997099913084, 0.059897991299739252, 0.061890839835353054, 0.15472709958838263, 0.77363549794191311, 0.92974363384007908, 0.016904429706183256, 0.016904429706183256, 0.016904429706183256, 0.033808859412366513, 0.06069498187306116, 0.84972974622285624, 0.06069498187306116, 0.096199039428772351, 0.8657913548589512, 0.075870305468545701, 0.1201279836585307, 0.24025596731706139, 0.16438566184851569, 0.39831910370986495, 0.050014744635445654, 0.85025065880257611, 0.083357907725742753, 0.95696140418194309, 0.031375783743670269, 0.91601788547168306, 0.027343817476766657, 0.013671908738383328, 0.013671908738383328, 0.027343817476766657, 0.049124386725543541, 0.073686580088315315, 0.88423896105978372, 0.98254513364370633, 0.97617695908298774, 0.9296873081783692, 0.91784271334605072, 0.036713708533842031, 0.89410821964095788, 0.040095247329357424, 0.040095247329357424, 0.92219068857522069, 0.020649525687259519, 0.59883624493052601, 0.10324762843629759, 0.061948577061778559, 0.20649525687259518, 0.98775359127075946, 0.029201488636526426, 0.0097338295455088094, 0.80790785227723116, 0.15574127272814095, 0.94164000527883451, 0.91696098514197688, 0.93479098149211171, 0.93431295590967245, 0.040622302430855323, 0.18107327342088009, 0.21442887641946326, 0.27637499627397488, 0.17630818727822534, 0.15248275656495164, 0.92968432197476158, 0.96516903389357933, 0.07926642714036157, 0.1109729979965062, 0.07926642714036157, 0.72925112969132644, 0.16898795480826589, 0.046087624038617978, 0.27652574423170784, 0.030725082692411983, 0.49160132307859172, 0.034078914740376609, 0.92013069799016844, 0.034078914740376609, 0.94925135211732203, 0.021573894366302773, 0.016180420774727079, 0.010786947183151386, 0.0053934735915756931, 0.012958829443931372, 0.95895337885092158, 0.025917658887862745, 0.058536422398792941, 0.80780262910334255, 0.10536556031782729, 0.023414568959517178, 0.0152314444956689, 0.89865522524446517, 0.045694333487006702, 0.045694333487006702, 0.92821076977461292, 0.033150384634807607, 0.93344592371429358, 0.99408363045000114, 0.92740004839292367, 0.028103031769482537, 0.014051515884741269, 0.014051515884741269, 0.028103031769482537, 0.98407716908027243, 0.11437568796879714, 0.057187843984398572, 0.11437568796879714, 0.095313073307330964, 0.61000366916691817, 0.92427736170365571, 0.035556733330689705, 0.16000529998810367, 0.017778366665344852, 0.12444856665741397, 0.65779956661775951, 0.82450196843852952, 0.039735034623543587, 0.044701913951486538, 0.084436948575030132, 0.0049668793279429484, 0.09849944229467987, 0.37575713171674174, 0.24807266948289744, 0.094851314802284314, 0.18605450211217309, 0.95464268282612508, 0.038185707313045006, 0.064087660216864822, 0.04272510681124321, 0.8758646896304858, 0.96968391745232896, 0.93633820745150875, 0.049280958286921514, 0.77057063063381748, 0.022016303732394785, 0.022016303732394785, 0.19814673359155308, 0.014411514800220912, 0.97998300641502201, 0.92092725856530588, 0.96635667599554465, 0.93919052711882545, 0.046959526355941271, 0.89955421544355085, 0.95465772849605113, 0.031821924283201707, 0.95644351743086797, 0.043474705337766727, 0.96899802651357037, 0.010826793592330394, 0.010826793592330394, 0.010826793592330394, 0.033550991633867461, 0.9394277657482889, 0.99408194059266897, 0.68617093953786901, 0.2166855598540639, 0.072228519951354639, 0.058969179492976011, 0.94350687188761617, 0.97182550595887451, 0.99408075317195443, 0.96670784296380419, 0.030209620092618881, 0.067622706433371219, 0.29303172787794191, 0.210381753348266, 0.15027268096304713, 0.27800445978163724, 0.97781340658592519, 0.91047022263096811, 0.96221344195131409, 0.042809398034107465, 0.94180675675036418, 0.012936002734954695, 0.95726420238664733, 0.025872005469909389, 0.75689064534744344, 0.22706719360423303, 0.91230804536673227, 0.050683780298151793, 0.8937659106287088, 0.95777355296138555, 0.031925785098712849, 0.9457674505254855, 0.031525581684182853, 0.97759218789270963, 0.0054614088709089926, 0.010922817741817985, 0.010922817741817985, 0.0056286216579128105, 0.0056286216579128105, 0.74860668050240387, 0.23640210963233804, 0.89056451211363075, 0.052386147771390043, 0.011989631238559327, 0.95917049908474628, 0.023979262477118655, 0.96900190148060661, 0.97633871706322362, 0.033022115243435401, 0.95764134205962659, 0.033022115243435401, 0.85069995831333811, 0.10633749478916726, 0.93121466459864577, 0.92280254542762474, 0.96051171905627886, 0.41987142388178261, 0.087473213308704709, 0.15745178395566847, 0.017494642661740941, 0.31490356791133695, 0.96460392841978204, 0.1039671313404138, 0.68618306684673103, 0.041586852536165522, 0.12476055760849655, 0.020793426268082761, 0.97485913357675036, 0.0072991357418122071, 0.99268246088646017, 0.97951665374251939, 0.89101546578564272, 0.89043752419317701, 0.93029003528806986, 0.029933752886417697, 0.67350943994439816, 0.074834382216044243, 0.059867505772835394, 0.16463564087529733, 0.93779937092759191, 0.034733310034355258, 0.96414439724803269, 0.031101432169291378, 0.075073340228707569, 0.86334341263013703, 0.037536670114353785, 0.080224185490112718, 0.88246604039123988, 0.91645487493998223, 0.038185619789165924, 0.94008809315676956, 0.78000864924954283, 0.10636481580675584, 0.070909877204503896, 0.97351964659526335, 0.015853307547029839, 0.30121284339356691, 0.015853307547029839, 0.22194630565841772, 0.42803930376980559, 0.05554794071691195, 0.013886985179227988, 0.93042800700827522, 0.013886985179227988, 0.04063950578694666, 0.060959258680419987, 0.08127901157389332, 0.7924703628454598, 0.93733724314270883, 0.025893294009467095, 0.015535976405680257, 0.015535976405680257, 0.0051786588018934189, 0.04385718186374106, 0.67247678857736293, 0.19004778807621125, 0.04385718186374106, 0.058476242484988075, 0.892871629582352, 0.055804476848897, 0.8690856345171577, 0.031038772661327062, 0.093116317983981178, 0.031038772661327062, 0.83660412030969367, 0.0071971277822763342, 0.93562661169592343, 0.050379894475934342, 0.032271057555439901, 0.90358961155231732, 0.064542115110879802, 0.0080436157094931071, 0.0080436157094931071, 0.93305942230120043, 0.048261694256958643, 0.89056882592998787, 0.052386401525293405, 0.97727535419891565, 0.0054596388502732721, 0.010919277700546544, 0.010919277700546544, 0.012998387790423421, 0.96188069649133312, 0.025996775580846843, 0.977589850768388, 0.0054613958143485356, 0.010922791628697071, 0.010922791628697071, 0.94488808736773588, 0.041082090755118948, 0.91980574074001609, 0.028289310594071946, 0.084867931782215841, 0.65065414366365482, 0.11315724237628778, 0.14144655297035974], \"Term\": [\"adambspencer\", \"amdwaters\", \"anti\", \"anti\", \"anti\", \"anti\", \"anti\", \"apparentl\", \"apparentl\", \"apparentl\", \"appearing\", \"aren\", \"aren\", \"artbylynettag\", \"attacks\", \"attacks\", \"ausp\", \"auspol\", \"auspol\", \"auspol\", \"auspol\", \"auspol\", \"aussies\", \"aussies\", \"aussies\", \"aussies\", \"australia\", \"australia\", \"australia\", \"australia\", \"australia\", \"australian\", \"australian\", \"australian\", \"australian\", \"australian\", \"australian_nazi_ross\", \"australian_voters\", \"australian_voters\", \"australians\", \"begun\", \"begun\", \"beliefs\", \"bigot_andrew_bolt_attacks_bigot_nick_folkes\", \"bigotry\", \"bigotry\", \"borders_secure\", \"braddybb\", \"brand\", \"brian\", \"brian\", \"brian\", \"brian\", \"brian\", \"brings_graphs\", \"british_physicist\", \"buzzfeedoz\", \"buzzfeedoz\", \"canthavepudding\", \"canthavepudding\", \"case\", \"case\", \"chrismurphys\", \"chrismurphys\", \"chrismurphys\", \"christianity\", \"christianity\", \"church_service\", \"claims\", \"claims\", \"claims\", \"claims\", \"climate\", \"climate\", \"climate\", \"climate\", \"climate\", \"climate_change\", \"climate_change\", \"climate_change\", \"climate_change\", \"climate_change\", \"climate_change_stoush\", \"concerned\", \"concerns\", \"concerns\", \"condemned\", \"cops_pester_muslim_kids\", \"cops_pester_muslim_kids\", \"cory_bernardi\", \"courting\", \"damaging_bigot_pauline_hanson\", \"decline\", \"delivered\", \"delivered\", \"deny\", \"deny\", \"deny\", \"deptofaustralia\", \"deptofaustralia\", \"derryn_hinch\", \"derryn_hinch\", \"destroy\", \"destroy\", \"destroy_australian\", \"destroys\", \"dinofancellu\", \"dismissed\", \"dismissed\", \"dismissed\", \"dismissed\", \"distance\", \"disturbing\", \"disturbing\", \"door\", \"door\", \"dressed\", \"dressed\", \"dressed\", \"dressed\", \"elect_asks_repeatedly\", \"elect_malcolm_roberts\", \"electing_roberts\", \"electing_roberts\", \"election\", \"election\", \"election\", \"embarrassing_clash\", \"embarrassing_clash\", \"exaggerated\", \"existence\", \"existence\", \"existence\", \"exposes\", \"fact\", \"fact\", \"fact\", \"farrellpf\", \"flatearthgang\", \"flummoxed\", \"frbower\", \"frbower\", \"frbower\", \"freedom\", \"freedom\", \"freedom\", \"glad\", \"good_points\", \"good_points\", \"gosford_church_episode\", \"government\", \"government\", \"government\", \"graph_presented\", \"grapple\", \"growth\", \"hand\", \"hanson\", \"hanson\", \"hanson\", \"hanson\", \"hanson\", \"hanson_says\", \"hardly\", \"hoax\", \"immigration_minister_peter_dutton\", \"important_things\", \"important_things\", \"insists_isis\", \"insists_isis\", \"islam\", \"islam\", \"islam\", \"islam\", \"islam\", \"islam_church_stunt\", \"islam_church_stunt\", \"islam_group\", \"islam_group\", \"islam_group\", \"islam_group\", \"jesus_christ\", \"jesus_christ\", \"johndory\", \"johndory\", \"johndory\", \"johndory\", \"johndory\", \"johnjohnsonson\", \"johnjohnsonson\", \"johnjohnsonson\", \"julianburnside\", \"julianburnside\", \"julianburnside\", \"kon__k\", \"kon__k\", \"kon__k\", \"kon__k\", \"leaves\", \"length\", \"life\", \"life\", \"life\", \"life\", \"lunch\", \"lunch\", \"lunch\", \"mailonline\", \"mailonline\", \"mailonline\", \"mailonline\", \"mailonline\", \"major_parties\", \"major_parties\", \"major_parties\", \"making\", \"making\", \"malcolm_roberts\", \"malcolm_roberts\", \"malcolm_roberts\", \"malcolm_roberts\", \"malcolm_roberts\", \"malcolm_roberts_continues\", \"malcolm_roberts_continues\", \"malcolm_roberts_continues\", \"mariamveiszadeh\", \"mariamveiszadeh\", \"melbourne_offices\", \"melbourne_offices\", \"melbourne_offices\", \"melbourne_offices\", \"melbourne_offices\", \"members\", \"members\", \"members\", \"mikecarlton\", \"mock_muslim_attire\", \"mocks\", \"montessori_schools_distance\", \"montessori_schools_distance\", \"mortimershole\", \"muslim_church_reaches\", \"muslim_church_reaches\", \"muslim_church_reaches\", \"muslims\", \"muslims\", \"muslims\", \"muslims\", \"muslims\", \"muslims_storm\", \"muslims_storm_church\", \"muslims_storm_church\", \"muslims_storm_church\", \"muslims_storm_church\", \"muslims_storm_gosford_church\", \"myknittingwool\", \"mystery\", \"nasa\", \"nasa\", \"nation\", \"nation\", \"nation\", \"nation\", \"nation\", \"nation_climate_change_denier\", \"nation_crackpot_malcolm_roberts\", \"nation_senator\", \"nation_senator\", \"nation_senator\", \"nation_senator\", \"nation_senator_malcolm_roberts\", \"nation_senator_malcolm_roberts\", \"nation_senator_malcolm_roberts\", \"nation_senator_malcolm_roberts\", \"nation_senator_malcolm_roberts\", \"nation_senator_raised_discredited_climate_change_denial\", \"nation_senator_raised_discredited_climate_change_denial\", \"nation_senator_raised_discredited_climate_change_denial\", \"nauru\", \"nauru\", \"nauru\", \"nauru\", \"nauru\", \"nauru_emergency_response_team\", \"nauru_emergency_response_team\", \"nauru_emergency_response_team\", \"naurufiles\", \"naurufiles\", \"naurufiles\", \"naurufiles\", \"nick_folkes\", \"nick_folkes\", \"nick_folkes\", \"nick_folkes\", \"nightmare\", \"nightmare\", \"nobby\", \"objected\", \"office_installs_squat_toilets\", \"office_installs_squat_toilets\", \"office_installs_squat_toilets\", \"office_installs_squat_toilets\", \"office_installs_squat_toilets\", \"parish\", \"parliament\", \"parliament\", \"parliament\", \"parliament\", \"parliament\", \"particle_physicist\", \"party\", \"party\", \"party\", \"party\", \"party\", \"pauline\", \"pauline\", \"pauline\", \"pauline\", \"pauline\", \"pauline_hanson\", \"pauline_hanson\", \"pauline_hanson\", \"pauline_hanson\", \"pauline_hanson\", \"pauline_hanson_demands_western\", \"pauline_hanson_demands_western\", \"pauline_hanson_hits\", \"pauline_hanson_hits\", \"pauline_hanson_hits\", \"pauline_hanson_puts_anti\", \"pauline_hanson_returns\", \"pauline_hanson_returns\", \"pauline_hanson_says\", \"pauline_hanson_says\", \"pauline_hanson_says\", \"pauline_hanson_says\", \"pauline_hanson_supporters_dressed\", \"pauline_hanson_supporters_dressed\", \"pauline_hanson_supporters_storm\", \"pauline_hanson_supporters_storm_church_dressed\", \"pauline_hanson_vows\", \"pauline_hanson_vows\", \"paulinehanson_hits\", \"paulinehanson_reckons\", \"paulinehanson_reckons\", \"people_blame_pauline_hanson\", \"people_blame_pauline_hanson\", \"photo\", \"photo\", \"photo\", \"photo\", \"physicist_brian\", \"physicist_brian\", \"posting_photos\", \"profbriancox\", \"profbriancox\", \"profbriancox\", \"profbriancox_responds\", \"profbriancox_responds\", \"profbriancox_takes\", \"profile_picture\", \"puerile\", \"puerile\", \"qanda\", \"qanda\", \"qanda\", \"qanda\", \"qanda\", \"randlight\", \"reached\", \"read_articles\", \"recap\", \"recap\", \"reclaim_australia_rally\", \"reclaim_australia_rally\", \"reclaim_australia_rally\", \"reclaimanglesea\", \"reclaimanglesea\", \"renowned_scientist\", \"renowned_scientist\", \"repeat\", \"representat\", \"representat\", \"representative\", \"representative\", \"reshare\", \"reshare\", \"reshare\", \"reshare\", \"right_pauline_hanson_supporters\", \"right_pauline_hanson_supporters\", \"right_pauline_hanson_supporters\", \"right_pauline_hanson_supporters\", \"right_pauline_hanson_trash_storm_church\", \"right_pauline_hanson_trash_storm_church\", \"right_pauline_hansonites_dressed\", \"right_pauline_hansonites_dressed\", \"right_pauline_hansonites_dressed\", \"right_place\", \"right_time\", \"roqchams\", \"roqchams\", \"roqchams\", \"royal_commission\", \"royal_commission\", \"rwnj\", \"says_reports\", \"scaa\", \"senate\", \"senate\", \"senate\", \"senate\", \"senate\", \"senate_office\", \"shit\", \"shit\", \"shit\", \"shit\", \"shit\", \"shits\", \"skull\", \"skull\", \"smackdown\", \"snap\", \"snooplady\", \"spider\", \"squat_toilets\", \"squat_toilets\", \"squat_toilets\", \"squat_toilets\", \"squat_toilets\", \"squatted\", \"squatted\", \"srpeatling\", \"srpeatling\", \"stormed\", \"stormed\", \"stormed\", \"story\", \"story\", \"style_defecation\", \"style_defecation\", \"sunday_dressed\", \"talking\", \"talking\", \"talking\", \"term\", \"theage\", \"theage\", \"theage\", \"theage\", \"theage\", \"thedrum\", \"thedrum\", \"thedrum\", \"thedrum\", \"think\", \"think\", \"think\", \"think\", \"time\", \"time\", \"time\", \"time\", \"time\", \"toilet\", \"toilet\", \"toilet\", \"toilet\", \"toilet\", \"told\", \"told\", \"tonight\", \"tonight\", \"tonight\", \"tonight\", \"trending\", \"vanbadham\", \"vanbadham\", \"vanbadham\", \"views\", \"views\", \"views\", \"wake\", \"wake\", \"wake\", \"wake\", \"wannabe_anglican_priest_baird\", \"wannabe_anglican_priest_baird\", \"white_supremacist_rally\", \"white_supremacist_rally\", \"white_supremacist_rally\", \"white_supremacist_rally\", \"wilson_security\", \"wilson_security\", \"wilson_security\", \"wilsonsecurity_staff\", \"wilsonsecurity_staff\", \"wilsonsecurity_staff\", \"wilsonsecurity_staff\", \"worry\", \"worry\", \"writes\", \"years\", \"years\", \"years\", \"years\", \"years\"]}, \"mdsDat\": {\"y\": [-0.031070723252041556, 0.016837317816949436, 0.22838168479994889, -0.17059517361780896, -0.043553105747047884], \"cluster\": [1, 1, 1, 1, 1], \"Freq\": [21.153120668672308, 20.831197253680916, 19.920073907542768, 19.198591021502217, 18.897017148601787], \"topics\": [1, 2, 3, 4, 5], \"x\": [0.27399068955634814, -0.020107616820849869, -0.057554984764339644, -0.10583465667502388, -0.090493431296134144]}, \"R\": 30, \"lambda.step\": 0.01, \"tinfo\": {\"Category\": [\"Default\", \"Default\", \"Default\", \"Default\", \"Default\", \"Default\", \"Default\", \"Default\", \"Default\", \"Default\", \"Default\", \"Default\", \"Default\", \"Default\", \"Default\", \"Default\", \"Default\", \"Default\", \"Default\", \"Default\", \"Default\", \"Default\", \"Default\", \"Default\", \"Default\", \"Default\", \"Default\", \"Default\", \"Default\", \"Default\", \"Topic1\", \"Topic1\", \"Topic1\", \"Topic1\", \"Topic1\", \"Topic1\", \"Topic1\", \"Topic1\", \"Topic1\", \"Topic1\", \"Topic1\", \"Topic1\", \"Topic1\", \"Topic1\", \"Topic1\", \"Topic1\", \"Topic1\", \"Topic1\", \"Topic1\", \"Topic1\", \"Topic1\", \"Topic1\", \"Topic1\", \"Topic1\", \"Topic1\", \"Topic1\", \"Topic1\", \"Topic1\", \"Topic1\", \"Topic1\", \"Topic1\", \"Topic1\", \"Topic1\", \"Topic1\", \"Topic1\", \"Topic1\", \"Topic1\", \"Topic1\", \"Topic1\", \"Topic1\", \"Topic1\", \"Topic1\", \"Topic1\", \"Topic1\", \"Topic1\", \"Topic2\", \"Topic2\", \"Topic2\", \"Topic2\", \"Topic2\", \"Topic2\", \"Topic2\", \"Topic2\", \"Topic2\", \"Topic2\", \"Topic2\", \"Topic2\", \"Topic2\", \"Topic2\", \"Topic2\", \"Topic2\", \"Topic2\", \"Topic2\", \"Topic2\", \"Topic2\", \"Topic2\", \"Topic2\", \"Topic2\", \"Topic2\", \"Topic2\", \"Topic2\", \"Topic2\", \"Topic2\", \"Topic2\", \"Topic2\", \"Topic2\", \"Topic2\", \"Topic2\", \"Topic2\", \"Topic2\", \"Topic2\", \"Topic2\", \"Topic2\", \"Topic2\", \"Topic2\", \"Topic2\", \"Topic2\", \"Topic2\", \"Topic2\", \"Topic2\", \"Topic2\", \"Topic2\", \"Topic2\", \"Topic2\", \"Topic2\", \"Topic3\", \"Topic3\", \"Topic3\", \"Topic3\", \"Topic3\", \"Topic3\", \"Topic3\", \"Topic3\", \"Topic3\", \"Topic3\", \"Topic3\", \"Topic3\", \"Topic3\", \"Topic3\", \"Topic3\", \"Topic3\", \"Topic3\", \"Topic3\", \"Topic3\", \"Topic3\", \"Topic3\", \"Topic3\", \"Topic3\", \"Topic3\", \"Topic3\", \"Topic3\", \"Topic3\", \"Topic3\", \"Topic3\", \"Topic3\", \"Topic3\", \"Topic3\", \"Topic3\", \"Topic3\", \"Topic3\", \"Topic3\", \"Topic3\", \"Topic3\", \"Topic3\", \"Topic3\", \"Topic3\", \"Topic3\", \"Topic3\", \"Topic3\", \"Topic3\", \"Topic3\", \"Topic4\", \"Topic4\", \"Topic4\", \"Topic4\", \"Topic4\", \"Topic4\", \"Topic4\", \"Topic4\", \"Topic4\", \"Topic4\", \"Topic4\", \"Topic4\", \"Topic4\", \"Topic4\", \"Topic4\", \"Topic4\", \"Topic4\", \"Topic4\", \"Topic4\", \"Topic4\", \"Topic4\", \"Topic4\", \"Topic4\", \"Topic4\", \"Topic4\", \"Topic4\", \"Topic4\", \"Topic4\", \"Topic4\", \"Topic4\", \"Topic4\", \"Topic4\", \"Topic4\", \"Topic4\", \"Topic4\", \"Topic4\", \"Topic4\", \"Topic4\", \"Topic4\", \"Topic4\", \"Topic4\", \"Topic4\", \"Topic4\", \"Topic4\", \"Topic4\", \"Topic4\", \"Topic5\", \"Topic5\", \"Topic5\", \"Topic5\", \"Topic5\", \"Topic5\", \"Topic5\", \"Topic5\", \"Topic5\", \"Topic5\", \"Topic5\", \"Topic5\", \"Topic5\", \"Topic5\", \"Topic5\", \"Topic5\", \"Topic5\", \"Topic5\", \"Topic5\", \"Topic5\", \"Topic5\", \"Topic5\", \"Topic5\", \"Topic5\", \"Topic5\", \"Topic5\", \"Topic5\", \"Topic5\", \"Topic5\", \"Topic5\", \"Topic5\", \"Topic5\", \"Topic5\", \"Topic5\", \"Topic5\", \"Topic5\", \"Topic5\", \"Topic5\", \"Topic5\", \"Topic5\", \"Topic5\", \"Topic5\", \"Topic5\", \"Topic5\", \"Topic5\", \"Topic5\", \"Topic5\", \"Topic5\", \"Topic5\", \"Topic5\", \"Topic5\", \"Topic5\", \"Topic5\"], \"Term\": [\"wilsonsecurity_staff\", \"reshare\", \"white_supremacist_rally\", \"kon__k\", \"photo\", \"nauru\", \"time\", \"muslims_storm_church\", \"skull\", \"objected\", \"posting_photos\", \"profile_picture\", \"australian_nazi_ross\", \"hanson\", \"vanbadham\", \"right_pauline_hanson_supporters\", \"pauline\", \"wake\", \"aussies\", \"dressed\", \"right_pauline_hansonites_dressed\", \"pauline_hanson_supporters_dressed\", \"nauru_emergency_response_team\", \"wilson_security\", \"reclaim_australia_rally\", \"muslims_storm\", \"frbower\", \"parish\", \"artbylynettag\", \"thedrum\", \"wilsonsecurity_staff\", \"reshare\", \"white_supremacist_rally\", \"kon__k\", \"photo\", \"people_blame_pauline_hanson\", \"important_things\", \"nauru\", \"length\", \"attacks\", \"pauline_hanson_puts_anti\", \"worry\", \"randlight\", \"electing_roberts\", \"begun\", \"australian_voters\", \"nightmare\", \"dinofancellu\", \"johnjohnsonson\", \"time\", \"leaves\", \"renowned_scientist\", \"pauline_hanson_vows\", \"destroys\", \"exposes\", \"flummoxed\", \"amdwaters\", \"term\", \"office_installs_squat_toilets\", \"nasa\", \"melbourne_offices\", \"mailonline\", \"hanson\", \"mortimershole\", \"pauline\", \"fact\", \"islam_group\", \"talking\", \"australian\", \"claims\", \"dismissed\", \"climate\", \"nation\", \"senate\", \"pauline_hanson\", \"mikecarlton\", \"shits\", \"braddybb\", \"buzzfeedoz\", \"concerned\", \"wilson_security\", \"nauru_emergency_response_team\", \"nation_crackpot_malcolm_roberts\", \"appearing\", \"reclaim_australia_rally\", \"door\", \"senate_office\", \"destroy\", \"cory_bernardi\", \"srpeatling\", \"canthavepudding\", \"roqchams\", \"concerns\", \"destroy_australian\", \"hanson_says\", \"distance\", \"squatted\", \"gosford_church_episode\", \"pauline_hanson_demands_western\", \"style_defecation\", \"jesus_christ\", \"pauline_hanson_supporters_storm\", \"deptofaustralia\", \"pauline_hanson_supporters_storm_church_dressed\", \"scaa\", \"montessori_schools_distance\", \"profbriancox_responds\", \"malcolm_roberts_continues\", \"existence\", \"deny\", \"naurufiles\", \"tonight\", \"life\", \"pauline_hanson_says\", \"squat_toilets\", \"toilet\", \"pauline_hanson\", \"climate_change\", \"johndory\", \"auspol\", \"shit\", \"nation\", \"qanda\", \"australian\", \"muslims\", \"objected\", \"posting_photos\", \"profile_picture\", \"australian_nazi_ross\", \"skull\", \"insists_isis\", \"paulinehanson_reckons\", \"representat\", \"mariamveiszadeh\", \"representative\", \"aren\", \"australians\", \"exaggerated\", \"vanbadham\", \"decline\", \"says_reports\", \"growth\", \"christianity\", \"farrellpf\", \"read_articles\", \"nation_senator_raised_discredited_climate_change_denial\", \"pauline_hanson_returns\", \"repeat\", \"adambspencer\", \"bigot_andrew_bolt_attacks_bigot_nick_folkes\", \"damaging_bigot_pauline_hanson\", \"brand\", \"election\", \"graph_presented\", \"hoax\", \"nick_folkes\", \"views\", \"bigotry\", \"told\", \"major_parties\", \"derryn_hinch\", \"royal_commission\", \"years\", \"islam\", \"pauline_hanson\", \"nation\", \"profbriancox\", \"malcolm_roberts\", \"julianburnside\", \"qanda\", \"nation_senator_malcolm_roberts\", \"artbylynettag\", \"parish\", \"muslims_storm\", \"pauline_hanson_supporters_dressed\", \"frbower\", \"puerile\", \"right_pauline_hansonites_dressed\", \"disturbing\", \"mock_muslim_attire\", \"sunday_dressed\", \"church_service\", \"particle_physicist\", \"wake\", \"hardly\", \"mystery\", \"beliefs\", \"nation_climate_change_denier\", \"mocks\", \"aussies\", \"thedrum\", \"reached\", \"right_pauline_hanson_trash_storm_church\", \"wannabe_anglican_priest_baird\", \"cops_pester_muslim_kids\", \"muslim_church_reaches\", \"snap\", \"snooplady\", \"hand\", \"chrismurphys\", \"trending\", \"spider\", \"story\", \"muslims_storm_church\", \"stormed\", \"delivered\", \"right_pauline_hanson_supporters\", \"dressed\", \"reclaimanglesea\", \"lunch\", \"auspol\", \"johndory\", \"nation\", \"malcolm_roberts\", \"pauline_hanson\", \"qanda\", \"australia\", \"right_place\", \"right_time\", \"brings_graphs\", \"grapple\", \"smackdown\", \"elect_asks_repeatedly\", \"climate_change_stoush\", \"british_physicist\", \"profbriancox_takes\", \"elect_malcolm_roberts\", \"case\", \"muslims_storm_gosford_church\", \"physicist_brian\", \"immigration_minister_peter_dutton\", \"borders_secure\", \"islam_church_stunt\", \"embarrassing_clash\", \"ausp\", \"courting\", \"recap\", \"writes\", \"apparentl\", \"nobby\", \"glad\", \"rwnj\", \"myknittingwool\", \"condemned\", \"paulinehanson_hits\", \"members\", \"flatearthgang\", \"pauline_hanson_hits\", \"making\", \"government\", \"think\", \"freedom\", \"anti\", \"nation_senator\", \"good_points\", \"party\", \"parliament\", \"malcolm_roberts\", \"julianburnside\", \"nation_senator_malcolm_roberts\", \"brian\", \"dressed\", \"auspol\", \"pauline_hanson\", \"right_pauline_hanson_supporters\", \"qanda\", \"muslims_storm_church\", \"nation\", \"johndory\", \"theage\"], \"loglift\": [30.0, 29.0, 28.0, 27.0, 26.0, 25.0, 24.0, 23.0, 22.0, 21.0, 20.0, 19.0, 18.0, 17.0, 16.0, 15.0, 14.0, 13.0, 12.0, 11.0, 10.0, 9.0, 8.0, 7.0, 6.0, 5.0, 4.0, 3.0, 2.0, 1.0, 1.5285, 1.5284, 1.5282, 1.5266999999999999, 1.5216000000000001, 1.5038, 1.5033000000000001, 1.4998, 1.498, 1.4967999999999999, 1.4965999999999999, 1.4964, 1.4947999999999999, 1.4947999999999999, 1.4947999999999999, 1.4945999999999999, 1.494, 1.4938, 1.4911000000000001, 1.4867999999999999, 1.4853000000000001, 1.4844999999999999, 1.4830000000000001, 1.4813000000000001, 1.4811000000000001, 1.4809000000000001, 1.4799, 1.4739, 1.472, 1.4715, 1.4711000000000001, 1.4715, 1.4427000000000001, 1.4695, 1.3623000000000001, 1.4497, 1.4266000000000001, 1.3266, 0.78920000000000001, 1.323, 1.276, 1.1361000000000001, -0.16309999999999999, 0.70340000000000003, -0.77729999999999999, 1.5425, 1.5410999999999999, 1.5397000000000001, 1.5392999999999999, 1.5358000000000001, 1.53, 1.5298, 1.5262, 1.526, 1.5253000000000001, 1.5249999999999999, 1.5246, 1.5241, 1.5239, 1.5218, 1.5205, 1.5147999999999999, 1.5138, 1.5099, 1.5085, 1.5074000000000001, 1.5054000000000001, 1.5027999999999999, 1.5021, 1.502, 1.502, 1.4987999999999999, 1.4962, 1.4934000000000001, 1.4931000000000001, 1.4831000000000001, 1.4883, 1.4056, 1.4004000000000001, 1.4026000000000001, 1.3506, 1.4263999999999999, 1.3431, 1.3113999999999999, 1.1796, 1.1657, 0.58509999999999995, 1.0406, 0.64600000000000002, 0.3347, 1.2035, 0.026499999999999999, 0.34820000000000001, 0.25130000000000002, 1.0597000000000001, 1.6046, 1.6045, 1.6043000000000001, 1.6043000000000001, 1.6031, 1.569, 1.569, 1.5689, 1.5643, 1.5622, 1.5548, 1.5545, 1.5488, 1.548, 1.5469999999999999, 1.5463, 1.5462, 1.546, 1.5441, 1.5438000000000001, 1.5434000000000001, 1.5427, 1.5424, 1.5407999999999999, 1.5362, 1.536, 1.536, 1.5350999999999999, 1.5336000000000001, 1.5335000000000001, 1.5106999999999999, 1.5192000000000001, 1.5005999999999999, 1.4950000000000001, 1.4779, 1.4635, 1.4237, 1.1934, 1.1793, 0.22550000000000001, 0.32640000000000002, 1.2354000000000001, 0.1754, 0.74439999999999995, 0.037499999999999999, 0.3155, 1.6355, 1.6355, 1.635, 1.6267, 1.6123000000000001, 1.6117999999999999, 1.6116999999999999, 1.6108, 1.6095999999999999, 1.609, 1.6019000000000001, 1.5829, 1.5792999999999999, 1.5785, 1.5772999999999999, 1.5762, 1.5762, 1.5761000000000001, 1.5747, 1.5736000000000001, 1.5667, 1.5627, 1.5625, 1.5625, 1.5592999999999999, 1.5564, 1.5519000000000001, 1.5509999999999999, 1.5431999999999999, 1.5402, 1.5385, 1.5309999999999999, 1.4343999999999999, 1.5072000000000001, 1.5271999999999999, 1.3641000000000001, 1.3162, 1.3713, 1.3975, 0.62480000000000002, 0.70509999999999995, -0.076499999999999999, -0.1399, -0.70989999999999998, -0.2283, 0.19439999999999999, 1.6393, 1.6385000000000001, 1.6323000000000001, 1.6322000000000001, 1.6322000000000001, 1.6313, 1.6298999999999999, 1.6289, 1.6279999999999999, 1.6242000000000001, 1.6208, 1.6133, 1.6119000000000001, 1.6093999999999999, 1.6093, 1.6081000000000001, 1.6059000000000001, 1.6031, 1.5919000000000001, 1.5894999999999999, 1.5768, 1.5713999999999999, 1.5588, 1.5587, 1.5565, 1.5502, 1.5499000000000001, 1.5472999999999999, 1.5456000000000001, 1.5452999999999999, 1.5377000000000001, 1.5125, 1.4862, 1.4442999999999999, 1.4313, 1.4019999999999999, 1.3475999999999999, 1.4749000000000001, 1.2452000000000001, 1.1832, 0.75170000000000003, 1.0668, 0.96120000000000005, 0.94259999999999999, 0.2888, 0.078299999999999995, -0.021999999999999999, 0.21340000000000001, 0.39069999999999999, -0.18890000000000001, -0.2145, 0.013299999999999999, 0.83220000000000005], \"Freq\": [183.0, 183.0, 183.0, 183.0, 184.0, 185.0, 193.0, 205.0, 137.0, 134.0, 134.0, 134.0, 134.0, 191.0, 138.0, 177.0, 201.0, 124.0, 125.0, 176.0, 83.0, 69.0, 77.0, 76.0, 77.0, 64.0, 69.0, 64.0, 63.0, 72.0, 178.60830727588592, 178.57640286472906, 178.61312008283224, 178.55752088014418, 178.94543392296026, 21.888743875038937, 21.878888616176805, 175.7353883684859, 15.941496625458916, 22.208979563765833, 14.61521924626182, 22.993247387382844, 13.503329489841279, 28.252156342949132, 28.251294836900488, 28.248102687338861, 28.425456684311872, 11.529729170525886, 23.294437633237852, 180.66651722656408, 11.209494285352081, 18.41646700908143, 19.848091794446695, 11.047417970444943, 11.045268818390207, 10.498194723143543, 12.784153099021191, 8.5383668931908883, 65.606748098534581, 22.68182448772815, 67.365859517845408, 54.503311304770065, 171.00664451239027, 16.454365915089802, 166.31837253771124, 22.540286198101963, 24.12018839156881, 22.482017837570769, 60.568161702197116, 20.732075948288358, 20.734520643144588, 23.723737161880436, 37.71008989043959, 24.432542499279851, 26.653000103729887, 27.760849418691478, 27.939664968748055, 31.010528576145997, 38.308690656646171, 25.933457833534174, 74.013947217499407, 74.219619503849913, 24.824617289559651, 24.819109940194409, 74.01799480878509, 29.592022929104328, 27.77553943745723, 32.845658422858513, 27.970790629382208, 30.678418470703956, 24.521913125560317, 28.694053199037771, 29.44616899026704, 12.169657475862588, 14.243579486389308, 15.073941443611302, 27.024026750058564, 13.626286371904831, 24.501236911576481, 24.498735710047768, 24.498567553863598, 18.22501211798583, 24.211920829420894, 11.516319296746119, 12.548823688439894, 25.002489444521419, 15.647153116192667, 50.955504102684905, 53.680077301494329, 51.171474326912282, 68.680192948455115, 27.943234287036024, 39.967227304039973, 35.117090805356092, 45.277524445225488, 45.712144737860214, 102.50141895898201, 41.735798609516685, 61.019625932007344, 73.72584360967889, 33.378953283577857, 44.889268122576482, 39.274178480767844, 34.83195828182555, 29.109288632462533, 133.61456931168578, 133.59586974902817, 133.57237071256327, 133.57023089975297, 135.58991123443693, 60.119694321454936, 60.119501860551239, 59.918301417634268, 60.686933937172356, 60.269920050842572, 60.32543802198628, 17.371448749601385, 14.848217618374402, 130.14190900334768, 18.764876814494965, 12.159579453663369, 18.326729435281791, 18.619965689470735, 11.788509698517913, 11.632118910619456, 27.358667614811544, 18.906582230070743, 11.463757560109245, 10.854738718527651, 14.923386823923993, 14.920715165445678, 14.920511189680495, 22.313024465079373, 11.746808259493847, 11.746164912740115, 59.24448503650865, 28.199304014430009, 15.367138515704644, 15.917956901286272, 14.387790196080957, 14.274930669296069, 15.557067656427073, 23.224369442657821, 23.020136631642206, 68.414356372257643, 57.936920264666867, 18.973662675539249, 37.546497927548927, 24.797986431873699, 27.525052560095734, 17.777257283564769, 62.774320065966137, 63.075706025571087, 63.80678930354037, 67.771123485660212, 66.600015309501302, 31.850570879178047, 80.245563761237221, 34.333872983288387, 18.687413277382234, 19.392118700499879, 20.454361693888846, 13.147387469786697, 115.79252421296184, 14.149221972537271, 13.921475445398512, 14.288539929490851, 10.986920764248771, 10.985578381640471, 116.04479058539118, 66.693608308655584, 8.0820185997156546, 17.487979442886292, 17.484023709300043, 17.483123157124577, 22.771399928720726, 7.1520913754441491, 7.1246473150282563, 8.390057950857301, 17.327530223043933, 7.4943812222165889, 8.6504135864175726, 11.063252602656389, 165.56069791072451, 23.08736907219188, 11.824837722183648, 133.4378825020454, 126.12818903267066, 29.986216229155847, 25.096780375824025, 90.822158653867319, 59.657120409983072, 37.323429534184356, 26.400174768245392, 25.874509529268536, 20.335218289129898, 19.423452180213097, 52.24113869267611, 52.805410696367815, 26.647846344555823, 26.644845719429771, 26.643598558120477, 25.351324144058722, 25.125075830981835, 25.592126965678567, 25.752820567871872, 29.93765512462975, 52.4165736373782, 13.095096500432943, 56.459650174615561, 16.117414702036463, 16.115316263387076, 44.968486793003741, 56.247148386748655, 16.500629904449369, 10.39609331871166, 21.634762299699311, 8.9481966314705943, 14.945230882472341, 6.7357614361559008, 8.7578296896926311, 6.7359625801561469, 7.769034609610423, 8.5874856649784945, 6.9096385529764452, 36.088117180615285, 5.7807369329448504, 41.169537965589804, 17.82926747808585, 27.889964397998778, 39.421607356407755, 36.024749637925751, 45.833132942486912, 45.87031045493103, 15.631403628502444, 36.923371376690909, 32.365490769703641, 63.379666016780355, 32.473738603420642, 32.163601851952201, 31.092310574398358, 44.440109107651779, 51.753118303071673, 50.669942187082704, 41.560473065141721, 37.173827783490495, 32.142842269048238, 32.000086966759106, 29.400585388252583, 27.396217990607106], \"Total\": [183.0, 183.0, 183.0, 183.0, 184.0, 185.0, 193.0, 205.0, 137.0, 134.0, 134.0, 134.0, 134.0, 191.0, 138.0, 177.0, 201.0, 124.0, 125.0, 176.0, 83.0, 69.0, 77.0, 76.0, 77.0, 64.0, 69.0, 64.0, 63.0, 72.0, 183.10337393468802, 183.10293619044876, 183.162298354212, 183.38664734800977, 184.72689840663281, 23.001881030146841, 23.001855571500009, 185.40926974444531, 16.849047616661355, 23.500834220274001, 15.468958214146541, 24.341507007537025, 14.317660103354036, 29.957225208286204, 29.957189709070317, 29.957182394089688, 30.165562512056315, 12.237095795526885, 24.791853617654422, 193.10019027211843, 11.999316020347472, 19.730177861978962, 21.294933692905126, 11.873592719757237, 11.873567597771363, 11.287286853797042, 13.759533827240009, 9.2448057226950979, 71.166698895875967, 24.617019227360039, 73.142676647082979, 59.156092064686618, 191.0306356826045, 17.894925523025648, 201.33366123355239, 25.003620387877547, 27.379961597816155, 28.204815448093434, 130.05308883527391, 26.103663126068739, 27.363818499366086, 36.010330177526086, 209.85979477862639, 57.160355849216707, 274.11322715132081, 28.497418633751487, 28.722098440282572, 31.925129973440637, 39.452671973201554, 26.802026015900218, 76.932617807937021, 77.16746364528322, 25.902198601573172, 25.902313686702065, 77.303632388533373, 30.915507056002294, 29.02745798046843, 34.342878802292326, 29.251842012578003, 32.152860182026281, 25.73340831444834, 30.282736058187371, 31.108097488662438, 12.907163304376402, 15.127158807909248, 16.026745646672513, 28.790806260931781, 14.554837333107219, 26.187808747446716, 26.18786877157671, 26.187842040968651, 19.545517664491591, 26.032862141202248, 12.417775235668083, 13.534452252985261, 27.237782287186221, 16.958011093220534, 59.982311653629594, 63.522134785377382, 60.419144224460659, 85.416904469090056, 32.217768753658092, 50.085152021000404, 45.420885002081441, 66.814208281497869, 68.403847956319581, 274.11322715132081, 70.776437365268634, 153.52646019284907, 253.25449915907427, 48.09212234228891, 209.85979477862639, 133.0913900772031, 130.05308883527391, 48.427262453635272, 134.79751189478995, 134.79774103944547, 134.79790205416128, 134.79780193454783, 137.00252130832726, 62.849735684272467, 62.849750448805153, 62.645287933126937, 63.743427617277575, 63.440542351783108, 63.968954411605509, 18.42679689341729, 15.840523483173106, 138.94431643448135, 20.054607616275504, 13.003865300825785, 19.601080960412283, 19.919427869856261, 12.634560778499095, 12.471245439748465, 29.343657437987677, 20.291813202532349, 12.307473208798244, 11.672505898392927, 16.121387845332556, 16.121375737202108, 16.121345557492166, 24.132060600215286, 12.723523489653406, 12.723543147140331, 65.653654864077566, 30.987518716486282, 17.201992792748307, 17.919709250347815, 16.475826652216856, 16.58398450130154, 18.808041358933185, 35.349040998176569, 35.535754690937196, 274.11322715132081, 209.85979477862639, 27.689893152275374, 158.16464591637842, 59.132945680600415, 133.0913900772031, 65.093396819203022, 63.709592849783739, 64.019369597691593, 64.793487531301267, 69.388958333836712, 69.179169879056502, 33.102038255831296, 83.405400892059447, 35.717802536655448, 19.463684143752417, 20.210871872867717, 21.468732854494501, 14.065042095197496, 124.32219988080683, 15.203469612638171, 14.976610041373339, 15.387347328004429, 11.831973219290903, 11.831935214382369, 125.16425344633636, 72.009870183759531, 8.7866684721248269, 19.089015752101854, 19.088923287032344, 19.088914451281337, 24.940611833258551, 7.8562048233672686, 7.8613039206121513, 9.2659665794209172, 19.286233602495329, 8.3671593649440119, 9.6744022386664561, 12.46506890522741, 205.46897710190544, 26.640615615438044, 13.374124826359996, 177.66338915215294, 176.1751995151227, 39.635844602397995, 32.314959779517608, 253.25449915907427, 153.52646019284907, 209.85979477862639, 158.16464591637842, 274.11322715132081, 133.0913900772031, 83.293547554738694, 53.66346538695695, 54.284439481639382, 27.564630809756135, 27.56461885726489, 27.564615565073744, 26.249961366843674, 26.053937714365965, 26.564484158582019, 26.753774047478295, 31.220272768181935, 54.848402103502345, 13.805700615014221, 59.610756719963383, 17.058869186188822, 17.058857341491407, 47.657072038295858, 59.741063215179011, 17.57464486455229, 11.197535001719951, 23.359356728241579, 9.7846747431247643, 16.430131553612565, 7.4990953649957124, 9.7514544933594909, 7.5170637513714471, 8.7244715201937701, 9.6462243965164802, 7.7816321460385245, 40.712976452488647, 6.5234311235568452, 46.810883559305587, 20.790228383526003, 33.388532552112338, 49.213196894790897, 45.563939662772306, 59.688082687672306, 63.078407598039149, 18.926469153587021, 56.248136784651173, 52.458700852902069, 158.16464591637842, 59.132945680600415, 65.093396819203022, 64.104253923790722, 176.1751995151227, 253.25449915907427, 274.11322715132081, 177.66338915215294, 133.0913900772031, 205.46897710190544, 209.85979477862639, 153.52646019284907, 63.078319589362465], \"logprob\": [30.0, 29.0, 28.0, 27.0, 26.0, 25.0, 24.0, 23.0, 22.0, 21.0, 20.0, 19.0, 18.0, 17.0, 16.0, 15.0, 14.0, 13.0, 12.0, 11.0, 10.0, 9.0, 8.0, 7.0, 6.0, 5.0, 4.0, 3.0, 2.0, 1.0, -3.3119000000000001, -3.3121, -3.3119000000000001, -3.3121999999999998, -3.3100000000000001, -5.4111000000000002, -5.4116, -3.3281000000000001, -5.7282000000000002, -5.3966000000000003, -5.8150000000000004, -5.3619000000000003, -5.8941999999999997, -5.1558999999999999, -5.1558999999999999, -5.1561000000000003, -5.1497999999999999, -6.0522, -5.3489000000000004, -3.3003999999999998, -6.0803000000000003, -5.5838000000000001, -5.5090000000000003, -6.0949, -6.0951000000000004, -6.1459000000000001, -5.9489000000000001, -6.3525, -4.3133999999999997, -5.3754999999999997, -4.2869999999999999, -4.4988000000000001, -3.3553999999999999, -5.6965000000000003, -3.3832, -5.3818000000000001, -5.3140000000000001, -5.3844000000000003, -4.3933, -5.4653999999999998, -5.4653, -5.3305999999999996, -4.8672000000000004, -5.3011999999999997, -5.2141999999999999, -5.1581000000000001, -5.1516999999999999, -5.0473999999999997, -4.8361000000000001, -5.2262000000000004, -4.1775000000000002, -4.1746999999999996, -5.2698999999999998, -5.2701000000000002, -4.1773999999999996, -5.0941999999999998, -5.1576000000000004, -4.9898999999999996, -5.1505999999999998, -5.0582000000000003, -5.2821999999999996, -5.1250999999999998, -5.0991999999999997, -5.9828000000000001, -5.8254000000000001, -5.7687999999999997, -5.1849999999999996, -5.8697999999999997, -5.2830000000000004, -5.2831000000000001, -5.2831000000000001, -5.5789999999999997, -5.2949000000000002, -6.0380000000000003, -5.9520999999999997, -5.2628000000000004, -5.7314999999999996, -4.5507999999999997, -4.4987000000000004, -4.5465999999999998, -4.2523, -5.1516000000000002, -4.7937000000000003, -4.9230999999999998, -4.6688999999999998, -4.6593999999999998, -3.8519000000000001, -4.7504, -4.3705999999999996, -4.1814, -4.9737999999999998, -4.6776, -4.8112000000000004, -4.9311999999999996, -5.1106999999999996, -3.5421, -3.5421999999999998, -3.5424000000000002, -3.5424000000000002, -3.5274000000000001, -4.3407, -4.3407, -4.3440000000000003, -4.3312999999999997, -4.3381999999999996, -4.3372999999999999, -5.5822000000000003, -5.7390999999999996, -3.5684, -5.5049999999999999, -5.9389000000000003, -5.5286999999999997, -5.5128000000000004, -5.9699, -5.9832999999999998, -5.1280000000000001, -5.4974999999999996, -5.9977999999999998, -6.0523999999999996, -5.7340999999999998, -5.7343000000000002, -5.7343000000000002, -5.3319000000000001, -5.9733999999999998, -5.9734999999999996, -4.3554000000000004, -5.0976999999999997, -5.7047999999999996, -5.6696, -5.7706, -5.7785000000000002, -5.6924999999999999, -5.2918000000000003, -5.3007, -4.2114000000000003, -4.3776999999999999, -5.4939999999999998, -4.8113999999999999, -5.2263000000000002, -5.1219000000000001, -5.5590999999999999, -4.2606000000000002, -4.2557999999999998, -4.2443, -4.1840000000000002, -4.2013999999999996, -4.9390999999999998, -4.0149999999999997, -4.8639999999999999, -5.4722999999999997, -5.4352999999999998, -5.3818999999999999, -5.8239000000000001, -3.6482999999999999, -5.7504999999999997, -5.7667000000000002, -5.7407000000000004, -6.0034000000000001, -6.0035999999999996, -3.6461999999999999, -4.2000000000000002, -6.3105000000000002, -5.5385999999999997, -5.5388999999999999, -5.5388999999999999, -5.2746000000000004, -6.4326999999999996, -6.4366000000000003, -6.2731000000000003, -5.5477999999999996, -6.3860000000000001, -6.2424999999999997, -5.9965000000000002, -3.2907999999999999, -5.2609000000000004, -5.9298999999999999, -3.5065, -3.5628000000000002, -4.9993999999999996, -5.1773999999999996, -3.8912, -4.3114999999999997, -4.7805, -5.1268000000000002, -5.1468999999999996, -5.3878000000000004, -5.4337, -4.4283999999999999, -4.4177, -5.1016000000000004, -5.1017000000000001, -5.1017999999999999, -5.1515000000000004, -5.1604000000000001, -5.1420000000000003, -5.1357999999999997, -4.9851999999999999, -4.4250999999999996, -5.8121, -4.3507999999999996, -5.6044, -5.6044999999999998, -4.5782999999999996, -4.3545999999999996, -5.5808999999999997, -6.0429000000000004, -5.3099999999999996, -6.1928999999999998, -5.6798999999999999, -6.4768999999999997, -6.2144000000000004, -6.4767999999999999, -6.3342000000000001, -6.234, -6.4513999999999996, -4.7983000000000002, -6.6298000000000004, -4.6665999999999999, -5.5034999999999998, -5.056, -4.71, -4.8000999999999996, -4.5593000000000004, -4.5585000000000004, -5.6349999999999998, -4.7755000000000001, -4.9071999999999996, -4.2351999999999999, -4.9039000000000001, -4.9135, -4.9473000000000003, -4.5902000000000003, -4.4378000000000002, -4.4589999999999996, -4.6571999999999996, -4.7686999999999999, -4.9141000000000004, -4.9185999999999996, -5.0033000000000003, -5.0739000000000001]}};\n",
       "\n",
       "function LDAvis_load_lib(url, callback){\n",
       "  var s = document.createElement('script');\n",
       "  s.src = url;\n",
       "  s.async = true;\n",
       "  s.onreadystatechange = s.onload = callback;\n",
       "  s.onerror = function(){console.warn(\"failed to load library \" + url);};\n",
       "  document.getElementsByTagName(\"head\")[0].appendChild(s);\n",
       "}\n",
       "\n",
       "if(typeof(LDAvis) !== \"undefined\"){\n",
       "   // already loaded: just create the visualization\n",
       "   !function(LDAvis){\n",
       "       new LDAvis(\"#\" + \"ldavis_el187403123066881554942248\", ldavis_el187403123066881554942248_data);\n",
       "   }(LDAvis);\n",
       "}else if(typeof define === \"function\" && define.amd){\n",
       "   // require.js is available: use it to load d3/LDAvis\n",
       "   require.config({paths: {d3: \"https://cdnjs.cloudflare.com/ajax/libs/d3/3.5.5/d3.min\"}});\n",
       "   require([\"d3\"], function(d3){\n",
       "      window.d3 = d3;\n",
       "      LDAvis_load_lib(\"https://cdn.rawgit.com/bmabey/pyLDAvis/files/ldavis.v1.0.0.js\", function(){\n",
       "        new LDAvis(\"#\" + \"ldavis_el187403123066881554942248\", ldavis_el187403123066881554942248_data);\n",
       "      });\n",
       "    });\n",
       "}else{\n",
       "    // require.js not available: dynamically load d3 & LDAvis\n",
       "    LDAvis_load_lib(\"https://cdnjs.cloudflare.com/ajax/libs/d3/3.5.5/d3.min.js\", function(){\n",
       "         LDAvis_load_lib(\"https://cdn.rawgit.com/bmabey/pyLDAvis/files/ldavis.v1.0.0.js\", function(){\n",
       "                 new LDAvis(\"#\" + \"ldavis_el187403123066881554942248\", ldavis_el187403123066881554942248_data);\n",
       "            })\n",
       "         });\n",
       "}\n",
       "</script>"
      ],
      "text/plain": [
       "<IPython.core.display.HTML object>"
      ]
     },
     "execution_count": 18,
     "metadata": {},
     "output_type": "execute_result"
    }
   ],
   "source": [
    "vis_data = pyLDAvis.gensim.prepare(lda_model, corpus_tfidf, dictionary)\n",
    "pyLDAvis.display(vis_data)"
   ]
  },
  {
   "cell_type": "markdown",
   "metadata": {},
   "source": [
    "### Modelling with sentiment taking into account\n",
    "\n",
    "### (A) Positive sentiment\n",
    "\n",
    "Just repeat the codes above with 'sentiment_afinn' > 0 rows selected."
   ]
  },
  {
   "cell_type": "code",
   "execution_count": 19,
   "metadata": {
    "collapsed": false
   },
   "outputs": [],
   "source": [
    "n = 0\n",
    "for index, row in df.iterrows():\n",
    "    if (row['sentiment_afinn'] > 0):\n",
    "        text = row['text']\n",
    "        text = remove_junk(text)\n",
    "        tokens = split_wd(text, sw)\n",
    "        if n == 0:\n",
    "            words_onp_pos_tuple = tokens\n",
    "            n = 1\n",
    "        else:\n",
    "            words_onp_pos_tuple = words_onp_pos_tuple + tokens"
   ]
  },
  {
   "cell_type": "markdown",
   "metadata": {},
   "source": [
    "#### Find common phrases"
   ]
  },
  {
   "cell_type": "code",
   "execution_count": 20,
   "metadata": {
    "collapsed": false
   },
   "outputs": [],
   "source": [
    "bigrams, trigrams = phrases(words_onp_pos_tuple)"
   ]
  },
  {
   "cell_type": "code",
   "execution_count": 21,
   "metadata": {
    "collapsed": true
   },
   "outputs": [],
   "source": [
    "words_onp_pos = []\n",
    "\n",
    "for index, row in df.iterrows():\n",
    "    if (row['sentiment_afinn'] > 0):\n",
    "        text = row['text']\n",
    "        text = remove_junk(text)\n",
    "        text = re.sub(trigrams, lambda match: match.group(0).replace(u' ', u'_'), text)\n",
    "        text = re.sub(bigrams, lambda match: match.group(0).replace(u' ', u'_'), text)\n",
    "        tokens = split_wd(text, sw)\n",
    "\n",
    "        words_onp_pos.append(tokens)"
   ]
  },
  {
   "cell_type": "code",
   "execution_count": 22,
   "metadata": {
    "collapsed": false
   },
   "outputs": [],
   "source": [
    "# first assign IDs to the tokens\n",
    "dictionary_pos = gensim.corpora.Dictionary(words_onp_pos)\n",
    "# remove tokens only appear once\n",
    "once_pos = [token_id for token_id, docfreq in dictionary_pos.dfs.iteritems() if docfreq == 1]\n",
    "dictionary_pos.filter_tokens(once_pos)\n",
    "dictionary_pos.compactify()\n",
    "dictionary_pos.save('models/onp_tm_pos_phrases.dict')\n",
    "#print(dictionary)\n",
    "\n",
    "# now convert to vectors\n",
    "corpus_pos = [dictionary_pos.doc2bow(t) for t in words_onp_pos]\n",
    "gensim.corpora.MmCorpus.serialize('models/onp_tm_pos_phrases.mm', corpus_pos)\n",
    "#print(corpus)"
   ]
  },
  {
   "cell_type": "code",
   "execution_count": 23,
   "metadata": {
    "collapsed": true
   },
   "outputs": [],
   "source": [
    "tfidf_pos = gensim.models.TfidfModel(corpus_pos)\n",
    "tfidf_pos.save('models/onp_tm_pos_phrases.tfidf')\n",
    "\n",
    "# put a model wrapper around corpus\n",
    "corpus_tfidf_pos = tfidf[corpus_pos]\n",
    "gensim.corpora.MmCorpus.serialize('models/onp_tm_pos_phrases.mm_corpus_tfidf', corpus_tfidf_pos)\n",
    "#for doc in corpus_tfidf:\n",
    "#    print(doc)"
   ]
  },
  {
   "cell_type": "code",
   "execution_count": 24,
   "metadata": {
    "collapsed": true
   },
   "outputs": [],
   "source": [
    "# number of topics to model\n",
    "n_topics = 5"
   ]
  },
  {
   "cell_type": "code",
   "execution_count": 25,
   "metadata": {
    "collapsed": false
   },
   "outputs": [],
   "source": [
    "lda_model_pos = gensim.models.ldamodel.LdaModel(corpus=corpus_tfidf_pos, id2word=dictionary_pos, \n",
    "                                                num_topics=n_topics, \n",
    "                                                update_every=1, chunksize=10000, passes=5)"
   ]
  },
  {
   "cell_type": "markdown",
   "metadata": {},
   "source": [
    "#### or batch LDA, no online updates   \n",
    "\n",
    "lda_model = gensim.models.ldamodel.LdaModel(corpus=corpus_tfidf, id2word=dictionary, num_topics=n_topics, update_every=0, passes=20)"
   ]
  },
  {
   "cell_type": "code",
   "execution_count": 26,
   "metadata": {
    "collapsed": false
   },
   "outputs": [],
   "source": [
    "lda_model_pos.save('models/onp_tm_pos_phrases.lda')\n",
    "#lda_model_pos.print_topics(10)\n",
    "#top_words = [[word for word in lda_model_pos.show_topic(topicno, topn=5)] \n",
    "#             for topicno in range(lda_model_pos.num_topics)]\n",
    "#print(top_words)"
   ]
  },
  {
   "cell_type": "code",
   "execution_count": 27,
   "metadata": {
    "collapsed": false
   },
   "outputs": [
    {
     "data": {
      "text/html": [
       "\n",
       "<link rel=\"stylesheet\" type=\"text/css\" href=\"https://cdn.rawgit.com/bmabey/pyLDAvis/files/ldavis.v1.0.0.css\">\n",
       "\n",
       "\n",
       "<div id=\"ldavis_el187409916116646394381984\"></div>\n",
       "<script type=\"text/javascript\">\n",
       "\n",
       "var ldavis_el187409916116646394381984_data = {\"plot.opts\": {\"xlab\": \"PC1\", \"ylab\": \"PC2\"}, \"topic.order\": [5, 3, 1, 4, 2], \"token.table\": {\"Topic\": [2, 4, 3, 3, 2, 4, 2, 1, 1, 4, 5, 1, 3, 1, 4, 5, 2, 2, 1, 1, 2, 3, 4, 5, 1, 1, 2, 3, 4, 5, 1, 2, 3, 4, 5, 2, 5, 3, 3, 4, 5, 1, 5, 1, 1, 3, 1, 1, 5, 2, 4, 4, 1, 4, 4, 2, 2, 2, 2, 4, 1, 2, 3, 5, 2, 3, 5, 4, 1, 5, 1, 5, 2, 3, 2, 1, 5, 4, 2, 1, 3, 4, 5, 1, 3, 5, 2, 2, 4, 5, 3, 3, 4, 1, 5, 1, 4, 5, 1, 2, 3, 5, 1, 5, 2, 3, 3, 4, 1, 2, 4, 1, 5, 1, 4, 5, 1, 2, 5, 5, 2, 1, 2, 3, 4, 4, 1, 1, 2, 1, 2, 5, 1, 5, 4, 5, 2, 1, 5, 1, 1, 3, 4, 3, 4, 3, 1, 2, 3, 4, 5, 3, 4, 5, 4, 3, 3, 3, 3, 1, 3, 5, 1, 1, 5, 1, 2, 3, 4, 5, 4, 3, 3, 4, 5, 3, 1, 2, 3, 5, 1, 4, 5, 1, 3, 4, 1, 3, 5, 1, 1, 2, 3, 4, 5, 1, 2, 3, 1, 3, 3, 4, 1, 2, 3, 2, 1, 5, 2, 4, 5, 1, 2, 3, 4, 1, 4, 5, 1, 2, 3, 5, 1, 3, 5, 1, 2, 3, 4, 5, 1, 5, 2, 5, 2, 5, 1, 4, 5, 1, 2, 5, 1, 2, 3, 4, 5, 2, 1, 4, 5, 1, 3, 5, 1, 3, 1, 2, 3, 4, 5, 1, 3, 2, 1, 3, 5, 2, 3, 1, 2, 4, 2, 5, 1, 3, 4, 2, 3, 3, 3, 5, 4, 1, 2, 3, 4, 5, 2, 4, 5, 2, 5, 2, 2, 4, 5, 2, 3, 4, 4, 1, 5, 2, 1, 5, 4, 1, 2, 5, 1, 5, 1, 2, 5, 1, 2, 3, 1, 4, 5, 5, 1, 3, 5, 2, 4, 5, 1, 2, 4, 5, 1, 2, 3, 4, 5, 1, 4, 5, 4, 2, 4, 5, 1, 4, 5, 4, 3, 2, 4, 3, 4, 3, 4, 2, 5, 1, 4, 1, 2, 3, 4, 5, 3, 4, 1, 3, 5, 1, 1, 1, 2, 5, 3, 5], \"Freq\": [0.19730041173160473, 0.78920164692641892, 0.71874922766713956, 0.91394411404894194, 0.93512919235058733, 0.058445574521911708, 0.89459108544214982, 0.77976756545746606, 0.086792172608550031, 0.11572289681140005, 0.78112955347695034, 0.096712991559343167, 0.87041692403408855, 0.017480795444696998, 0.961443749458335, 0.017480795444696998, 0.76296673645853874, 0.76296439746236433, 0.92464477708235415, 0.28366772150735242, 0.053187697782628579, 0.088646162971047632, 0.40777234966681908, 0.15956309334788574, 0.98185875412149604, 0.18941489714693291, 0.32471125225188496, 0.16235562612594248, 0.27059271020990416, 0.054118542041980827, 0.32825642272329059, 0.32825642272329059, 0.1094188075744302, 0.054709403787215102, 0.16412821136164529, 0.75414715156023238, 0.15082943031204646, 0.81945566034247075, 0.12191339000396985, 0.48765356001587939, 0.2438267800079397, 0.95625408517513844, 0.88455708404225064, 0.94266079105342837, 0.78329545746515772, 0.18430481352121358, 0.94440579664508373, 0.69374795892805385, 0.23124931964268461, 0.89505914281719179, 0.081369012983381075, 0.76683063926425354, 0.86217181751724536, 0.086217181751724534, 0.75247670856407889, 0.91626286271645785, 0.91960885367769374, 0.92563970025460318, 0.8908407212821231, 0.85064373311033648, 0.5869860977373702, 0.18676830382552689, 0.053362372521579111, 0.16008711756473734, 0.91961092083654405, 0.66345888036085621, 0.72827486138825681, 0.82886754000129603, 0.23048142550111519, 0.69144427650334561, 0.93462646209910583, 0.86509359997523949, 0.82215416891091675, 0.79804617033606806, 0.91471837203048434, 0.090036242685192405, 0.90036242685192414, 0.88120028145305995, 0.88992020113205339, 0.64636213650770935, 0.33918013103869898, 0.0063996251139377168, 0.67805820623771096, 0.7225064108728374, 0.079903217547328501, 0.87893539302061352, 0.88841123013766021, 0.67902484667462115, 0.11317080777910353, 0.22634161555820706, 0.92787912707160836, 0.82240886461891238, 0.8446187984139093, 0.18050025596519861, 0.72200102386079446, 0.041427407098913044, 0.92521209187572462, 0.013809135699637681, 0.091656960349423097, 0.36662784139769239, 0.4582848017471155, 0.091656960349423097, 0.084333518076261937, 0.84333518076261937, 0.80170602851562589, 0.86007789518005195, 0.74203336570606493, 0.21200953305887571, 0.11356333610999921, 0.75708890739999468, 0.11356333610999921, 0.79836695265125424, 0.17107863271098306, 0.5128645416524904, 0.3846484062393678, 0.1282161354131226, 0.056193892462088786, 0.89910227939342058, 0.056193892462088786, 0.91081175870398923, 0.82942880466705793, 0.30464558236555378, 0.2030970549103692, 0.50774263727592295, 0.77563734780711679, 0.75480487957601061, 0.77456626758218239, 0.90070310511632112, 0.78999861287979611, 0.8999207846624957, 0.23626836743764762, 0.7088051023129428, 0.07301812749068648, 0.91272659363358088, 0.72035709247192314, 0.18008927311798079, 0.74671846808801678, 0.89217481496284334, 0.93248721230139409, 0.89924382466728425, 0.85845575588756207, 0.66832432612641024, 0.22277477537547005, 0.80091436365892477, 0.69761559227703174, 0.72703523236813905, 0.064100025437679231, 0.032050012718839616, 0.57690022893911308, 0.16025006359419808, 0.16025006359419808, 0.71294944027243967, 0.17823736006810992, 0.17823736006810992, 0.90148758249696614, 0.73792043445982647, 0.78987940162819259, 0.90802291957687209, 0.63958282365321195, 0.04373417171380959, 0.78721509084857255, 0.13120251514142875, 0.84170000055593386, 0.7915309722745526, 0.18266099360181981, 0.26114315245597869, 0.058031811656884147, 0.52228630491195738, 0.029015905828442073, 0.11606362331376829, 0.86350289772216304, 0.79805281506363868, 0.897319893383975, 0.84503352167031287, 0.73841263092639764, 0.9316252544143524, 0.4301979866960573, 0.14339932889868579, 0.10754949667401432, 0.28679865779737157, 0.014885946401820265, 0.96758651611831725, 0.014885946401820265, 0.60457500530561681, 0.36017234358632488, 0.032158244963064721, 0.82843231696585207, 0.13807205282764201, 0.90101827322964478, 0.93050619954662062, 0.062937371626359442, 0.20139958920435022, 0.50349897301087554, 0.075524845951631336, 0.15104969190326267, 0.32713177121602005, 0.16356588560801003, 0.4906976568240301, 0.86886216952727846, 0.11848120493553797, 0.6139124832792644, 0.1534781208198161, 0.22369981880521919, 0.5965328501472511, 0.14913321253681278, 0.8568328267257892, 0.14796275010692603, 0.88777650064155622, 0.74316654830621387, 0.14863330966124277, 0.73822030193229249, 0.59371504011283538, 0.29685752005641769, 0.059371504011283535, 0.71472186852369068, 0.01979978693647667, 0.97018955988735689, 0.01979978693647667, 0.045762874199153855, 0.06864431129873079, 0.06864431129873079, 0.80085029848519251, 0.099618599678246669, 0.64752089790860334, 0.24904649919561669, 0.22259936722269719, 0.28463525644869475, 0.12772094840646561, 0.17880932776905184, 0.18975683763246318, 0.079817266684993143, 0.91789856687742122, 0.09491399316595954, 0.85422593849363593, 0.89414474886541473, 0.068780365297339593, 0.019554156870019122, 0.95815368663093692, 0.019554156870019122, 0.62370033673943959, 0.36382519643133976, 0.93376404061273188, 0.88863121839753412, 0.14794435877056494, 0.36986089692641233, 0.29588871754112989, 0.14794435877056494, 0.90341264181495662, 0.84348118687599527, 0.19718973817670507, 0.78875895270682028, 0.9384071842553503, 0.8510200129637695, 0.12157428756625278, 0.087286584113151947, 0.87286584113151944, 0.28395409260404392, 0.32763933762005071, 0.28395409260404392, 0.065527867524010144, 0.021842622508003381, 0.86443125343098615, 0.62815338744606264, 0.76296156303520057, 0.86721680415744107, 0.054201050259840067, 0.054201050259840067, 0.82422778500923866, 0.71094041578768552, 0.75105037181687151, 0.18776259295421788, 0.031293765492369646, 0.16913346218369332, 0.67653384873477329, 0.62890617990630349, 0.35791408612553854, 0.0051130583732219795, 0.87078735146757547, 0.85719470266047415, 0.9450459485669559, 0.85401687277963256, 0.89477817089948775, 0.80590550077721579, 0.12561919918238282, 0.18842879877357421, 0.12561919918238282, 0.062809599591191409, 0.43966719713833985, 0.14223195027226535, 0.14223195027226535, 0.56892780108906138, 0.84650942850748523, 0.72065163305385405, 0.84890366362091885, 0.23621306316927498, 0.29526632896159372, 0.41337286054623124, 0.81761275497463937, 0.071096761302142555, 0.10664514195321383, 0.84576491864946179, 0.80179271759392878, 0.69736638059872491, 0.95475056906258216, 0.39537992434589703, 0.52717323246119607, 0.76076339989191544, 0.055305247356267184, 0.82957871034400776, 0.11061049471253437, 0.17927049456570179, 0.71708197826280717, 0.64820988266399293, 0.23571268460508832, 0.05892817115127208, 0.78986597342084297, 0.70311883595838398, 0.20089109598810972, 0.11297795780054916, 0.56488978900274578, 0.22595591560109832, 0.7951213427193734, 0.64746327974733608, 0.10791054662455601, 0.21582109324911203, 0.1304973138650492, 0.1304973138650492, 0.78298388319029533, 0.15017880791418622, 0.6007152316567449, 0.075089403957093112, 0.15017880791418622, 0.052452975499443784, 0.026226487749721892, 0.41962380399555027, 0.026226487749721892, 0.47207677949499405, 0.014029224954745265, 0.96801652187742337, 0.014029224954745265, 0.9001526327917232, 0.33134850430639851, 0.49702275645959776, 0.11044950143546617, 0.17319054093736772, 0.17319054093736772, 0.69276216374947086, 0.77563848139200886, 0.87716525217586505, 0.8239442392724613, 0.84616126449716267, 0.70072502406192094, 0.84932683058118363, 0.72932938866029617, 0.75527707211978301, 0.82849911045958657, 0.7794001771384379, 0.9722035765214071, 0.87716488175723206, 0.17365579436047718, 0.11577052957365144, 0.23154105914730289, 0.23154105914730289, 0.17365579436047718, 0.79985961062874011, 0.63322893554030879, 0.16321149464455012, 0.16321149464455012, 0.65284597857820048, 0.96576321069582971, 0.80179321958712013, 0.72298947447565842, 0.15200718393581786, 0.76003591967908934, 0.28282207373053403, 0.67877297695328165], \"Term\": [\"abcthedrum\", \"abcthedrum\", \"absolute\", \"according\", \"actually_better\", \"actually_better\", \"ameliaadams\", \"anglican\", \"anti\", \"anti\", \"anti\", \"apparentl\", \"apparentl\", \"artbylynettag\", \"artbylynettag\", \"artbylynettag\", \"asian\", \"asianausvhanson\", \"ausp\", \"auspol\", \"auspol\", \"auspol\", \"auspol\", \"auspol\", \"aussies\", \"australia\", \"australia\", \"australia\", \"australia\", \"australia\", \"australian\", \"australian\", \"australian\", \"australian\", \"australian\", \"australians\", \"australians\", \"believe\", \"best\", \"best\", \"best\", \"betootaadvocate\", \"borders\", \"borders_secure\", \"brian\", \"brian\", \"briancox\", \"brisbanetimes\", \"brisbanetimes\", \"buzzfeedoz\", \"buzzfeedoz\", \"campaign\", \"canberratimes\", \"canberratimes\", \"cares\", \"cater\", \"central\", \"chain\", \"chris\", \"chriskkenny\", \"church\", \"church\", \"church\", \"church\", \"coast\", \"committed\", \"concern\", \"concerning\", \"confirms\", \"confirms\", \"convinced\", \"courtesy\", \"creti\", \"days\", \"dear\", \"derryn\", \"derryn\", \"doammuslims\", \"drbradmckay\", \"dressed\", \"dressed\", \"dressed\", \"dutton\", \"edwardatport\", \"election\", \"election\", \"employees\", \"enjoy\", \"enjoy\", \"enjoy\", \"esteemed\", \"flatearthgang\", \"flushing\", \"folkes\", \"folkes\", \"frbower\", \"frbower\", \"frbower\", \"free\", \"free\", \"free\", \"free\", \"freedom\", \"freedom\", \"fuchujim\", \"gift\", \"glad\", \"glad\", \"good\", \"good\", \"good\", \"good_points\", \"good_points\", \"government\", \"government\", \"government\", \"group\", \"group\", \"group\", \"hinch\", \"hippopeteamus\", \"hope\", \"hope\", \"hope\", \"human\", \"humour\", \"ianhartley_\", \"idiocy\", \"idiotic\", \"immigration_minister_peter_dutton\", \"innovation\", \"innovation\", \"islam_church_stunt\", \"islam_church_stunt\", \"islamophobia\", \"islamophobia\", \"jerked\", \"johndory\", \"johnnybridge\", \"johnwren\", \"josietaylor\", \"julianburnside\", \"julianburnside\", \"kind\", \"laugh\", \"laughed\", \"like\", \"like\", \"like\", \"like\", \"like\", \"like_pauline_hanson\", \"like_pauline_hanson\", \"like_pauline_hanson\", \"liners\", \"linessue\", \"looks\", \"loud_lass\", \"lucyxiv\", \"lunch\", \"lunch\", \"lunch\", \"makes\", \"making\", \"making\", \"malcolm_roberts\", \"malcolm_roberts\", \"malcolm_roberts\", \"malcolm_roberts\", \"malcolm_roberts\", \"marcfennell\", \"mass\", \"mickkime\", \"mike\", \"muslim_church\", \"muslim_church_reaches\", \"muslims\", \"muslims\", \"muslims\", \"muslims\", \"muslims_storm\", \"muslims_storm\", \"muslims_storm\", \"muslims_storm_church\", \"muslims_storm_church\", \"muslims_storm_church\", \"muslims_storm_gosford\", \"muslims_storm_gosford\", \"myfirstcousin\", \"myknittingwool\", \"nation\", \"nation\", \"nation\", \"nation\", \"nation\", \"nation_senator\", \"nation_senator\", \"nation_senator\", \"nation_senator_malcolm_roberts\", \"nation_senator_malcolm_roberts\", \"needs\", \"needs\", \"news\", \"news\", \"news\", \"newssyd\", \"nick\", \"nick\", \"night\", \"night\", \"nude\", \"onenation\", \"onenation\", \"onenation\", \"page\", \"parish\", \"parish\", \"parish\", \"party\", \"party\", \"party\", \"party\", \"pauline\", \"pauline\", \"pauline\", \"pauline_hanson\", \"pauline_hanson\", \"pauline_hanson\", \"pauline_hanson\", \"pauline_hanson\", \"pauline_hanson_hits\", \"pauline_hanson_hits\", \"pauline_hanson_secures\", \"pauline_hanson_secures\", \"pauline_hanson_supporters\", \"pauline_hanson_supporters\", \"pauline_hanson_supporters_dressed\", \"pauline_hanson_supporters_dressed\", \"pauline_hanson_supporters_dressed\", \"pauline_hanson_supporters_storm\", \"pauline_hanson_supporters_storm\", \"pauline_hanson_supporters_storm_church_dressed\", \"paulinehansonoz\", \"people\", \"people\", \"people\", \"people\", \"petstarr\", \"photo\", \"policy\", \"policy\", \"politician\", \"profbriancox\", \"profbriancox\", \"psyvret\", \"psyvret\", \"qanda\", \"qanda\", \"qanda\", \"qanda\", \"qanda\", \"qldaah\", \"quick\", \"racism\", \"real\", \"real\", \"real\", \"renowned\", \"repealed\", \"right\", \"right\", \"right\", \"right_pauline_hanson\", \"right_pauline_hanson\", \"right_pauline_hanson_supporters\", \"right_pauline_hanson_supporters\", \"right_pauline_hanson_supporters\", \"rob_stott\", \"rwnj\", \"scientist\", \"seculawyer\", \"secure\", \"segue\", \"senate\", \"senate\", \"senate\", \"senate\", \"senate\", \"senator\", \"senator\", \"senator\", \"showed\", \"sitting\", \"sorry_pauline_hanson\", \"squat\", \"squat\", \"squat\", \"squat_toilets\", \"squat_toilets\", \"squat_toilets\", \"stage\", \"standing\", \"stephanieando\", \"stop\", \"stormed\", \"stormed\", \"subtext\", \"support\", \"support\", \"support\", \"supporter\", \"supporter\", \"supporters\", \"supporters\", \"supporters\", \"supporters_dressed\", \"supporting\", \"supporting\", \"supports\", \"supports\", \"supports\", \"sure\", \"sydney\", \"sydney\", \"sydney\", \"talking\", \"talking\", \"talking\", \"thanks\", \"thanks\", \"thanks\", \"thanks\", \"theage\", \"theage\", \"theage\", \"theage\", \"theage\", \"thedrum\", \"thedrum\", \"thedrum\", \"thefeedsbs\", \"toilet\", \"toilet\", \"toilet\", \"toilets\", \"toilets\", \"toilets\", \"topic\", \"tree\", \"trumpian\", \"trvllngjwllr\", \"tuigen\", \"united\", \"venture\", \"viewpoint\", \"vision\", \"vows\", \"wake\", \"walks\", \"want\", \"want\", \"want\", \"want\", \"want\", \"wezking\", \"wilsonsecurity\", \"work\", \"work\", \"work\", \"workmanalice\", \"xenophobes\", \"xenophobic\", \"year_senate_term\", \"year_senate_term\", \"years\", \"years\"]}, \"mdsDat\": {\"y\": [0.039335164916081244, -0.15153913019603724, 0.017704284887606926, 0.16839796026195442, -0.073898279869605427], \"cluster\": [1, 1, 1, 1, 1], \"Freq\": [26.64621180159309, 19.729378936008068, 19.226961435587985, 18.155622280517274, 16.241825546293597], \"topics\": [1, 2, 3, 4, 5], \"x\": [-0.181863576776499, 0.096910513282321267, -0.13108183374148982, 0.16560176946316613, 0.050433127772501536]}, \"R\": 30, \"lambda.step\": 0.01, \"tinfo\": {\"Category\": [\"Default\", \"Default\", \"Default\", \"Default\", \"Default\", \"Default\", \"Default\", \"Default\", \"Default\", \"Default\", \"Default\", \"Default\", \"Default\", \"Default\", \"Default\", \"Default\", \"Default\", \"Default\", \"Default\", \"Default\", \"Default\", \"Default\", \"Default\", \"Default\", \"Default\", \"Default\", \"Default\", \"Default\", \"Default\", \"Default\", \"Topic1\", \"Topic1\", \"Topic1\", \"Topic1\", \"Topic1\", \"Topic1\", \"Topic1\", \"Topic1\", \"Topic1\", \"Topic1\", \"Topic1\", \"Topic1\", \"Topic1\", \"Topic1\", \"Topic1\", \"Topic1\", \"Topic1\", \"Topic1\", \"Topic1\", \"Topic1\", \"Topic1\", \"Topic1\", \"Topic1\", \"Topic1\", \"Topic1\", \"Topic1\", \"Topic1\", \"Topic1\", \"Topic1\", \"Topic1\", \"Topic1\", \"Topic1\", \"Topic1\", \"Topic1\", \"Topic1\", \"Topic1\", \"Topic1\", \"Topic1\", \"Topic1\", \"Topic1\", \"Topic1\", \"Topic1\", \"Topic1\", \"Topic1\", \"Topic1\", \"Topic1\", \"Topic1\", \"Topic1\", \"Topic1\", \"Topic2\", \"Topic2\", \"Topic2\", \"Topic2\", \"Topic2\", \"Topic2\", \"Topic2\", \"Topic2\", \"Topic2\", \"Topic2\", \"Topic2\", \"Topic2\", \"Topic2\", \"Topic2\", \"Topic2\", \"Topic2\", \"Topic2\", \"Topic2\", \"Topic2\", \"Topic2\", \"Topic2\", \"Topic2\", \"Topic2\", \"Topic2\", \"Topic2\", \"Topic2\", \"Topic2\", \"Topic2\", \"Topic2\", \"Topic2\", \"Topic2\", \"Topic2\", \"Topic2\", \"Topic2\", \"Topic2\", \"Topic2\", \"Topic2\", \"Topic2\", \"Topic2\", \"Topic2\", \"Topic2\", \"Topic2\", \"Topic2\", \"Topic2\", \"Topic2\", \"Topic2\", \"Topic2\", \"Topic3\", \"Topic3\", \"Topic3\", \"Topic3\", \"Topic3\", \"Topic3\", \"Topic3\", \"Topic3\", \"Topic3\", \"Topic3\", \"Topic3\", \"Topic3\", \"Topic3\", \"Topic3\", \"Topic3\", \"Topic3\", \"Topic3\", \"Topic3\", \"Topic3\", \"Topic3\", \"Topic3\", \"Topic3\", \"Topic3\", \"Topic3\", \"Topic3\", \"Topic3\", \"Topic3\", \"Topic3\", \"Topic3\", \"Topic3\", \"Topic3\", \"Topic3\", \"Topic3\", \"Topic3\", \"Topic3\", \"Topic3\", \"Topic3\", \"Topic3\", \"Topic3\", \"Topic3\", \"Topic3\", \"Topic3\", \"Topic3\", \"Topic3\", \"Topic3\", \"Topic3\", \"Topic3\", \"Topic3\", \"Topic3\", \"Topic3\", \"Topic3\", \"Topic4\", \"Topic4\", \"Topic4\", \"Topic4\", \"Topic4\", \"Topic4\", \"Topic4\", \"Topic4\", \"Topic4\", \"Topic4\", \"Topic4\", \"Topic4\", \"Topic4\", \"Topic4\", \"Topic4\", \"Topic4\", \"Topic4\", \"Topic4\", \"Topic4\", \"Topic4\", \"Topic4\", \"Topic4\", \"Topic4\", \"Topic4\", \"Topic4\", \"Topic4\", \"Topic4\", \"Topic4\", \"Topic4\", \"Topic4\", \"Topic4\", \"Topic4\", \"Topic4\", \"Topic4\", \"Topic4\", \"Topic4\", \"Topic4\", \"Topic4\", \"Topic4\", \"Topic4\", \"Topic4\", \"Topic4\", \"Topic4\", \"Topic4\", \"Topic4\", \"Topic4\", \"Topic4\", \"Topic5\", \"Topic5\", \"Topic5\", \"Topic5\", \"Topic5\", \"Topic5\", \"Topic5\", \"Topic5\", \"Topic5\", \"Topic5\", \"Topic5\", \"Topic5\", \"Topic5\", \"Topic5\", \"Topic5\", \"Topic5\", \"Topic5\", \"Topic5\", \"Topic5\", \"Topic5\", \"Topic5\", \"Topic5\", \"Topic5\", \"Topic5\", \"Topic5\", \"Topic5\", \"Topic5\", \"Topic5\", \"Topic5\", \"Topic5\", \"Topic5\", \"Topic5\", \"Topic5\", \"Topic5\", \"Topic5\", \"Topic5\", \"Topic5\", \"Topic5\", \"Topic5\", \"Topic5\", \"Topic5\", \"Topic5\", \"Topic5\", \"Topic5\", \"Topic5\", \"Topic5\", \"Topic5\", \"Topic5\"], \"Term\": [\"right_pauline_hanson_supporters\", \"dressed\", \"thedrum\", \"frbower\", \"muslims_storm\", \"muslims_storm_church\", \"artbylynettag\", \"parish\", \"pauline_hanson_supporters_dressed\", \"aussies\", \"party\", \"wake\", \"islam_church_stunt\", \"anti\", \"pauline_hanson_hits\", \"pauline\", \"theage\", \"nation\", \"squat_toilets\", \"lunch\", \"good\", \"actually_better\", \"muslim_church_reaches\", \"group\", \"nation_senator_malcolm_roberts\", \"years\", \"right\", \"support\", \"pauline_hanson\", \"election\", \"aussies\", \"wake\", \"convinced\", \"borders_secure\", \"immigration_minister_peter_dutton\", \"ausp\", \"workmanalice\", \"paulinehansonoz\", \"johnwren\", \"betootaadvocate\", \"politician\", \"real\", \"canberratimes\", \"photo\", \"supporters_dressed\", \"briancox\", \"ianhartley_\", \"qldaah\", \"nation_senator_malcolm_roberts\", \"johndory\", \"josietaylor\", \"idiocy\", \"myknittingwool\", \"xenophobic\", \"anglican\", \"edwardatport\", \"makes\", \"xenophobes\", \"standing\", \"good_points\", \"making\", \"brian\", \"right\", \"dressed\", \"right_pauline_hanson_supporters\", \"muslims_storm_church\", \"church\", \"muslims_storm_gosford\", \"pauline_hanson_supporters_storm\", \"supporters\", \"brisbanetimes\", \"onenation\", \"pauline_hanson\", \"sydney\", \"muslims\", \"auspol\", \"qanda\", \"malcolm_roberts\", \"australia\", \"actually_better\", \"stop\", \"rob_stott\", \"buzzfeedoz\", \"coast\", \"central\", \"sorry_pauline_hanson\", \"renowned\", \"ameliaadams\", \"newssyd\", \"employees\", \"group\", \"cater\", \"petstarr\", \"showed\", \"dear\", \"pauline_hanson_supporters\", \"fuchujim\", \"hippopeteamus\", \"creti\", \"drbradmckay\", \"chain\", \"idiotic\", \"jerked\", \"chris\", \"racism\", \"asianausvhanson\", \"asian\", \"trumpian\", \"australians\", \"squat_toilets\", \"support\", \"good\", \"vision\", \"supporting\", \"pauline_hanson\", \"night\", \"thanks\", \"news\", \"qanda\", \"enjoy\", \"australia\", \"nation\", \"pauline_hanson_supporters_storm\", \"church\", \"australian\", \"toilet\", \"muslim_church_reaches\", \"scientist\", \"psyvret\", \"apparentl\", \"believe\", \"esteemed\", \"kind\", \"looks\", \"mickkime\", \"days\", \"wezking\", \"flatearthgang\", \"rwnj\", \"loud_lass\", \"linessue\", \"absolute\", \"venture\", \"profbriancox\", \"laughed\", \"repealed\", \"mass\", \"tree\", \"lunch\", \"gift\", \"quick\", \"seculawyer\", \"lucyxiv\", \"according\", \"tuigen\", \"committed\", \"julianburnside\", \"glad\", \"pauline\", \"like_pauline_hanson\", \"nation\", \"like\", \"malcolm_roberts\", \"right_pauline_hanson_supporters\", \"muslims_storm_church\", \"dressed\", \"theage\", \"needs\", \"qanda\", \"pauline_hanson\", \"nation_senator\", \"hope\", \"free\", \"people\", \"australia\", \"years\", \"auspol\", \"thedrum\", \"artbylynettag\", \"parish\", \"muslims_storm\", \"pauline_hanson_supporters_dressed\", \"frbower\", \"concerning\", \"viewpoint\", \"thefeedsbs\", \"laugh\", \"flushing\", \"human\", \"topic\", \"subtext\", \"united\", \"stage\", \"campaign\", \"mike\", \"segue\", \"abcthedrum\", \"trvllngjwllr\", \"walks\", \"doammuslims\", \"liners\", \"marcfennell\", \"islamophobia\", \"wilsonsecurity\", \"humour\", \"page\", \"cares\", \"chriskkenny\", \"auspol\", \"toilet\", \"pauline_hanson\", \"supports\", \"australia\", \"best\", \"squat\", \"people\", \"like\", \"nation\", \"government\", \"want\", \"muslims_storm_church\", \"anti\", \"squat_toilets\", \"good\", \"pauline_hanson_supporters_storm_church_dressed\", \"hinch\", \"pauline_hanson_hits\", \"islam_church_stunt\", \"derryn\", \"election\", \"freedom\", \"vows\", \"pauline_hanson_secures\", \"muslim_church\", \"nick\", \"folkes\", \"party\", \"johnnybridge\", \"courtesy\", \"supporter\", \"year_senate_term\", \"talking\", \"anti\", \"myfirstcousin\", \"sure\", \"confirms\", \"borders\", \"policy\", \"secure\", \"sitting\", \"stephanieando\", \"dutton\", \"concern\", \"nude\", \"work\", \"years\", \"theage\", \"right_pauline_hanson\", \"innovation\", \"senator\", \"pauline_hanson\", \"senate\", \"squat\", \"toilets\", \"muslims\", \"pauline\", \"nation\", \"auspol\", \"church\", \"like\", \"stormed\", \"malcolm_roberts\"], \"loglift\": [30.0, 29.0, 28.0, 27.0, 26.0, 25.0, 24.0, 23.0, 22.0, 21.0, 20.0, 19.0, 18.0, 17.0, 16.0, 15.0, 14.0, 13.0, 12.0, 11.0, 10.0, 9.0, 8.0, 7.0, 6.0, 5.0, 4.0, 3.0, 2.0, 1.0, 1.3011999999999999, 1.2988999999999999, 1.2661, 1.2608999999999999, 1.2553000000000001, 1.2484999999999999, 1.2396, 1.2383, 1.2304999999999999, 1.2116, 1.2074, 1.1979, 1.179, 1.1778999999999999, 1.1778999999999999, 1.1722999999999999, 1.1677, 1.1631, 1.1620999999999999, 1.1456, 1.1429, 1.1387, 1.1297999999999999, 1.1259999999999999, 1.1133, 1.1103000000000001, 1.1097999999999999, 1.1062000000000001, 1.1062000000000001, 1.1045, 1.1032999999999999, 1.0991, 1.0501, 0.88959999999999995, 0.85750000000000004, 0.81520000000000004, 0.81200000000000006, 1.0590999999999999, 0.84809999999999997, 0.87129999999999996, 1.0125999999999999, 0.83450000000000002, -0.18140000000000001, 0.95569999999999999, 0.43809999999999999, 0.065299999999999997, 0.092100000000000001, -0.068199999999999997, -0.32729999999999998, 1.5484, 1.5269999999999999, 1.5232000000000001, 1.5105, 1.5103, 1.5103, 1.5044999999999999, 1.5029999999999999, 1.5013000000000001, 1.4996, 1.4973000000000001, 1.4946999999999999, 1.4932000000000001, 1.4915, 1.4897, 1.4857, 1.4833000000000001, 1.4777, 1.4750000000000001, 1.4746999999999999, 1.4646999999999999, 1.4560999999999999, 1.4480999999999999, 1.4424999999999999, 1.4384999999999999, 1.4335, 1.4335, 1.4333, 1.4323999999999999, 1.4281999999999999, 1.4198999999999999, 1.4168000000000001, 1.3521000000000001, 1.4240999999999999, 1.2689999999999999, 0.36380000000000001, 1.3223, 1.1092, 1.1028, 0.51049999999999995, 1.2117, 0.50939999999999996, -0.0067999999999999996, 0.57589999999999997, -0.036900000000000002, 0.51300000000000001, 0.50519999999999998, 1.5857000000000001, 1.5168999999999999, 1.5108999999999999, 1.5043, 1.4975000000000001, 1.4946999999999999, 1.4910000000000001, 1.4859, 1.4843999999999999, 1.484, 1.4824999999999999, 1.4774, 1.4725999999999999, 1.4661999999999999, 1.4492, 1.4453, 1.4418, 1.4399, 1.4379999999999999, 1.4298, 1.4275, 1.4234, 1.4152, 1.4127000000000001, 1.4012, 1.3957999999999999, 1.3905000000000001, 1.3855, 1.3794, 1.3697999999999999, 1.3668, 1.3294999999999999, 1.2124999999999999, 1.2699, 0.96530000000000005, 1.0820000000000001, 0.99119999999999997, 0.62829999999999997, 0.62690000000000001, 0.57089999999999996, 0.80130000000000001, 1.2543, 0.38790000000000002, -0.40810000000000002, 0.96079999999999999, 0.93149999999999999, 0.85299999999999998, 0.68700000000000006, -0.2006, 0.36659999999999998, -0.70089999999999997, 1.6718999999999999, 1.6700999999999999, 1.6688000000000001, 1.6666000000000001, 1.6623000000000001, 1.6325000000000001, 1.5170999999999999, 1.5072000000000001, 1.5043, 1.4954000000000001, 1.4904999999999999, 1.4826999999999999, 1.4825999999999999, 1.4810000000000001, 1.4786999999999999, 1.4771000000000001, 1.4755, 1.4744999999999999, 1.4744999999999999, 1.4690000000000001, 1.4676, 1.4657, 1.4648000000000001, 1.4591000000000001, 1.4589000000000001, 1.4462999999999999, 1.4453, 1.4174, 1.4056, 1.3918999999999999, 1.3692, 0.8206, 1.0205, -0.022800000000000001, 1.0838000000000001, 0.36940000000000001, 0.998, 0.40500000000000003, 0.54400000000000004, -0.1305, -0.85940000000000005, 0.83009999999999995, 0.15959999999999999, -1.7206999999999999, -0.55069999999999997, -0.47510000000000002, -0.4365, 1.7346999999999999, 1.7305999999999999, 1.7233000000000001, 1.7222, 1.6980999999999999, 1.6887000000000001, 1.6661999999999999, 1.6584000000000001, 1.6236999999999999, 1.6193, 1.6157999999999999, 1.5996999999999999, 1.5953999999999999, 1.5876999999999999, 1.5854999999999999, 1.5828, 1.5813999999999999, 1.579, 1.5744, 1.5740000000000001, 1.5555000000000001, 1.5533999999999999, 1.5367999999999999, 1.5363, 1.5337000000000001, 1.5210999999999999, 1.52, 1.5154000000000001, 1.5149999999999999, 1.4855, 1.4750000000000001, 1.4513, 1.0875999999999999, 1.3643000000000001, 1.4253, 1.2908999999999999, 0.14940000000000001, 0.98309999999999997, 0.95820000000000005, 1.3398000000000001, 0.60309999999999997, 0.40679999999999999, -0.0332, -0.074499999999999997, -0.045199999999999997, -0.0050000000000000001, 1.1652, -0.29509999999999997], \"Freq\": [195.0, 156.0, 71.0, 72.0, 67.0, 155.0, 57.0, 50.0, 51.0, 47.0, 43.0, 40.0, 27.0, 34.0, 25.0, 40.0, 38.0, 79.0, 28.0, 22.0, 26.0, 17.0, 15.0, 17.0, 25.0, 17.0, 31.0, 18.0, 274.0, 12.0, 46.856418086817925, 39.176717577902409, 15.16946614843056, 13.964405778976593, 12.467515519536597, 11.047517260411961, 9.5308041873628646, 10.344736537519987, 7.1000244268971784, 6.5518900841203589, 5.6987829128337291, 16.287441624218825, 10.048131580938277, 5.129583932892011, 4.382077888636708, 4.5557124460910892, 4.4235373135785219, 3.945471856337988, 21.568387438029934, 3.7564144124508707, 3.8933765917986003, 3.6953361741173714, 3.5452149444836336, 3.4091924141718466, 4.1613979897523388, 3.3582401933089283, 2.8811733709374656, 3.0138973866751839, 3.0138427849880651, 14.100450932969967, 13.191360491605408, 17.356936138902153, 24.334486313176424, 101.34858027477948, 122.852160801455, 93.618806719267582, 22.494016195971113, 5.5650905541325892, 11.971713250472426, 10.806779528855508, 6.3435370038840366, 10.339055096031469, 60.905738657762669, 6.4211771652046679, 11.518640533001292, 16.043618678579762, 13.376071392683128, 8.5781965737898194, 7.0986038511878773, 15.878285403382685, 7.6113772824210688, 9.3534357053347215, 10.981524640891223, 6.8001360242514428, 6.7999156106419694, 7.3240342329430312, 6.4557321543603496, 5.9381470501102624, 6.1894089798734067, 4.9627439199389434, 15.651871628106603, 4.7922956113396546, 6.7931175712254523, 6.2032816889603435, 7.6235379141882902, 12.642677113046531, 5.3927904911897127, 4.1589175915946042, 5.2431358908373804, 5.7547800656806425, 3.6568714043852584, 4.2506986831704658, 3.3537186120014288, 3.7333144758656274, 3.2530395372178118, 3.2529098224534159, 3.2524391593284623, 4.011975259026463, 5.45618172809841, 22.957960899283176, 14.711345022795358, 20.146918104616539, 3.9569132755567606, 6.987026429584259, 77.789150390798412, 4.9801992083927678, 7.966299815831837, 7.9711502096316487, 15.049207041738619, 5.8561156072031055, 12.134157719117654, 15.567130278031488, 6.752161523790722, 7.1269586321582423, 6.0235484831662074, 5.9211218617483361, 14.107956261195751, 5.5638735837166902, 9.9801272076057135, 8.9477454158568968, 5.2444497256041265, 4.618828683017786, 4.2651061166936177, 4.3027659652326582, 3.7818037899760686, 4.2505688736569338, 4.2344244458275115, 4.0975199431675868, 3.9121410440494224, 3.6698519616161192, 3.3295113878107365, 3.4051308276508747, 3.3441837133506036, 6.6746066559511341, 3.3419923027128844, 3.3895372345813053, 3.0127969963777903, 2.729858102022567, 18.101344291374872, 2.7542507896559068, 2.4854093582843446, 2.7275067876971009, 2.415038987655707, 2.5223703856441881, 2.1801027489486238, 2.2804368522006686, 3.3857607535049641, 6.8545586192534085, 25.954465356895138, 7.6817759624927175, 40.106733634240847, 17.700470003593409, 17.854248539363049, 70.487815310797842, 55.955921606850872, 53.175364560535456, 16.337136293199645, 4.3913976022307439, 12.973755085339015, 35.032126650712378, 6.1449132867209952, 4.8061430655484783, 4.9225071897666384, 5.1666085145226521, 5.8139771533833606, 4.9042570842927162, 5.3803500855566426, 68.879774144200709, 55.176910096954863, 48.650317034919041, 64.569283997803552, 48.941621358967787, 67.269311559289562, 3.9945867887779278, 3.2552086716269253, 3.6311839972751749, 3.4830223025800682, 2.8627241786989011, 3.0931995278260778, 3.0928677048403044, 3.1482944858472379, 2.8134770836712395, 2.82094623183783, 3.1060837836226978, 2.8159797676842571, 2.9526393797760315, 3.9981432834214021, 2.7928089156099825, 2.6890940634120075, 2.6742109172150794, 2.5991502627001339, 2.7131877802954585, 4.2817754034379654, 2.4331031590195451, 2.9776378357415494, 2.0717374809791127, 1.9410933240710859, 2.5178263496389759, 23.26450844872047, 9.1212928511616305, 48.629682674782778, 4.7500785257852618, 9.7079055465144926, 4.0398596507180793, 4.6097288379935062, 4.2286570613916323, 4.9716423097346691, 6.107324601969478, 3.2475729309465002, 3.6793971478970051, 5.0514783888655126, 3.6180700340951564, 3.17597405036082, 3.0997850249222698, 9.8571826171983297, 10.064287038536277, 22.80299705553259, 24.898227331145637, 9.855546412209657, 11.002029320005928, 10.191757146345456, 4.3770866059780857, 8.6786034452049901, 3.3321956407414941, 5.5233717513086749, 4.4557304922579428, 34.996545762668994, 2.5565715756012883, 2.7495190418927242, 4.4108048225209879, 10.389327803533297, 6.036193477780472, 27.105024030271988, 2.609874487684952, 3.8708353818210997, 3.3315264312249626, 2.5612834945764518, 3.8280080045856839, 2.5242344896027906, 2.0631599219434413, 2.1296797682762487, 2.1804599834480602, 2.0292321337880064, 1.9436900618403001, 4.349642335725175, 12.256712191962775, 18.374841086175451, 3.7574905209470506, 2.8591915457453627, 4.1520923797545528, 51.678222574183458, 6.9115903338375499, 7.1698912732765407, 3.580614124630968, 8.2811556660331256, 9.7953729582431279, 12.482302435276015, 8.5036985838572487, 5.8183369195915979, 5.042197941415413, 3.9514981842089822, 4.1670900273693938], \"Total\": [195.0, 156.0, 71.0, 72.0, 67.0, 155.0, 57.0, 50.0, 51.0, 47.0, 43.0, 40.0, 27.0, 34.0, 25.0, 40.0, 38.0, 79.0, 28.0, 22.0, 26.0, 17.0, 15.0, 17.0, 25.0, 17.0, 31.0, 18.0, 274.0, 12.0, 47.868392274052262, 40.115055058266648, 16.049192493770235, 14.851577717956134, 13.334506997191374, 11.896460427440751, 10.354505006247885, 11.253262087767936, 7.7843181214949855, 7.3202301653100355, 6.3938129424713974, 18.449826990547152, 11.598616188588162, 5.9278144880960779, 5.0641502920759294, 5.2943342975678975, 5.1641804806269791, 4.6273199680411015, 25.320471729100063, 4.4834262668203531, 4.6595295943521027, 4.4409750308159763, 4.2987354645771925, 4.1494380013979084, 5.1297337529720419, 4.1522122916193833, 3.5642152762487016, 3.7416130826659231, 3.7416154252468061, 17.535795981419504, 16.423867739051385, 21.703177055327412, 31.955246812462686, 156.25915302790224, 195.57766154933466, 155.48112173853823, 37.479592932102555, 7.2425952936929185, 19.240008852220942, 16.969812238580104, 8.6486740937889213, 16.84309698150733, 274.03492094823969, 9.2669348018337345, 27.894133331865678, 56.404020573716544, 45.78204836134438, 34.463855993762444, 36.955910572176172, 17.109935323248333, 8.3791518530905584, 10.335473964834138, 12.289690673822497, 7.6119148233171243, 7.6119319338930307, 8.2459297797610596, 7.2795410554289273, 6.7069749493809363, 7.0025328312032213, 5.6280243094464764, 17.795528236002696, 5.456949313842566, 7.7483972173966871, 7.0879305037143423, 8.7458612886955205, 14.53903298822229, 6.2367000149139402, 4.8225959569919263, 6.0815844388691138, 6.7421775484672617, 4.321335827428074, 5.0633000296275563, 4.0175784157067156, 4.490140498116304, 3.932046049692794, 3.932031442067367, 3.9320193877980767, 4.8546974532305489, 6.6300058147215042, 28.130676607061265, 18.08146690960745, 26.416976664846775, 4.8280075977162031, 9.9556428330620257, 274.03492094823969, 6.727966983169166, 13.317458220488883, 13.410828922540041, 45.78204836134438, 8.8362009569807576, 36.955910572176172, 79.444054792810874, 19.240008852220942, 37.479592932102555, 18.278393306740575, 18.107822796905673, 15.027501598591614, 6.3488976478850052, 11.456514310419951, 10.339872481210543, 6.1016114012933613, 5.3886329093101031, 4.9942917514005645, 5.0640641998699145, 4.4577190693000128, 5.0122413322471626, 5.0008775875753342, 4.8637608032757758, 4.6663844136987835, 4.4051751489532363, 4.0654789593895231, 4.1739175285616197, 4.1133677685890246, 8.2254234840162468, 4.1263474814394279, 4.2197629131495553, 3.7591496995857008, 3.4201081182346273, 22.865415322001812, 3.4880561595783934, 3.1839357073780534, 3.5128111582101131, 3.127038322536972, 3.2824764161010278, 2.8541866371583526, 3.0145048309733937, 4.4888385514678468, 9.4335380638029793, 40.153144221253939, 11.220992048107867, 79.444054792810874, 31.201235667909135, 34.463855993762444, 195.57766154933466, 155.48112173853823, 156.25915302790224, 38.129390772525539, 6.515586682052251, 45.78204836134438, 274.03492094823969, 12.227488590090557, 9.8475086252857782, 10.910246163386915, 13.518595887131053, 36.955910572176172, 17.678959545300124, 56.404020573716544, 71.279775128401411, 57.205634787252286, 50.505593984838498, 67.177455366742365, 51.140021359510662, 72.415828314746562, 4.8258615604536104, 3.9720522583587918, 4.4436908300700573, 4.3003625968392392, 3.5518982121089806, 3.8677869348112299, 3.867781282094223, 3.9434073726814689, 3.5322091472691826, 3.5470849332347263, 3.912206746040289, 3.5501550211524515, 3.7225208130566152, 5.0684131433052357, 3.5454234622554734, 3.4201095625147167, 3.404447391974426, 3.327832860093884, 3.4742211148494224, 5.552801578275437, 3.1584153656741543, 3.9745371037945088, 2.7982913187351377, 2.657889576165779, 3.526740847229485, 56.404020573716544, 18.107822796905673, 274.03492094823969, 8.8512840864533597, 36.955910572176172, 8.202544445425044, 16.933864479516615, 13.518595887131053, 31.201235667909135, 79.444054792810874, 7.7993303789567543, 17.275553695447428, 155.48112173853823, 34.56532899032954, 28.130676607061265, 26.416976664846775, 10.709343651141292, 10.979217060426606, 25.057234894965781, 27.39045862625143, 11.106638506633979, 12.51514057500472, 11.857681534116841, 5.132151771745769, 10.535854268100115, 4.0627690729453807, 6.7584577826334327, 5.5401583485444208, 43.70354867345678, 3.2172022955638711, 3.4678328450075986, 5.5781627781112899, 13.1572728881318, 7.6629929795652876, 34.56532899032954, 3.3295662131764363, 5.0306786965618429, 4.3387444251778176, 3.3915278664555988, 5.0712578111132895, 3.3527863079004372, 2.7752660346091806, 2.8679329196840504, 2.9495992845470376, 2.7462158946246573, 2.7092183657981197, 6.1270194368224393, 17.678959545300124, 38.129390772525539, 5.9124905686251186, 4.2324751757719108, 7.0307690929201581, 274.03492094823969, 15.921133178824512, 16.933864479516615, 5.7739873932355117, 27.894133331865678, 40.153144221253939, 79.444054792810874, 56.404020573716544, 37.479592932102555, 31.201235667909135, 7.5876386616318392, 34.463855993762444], \"logprob\": [30.0, 29.0, 28.0, 27.0, 26.0, 25.0, 24.0, 23.0, 22.0, 21.0, 20.0, 19.0, 18.0, 17.0, 16.0, 15.0, 14.0, 13.0, 12.0, 11.0, 10.0, 9.0, 8.0, 7.0, 6.0, 5.0, 4.0, 3.0, 2.0, 1.0, -3.3694999999999999, -3.5485000000000002, -4.4973000000000001, -4.5800999999999998, -4.6933999999999996, -4.8144, -4.9619999999999997, -4.8800999999999997, -5.2565, -5.3368000000000002, -5.4763000000000002, -4.4261999999999997, -4.9092000000000002, -5.5815000000000001, -5.7389999999999999, -5.7001999999999997, -5.7295999999999996, -5.8440000000000003, -4.1452999999999998, -5.8930999999999996, -5.8573000000000004, -5.9095000000000004, -5.9509999999999996, -5.9901, -5.7907000000000002, -6.0052000000000003, -6.1584000000000003, -6.1132999999999997, -6.1134000000000004, -4.5704000000000002, -4.6369999999999996, -4.3625999999999996, -4.0247000000000002, -2.5979999999999999, -2.4056000000000002, -2.6772999999999998, -4.1032999999999999, -5.5000999999999998, -4.734, -4.8364000000000003, -5.3691000000000004, -4.8806000000000003, -3.1072000000000002, -5.3570000000000002, -4.7725999999999997, -4.4413, -4.6231, -5.0673000000000004, -5.2567000000000004, -4.1510999999999996, -4.8864000000000001, -4.6802999999999999, -4.5198, -4.9991000000000003, -4.9991000000000003, -4.9249000000000001, -5.0510999999999999, -5.1345999999999998, -5.0932000000000004, -5.3140999999999998, -4.1654, -5.3490000000000002, -5.0000999999999998, -5.0910000000000002, -4.8848000000000003, -4.3789999999999996, -5.2309999999999999, -5.4908000000000001, -5.2591000000000001, -5.1660000000000004, -5.6193999999999997, -5.4688999999999997, -5.7060000000000004, -5.5987, -5.7363999999999997, -5.7365000000000004, -5.7366000000000001, -5.5266999999999999, -5.2192999999999996, -3.7824, -4.2274000000000003, -3.9129999999999998, -5.5406000000000004, -4.9720000000000004, -2.5619999999999998, -5.3106, -4.8407999999999998, -4.8402000000000003, -4.2046999999999999, -5.1485000000000003, -4.4199999999999999, -4.1708999999999996, -5.0061999999999998, -4.9520999999999997, -5.1204000000000001, -5.1375000000000002, -4.2435, -5.1738999999999997, -4.5895999999999999, -4.6988000000000003, -5.2331000000000003, -5.3601000000000001, -5.4398, -5.431, -5.5599999999999996, -5.4432, -5.4470000000000001, -5.4798999999999998, -5.5260999999999996, -5.5900999999999996, -5.6874000000000002, -5.665, -5.6829999999999998, -4.9919000000000002, -5.6837, -5.6695000000000002, -5.7873999999999999, -5.8860000000000001, -3.9942000000000002, -5.8771000000000004, -5.9798, -5.8868, -6.0084999999999997, -5.9649999999999999, -6.1109, -6.0659000000000001, -5.6707000000000001, -4.9653, -3.6339000000000001, -4.8513999999999999, -3.1987000000000001, -4.0166000000000004, -4.008, -2.6347999999999998, -2.8656999999999999, -2.9165999999999999, -4.0968, -5.4105999999999996, -4.3273000000000001, -3.3340000000000001, -5.0746000000000002, -5.3202999999999996, -5.2964000000000002, -5.2480000000000002, -5.1299999999999999, -5.3000999999999996, -5.2074999999999996, -2.6004999999999998, -2.8224, -2.9481999999999999, -2.6652, -2.9422999999999999, -2.6242000000000001, -5.4480000000000004, -5.6525999999999996, -5.5433000000000003, -5.585, -5.7811000000000003, -5.7037000000000004, -5.7038000000000002, -5.6859999999999999, -5.7984999999999998, -5.7957999999999998, -5.6994999999999996, -5.7976000000000001, -5.7502000000000004, -5.4470999999999998, -5.8059000000000003, -5.8437000000000001, -5.8491999999999997, -5.8776999999999999, -5.8348000000000004, -5.3784999999999998, -5.9436999999999998, -5.7417999999999996, -6.1044999999999998, -6.1696, -5.9095000000000004, -3.6859999999999999, -4.6223000000000001, -2.9487000000000001, -5.2747000000000002, -4.5599999999999996, -5.4367000000000001, -5.3047000000000004, -5.391, -5.2291999999999996, -5.0233999999999996, -5.6550000000000002, -5.5301999999999998, -5.2131999999999996, -5.5469999999999997, -5.6772999999999998, -5.7016, -4.4333, -4.4124999999999996, -3.5945999999999998, -3.5066999999999999, -4.4335000000000004, -4.3234000000000004, -4.3998999999999997, -5.2450999999999999, -4.5606, -5.5179, -5.0125000000000002, -5.2272999999999996, -3.1663000000000001, -5.7827999999999999, -5.7100999999999997, -5.2374999999999998, -4.3807, -4.9237000000000002, -3.4218000000000002, -5.7622, -5.3680000000000003, -5.5180999999999996, -5.7809999999999997, -5.3792, -5.7956000000000003, -5.9973000000000001, -5.9654999999999996, -5.9420000000000002, -6.0138999999999996, -6.0568999999999997, -5.2514000000000003, -4.2153999999999998, -3.8105000000000002, -5.3978000000000002, -5.6710000000000003, -5.2979000000000003, -2.7765, -4.7882999999999996, -4.7515999999999998, -5.4459999999999997, -4.6074999999999999, -4.4396000000000004, -4.1971999999999996, -4.5810000000000004, -4.9604999999999997, -5.1036999999999999, -5.3474000000000004, -5.2942999999999998]}};\n",
       "\n",
       "function LDAvis_load_lib(url, callback){\n",
       "  var s = document.createElement('script');\n",
       "  s.src = url;\n",
       "  s.async = true;\n",
       "  s.onreadystatechange = s.onload = callback;\n",
       "  s.onerror = function(){console.warn(\"failed to load library \" + url);};\n",
       "  document.getElementsByTagName(\"head\")[0].appendChild(s);\n",
       "}\n",
       "\n",
       "if(typeof(LDAvis) !== \"undefined\"){\n",
       "   // already loaded: just create the visualization\n",
       "   !function(LDAvis){\n",
       "       new LDAvis(\"#\" + \"ldavis_el187409916116646394381984\", ldavis_el187409916116646394381984_data);\n",
       "   }(LDAvis);\n",
       "}else if(typeof define === \"function\" && define.amd){\n",
       "   // require.js is available: use it to load d3/LDAvis\n",
       "   require.config({paths: {d3: \"https://cdnjs.cloudflare.com/ajax/libs/d3/3.5.5/d3.min\"}});\n",
       "   require([\"d3\"], function(d3){\n",
       "      window.d3 = d3;\n",
       "      LDAvis_load_lib(\"https://cdn.rawgit.com/bmabey/pyLDAvis/files/ldavis.v1.0.0.js\", function(){\n",
       "        new LDAvis(\"#\" + \"ldavis_el187409916116646394381984\", ldavis_el187409916116646394381984_data);\n",
       "      });\n",
       "    });\n",
       "}else{\n",
       "    // require.js not available: dynamically load d3 & LDAvis\n",
       "    LDAvis_load_lib(\"https://cdnjs.cloudflare.com/ajax/libs/d3/3.5.5/d3.min.js\", function(){\n",
       "         LDAvis_load_lib(\"https://cdn.rawgit.com/bmabey/pyLDAvis/files/ldavis.v1.0.0.js\", function(){\n",
       "                 new LDAvis(\"#\" + \"ldavis_el187409916116646394381984\", ldavis_el187409916116646394381984_data);\n",
       "            })\n",
       "         });\n",
       "}\n",
       "</script>"
      ],
      "text/plain": [
       "<IPython.core.display.HTML object>"
      ]
     },
     "execution_count": 27,
     "metadata": {},
     "output_type": "execute_result"
    }
   ],
   "source": [
    "vis_data_pos = pyLDAvis.gensim.prepare(lda_model_pos, corpus_tfidf_pos, dictionary_pos)\n",
    "pyLDAvis.display(vis_data_pos)"
   ]
  },
  {
   "cell_type": "markdown",
   "metadata": {},
   "source": [
    "### (B) Negative sentiment"
   ]
  },
  {
   "cell_type": "code",
   "execution_count": 28,
   "metadata": {
    "collapsed": false
   },
   "outputs": [],
   "source": [
    "n = 0\n",
    "for index, row in df.iterrows():\n",
    "    if (row['sentiment_afinn'] < 0):\n",
    "        text = row['text']\n",
    "        text = remove_junk(text)\n",
    "        tokens = split_wd(text, sw)\n",
    "        if n == 0:\n",
    "            words_onp_neg_tuple = tokens\n",
    "            n = 1\n",
    "        else:\n",
    "            words_onp_neg_tuple = words_onp_neg_tuple + tokens"
   ]
  },
  {
   "cell_type": "markdown",
   "metadata": {},
   "source": [
    "#### Find common phrases"
   ]
  },
  {
   "cell_type": "code",
   "execution_count": 29,
   "metadata": {
    "collapsed": false
   },
   "outputs": [],
   "source": [
    "bigrams, trigrams = phrases(words_onp_neg_tuple)"
   ]
  },
  {
   "cell_type": "code",
   "execution_count": 30,
   "metadata": {
    "collapsed": true
   },
   "outputs": [],
   "source": [
    "words_onp_neg = []\n",
    "\n",
    "for index, row in df.iterrows():\n",
    "    if (row['sentiment_afinn'] < 0):\n",
    "        text = row['text']\n",
    "        text = remove_junk(text)\n",
    "        text = re.sub(trigrams, lambda match: match.group(0).replace(u' ', u'_'), text)\n",
    "        text = re.sub(bigrams, lambda match: match.group(0).replace(u' ', u'_'), text)\n",
    "        tokens = split_wd(text, sw)\n",
    "\n",
    "        words_onp_neg.append(tokens)"
   ]
  },
  {
   "cell_type": "code",
   "execution_count": 31,
   "metadata": {
    "collapsed": false
   },
   "outputs": [],
   "source": [
    "# first assign IDs to the tokens\n",
    "dictionary_neg = gensim.corpora.Dictionary(words_onp_neg)\n",
    "# remove tokens only appear once\n",
    "once_neg = [token_id for token_id, docfreq in dictionary_neg.dfs.iteritems() if docfreq == 1]\n",
    "dictionary_neg.filter_tokens(once_neg)\n",
    "dictionary_neg.compactify()\n",
    "dictionary_neg.save('models/onp_tm_neg_phrases.dict')\n",
    "#print(dictionary)\n",
    "\n",
    "# now convert to vectors\n",
    "corpus_neg = [dictionary_neg.doc2bow(t) for t in words_onp_neg]\n",
    "gensim.corpora.MmCorpus.serialize('models/onp_tm_neg_phrases.mm', corpus_neg)\n",
    "#print(corpus)"
   ]
  },
  {
   "cell_type": "code",
   "execution_count": 32,
   "metadata": {
    "collapsed": true
   },
   "outputs": [],
   "source": [
    "tfidf_neg = gensim.models.TfidfModel(corpus_neg)\n",
    "tfidf_neg.save('models/onp_tm_neg_phrases.tfidf')\n",
    "\n",
    "# put a model wrapper around corpus\n",
    "corpus_tfidf_neg = tfidf[corpus_neg]\n",
    "gensim.corpora.MmCorpus.serialize('models/onp_tm_neg_phrases.mm_corpus_tfidf', corpus_tfidf_neg)\n",
    "#for doc in corpus_tfidf:\n",
    "#    print(doc)"
   ]
  },
  {
   "cell_type": "code",
   "execution_count": 33,
   "metadata": {
    "collapsed": true
   },
   "outputs": [],
   "source": [
    "# number of topics to model\n",
    "n_topics = 5"
   ]
  },
  {
   "cell_type": "code",
   "execution_count": 34,
   "metadata": {
    "collapsed": false
   },
   "outputs": [],
   "source": [
    "lda_model_neg = gensim.models.ldamodel.LdaModel(corpus=corpus_tfidf_neg, id2word=dictionary_neg, \n",
    "                                                num_topics=n_topics, \n",
    "                                                update_every=1, chunksize=10000, passes=5)"
   ]
  },
  {
   "cell_type": "markdown",
   "metadata": {},
   "source": [
    "#### or batch LDA, no online updates   \n",
    "\n",
    "lda_model = gensim.models.ldamodel.LdaModel(corpus=corpus_tfidf, id2word=dictionary, num_topics=n_topics, update_every=0, passes=20)"
   ]
  },
  {
   "cell_type": "code",
   "execution_count": 35,
   "metadata": {
    "collapsed": false
   },
   "outputs": [],
   "source": [
    "lda_model_neg.save('models/onp_tm_neg_phrases.lda')\n",
    "#lda_model_pos.print_topics(10)\n",
    "#top_words = [[word for word in lda_model_pos.show_topic(topicno, topn=5)] \n",
    "#             for topicno in range(lda_model_pos.num_topics)]\n",
    "#print(top_words)"
   ]
  },
  {
   "cell_type": "code",
   "execution_count": 36,
   "metadata": {
    "collapsed": false
   },
   "outputs": [
    {
     "data": {
      "text/html": [
       "\n",
       "<link rel=\"stylesheet\" type=\"text/css\" href=\"https://cdn.rawgit.com/bmabey/pyLDAvis/files/ldavis.v1.0.0.css\">\n",
       "\n",
       "\n",
       "<div id=\"ldavis_el187409916117846015276441\"></div>\n",
       "<script type=\"text/javascript\">\n",
       "\n",
       "var ldavis_el187409916117846015276441_data = {\"plot.opts\": {\"xlab\": \"PC1\", \"ylab\": \"PC2\"}, \"topic.order\": [1, 2, 5, 3, 4], \"token.table\": {\"Topic\": [1, 2, 3, 3, 4, 1, 2, 3, 4, 5, 4, 4, 4, 1, 5, 1, 4, 5, 1, 2, 3, 4, 5, 3, 1, 2, 3, 4, 5, 1, 3, 5, 2, 4, 5, 5, 4, 5, 2, 4, 5, 2, 3, 4, 2, 3, 4, 1, 3, 1, 2, 3, 4, 1, 4, 5, 5, 4, 3, 2, 4, 5, 1, 4, 2, 3, 4, 1, 3, 3, 1, 3, 5, 5, 2, 1, 2, 3, 4, 1, 1, 3, 5, 1, 3, 1, 2, 2, 3, 3, 5, 3, 4, 5, 1, 4, 1, 2, 3, 5, 4, 2, 2, 3, 1, 2, 3, 4, 5, 1, 2, 3, 1, 5, 4, 3, 2, 3, 4, 5, 4, 4, 2, 4, 4, 5, 2, 3, 4, 2, 2, 1, 4, 5, 4, 3, 2, 1, 5, 3, 3, 2, 3, 4, 3, 4, 1, 1, 2, 3, 1, 5, 2, 4, 3, 4, 5, 4, 5, 5, 1, 2, 1, 3, 5, 2, 3, 4, 5, 2, 5, 4, 5, 3, 3, 1, 4, 5, 1, 2, 3, 4, 5, 1, 2, 3, 4, 3, 5, 3, 4, 5, 2, 5, 1, 3, 1, 2, 4, 1, 3, 4, 5, 3, 4, 5, 1, 2, 3, 4, 5, 1, 2, 3, 4, 5, 3, 2, 1, 2, 1, 2, 1, 4, 1, 3, 4, 3, 4, 5, 1, 4, 5, 2, 5, 5, 1, 1, 4, 4, 1, 2, 3, 4, 5, 1, 3, 4, 1, 1, 3, 5, 2, 4, 2, 3, 4, 5, 1, 1, 2, 3, 5, 4, 4, 5, 3, 2, 4, 3, 1, 2, 3, 4, 5, 5, 3, 1, 4, 5, 1, 2, 4, 5, 5, 2, 5, 5, 1, 2, 3, 4, 1, 3, 4, 5, 1, 3, 4, 5, 5, 2, 5, 2, 4, 5, 2, 3, 2, 5, 3, 2, 3, 4, 5, 3, 4, 1, 2, 4, 5, 4, 2, 4, 1, 2, 5, 1, 3, 4, 5, 1, 4, 1, 3, 1, 1, 3, 5, 4, 5, 5, 4, 5, 3, 1, 3, 4, 5, 4, 3, 3, 5, 3, 5, 4, 2, 1, 4, 3, 1, 2, 3, 2, 5, 2, 3, 4, 5, 1, 5, 1, 2, 5, 2, 3], \"Freq\": [0.3813601139923849, 0.57204017098857729, 0.047670014249048112, 0.94756883985638285, 0.91774347059811801, 0.027960188564424133, 0.027960188564424133, 0.1677611313865448, 0.75492509123945162, 0.027960188564424133, 0.91444254259181956, 0.80469592516676947, 0.90218030643146008, 0.10480060659565034, 0.83840485276520271, 0.91339738687264149, 0.043495113660601978, 0.043495113660601978, 0.22530637428832687, 0.28371913799270793, 0.200272332700735, 0.14185956899635396, 0.14603190926095261, 0.9166820756678552, 0.2221466413322962, 0.1110733206661481, 0.2221466413322962, 0.36098829216498129, 0.08330499049961107, 0.19550461962653051, 0.57022180724404736, 0.21179667126207474, 0.87079964449112957, 0.89943155044001444, 0.95777449458457364, 0.94909651303713172, 0.79159163102001273, 0.9577747794039716, 0.89763668209298664, 0.89786503184187083, 0.80595546699501919, 0.070010493339157376, 0.63009444005241644, 0.2800419733566295, 0.95212682536463611, 0.47658631818312847, 0.47658631818312847, 0.88620406703774879, 0.059080271135849918, 0.75670363923785822, 0.16987224554319266, 0.046328794239052541, 0.015442931413017514, 0.23022570424224206, 0.15348380282816138, 0.6139352113126455, 0.74950938042854098, 0.92025933103597846, 0.8285953699639097, 0.28021724191536929, 0.093405747305123105, 0.56043448383073857, 0.12421508841981033, 0.86950561893867229, 0.85914394926047433, 0.071595329105039532, 0.071595329105039532, 0.83285917206288351, 0.10410739650786044, 0.74460065249860619, 0.8802497574421988, 0.09780552860468876, 0.96636328952519757, 0.79984333135729702, 0.95214539745069193, 0.92904033067102931, 0.046452016533551466, 0.015484005511183821, 0.015484005511183821, 0.95520885026928337, 0.29041968973932547, 0.65344430191348224, 0.036302461217415684, 0.87071739588049768, 0.087071739588049771, 0.093566722686972609, 0.93566722686972603, 0.76328955243355079, 0.97229662095746117, 0.96237645268741401, 0.034370587595979073, 0.098500861339675935, 0.098500861339675935, 0.78800689071740748, 0.7640712289641467, 0.93586573932251893, 0.51888289435398072, 0.018531531941213597, 0.018531531941213597, 0.42622523464791273, 0.89061387720413721, 0.77013925548403106, 0.83898318210899425, 0.069915265175749516, 0.91187524317828106, 0.043422630627537193, 0.021711315313768596, 0.021711315313768596, 0.83351251550852379, 0.093566814772708423, 0.93566814772708429, 0.85629965739898772, 0.88301714268134179, 0.044150857134067092, 0.73474421293481862, 0.94599133904759236, 0.95698289817075421, 0.7019691834401085, 0.14039383668802169, 0.14039383668802169, 0.80469652986429363, 0.83590980621372124, 0.072684697654432348, 0.87221637185318823, 0.83934071287460088, 0.86579825510340647, 0.85290241608849815, 0.07753658328077255, 0.95719565236211623, 0.93321669383030825, 0.8838535117914802, 0.83551601269263676, 0.083551601269263684, 0.75831931094990079, 0.95190551900511045, 0.97397212139864597, 0.86328069207035818, 0.95110046248335489, 0.043231839203788862, 0.72529988121370426, 0.91342310907739044, 0.67269415555888323, 0.089692554074517761, 0.2242313851862944, 0.15845661417763893, 0.79228307088819461, 0.94404581145298949, 0.38035108217258629, 0.60120009762763638, 0.012269389747502782, 0.92364390729495316, 0.048612837226050171, 0.97521569613712289, 0.82040878075294499, 0.91010350923563399, 0.75723503030971862, 0.85079033202746823, 0.76541605073828156, 0.19135401268457039, 0.87949998773736437, 0.93522886965621133, 0.058451804353513208, 0.24863399399502434, 0.67131178378656575, 0.049726798799004865, 0.074792956603165692, 0.074792956603165692, 0.074792956603165692, 0.74792956603165694, 0.87508979477840398, 0.91417780158439699, 0.24330480203194799, 0.7299144060958439, 0.92640651610694968, 0.86278937637698283, 0.12144795758624866, 0.12144795758624866, 0.72868774551749194, 0.44649557949717561, 0.38083446486523803, 0.013132222926387518, 0.039396668779162557, 0.11819000633748766, 0.92078777960328939, 0.054163987035487617, 0.018054662345162537, 0.018054662345162537, 0.90416078325717997, 0.78686131493454603, 0.84370876732993305, 0.68643868751549075, 0.13728773750309814, 0.81400525252443512, 0.84299646646559789, 0.90133714209158611, 0.060089142806105743, 0.95121389593284189, 0.43107735403644681, 0.51729282484373618, 0.081009909158716503, 0.16201981831743301, 0.16201981831743301, 0.56706936411101549, 0.9506682041872393, 0.021606095549709985, 0.021606095549709985, 0.59273389759489969, 0.1340707625512273, 0.077619915161236855, 0.091732627008734469, 0.098788982932483269, 0.94388378146931173, 0.12137774031586009, 0.12137774031586009, 0.24275548063172017, 0.50574058464941707, 0.91205108858603412, 0.96717849505458564, 0.016632022666596913, 0.96465731466262084, 0.013890360397047394, 0.95843486739627026, 0.062058132261362316, 0.86881385165907243, 0.86279264500833319, 0.095865849445370355, 0.83648367448769645, 0.65493159409564061, 0.093561656299377224, 0.28068496889813166, 0.069494042914235346, 0.4169642574854121, 0.48645830039964744, 0.84831745975414019, 0.10603968246926752, 0.86262107765931861, 0.92422551261097774, 0.045395780572549921, 0.90791561145099842, 0.71706954135598444, 0.040571840248346064, 0.31781274861204417, 0.12396951186994631, 0.23892305924026017, 0.27724090836369814, 0.9440446174875885, 0.18907008729451175, 0.75628034917804698, 0.91763352474300841, 0.3126090277110169, 0.62521805542203379, 0.056838005038366703, 0.95350381128052142, 0.846718616153744, 0.26062821042966172, 0.36487949460152636, 0.20850256834372935, 0.10425128417186467, 0.93834231595499529, 0.55419687385887462, 0.024095516254733683, 0.024095516254733683, 0.38552826007573893, 0.78316218003358329, 0.78892971598019634, 0.14344176654185389, 0.91770146531704944, 0.23313131765820075, 0.69939395297460227, 0.94020478247121586, 0.55596682436876677, 0.15261834394436735, 0.25073013648003212, 0.010901310281740526, 0.021802620563481052, 0.79662792070527688, 0.91502211728616178, 0.17330534170258807, 0.11553689446839205, 0.63545291957615624, 0.50453003650391492, 0.10511042427164893, 0.294309187960617, 0.10511042427164893, 0.88270435303937966, 0.90905411833100724, 0.93810803923395181, 0.90795438220864444, 0.015845793365002282, 0.9665933952651391, 0.72488936857974573, 0.26359613402899845, 0.079609179426885751, 0.23882753828065723, 0.47765507656131445, 0.19902294856721436, 0.25548450573723763, 0.71170683741087615, 0.018248893266945544, 0.018248893266945544, 0.89816155078995097, 0.75841932099486287, 0.96029396604871964, 0.10891182939044222, 0.76238280573309547, 0.054455914695221111, 0.89530714275411272, 0.84191849860452195, 0.9025988077372159, 0.90076730073906564, 0.92118891704380967, 0.81082993637749101, 0.80492066527914963, 0.75673426143228195, 0.12612237690538031, 0.85159983011397566, 0.14193330501899595, 0.45862110190687905, 0.016985966737291816, 0.033971933474583632, 0.50957900211875451, 0.94629618909157864, 0.082316264584783472, 0.82316264584783472, 0.96281936858128325, 0.10602270737527257, 0.84818165900218057, 0.066293785891132287, 0.49720339418349213, 0.16573446472783071, 0.26517514356452915, 0.83895242898286815, 0.13982540483047801, 0.8421157370311142, 0.15789670069333392, 0.97858728360954961, 0.89514666994431613, 0.06393904785316544, 0.97055703336239907, 0.88213067273525692, 0.77306850609405409, 0.91865750565845028, 0.8625078974291488, 0.14375131623819146, 0.85183917679238663, 0.31196121297697937, 0.51250770703360893, 0.022282943784069954, 0.15598060648848969, 0.94647316471756759, 0.95891839009404489, 0.81394089029358774, 0.13565681504893129, 0.84319846479877281, 0.92915795674023305, 0.8885046416670096, 0.97672459545076296, 0.14708062048070264, 0.88248372288421584, 0.92902228762685091, 0.019023362252132883, 0.97019147485877699, 0.76811495243472583, 0.81241941556417518, 0.14771262101166821, 0.35273614660718844, 0.44893691386369439, 0.16033461209417657, 0.032066922418835311, 0.945385460127664, 0.04110371565772452, 0.07499118902435771, 0.74991189024357707, 0.14998237804871542, 0.74387684393372466, 0.12397947398895411], \"Term\": [\"abcnews\", \"abcnews\", \"abcnews\", \"abctv\", \"ancestors\", \"anti\", \"anti\", \"anti\", \"anti\", \"anti\", \"arabic\", \"arrived\", \"asked\", \"attack\", \"attack\", \"attacks\", \"attacks\", \"attacks\", \"auspol\", \"auspol\", \"auspol\", \"auspol\", \"auspol\", \"aussie\", \"australia\", \"australia\", \"australia\", \"australia\", \"australia\", \"australian\", \"australian\", \"australian\", \"banana\", \"better\", \"bigot_andrew_bolt_attacks_bigot_nick_folkes\", \"bigotry\", \"bizarre\", \"brand\", \"bunk\", \"case\", \"censored\", \"children\", \"children\", \"children\", \"christianity\", \"church\", \"church\", \"church_service\", \"church_service\", \"climate_change\", \"climate_change\", \"climate_change\", \"climate_change\", \"climatechange\", \"climatechange\", \"climatechange\", \"climatechangeisreal\", \"coherent\", \"complains\", \"condemn\", \"condemn\", \"condemn\", \"condemned\", \"condemned\", \"counterproductive\", \"counterproductive\", \"counterproductive\", \"crap\", \"crap\", \"crashed\", \"culture\", \"culture\", \"damaging_bigot_pauline_hanson\", \"dangerous\", \"decline\", \"deny\", \"deny\", \"deny\", \"deny\", \"deptofaustralia\", \"destroy\", \"destroy\", \"destroy\", \"destroy_australian\", \"destroy_australian\", \"destroys\", \"destroys\", \"discredited\", \"disturbing\", \"dressed\", \"dressed\", \"dumb\", \"dumb\", \"dumb\", \"dunnies\", \"elected\", \"embarrassing_clash\", \"embarrassing_clash\", \"embarrassing_clash\", \"embarrassing_clash\", \"emfarrelly\", \"employees\", \"exaggerated\", \"exaggerated\", \"existence\", \"existence\", \"existence\", \"existence\", \"expert\", \"exposes\", \"exposes\", \"extends\", \"fact\", \"fact\", \"fans\", \"fark\", \"farrellpf\", \"fear\", \"fear\", \"fear\", \"flash\", \"footy\", \"freedom\", \"freedom\", \"garb\", \"getting\", \"gosford_anglican_church_stunt\", \"gosford_anglican_church_stunt\", \"graph_presented\", \"growth\", \"guard_pauline_hanson_spoke\", \"hanson_says\", \"hanson_says\", \"hillyhobbit\", \"hoax\", \"icymi\", \"immortalzen\", \"important_things\", \"important_things\", \"insidious\", \"invitation\", \"islam\", \"islam\", \"islam\", \"islam_church_stunt\", \"islam_church_stunt\", \"jesus_christ\", \"johndory\", \"johndory\", \"johndory\", \"johnjohnsonson\", \"johnjohnsonson\", \"julianburnside\", \"justjen\", \"killed\", \"know\", \"latest\", \"leader\", \"leader\", \"legitimisation\", \"length\", \"length\", \"life\", \"life\", \"life\", \"like\", \"like\", \"like\", \"like\", \"liked\", \"line\", \"look\", \"look\", \"lunch\", \"maimed\", \"makes\", \"makes\", \"makes\", \"malcolm_roberts\", \"malcolm_roberts\", \"malcolm_roberts\", \"malcolm_roberts\", \"malcolm_roberts\", \"malcolm_roberts_continues\", \"malcolm_roberts_continues\", \"malcolm_roberts_continues\", \"malcolm_roberts_continues\", \"manus\", \"markhumphries\", \"matilda\", \"media\", \"media\", \"mediawatch\", \"meehanelisabeth\", \"mock_muslim_attire\", \"mock_muslim_attire\", \"mocks\", \"muslim\", \"muslim\", \"muslims\", \"muslims\", \"muslims\", \"muslims\", \"muslims_storm_church\", \"muslims_storm_church\", \"muslims_storm_church\", \"nation\", \"nation\", \"nation\", \"nation\", \"nation\", \"nation_climate_change_denier\", \"nation_senator_malcolm_roberts\", \"nation_senator_malcolm_roberts\", \"nation_senator_malcolm_roberts\", \"nation_senator_malcolm_roberts\", \"nation_senator_malcolm_roberts_denied_climate_change\", \"nation_senator_raised_discredited_climate_change_denial\", \"nauru_emergency_response_team\", \"nauru_emergency_response_team\", \"naurufiles\", \"naurufiles\", \"newly\", \"newly\", \"newmatilda\", \"newmatilda\", \"numerals\", \"office\", \"office\", \"office\", \"onenation\", \"onenation\", \"onenation\", \"oxygen\", \"oxygen\", \"panic\", \"particle\", \"party\", \"party\", \"patriots\", \"pauline_hanson\", \"pauline_hanson\", \"pauline_hanson\", \"pauline_hanson\", \"pauline_hanson\", \"pauline_hanson_demands_western\", \"pauline_hanson_hits\", \"pauline_hanson_hits\", \"pauline_hanson_puts_anti\", \"pauline_hanson_says\", \"pauline_hanson_says\", \"pauline_hanson_says\", \"pauline_hanson_says_anti\", \"paulinehanson_hits\", \"people\", \"people\", \"people\", \"people\", \"people_blame_pauline_hanson\", \"physicist_brian\", \"physicist_brian\", \"physicist_brian\", \"physicist_brian\", \"policy\", \"profbriancox\", \"profbriancox\", \"profbriancox_responds\", \"protest\", \"protest\", \"puerile\", \"qanda\", \"qanda\", \"qanda\", \"qanda\", \"qanda\", \"qldgreens\", \"quotethon\", \"racism\", \"racism\", \"racism\", \"racist\", \"racist\", \"racist\", \"racist\", \"rant\", \"readfearn\", \"recap\", \"reclaim_australia\", \"reclaim_australia_rally\", \"reclaim_australia_rally\", \"reclaimanglesea\", \"reclaimanglesea\", \"right\", \"right\", \"right\", \"right\", \"right_pauline_hanson_supporters\", \"right_pauline_hanson_supporters\", \"right_pauline_hanson_supporters\", \"right_pauline_hanson_supporters\", \"roshart\", \"round\", \"sandraeckersley\", \"says\", \"says\", \"says\", \"says_reports\", \"sbsnews\", \"scaa\", \"scholar\", \"scienceweek\", \"scones\", \"seanbradbery\", \"senate\", \"senate\", \"sermon\", \"sermon\", \"shit\", \"shit\", \"shit\", \"shit\", \"showing\", \"skynewsaust\", \"skynewsaust\", \"snap\", \"squat_toilet\", \"squat_toilet\", \"squat_toilets\", \"squat_toilets\", \"squat_toilets\", \"squat_toilets\", \"squatted\", \"squatted\", \"stormed\", \"stormed\", \"style_defecation\", \"sunday_dressed\", \"sunday_dressed\", \"talking\", \"teaching\", \"thefeedsbs\", \"theshovel\", \"thinks\", \"thinks\", \"threaten\", \"toilet\", \"toilet\", \"toilet\", \"toilet\", \"toilets\", \"tortured\", \"turnbull\", \"turnbull\", \"unloads\", \"values\", \"vic_rollison\", \"views\", \"vote\", \"vote\", \"warning\", \"wilson_security\", \"wilson_security\", \"women\", \"wonder\", \"wonder\", \"worried\", \"worried\", \"worried\", \"worried\", \"worry\", \"worry\", \"wrong\", \"wrong\", \"wrong\", \"youtube\", \"youtube\"]}, \"mdsDat\": {\"y\": [0.070062315765062153, -0.19875428032133888, 0.14176587197210677, -0.015413918221317918, 0.0023400108054877859], \"cluster\": [1, 1, 1, 1, 1], \"Freq\": [22.70814681596212, 21.671293322280437, 18.778757003143941, 18.531613172786063, 18.310189685827432], \"topics\": [1, 2, 3, 4, 5], \"x\": [-0.21463266444012991, -0.04175111360356662, 0.061959860816426064, 0.14077440473513739, 0.053649512492133081]}, \"R\": 30, \"lambda.step\": 0.01, \"tinfo\": {\"Category\": [\"Default\", \"Default\", \"Default\", \"Default\", \"Default\", \"Default\", \"Default\", \"Default\", \"Default\", \"Default\", \"Default\", \"Default\", \"Default\", \"Default\", \"Default\", \"Default\", \"Default\", \"Default\", \"Default\", \"Default\", \"Default\", \"Default\", \"Default\", \"Default\", \"Default\", \"Default\", \"Default\", \"Default\", \"Default\", \"Default\", \"Topic1\", \"Topic1\", \"Topic1\", \"Topic1\", \"Topic1\", \"Topic1\", \"Topic1\", \"Topic1\", \"Topic1\", \"Topic1\", \"Topic1\", \"Topic1\", \"Topic1\", \"Topic1\", \"Topic1\", \"Topic1\", \"Topic1\", \"Topic1\", \"Topic1\", \"Topic1\", \"Topic1\", \"Topic1\", \"Topic1\", \"Topic1\", \"Topic1\", \"Topic1\", \"Topic1\", \"Topic1\", \"Topic1\", \"Topic1\", \"Topic1\", \"Topic1\", \"Topic1\", \"Topic1\", \"Topic1\", \"Topic1\", \"Topic1\", \"Topic1\", \"Topic1\", \"Topic1\", \"Topic1\", \"Topic1\", \"Topic2\", \"Topic2\", \"Topic2\", \"Topic2\", \"Topic2\", \"Topic2\", \"Topic2\", \"Topic2\", \"Topic2\", \"Topic2\", \"Topic2\", \"Topic2\", \"Topic2\", \"Topic2\", \"Topic2\", \"Topic2\", \"Topic2\", \"Topic2\", \"Topic2\", \"Topic2\", \"Topic2\", \"Topic2\", \"Topic2\", \"Topic2\", \"Topic2\", \"Topic2\", \"Topic2\", \"Topic2\", \"Topic2\", \"Topic2\", \"Topic2\", \"Topic2\", \"Topic2\", \"Topic2\", \"Topic2\", \"Topic2\", \"Topic2\", \"Topic2\", \"Topic2\", \"Topic2\", \"Topic2\", \"Topic2\", \"Topic2\", \"Topic2\", \"Topic3\", \"Topic3\", \"Topic3\", \"Topic3\", \"Topic3\", \"Topic3\", \"Topic3\", \"Topic3\", \"Topic3\", \"Topic3\", \"Topic3\", \"Topic3\", \"Topic3\", \"Topic3\", \"Topic3\", \"Topic3\", \"Topic3\", \"Topic3\", \"Topic3\", \"Topic3\", \"Topic3\", \"Topic3\", \"Topic3\", \"Topic3\", \"Topic3\", \"Topic3\", \"Topic3\", \"Topic3\", \"Topic3\", \"Topic3\", \"Topic3\", \"Topic3\", \"Topic3\", \"Topic3\", \"Topic3\", \"Topic3\", \"Topic3\", \"Topic3\", \"Topic3\", \"Topic3\", \"Topic3\", \"Topic3\", \"Topic3\", \"Topic3\", \"Topic3\", \"Topic3\", \"Topic3\", \"Topic3\", \"Topic3\", \"Topic3\", \"Topic4\", \"Topic4\", \"Topic4\", \"Topic4\", \"Topic4\", \"Topic4\", \"Topic4\", \"Topic4\", \"Topic4\", \"Topic4\", \"Topic4\", \"Topic4\", \"Topic4\", \"Topic4\", \"Topic4\", \"Topic4\", \"Topic4\", \"Topic4\", \"Topic4\", \"Topic4\", \"Topic4\", \"Topic4\", \"Topic4\", \"Topic4\", \"Topic4\", \"Topic4\", \"Topic4\", \"Topic4\", \"Topic4\", \"Topic4\", \"Topic4\", \"Topic4\", \"Topic4\", \"Topic4\", \"Topic4\", \"Topic4\", \"Topic4\", \"Topic4\", \"Topic4\", \"Topic4\", \"Topic4\", \"Topic4\", \"Topic4\", \"Topic4\", \"Topic4\", \"Topic4\", \"Topic4\", \"Topic4\", \"Topic4\", \"Topic4\", \"Topic4\", \"Topic4\", \"Topic4\", \"Topic5\", \"Topic5\", \"Topic5\", \"Topic5\", \"Topic5\", \"Topic5\", \"Topic5\", \"Topic5\", \"Topic5\", \"Topic5\", \"Topic5\", \"Topic5\", \"Topic5\", \"Topic5\", \"Topic5\", \"Topic5\", \"Topic5\", \"Topic5\", \"Topic5\", \"Topic5\", \"Topic5\", \"Topic5\", \"Topic5\", \"Topic5\", \"Topic5\", \"Topic5\", \"Topic5\", \"Topic5\", \"Topic5\", \"Topic5\", \"Topic5\", \"Topic5\", \"Topic5\", \"Topic5\", \"Topic5\", \"Topic5\", \"Topic5\", \"Topic5\", \"Topic5\", \"Topic5\", \"Topic5\", \"Topic5\", \"Topic5\", \"Topic5\", \"Topic5\", \"Topic5\", \"Topic5\", \"Topic5\", \"Topic5\"], \"Term\": [\"naurufiles\", \"reclaim_australia_rally\", \"pauline_hanson\", \"nauru_emergency_response_team\", \"deny\", \"wilson_security\", \"muslims_storm_church\", \"malcolm_roberts_continues\", \"johndory\", \"right_pauline_hanson_supporters\", \"existence\", \"climate_change\", \"shit\", \"dressed\", \"australian\", \"qanda\", \"disturbing\", \"embarrassing_clash\", \"nation\", \"julianburnside\", \"puerile\", \"anti\", \"life\", \"views\", \"style_defecation\", \"nation_senator_raised_discredited_climate_change_denial\", \"reclaimanglesea\", \"jesus_christ\", \"pauline_hanson_demands_western\", \"party\", \"style_defecation\", \"jesus_christ\", \"pauline_hanson_demands_western\", \"deptofaustralia\", \"important_things\", \"worry\", \"mocks\", \"particle\", \"malcolm_roberts_continues\", \"deny\", \"length\", \"existence\", \"people_blame_pauline_hanson\", \"pauline_hanson_puts_anti\", \"attacks\", \"johnjohnsonson\", \"nation_climate_change_denier\", \"mock_muslim_attire\", \"sunday_dressed\", \"church_service\", \"fact\", \"snap\", \"destroy_australian\", \"culture\", \"newmatilda\", \"hanson_says\", \"crap\", \"squatted\", \"stormed\", \"dunnies\", \"climate_change\", \"nation\", \"qanda\", \"embarrassing_clash\", \"malcolm_roberts\", \"physicist_brian\", \"racist\", \"shit\", \"johndory\", \"auspol\", \"toilet\", \"pauline_hanson\", \"naurufiles\", \"julianburnside\", \"views\", \"nation_senator_raised_discredited_climate_change_denial\", \"reclaim_australia_rally\", \"nauru_emergency_response_team\", \"wilson_security\", \"decline\", \"christianity\", \"growth\", \"farrellpf\", \"guard_pauline_hanson_spoke\", \"pauline_hanson_says_anti\", \"exposes\", \"destroys\", \"scaa\", \"says_reports\", \"gosford_anglican_church_stunt\", \"bunk\", \"exaggerated\", \"discredited\", \"banana\", \"readfearn\", \"mediawatch\", \"employees\", \"round\", \"immortalzen\", \"oxygen\", \"counterproductive\", \"scones\", \"liked\", \"wonder\", \"wrong\", \"johndory\", \"islam\", \"youtube\", \"pauline_hanson\", \"abcnews\", \"auspol\", \"malcolm_roberts\", \"worried\", \"nation\", \"qanda\", \"climate_change\", \"disturbing\", \"puerile\", \"muslims_storm_church\", \"icymi\", \"abctv\", \"dressed\", \"scienceweek\", \"nation_senator_malcolm_roberts_denied_climate_change\", \"profbriancox_responds\", \"tortured\", \"lunch\", \"manus\", \"fark\", \"matilda\", \"quotethon\", \"invitation\", \"threaten\", \"sbsnews\", \"aussie\", \"extends\", \"warning\", \"complains\", \"maimed\", \"women\", \"turnbull\", \"unloads\", \"killed\", \"crashed\", \"insidious\", \"seanbradbery\", \"right_pauline_hanson_supporters\", \"reclaimanglesea\", \"life\", \"destroy\", \"pauline_hanson_says\", \"australian\", \"fear\", \"sermon\", \"toilet\", \"children\", \"squat_toilets\", \"auspol\", \"worried\", \"qanda\", \"pauline_hanson\", \"church\", \"office\", \"nation\", \"australia\", \"people\", \"elected\", \"party\", \"graph_presented\", \"toilets\", \"paulinehanson_hits\", \"hoax\", \"newly\", \"case\", \"policy\", \"condemned\", \"showing\", \"arrived\", \"flash\", \"footy\", \"justjen\", \"better\", \"freedom\", \"vic_rollison\", \"asked\", \"arabic\", \"coherent\", \"garb\", \"bizarre\", \"ancestors\", \"emfarrelly\", \"fans\", \"numerals\", \"patriots\", \"teaching\", \"know\", \"skynewsaust\", \"islam_church_stunt\", \"senate\", \"profbriancox\", \"anti\", \"says\", \"leader\", \"pauline_hanson_hits\", \"thinks\", \"vote\", \"pauline_hanson\", \"protest\", \"right\", \"media\", \"church\", \"australia\", \"auspol\", \"racist\", \"nation_senator_malcolm_roberts\", \"muslim\", \"nation\", \"reclaimanglesea\", \"onenation\", \"bigot_andrew_bolt_attacks_bigot_nick_folkes\", \"brand\", \"sandraeckersley\", \"recap\", \"damaging_bigot_pauline_hanson\", \"bigotry\", \"talking\", \"meehanelisabeth\", \"line\", \"reclaim_australia\", \"latest\", \"theshovel\", \"roshart\", \"censored\", \"values\", \"rant\", \"scholar\", \"hillyhobbit\", \"climatechangeisreal\", \"panic\", \"dangerous\", \"qldgreens\", \"thefeedsbs\", \"squat_toilet\", \"expert\", \"legitimisation\", \"markhumphries\", \"attack\", \"getting\", \"dumb\", \"like\", \"makes\", \"racism\", \"shit\", \"nation_senator_malcolm_roberts\", \"pauline_hanson\", \"embarrassing_clash\", \"physicist_brian\", \"climatechange\", \"auspol\", \"look\", \"muslims\", \"australian\", \"condemn\", \"nation\", \"onenation\", \"squat_toilets\", \"malcolm_roberts\", \"toilet\"], \"loglift\": [30.0, 29.0, 28.0, 27.0, 26.0, 25.0, 24.0, 23.0, 22.0, 21.0, 20.0, 19.0, 18.0, 17.0, 16.0, 15.0, 14.0, 13.0, 12.0, 11.0, 10.0, 9.0, 8.0, 7.0, 6.0, 5.0, 4.0, 3.0, 2.0, 1.0, 1.4421999999999999, 1.4409000000000001, 1.4409000000000001, 1.4325000000000001, 1.4238999999999999, 1.4176, 1.4109, 1.4105000000000001, 1.4031, 1.4012, 1.3994, 1.397, 1.3947000000000001, 1.3888, 1.3878999999999999, 1.3872, 1.3822000000000001, 1.3786, 1.3761000000000001, 1.3729, 1.3725000000000001, 1.3685, 1.3572, 1.3447, 1.3188, 1.3121, 1.3073999999999999, 1.2997000000000001, 1.2948999999999999, 1.2755000000000001, 1.2136, 0.95909999999999995, 0.89570000000000005, 0.81730000000000003, 0.6895, 0.87980000000000003, 0.81200000000000006, 0.68620000000000003, 0.52980000000000005, -0.0001, 0.33710000000000001, -1.7110000000000001, 1.4933000000000001, 1.4931000000000001, 1.492, 1.4919, 1.4912000000000001, 1.4907999999999999, 1.4897, 1.4782999999999999, 1.4689000000000001, 1.4535, 1.4468000000000001, 1.4438, 1.4340999999999999, 1.4212, 1.4212, 1.4197, 1.4153, 1.4076, 1.3948, 1.385, 1.3671, 1.3637999999999999, 1.3621000000000001, 1.3555999999999999, 1.3545, 1.3421000000000001, 1.3400000000000001, 1.339, 1.3373999999999999, 1.3281000000000001, 1.325, 1.3025, 1.2407999999999999, 1.0115000000000001, 1.1231, 1.2682, 0.38450000000000001, 0.99560000000000004, 0.2732, 0.56589999999999996, 0.49380000000000002, -0.49440000000000001, -0.32690000000000002, -0.26100000000000001, 1.6327, 1.6324000000000001, 1.6301000000000001, 1.6259999999999999, 1.6249, 1.6248, 1.6183000000000001, 1.6135999999999999, 1.6081000000000001, 1.5765, 1.5564, 1.5562, 1.5552999999999999, 1.5541, 1.5451999999999999, 1.5353000000000001, 1.5228999999999999, 1.5164, 1.5145, 1.5113000000000001, 1.5106999999999999, 1.5034000000000001, 1.4967999999999999, 1.4930000000000001, 1.4921, 1.4902, 1.4877, 1.4872000000000001, 1.4850000000000001, 1.4783999999999999, 1.3421000000000001, 1.3588, 1.2729999999999999, 1.2547999999999999, 1.2085999999999999, 1.1120000000000001, 1.3209, 1.4261999999999999, 0.99390000000000001, 1.1835, 0.94420000000000004, 0.072099999999999997, 0.83840000000000003, 0.308, -0.4128, 0.94920000000000004, 1.1922999999999999, -0.8579, 0.1603, 0.67349999999999999, 1.6213, 1.6116999999999999, 1.6024, 1.5842000000000001, 1.5828, 1.5795999999999999, 1.5731999999999999, 1.5727, 1.5405, 1.5358000000000001, 1.5348999999999999, 1.5335000000000001, 1.5335000000000001, 1.5318000000000001, 1.5286999999999999, 1.5286, 1.5271999999999999, 1.5263, 1.5224, 1.5213000000000001, 1.5202, 1.5187999999999999, 1.5134000000000001, 1.5119, 1.5076000000000001, 1.504, 1.5015000000000001, 1.4963, 1.4928999999999999, 1.4924999999999999, 1.4902, 1.4763999999999999, 1.4858, 1.4734, 1.4032, 1.4363999999999999, 1.4624999999999999, 1.3972, 1.4795, 1.4819, 0.254, 1.3495999999999999, 0.94620000000000004, 1.3876999999999999, 0.94889999999999997, 0.64859999999999995, -0.26450000000000001, 0.44490000000000002, 0.27400000000000002, 1.0609999999999999, -0.66679999999999995, 0.29249999999999998, 0.85540000000000005, 1.6398999999999999, 1.6398999999999999, 1.6396999999999999, 1.6292, 1.6228, 1.6093999999999999, 1.583, 1.5674999999999999, 1.5645, 1.5640000000000001, 1.5607, 1.5589999999999999, 1.5471999999999999, 1.5423, 1.5391999999999999, 1.5351999999999999, 1.5277000000000001, 1.5226, 1.5148999999999999, 1.514, 1.5111000000000001, 1.5022, 1.4976, 1.4924999999999999, 1.492, 1.4914000000000001, 1.4823, 1.4814000000000001, 1.4664999999999999, 1.4575, 1.4527000000000001, 1.3835, 1.2763, 1.0114000000000001, 1.0115000000000001, 0.41560000000000002, 0.86539999999999995, 0.76929999999999998, 1.1686000000000001, -0.2397, 1.3151999999999999, 1.0802, 0.1767, 1.1563000000000001, -0.59950000000000003, 0.94169999999999998, 0.30630000000000002, -0.49199999999999999, -0.17810000000000001], \"Freq\": [71.0, 63.0, 443.0, 60.0, 64.0, 52.0, 46.0, 55.0, 81.0, 54.0, 46.0, 64.0, 58.0, 29.0, 61.0, 91.0, 25.0, 53.0, 141.0, 26.0, 23.0, 35.0, 40.0, 24.0, 25.0, 23.0, 30.0, 24.0, 24.0, 22.0, 24.539597108864573, 23.371003065966441, 23.370704979628346, 18.921237212253327, 21.815298471765981, 22.800766558086938, 9.7872800774964261, 10.068974186214824, 51.162510701686237, 59.5437631654464, 15.744828302959256, 42.286657157741324, 10.738042723453123, 12.900537428563497, 20.917056470455993, 18.701111907677817, 6.7085400961163497, 15.001032066346227, 14.061531433389179, 15.170052284104218, 20.291912664267269, 5.5607806082399742, 10.132556325402671, 8.9087220918892207, 8.8563137834501298, 10.094473748572613, 8.0628871918422433, 23.829434839484684, 15.749921839765268, 3.1922535603648106, 49.487750785833214, 83.970066478537788, 51.014840184748785, 27.74842672869471, 34.458914794032694, 22.715338772591561, 24.331659554581883, 26.552935980301406, 31.437829681851102, 54.420290468574755, 14.276648198187299, 18.203828769095015, 69.453890591417434, 25.716256724484829, 23.673905928311239, 22.909856565250539, 60.757984546464463, 57.863210480479843, 50.534409566820536, 18.964420694871514, 14.832711893148637, 10.928328239276757, 10.585557057660118, 10.387844044707384, 9.535921449327601, 9.5936394473477709, 9.5936002131538132, 7.9440108927991897, 6.9772163751111895, 11.420167805817748, 5.8436365523415761, 12.382677756799163, 4.4563151518973401, 3.8932651367048816, 4.6541120604444419, 4.1311064030709828, 4.3614902289312623, 3.2807012455622946, 3.8348476280036938, 7.7974925773424344, 11.529525591156995, 3.0258530666021914, 3.7268852533782817, 10.793448622526611, 9.9943576976233572, 48.568808408357214, 14.856781538167796, 6.2128486499794597, 141.23190618255163, 12.30388276890948, 68.258303128433838, 29.06217467232543, 11.073698120768716, 18.731869983427359, 14.335882484357612, 10.809941547117759, 24.711514423845379, 22.479823625442641, 44.365395739746987, 17.64208101527468, 16.101694110150362, 27.741131531960075, 14.396222620420961, 12.405874782136875, 11.24004197325406, 8.527180495188313, 5.7668168317895399, 6.8924574171174156, 6.5814741406405375, 7.3708535595863411, 5.7739650293836133, 4.7725205387100136, 5.0543962395226121, 4.0644777377196801, 5.5892385328608052, 3.9761904482759256, 4.5781055455192066, 4.0767337629777831, 3.88939865665587, 4.3521542926218677, 6.1552112451033256, 3.9535536984336268, 3.6535754544077546, 3.3476329304889871, 3.4290894809923067, 4.092922010702825, 39.380172137766344, 22.179366053609733, 26.975109153035337, 18.142821846491152, 22.127511182452906, 35.046166222009923, 10.023609969075624, 5.507935939068358, 22.768280273447907, 8.7595361424458389, 14.563503415454447, 48.37204348703132, 13.543126413059213, 23.439858220593521, 55.135509732841562, 9.1625480124680259, 6.6127787462438778, 11.284549564811057, 7.9381062885568019, 7.0648142533663139, 20.037847739272063, 20.458189675181917, 10.57382206320978, 8.5913235451684606, 6.3932725404532791, 7.5582931361757764, 14.398799065403901, 5.9686218457942184, 4.4172193164860563, 6.9300047056957563, 4.5440637331893177, 4.2691809971013788, 4.269156688216956, 4.1024690010321887, 4.1674518334318957, 4.7508206739979446, 11.740946778898536, 3.8387141925707842, 4.7073274523166448, 4.638859669986223, 3.6836291968974599, 4.0330948236120499, 4.2535043896981275, 3.6630840083908667, 3.7584839934348442, 3.404542751189493, 3.9776083434393246, 3.4616985263547004, 3.7393143389748102, 4.3543340084027982, 9.9906732115077581, 20.475467814888216, 6.4925440368741869, 11.276156883607882, 26.963389614936418, 14.311613239746924, 8.3612268974981134, 15.853924699025999, 5.6601582468082032, 5.5453598291721953, 105.99232322749539, 6.1300815161142168, 11.992880062582145, 5.4071854527416319, 9.0389281792635625, 12.765503635675234, 34.09216426921823, 13.754872463119398, 12.04862059279254, 6.2106333651359273, 13.482355221087854, 7.5348811032518626, 6.2728876926637733, 14.781982978768529, 14.781649338678529, 14.740257593881806, 13.935672049334853, 10.561598845284269, 8.6815476418802557, 5.5121915411476579, 5.2070105565079778, 6.7023021000185468, 5.7813771065739425, 6.1493969477749983, 5.6852129761661585, 4.7888235953333798, 4.2486865768774855, 4.5925982799096676, 5.7777747892709739, 4.6829579677028379, 4.427339540666714, 3.3337938822564794, 3.8589478387564502, 4.1497383714207681, 3.0970855207062189, 5.2949019423946879, 7.6817451295423878, 2.9301336934632776, 3.7001258111993671, 3.073736859479788, 7.6856587060180663, 2.749610657640829, 7.9839929869498061, 10.465278060163856, 6.0139780254899584, 11.357404467518586, 29.637686732327936, 24.88867317207297, 123.09390214161544, 23.475843970407627, 16.400276889732339, 7.6771149675461459, 34.53084379135565, 5.607369317645162, 6.6573469427042298, 13.411423374862803, 6.2298248490330339, 14.247366211911215, 6.7568051158150189, 7.503758420027677, 8.5243496397636918, 6.876339865161472], \"Total\": [71.0, 63.0, 443.0, 60.0, 64.0, 52.0, 46.0, 55.0, 81.0, 54.0, 46.0, 64.0, 58.0, 29.0, 61.0, 91.0, 25.0, 53.0, 141.0, 26.0, 23.0, 35.0, 40.0, 24.0, 25.0, 23.0, 30.0, 24.0, 24.0, 22.0, 25.547031336629189, 24.363224454754469, 24.363255267754742, 19.890937981409721, 23.131100096994242, 24.328700799877016, 10.512882583778008, 10.819870111299524, 55.387355403405493, 64.582772156579111, 17.108111735132358, 46.058932199553709, 11.722800744422125, 14.166875609346082, 22.991088327832177, 20.570698133704688, 7.4161672627781972, 16.641941510578324, 15.639895080960185, 16.926124081262042, 22.649616902417812, 6.2316984844634096, 11.484782602612039, 10.224370894633255, 10.431243302859952, 11.96865152562758, 9.6054654476398973, 28.60710473071423, 18.999763686174692, 3.9263355120269448, 64.754545186741993, 141.71620745977529, 91.732092212344398, 53.962079507092916, 76.148570246293048, 41.501497184296483, 47.569021195061737, 58.872127531284484, 81.503646112760606, 239.67364514461383, 44.877373909406828, 443.65747005359907, 71.992372509828115, 26.6607685899512, 24.571921411402453, 23.780512198735277, 63.108231753712261, 60.124978184905913, 52.566943043303553, 19.954935507613939, 15.754203747232358, 11.787187341078779, 11.494458282406288, 11.314092060041746, 10.487635058920592, 10.687549880042299, 10.687560398428181, 8.8632955543734031, 7.8185459109226398, 12.897137811435895, 6.6842188155791709, 14.303028065276584, 5.2404752393728398, 4.5934791376005739, 5.5002225931057129, 4.9139732054492198, 5.1938658775236792, 3.9555954298009244, 4.6334871574702108, 9.4304318601653723, 13.967391623172396, 3.6999127257226925, 4.5709594876636706, 13.539804427693518, 13.33489991304435, 81.503646112760606, 22.298395007665558, 8.0658512883277318, 443.65747005359907, 20.977547746799097, 239.67364514461383, 76.148570246293048, 31.184782466452873, 141.71620745977529, 91.732092212344398, 64.754545186741993, 25.712318094226692, 23.399157726230268, 46.283235103689194, 18.481021791621298, 16.885316746406541, 29.09464370393794, 15.19775123318618, 13.157157696729218, 11.986468819900704, 9.385574510795788, 6.4766383824823244, 7.741985860947163, 7.3996449132900928, 8.2967017424184757, 6.5572185487660457, 5.4739144984521859, 5.8696525544030225, 4.7510537025020723, 6.5453445193947504, 4.6712619413512435, 5.3820022044598019, 4.8274467188661987, 4.6361256982518295, 5.2075538789097049, 7.3715426655070804, 4.7438416541170882, 4.3951044682373199, 4.0290053331716837, 4.1362201727923242, 4.9694338492511987, 54.797843648486506, 30.349458763761355, 40.219761744245318, 27.546341665679176, 35.187723401797143, 61.379623780365989, 14.245639603427396, 7.0455627019053972, 44.877373909406828, 14.283573108899844, 30.168740148351187, 239.67364514461383, 31.184782466452873, 91.732092212344398, 443.65747005359907, 18.884302080492681, 10.688139132554628, 141.71620745977529, 36.012248269976169, 19.18441596079408, 21.370586783610829, 22.028479021345071, 11.491903429413609, 9.5089859232148921, 7.0861793818296563, 8.4041954167481308, 16.113923567477467, 6.6825188499563941, 5.1074989344205477, 8.0505517704926088, 5.2837579371421528, 4.9708217413565485, 4.970818005981176, 4.7852052581104667, 4.8756182208690255, 5.5590667211461842, 13.758054064616715, 4.5019460928141157, 5.5421293995845575, 5.4678121009423046, 4.3466008603216393, 4.7656451529685393, 5.0531105222092396, 4.3585164353096326, 4.4912841607150948, 4.0830535949605897, 4.781922375771166, 4.1836946446323395, 4.534475586929819, 5.2823758012937541, 12.148267478415857, 25.24350290304557, 7.9288071200102834, 13.942940387703841, 35.76513791013469, 18.363478156538193, 10.451832036032698, 21.156175771840935, 6.9564580427425868, 6.7989922583390419, 443.65747005359907, 8.5788559859308418, 25.122731001603022, 7.2839717383894769, 18.884302080492681, 36.012248269976169, 239.67364514461383, 47.569021195061737, 49.432457585602265, 11.598846362913463, 141.71620745977529, 30.349458763761355, 14.389722601606724, 15.661306586062432, 15.661301928763024, 15.620216861009609, 14.923654221567313, 11.38288273078401, 9.4827026296828159, 6.1820169178658073, 5.9312229634405549, 7.6571537701615906, 6.6082615135406915, 7.052266315370268, 6.5312697746909318, 5.5669272366451228, 4.9630533742935947, 5.3812163623303739, 6.7972928640721513, 5.5508231658693399, 5.2748228117644027, 4.0026183505331367, 4.6370302136064314, 5.0009793708127637, 3.7658735301971547, 6.4677321098780904, 9.4319417486713579, 3.5992260994062075, 4.5480387217406957, 3.8126159503082837, 9.5419295029300351, 3.4650104482385395, 10.152195487423644, 13.370242940197846, 8.2339795569623337, 17.310487781434606, 58.872127531284484, 49.432457585602265, 443.65747005359907, 53.962079507092916, 41.501497184296483, 13.03069094684327, 239.67364514461383, 8.2201419096421411, 12.344168884830825, 61.379623780365989, 10.705979330515481, 141.71620745977529, 14.389722601606724, 30.168740148351187, 76.148570246293048, 44.877373909406828], \"logprob\": [30.0, 29.0, 28.0, 27.0, 26.0, 25.0, 24.0, 23.0, 22.0, 21.0, 20.0, 19.0, 18.0, 17.0, 16.0, 15.0, 14.0, 13.0, 12.0, 11.0, 10.0, 9.0, 8.0, 7.0, 6.0, 5.0, 4.0, 3.0, 2.0, 1.0, -4.1901999999999999, -4.2389999999999999, -4.2389999999999999, -4.4501999999999997, -4.3079000000000001, -4.2637, -5.1093999999999999, -5.0811000000000002, -3.4554999999999998, -3.3037999999999998, -4.6340000000000003, -3.6461000000000001, -5.0167000000000002, -4.8333000000000004, -4.3499999999999996, -4.4619, -5.4871999999999996, -4.6824000000000003, -4.7470999999999997, -4.6711999999999998, -4.3803000000000001, -5.6748000000000003, -5.0747999999999998, -5.2035, -5.2093999999999996, -5.0785, -5.3033000000000001, -4.2195999999999998, -4.6337000000000002, -6.2298, -3.4887999999999999, -2.9601000000000002, -3.4584000000000001, -4.0674000000000001, -3.8508, -4.2675000000000001, -4.1988000000000003, -4.1113999999999997, -3.9424999999999999, -3.3938000000000001, -4.7319000000000004, -4.4889000000000001, -3.1031, -4.0967000000000002, -4.1794000000000002, -4.2122000000000002, -3.2368999999999999, -3.2856999999999998, -3.4211, -4.4012000000000002, -4.6470000000000002, -4.9523999999999999, -4.9843000000000002, -5.0031999999999996, -5.0887000000000002, -5.0827, -5.0827, -5.2713999999999999, -5.4010999999999996, -4.9084000000000003, -5.5784000000000002, -4.8274999999999997, -5.8494999999999999, -5.9844999999999997, -5.806, -5.9253, -5.8710000000000004, -6.1557000000000004, -5.9996999999999998, -5.29, -4.8989000000000003, -6.2366000000000001, -6.0282, -4.9649000000000001, -5.0418000000000003, -3.4607999999999999, -4.6452999999999998, -5.5171999999999999, -2.3934000000000002, -4.8338999999999999, -3.1204999999999998, -3.9744000000000002, -4.9391999999999996, -4.4135999999999997, -4.681, -4.9633000000000003, -3.9933000000000001, -4.0879000000000003, -3.4081000000000001, -4.3301999999999996, -4.4215999999999998, -3.8776000000000002, -4.5335999999999999, -4.6824000000000003, -4.7811000000000003, -5.0572999999999997, -5.4484000000000004, -5.2701000000000002, -5.3163, -5.2030000000000003, -5.4471999999999996, -5.6376999999999997, -5.5803000000000003, -5.7981999999999996, -5.4797000000000002, -5.8201999999999998, -5.6791999999999998, -5.7952000000000004, -5.8422999999999998, -5.7298999999999998, -5.3832000000000004, -5.8258999999999999, -5.9047999999999998, -5.9923000000000002, -5.9682000000000004, -5.7912999999999997, -3.5272999999999999, -4.1013999999999999, -3.9056000000000002, -4.3022999999999998, -4.1036999999999999, -3.6438999999999999, -4.8956, -5.4943, -4.0751999999999997, -5.0304000000000002, -4.5220000000000002, -3.3216000000000001, -4.5946999999999996, -4.0461, -3.1907000000000001, -4.9854000000000003, -5.3114999999999997, -4.7770999999999999, -5.1288999999999998, -5.2454000000000001, -4.1897000000000002, -4.1688999999999998, -4.8289, -5.0365000000000002, -5.3319999999999999, -5.1646000000000001, -4.5201000000000002, -5.4008000000000003, -5.7018000000000004, -5.2514000000000003, -5.6734999999999998, -5.7359, -5.7359, -5.7756999999999996, -5.7599999999999998, -5.6289999999999996, -4.7241999999999997, -5.8421000000000003, -5.6382000000000003, -5.6528, -5.8834, -5.7927999999999997, -5.7394999999999996, -5.8890000000000002, -5.8632999999999997, -5.9622000000000002, -5.8066000000000004, -5.9455, -5.8684000000000003, -5.7161, -4.8856000000000002, -4.1680999999999999, -5.3166000000000002, -4.7645999999999997, -3.8927999999999998, -4.5262000000000002, -5.0636999999999999, -4.4238999999999997, -5.4538000000000002, -5.4743000000000004, -2.5238999999999998, -5.3741000000000003, -4.7030000000000003, -5.4996, -4.9856999999999996, -4.6405000000000003, -3.6581999999999999, -4.5659000000000001, -4.6982999999999997, -5.3609999999999998, -4.5858999999999996, -5.1677, -5.351, -4.4819000000000004, -4.4819000000000004, -4.4847000000000001, -4.5407999999999999, -4.8179999999999996, -5.0141, -5.4683000000000002, -5.5252999999999997, -5.2728000000000002, -5.4206000000000003, -5.3589000000000002, -5.4374000000000002, -5.609, -5.7286999999999999, -5.6508000000000003, -5.4211999999999998, -5.6313000000000004, -5.6875, -5.9711999999999996, -5.8249000000000004, -5.7522000000000002, -6.0448000000000004, -5.5084999999999997, -5.1364000000000001, -6.1002000000000001, -5.8669000000000002, -6.0523999999999996, -5.1359000000000004, -6.1638000000000002, -5.0978000000000003, -4.8272000000000004, -5.3811999999999998, -4.7454000000000001, -3.7862, -3.9609000000000001, -2.3622999999999998, -4.0193000000000003, -4.3780000000000001, -5.1369999999999996, -3.6334, -5.4512, -5.2794999999999996, -4.5792000000000002, -5.3459000000000003, -4.5186999999999999, -5.2647000000000004, -5.1599000000000004, -5.0323000000000002, -5.2472000000000003]}};\n",
       "\n",
       "function LDAvis_load_lib(url, callback){\n",
       "  var s = document.createElement('script');\n",
       "  s.src = url;\n",
       "  s.async = true;\n",
       "  s.onreadystatechange = s.onload = callback;\n",
       "  s.onerror = function(){console.warn(\"failed to load library \" + url);};\n",
       "  document.getElementsByTagName(\"head\")[0].appendChild(s);\n",
       "}\n",
       "\n",
       "if(typeof(LDAvis) !== \"undefined\"){\n",
       "   // already loaded: just create the visualization\n",
       "   !function(LDAvis){\n",
       "       new LDAvis(\"#\" + \"ldavis_el187409916117846015276441\", ldavis_el187409916117846015276441_data);\n",
       "   }(LDAvis);\n",
       "}else if(typeof define === \"function\" && define.amd){\n",
       "   // require.js is available: use it to load d3/LDAvis\n",
       "   require.config({paths: {d3: \"https://cdnjs.cloudflare.com/ajax/libs/d3/3.5.5/d3.min\"}});\n",
       "   require([\"d3\"], function(d3){\n",
       "      window.d3 = d3;\n",
       "      LDAvis_load_lib(\"https://cdn.rawgit.com/bmabey/pyLDAvis/files/ldavis.v1.0.0.js\", function(){\n",
       "        new LDAvis(\"#\" + \"ldavis_el187409916117846015276441\", ldavis_el187409916117846015276441_data);\n",
       "      });\n",
       "    });\n",
       "}else{\n",
       "    // require.js not available: dynamically load d3 & LDAvis\n",
       "    LDAvis_load_lib(\"https://cdnjs.cloudflare.com/ajax/libs/d3/3.5.5/d3.min.js\", function(){\n",
       "         LDAvis_load_lib(\"https://cdn.rawgit.com/bmabey/pyLDAvis/files/ldavis.v1.0.0.js\", function(){\n",
       "                 new LDAvis(\"#\" + \"ldavis_el187409916117846015276441\", ldavis_el187409916117846015276441_data);\n",
       "            })\n",
       "         });\n",
       "}\n",
       "</script>"
      ],
      "text/plain": [
       "<IPython.core.display.HTML object>"
      ]
     },
     "execution_count": 36,
     "metadata": {},
     "output_type": "execute_result"
    }
   ],
   "source": [
    "vis_data_neg = pyLDAvis.gensim.prepare(lda_model_neg, corpus_tfidf_neg, dictionary_neg)\n",
    "pyLDAvis.display(vis_data_neg)"
   ]
  },
  {
   "cell_type": "markdown",
   "metadata": {
    "collapsed": true
   },
   "source": [
    "## Similar words with word2vec"
   ]
  },
  {
   "cell_type": "code",
   "execution_count": 42,
   "metadata": {
    "collapsed": false
   },
   "outputs": [
    {
     "name": "stdout",
     "output_type": "stream",
     "text": [
      "[   (u'climate', 0.9995757341384888),\n",
      "    (u'conspiracy', 0.9995410442352295),\n",
      "    (u'climatechange', 0.9995334148406982),\n",
      "    (u'australia', 0.9995319247245789),\n",
      "    (u'news', 0.9995119571685791),\n",
      "    (u'people', 0.9995113015174866),\n",
      "    (u'muslim', 0.9995060563087463),\n",
      "    (u'idiot', 0.999505877494812),\n",
      "    (u'roberts', 0.9994845390319824),\n",
      "    (u'need', 0.9994799494743347)]\n"
     ]
    }
   ],
   "source": [
    "m = gensim.models.Word2Vec(words_onp_neg, size=100, window=5, min_count=3, workers=4)\n",
    "pp.pprint(m.most_similar(\"nation\"))"
   ]
  },
  {
   "cell_type": "markdown",
   "metadata": {},
   "source": []
  },
  {
   "cell_type": "code",
   "execution_count": 43,
   "metadata": {
    "collapsed": false
   },
   "outputs": [
    {
     "name": "stdout",
     "output_type": "stream",
     "text": [
      "[   (u'pauline_hanson', 0.9999037981033325),\n",
      "    (u'malcolm_roberts', 0.9998780488967896),\n",
      "    (u'qanda', 0.9998705387115479),\n",
      "    (u'hanson', 0.9998674988746643),\n",
      "    (u'people', 0.9998611807823181),\n",
      "    (u'toilet', 0.9998546838760376),\n",
      "    (u'senate', 0.9998466968536377),\n",
      "    (u'want', 0.9998464584350586),\n",
      "    (u'nation_senator', 0.999846339225769),\n",
      "    (u'australia', 0.9998428821563721)]\n"
     ]
    }
   ],
   "source": [
    "m = gensim.models.Word2Vec(words_onp_pos, size=100, window=5, min_count=3, workers=4)\n",
    "pp.pprint(m.most_similar(\"nation\"))"
   ]
  },
  {
   "cell_type": "code",
   "execution_count": null,
   "metadata": {
    "collapsed": true
   },
   "outputs": [],
   "source": []
  }
 ],
 "metadata": {
  "kernelspec": {
   "display_name": "Python 2",
   "language": "python",
   "name": "python2"
  },
  "language_info": {
   "codemirror_mode": {
    "name": "ipython",
    "version": 2
   },
   "file_extension": ".py",
   "mimetype": "text/x-python",
   "name": "python",
   "nbconvert_exporter": "python",
   "pygments_lexer": "ipython2",
   "version": "2.7.12"
  }
 },
 "nbformat": 4,
 "nbformat_minor": 0
}
