{
 "cells": [
  {
   "cell_type": "markdown",
   "metadata": {},
   "source": [
    "# Sentiment measurement of Tweets\n",
    "\n",
    "This time we will explore the sentiment changes, if there's any, shortly before and after the launch of the space exploration computer/video game - No Man's Sky."
   ]
  },
  {
   "cell_type": "code",
   "execution_count": 1,
   "metadata": {
    "collapsed": false
   },
   "outputs": [],
   "source": [
    "# -*- coding: utf-8 -*-\n",
    "# https://github.com/n-lo/Tweets_analysis_tryout\n",
    "%matplotlib inline\n",
    "from __future__ import print_function\n",
    "from pymongo import MongoClient\n",
    "import pprint, datetime\n",
    "import pandas as pd\n",
    "import numpy as np\n",
    "import gensim, re\n",
    "from dateutil import parser\n",
    "from ggplot import *\n",
    "\n",
    "import matplotlib.pylab as pylab\n",
    "pylab.rcParams['figure.figsize'] = 14, 10\n",
    "\n",
    "import logging\n",
    "logging.basicConfig(format='%(asctime)s : %(levelname)s : %(message)s', level=logging.INFO)\n",
    "# e.g. logging.info(\"%i tweets found...\" % len(df))\n",
    "\n",
    "pp = pprint.PrettyPrinter(indent=4)"
   ]
  },
  {
   "cell_type": "markdown",
   "metadata": {},
   "source": [
    "## Retrieving data (Tweets) from MongoDB"
   ]
  },
  {
   "cell_type": "markdown",
   "metadata": {},
   "source": [
    "#### 1. connect to MongoDB"
   ]
  },
  {
   "cell_type": "code",
   "execution_count": 2,
   "metadata": {
    "collapsed": false
   },
   "outputs": [
    {
     "name": "stdout",
     "output_type": "stream",
     "text": [
      "Open connection to MongoDB.\n",
      "Total number of tweets in db:  165272\n"
     ]
    }
   ],
   "source": [
    "print(\"Open connection to MongoDB.\")\n",
    "client = MongoClient('localhost', 27017)\n",
    "db = client.nms.tweets\n",
    "print(\"Total number of tweets in db: \", db.count())"
   ]
  },
  {
   "cell_type": "markdown",
   "metadata": {},
   "source": [
    "#### 2. find all tweets written in English and return specific fields only"
   ]
  },
  {
   "cell_type": "code",
   "execution_count": 3,
   "metadata": {
    "collapsed": false
   },
   "outputs": [
    {
     "name": "stdout",
     "output_type": "stream",
     "text": [
      "Finding tweets in database.\n",
      "125457 tweets found.\n"
     ]
    }
   ],
   "source": [
    "print(\"Finding tweets in database.\")\n",
    "datain = db.find({ \"lang\" : \"en\" }, \n",
    "                 { \"created_at\" : 1, \"favourite_count\" : 1, \"id_str\" : 1, \"lang\" : 1, \"place\" : 1, \n",
    "                  \"retweet_count\" : 1, \"text\" : 1, \"user\" : 1 })\n",
    "print(\"%i tweets found.\" % datain.count())"
   ]
  },
  {
   "cell_type": "markdown",
   "metadata": {},
   "source": [
    "#### 3. store data in dataframe"
   ]
  },
  {
   "cell_type": "code",
   "execution_count": 4,
   "metadata": {
    "collapsed": false
   },
   "outputs": [
    {
     "name": "stdout",
     "output_type": "stream",
     "text": [
      "Storing into dataframe...\n",
      "Done.\n",
      "125457 entries stored.\n"
     ]
    }
   ],
   "source": [
    "print(\"Storing into dataframe...\")\n",
    "df = pd.DataFrame(list(datain))\n",
    "print(\"Done.\\n%d entries stored.\" % len(df))"
   ]
  },
  {
   "cell_type": "markdown",
   "metadata": {},
   "source": [
    "#### 4. now do a bit of cleaning up, and \"flatten\" the nested user item"
   ]
  },
  {
   "cell_type": "code",
   "execution_count": 5,
   "metadata": {
    "collapsed": false
   },
   "outputs": [
    {
     "name": "stdout",
     "output_type": "stream",
     "text": [
      "Check for duplicates with id_str.\n",
      "Number of tweets after dropping duplicates (using id_str tag): 125433\n"
     ]
    }
   ],
   "source": [
    "print(\"Check for duplicates with id_str.\")\n",
    "df.drop_duplicates(subset='id_str', keep='last', inplace=True)\n",
    "print(\"Number of tweets after dropping duplicates (using id_str tag): %d\" % len(df))"
   ]
  },
  {
   "cell_type": "code",
   "execution_count": 6,
   "metadata": {
    "collapsed": false
   },
   "outputs": [
    {
     "name": "stdout",
     "output_type": "stream",
     "text": [
      "Storing nested 'user' items into separate dataframe...\n"
     ]
    }
   ],
   "source": [
    "print(\"Storing nested 'user' items into separate dataframe...\")\n",
    "df_users = pd.io.json.json_normalize(list(df['user']))"
   ]
  },
  {
   "cell_type": "code",
   "execution_count": 7,
   "metadata": {
    "collapsed": false
   },
   "outputs": [
    {
     "name": "stdout",
     "output_type": "stream",
     "text": [
      "Number of 'user' entries in df: 125433\n"
     ]
    }
   ],
   "source": [
    "# quick sanity check\n",
    "print(\"Number of 'user' entries in df: %d\" % len(df_users))"
   ]
  },
  {
   "cell_type": "code",
   "execution_count": 8,
   "metadata": {
    "collapsed": false
   },
   "outputs": [
    {
     "name": "stdout",
     "output_type": "stream",
     "text": [
      "Tidy up dataframes - dropping unused columns for our purposes here.\n",
      "Renaming user columns with prefix 'user_' before joining both tables.\n"
     ]
    }
   ],
   "source": [
    "print(\"Tidy up dataframes - dropping unused columns for our purposes here.\")\n",
    "df_users.drop(['default_profile', 'default_profile_image', 'profile_background_color', \n",
    "               'profile_background_image_url', 'profile_background_image_url_https', \n",
    "               'profile_background_tile', 'profile_banner_url', 'profile_image_url',\n",
    "               'profile_image_url_https', 'profile_link_color', 'profile_sidebar_border_color', \n",
    "               'profile_sidebar_fill_color', 'profile_text_color', 'profile_use_background_image'],\n",
    "              axis = 1, inplace = True)\n",
    "\n",
    "print(\"Renaming user columns with prefix 'user_' before joining both tables.\")\n",
    "cnames = df_users.columns\n",
    "cnames = [\"user_\"+n for n in cnames]\n",
    "df_users.columns = cnames"
   ]
  },
  {
   "cell_type": "code",
   "execution_count": 9,
   "metadata": {
    "collapsed": false
   },
   "outputs": [
    {
     "name": "stdout",
     "output_type": "stream",
     "text": [
      "Joining tweets and users dataframes...\n"
     ]
    }
   ],
   "source": [
    "print(\"Joining tweets and users dataframes...\")\n",
    "df_join = df.join(df_users)"
   ]
  },
  {
   "cell_type": "code",
   "execution_count": 10,
   "metadata": {
    "collapsed": false
   },
   "outputs": [
    {
     "name": "stdout",
     "output_type": "stream",
     "text": [
      "Joined df has 125433 entries.\n"
     ]
    }
   ],
   "source": [
    "# sanity check...\n",
    "print(\"Joined df has %d entries.\" % len(df_join))"
   ]
  },
  {
   "cell_type": "code",
   "execution_count": 11,
   "metadata": {
    "collapsed": true
   },
   "outputs": [],
   "source": [
    "del(df_users, df)\n",
    "df = df_join\n",
    "del(df_join)"
   ]
  },
  {
   "cell_type": "markdown",
   "metadata": {},
   "source": [
    "## A quick look at the data set"
   ]
  },
  {
   "cell_type": "markdown",
   "metadata": {},
   "source": [
    "#### Note:  \n",
    "If memory is still an issue (my poor old laptop), try select a portion of the data for analysis.  \n",
    "\n",
    "from sklearn.cross_validation import train_test_split  \n",
    "train, test = train_test_split(df, test_size = 0.5)  \n",
    "del(df)  \n",
    "df = train"
   ]
  },
  {
   "cell_type": "code",
   "execution_count": 12,
   "metadata": {
    "collapsed": false
   },
   "outputs": [
    {
     "name": "stdout",
     "output_type": "stream",
     "text": [
      "This data set contains 51881 retweets out of a total of 125433 tweets\n"
     ]
    },
    {
     "data": {
      "image/png": "[encoded data removed]",
      "text/plain": [
       "<matplotlib.figure.Figure at 0xd6b56cc0>"
      ]
     },
     "metadata": {},
     "output_type": "display_data"
    },
    {
     "data": {
      "text/plain": [
       "<ggplot: (11353541)>"
      ]
     },
     "execution_count": 12,
     "metadata": {},
     "output_type": "execute_result"
    }
   ],
   "source": [
    "df['retweet'] = 0\n",
    "\n",
    "for index, row in df.iterrows():\n",
    "    text = row['text']\n",
    "    match = re.search(r'^\\bRT\\b', text)\n",
    "    if match:\n",
    "        df.set_value(index, 'retweet', 1)\n",
    "\n",
    "print(\"This data set contains %i retweets out of a total of %i tweets\" % \n",
    "      (sum(df['retweet']), len(df)))\n",
    "\n",
    "ggplot(df, aes(x = 'retweet')) + geom_bar() + \\\n",
    "    scale_x_continuous(labels = [\"Original\", \"Retweet\"]) + xlab(\"Original/Retweet\") + ylab(\"Counts\")"
   ]
  },
  {
   "cell_type": "code",
   "execution_count": 13,
   "metadata": {
    "collapsed": false
   },
   "outputs": [
    {
     "name": "stdout",
     "output_type": "stream",
     "text": [
      "[ u'RT @PlayStationJobs: #WIN a copy of #NoMansSky \\n\\nFOLLOW + RETWEET + LIKE to ENTER\\n\\nWinner picked at random on Tuesday 9 August 5pm https://\\u2026'\n",
      " u'RT @PlayStation: Two weeks to go. #NoMansSky https://t.co/JZ7CSDymz7'\n",
      " u'#WIN a copy of #NoMansSky \\n\\nFOLLOW + RETWEET + LIKE to ENTER\\n\\nWinner picked at random on Tuesday 9 August 5pm https://t.co/GDA5bCeRKf'\n",
      " u\"RT @thatkindanerdy: I fell like I have waited so long for #NoMansSky, that I'll be sat there at 23:59 the day before release and suddenly i\\u2026\"\n",
      " u'RT @space_mannequin: No mans sky nightmare.\\n\\n#NoMansSky https://t.co/xAJJqcpwFt'\n",
      " u'RT @totinos: Geez, #NoMansSky, stop reading my mind. https://t.co/rn4UDaBJjI'\n",
      " u'RT @PlayStationUK: &lt;START TRANSMISSION #NoMansSky/]&gt;\\n        A MESSAGE FROM OUR COSMIC EMPEROR @BillBailey\\n\\n   &lt;END&gt;\\nhttps://t.co/40zogPeXMC'\n",
      " u'RT @epyoncf: I guess this illustrates a serious problem with how gamers see game development effort :/ #NoMansSky #gamedev https://t.co/H0Z\\u2026']\n"
     ]
    }
   ],
   "source": [
    "# most retweeted tweets\n",
    "high_RT = df[df['retweet_count'] >= np.percentile(df['retweet_count'], 95)]\n",
    "print(high_RT['text'].unique())"
   ]
  },
  {
   "cell_type": "code",
   "execution_count": 14,
   "metadata": {
    "collapsed": false
   },
   "outputs": [
    {
     "data": {
      "text/plain": [
       "count    125433.000000\n",
       "mean         13.687602\n",
       "std          39.187429\n",
       "min           0.000000\n",
       "25%           1.000000\n",
       "50%           3.000000\n",
       "75%           8.000000\n",
       "max         415.000000\n",
       "Name: tweets_cnt, dtype: float64"
      ]
     },
     "execution_count": 14,
     "metadata": {},
     "output_type": "execute_result"
    }
   ],
   "source": [
    "# count number of tweets by each user\n",
    "df['tweets_cnt'] = 0\n",
    "df['tweets_cnt'] = df.groupby('user_id').transform('count')\n",
    "df['tweets_cnt'].describe()"
   ]
  },
  {
   "cell_type": "code",
   "execution_count": 15,
   "metadata": {
    "collapsed": false
   },
   "outputs": [
    {
     "name": "stdout",
     "output_type": "stream",
     "text": [
      "62147 unique twitter users in this data set.\n"
     ]
    }
   ],
   "source": [
    "print(\"%d unique twitter users in this data set.\" % len(df['user_id'].unique()))"
   ]
  },
  {
   "cell_type": "code",
   "execution_count": 16,
   "metadata": {
    "collapsed": false
   },
   "outputs": [
    {
     "name": "stdout",
     "output_type": "stream",
     "text": [
      "58 users in the top 5 per cent tweets count.\n"
     ]
    }
   ],
   "source": [
    "df_active_twitters = df[df['tweets_cnt'] >= np.percentile(df['tweets_cnt'], 95)]\n",
    "print(\"%d users in the top 5 per cent tweets count.\" % \n",
    "      len(df_active_twitters['user_id'].value_counts()))"
   ]
  },
  {
   "cell_type": "code",
   "execution_count": 17,
   "metadata": {
    "collapsed": false,
    "scrolled": false
   },
   "outputs": [
    {
     "name": "stdout",
     "output_type": "stream",
     "text": [
      "Information on the top 5 per cent most active twitter users.\n"
     ]
    },
    {
     "data": {
      "text/html": [
       "<div>\n",
       "<table border=\"1\" class=\"dataframe\">\n",
       "  <thead>\n",
       "    <tr style=\"text-align: right;\">\n",
       "      <th></th>\n",
       "      <th>user_description</th>\n",
       "      <th>user_created_at</th>\n",
       "      <th>user_location</th>\n",
       "      <th>tweets_cnt</th>\n",
       "    </tr>\n",
       "  </thead>\n",
       "  <tbody>\n",
       "    <tr>\n",
       "      <th>85325</th>\n",
       "      <td>Twitch and Gaming News Reporter Maintained by ...</td>\n",
       "      <td>Wed Dec 09 00:05:09 +0000 2015</td>\n",
       "      <td></td>\n",
       "      <td>128</td>\n",
       "    </tr>\n",
       "    <tr>\n",
       "      <th>89928</th>\n",
       "      <td></td>\n",
       "      <td>Wed Aug 10 06:19:44 +0000 2016</td>\n",
       "      <td></td>\n",
       "      <td>69</td>\n",
       "    </tr>\n",
       "    <tr>\n",
       "      <th>97263</th>\n",
       "      <td>{♿️}  artist. observer. curiosity. wonder |bir...</td>\n",
       "      <td>Tue Dec 02 01:39:06 +0000 2008</td>\n",
       "      <td>British Columbia, Canada</td>\n",
       "      <td>110</td>\n",
       "    </tr>\n",
       "    <tr>\n",
       "      <th>99152</th>\n",
       "      <td>Swedish female gamer, Let's Player and Digital...</td>\n",
       "      <td>Sun Jan 18 16:38:09 +0000 2009</td>\n",
       "      <td>Sweden</td>\n",
       "      <td>66</td>\n",
       "    </tr>\n",
       "    <tr>\n",
       "      <th>108344</th>\n",
       "      <td>This is the Retweet account for D2S. We mainly...</td>\n",
       "      <td>Sat May 07 00:23:59 +0000 2016</td>\n",
       "      <td></td>\n",
       "      <td>82</td>\n",
       "    </tr>\n",
       "    <tr>\n",
       "      <th>114810</th>\n",
       "      <td>Violent Gunny Slayer. Beta tester w/ SCEE. Typ...</td>\n",
       "      <td>Fri Jun 26 20:05:56 +0000 2009</td>\n",
       "      <td></td>\n",
       "      <td>65</td>\n",
       "    </tr>\n",
       "    <tr>\n",
       "      <th>116555</th>\n",
       "      <td>i love smoking weed, playing video games, list...</td>\n",
       "      <td>Fri Jun 14 17:59:24 +0000 2013</td>\n",
       "      <td>u.k</td>\n",
       "      <td>67</td>\n",
       "    </tr>\n",
       "    <tr>\n",
       "      <th>117254</th>\n",
       "      <td>A record of my travels.</td>\n",
       "      <td>Wed Apr 20 02:44:23 +0000 2016</td>\n",
       "      <td>Spaaaaaaaaaaaaaace</td>\n",
       "      <td>81</td>\n",
       "    </tr>\n",
       "    <tr>\n",
       "      <th>119750</th>\n",
       "      <td>Back Up Account For @DNR_CREW ----------------...</td>\n",
       "      <td>Fri Apr 08 13:14:17 +0000 2016</td>\n",
       "      <td>@RTDNR @DNR_CREW</td>\n",
       "      <td>78</td>\n",
       "    </tr>\n",
       "    <tr>\n",
       "      <th>119766</th>\n",
       "      <td>Just some random geek/artist/writer.</td>\n",
       "      <td>Tue Jan 10 18:53:58 +0000 2012</td>\n",
       "      <td>Cleveland</td>\n",
       "      <td>95</td>\n",
       "    </tr>\n",
       "    <tr>\n",
       "      <th>121796</th>\n",
       "      <td>I'm a cat meow, my owner is @PowerCircult and ...</td>\n",
       "      <td>Sat Feb 05 22:01:36 +0000 2011</td>\n",
       "      <td>Port Coquitlam, B.C Canada</td>\n",
       "      <td>70</td>\n",
       "    </tr>\n",
       "    <tr>\n",
       "      <th>122002</th>\n",
       "      <td>Past 20yrs Gaming, roughly 15yrs watching Anim...</td>\n",
       "      <td>Thu Jun 13 01:06:08 +0000 2013</td>\n",
       "      <td>Pembrey, Wales</td>\n",
       "      <td>95</td>\n",
       "    </tr>\n",
       "    <tr>\n",
       "      <th>122489</th>\n",
       "      <td>Showcasing the best of No Man's Sky in-game ph...</td>\n",
       "      <td>Tue Feb 09 19:47:50 +0000 2016</td>\n",
       "      <td>The Universe</td>\n",
       "      <td>143</td>\n",
       "    </tr>\n",
       "    <tr>\n",
       "      <th>122701</th>\n",
       "      <td>Follow my voyage in No Man's Sky.</td>\n",
       "      <td>Thu Aug 11 14:17:10 +0000 2016</td>\n",
       "      <td></td>\n",
       "      <td>90</td>\n",
       "    </tr>\n",
       "    <tr>\n",
       "      <th>122748</th>\n",
       "      <td>Official home for your Stream Re-Tweets! Re-Tw...</td>\n",
       "      <td>Wed Oct 09 00:51:48 +0000 2013</td>\n",
       "      <td>Mention @TwitchTVOnline for RT</td>\n",
       "      <td>70</td>\n",
       "    </tr>\n",
       "    <tr>\n",
       "      <th>122775</th>\n",
       "      <td>;) VFX-Animator//VideoEditor//Adventurist. Mil...</td>\n",
       "      <td>Thu Nov 19 00:12:09 +0000 2015</td>\n",
       "      <td>Hayward, CA</td>\n",
       "      <td>67</td>\n",
       "    </tr>\n",
       "    <tr>\n",
       "      <th>122940</th>\n",
       "      <td>Laugh long, laugh hard. Tomorrow may never com...</td>\n",
       "      <td>Wed Aug 17 09:44:56 +0000 2011</td>\n",
       "      <td>Weston-super-Mare, UK</td>\n",
       "      <td>147</td>\n",
       "    </tr>\n",
       "    <tr>\n",
       "      <th>123031</th>\n",
       "      <td>A lot can happen in a Year. Melissa ❤️</td>\n",
       "      <td>Wed Jan 28 06:40:58 +0000 2015</td>\n",
       "      <td>California</td>\n",
       "      <td>157</td>\n",
       "    </tr>\n",
       "    <tr>\n",
       "      <th>123055</th>\n",
       "      <td>A Smart Bot Designed to Promote CGN Members Co...</td>\n",
       "      <td>Sun Oct 25 15:01:52 +0000 2015</td>\n",
       "      <td>CGN</td>\n",
       "      <td>78</td>\n",
       "    </tr>\n",
       "    <tr>\n",
       "      <th>123099</th>\n",
       "      <td>No Man’s Sky is a game about exploration and s...</td>\n",
       "      <td>Thu Aug 11 17:39:40 +0000 2016</td>\n",
       "      <td>England, United Kingdom</td>\n",
       "      <td>93</td>\n",
       "    </tr>\n",
       "    <tr>\n",
       "      <th>123109</th>\n",
       "      <td>Technology, Games, Film, Entertainment and mor...</td>\n",
       "      <td>Tue Jan 13 16:33:18 +0000 2015</td>\n",
       "      <td>London, England</td>\n",
       "      <td>90</td>\n",
       "    </tr>\n",
       "    <tr>\n",
       "      <th>123114</th>\n",
       "      <td>Back Up Account For @DNR_CREW ----------------...</td>\n",
       "      <td>Tue Apr 05 23:02:05 +0000 2016</td>\n",
       "      <td></td>\n",
       "      <td>77</td>\n",
       "    </tr>\n",
       "    <tr>\n",
       "      <th>123247</th>\n",
       "      <td>Twitch streaming #NoMansSky. #FTDG</td>\n",
       "      <td>Mon Jan 17 17:51:25 +0000 2011</td>\n",
       "      <td>Dallas, TX</td>\n",
       "      <td>97</td>\n",
       "    </tr>\n",
       "    <tr>\n",
       "      <th>123308</th>\n",
       "      <td>Dedicated to supporting small streamers grow! ...</td>\n",
       "      <td>Wed Mar 30 00:33:43 +0000 2016</td>\n",
       "      <td>@KapowStreamTeam</td>\n",
       "      <td>190</td>\n",
       "    </tr>\n",
       "    <tr>\n",
       "      <th>123425</th>\n",
       "      <td>This is a Twitter for my Librarian Knights cha...</td>\n",
       "      <td>Sat Aug 13 06:40:42 +0000 2016</td>\n",
       "      <td>Australia</td>\n",
       "      <td>76</td>\n",
       "    </tr>\n",
       "    <tr>\n",
       "      <th>123578</th>\n",
       "      <td>A travelogue of sorts, John Xero exploring the...</td>\n",
       "      <td>Sat Aug 13 07:34:29 +0000 2016</td>\n",
       "      <td>Somewhere out there</td>\n",
       "      <td>123</td>\n",
       "    </tr>\n",
       "    <tr>\n",
       "      <th>124143</th>\n",
       "      <td>Our goal is to help as many streamers as possi...</td>\n",
       "      <td>Wed Mar 30 04:03:12 +0000 2016</td>\n",
       "      <td></td>\n",
       "      <td>132</td>\n",
       "    </tr>\n",
       "    <tr>\n",
       "      <th>124206</th>\n",
       "      <td>PS4, PlayStation, 4</td>\n",
       "      <td>Fri Apr 03 22:22:20 +0000 2015</td>\n",
       "      <td>At home in the Euclid galaxy.</td>\n",
       "      <td>120</td>\n",
       "    </tr>\n",
       "    <tr>\n",
       "      <th>124280</th>\n",
       "      <td>~The lightning strike of gaming~  \\nMy YouTube...</td>\n",
       "      <td>Wed May 28 08:02:57 +0000 2014</td>\n",
       "      <td>US West Coast</td>\n",
       "      <td>75</td>\n",
       "    </tr>\n",
       "    <tr>\n",
       "      <th>124357</th>\n",
       "      <td>Content Creator/Streamer. Catch me over at htt...</td>\n",
       "      <td>Thu Aug 13 13:45:37 +0000 2015</td>\n",
       "      <td>California, USA</td>\n",
       "      <td>65</td>\n",
       "    </tr>\n",
       "    <tr>\n",
       "      <th>124421</th>\n",
       "      <td>Dr.Bones music promos &amp; interviews and home to...</td>\n",
       "      <td>Sat Dec 04 03:58:09 +0000 2010</td>\n",
       "      <td>London Ontario Canada</td>\n",
       "      <td>89</td>\n",
       "    </tr>\n",
       "    <tr>\n",
       "      <th>124442</th>\n",
       "      <td>Use the #PlayIO in your tweets to be shared wi...</td>\n",
       "      <td>Mon Jan 18 15:32:03 +0000 2016</td>\n",
       "      <td></td>\n",
       "      <td>85</td>\n",
       "    </tr>\n",
       "    <tr>\n",
       "      <th>124583</th>\n",
       "      <td>A twitter for promoting cool and small twitch ...</td>\n",
       "      <td>Fri Apr 22 02:03:32 +0000 2016</td>\n",
       "      <td>Minnesota, USA</td>\n",
       "      <td>74</td>\n",
       "    </tr>\n",
       "    <tr>\n",
       "      <th>124607</th>\n",
       "      <td>Delivering videogame justice since 2008. Like ...</td>\n",
       "      <td>Mon Feb 09 22:17:19 +0000 2009</td>\n",
       "      <td></td>\n",
       "      <td>71</td>\n",
       "    </tr>\n",
       "    <tr>\n",
       "      <th>124632</th>\n",
       "      <td>Wasteland Photographer #Fallout #80s #90s fien...</td>\n",
       "      <td>Wed May 13 00:46:15 +0000 2015</td>\n",
       "      <td>Texas</td>\n",
       "      <td>71</td>\n",
       "    </tr>\n",
       "    <tr>\n",
       "      <th>124649</th>\n",
       "      <td>Youtuber doing videos on #NoMansSky</td>\n",
       "      <td>Sun Apr 12 11:08:59 +0000 2009</td>\n",
       "      <td>Hollywood, CA</td>\n",
       "      <td>82</td>\n",
       "    </tr>\n",
       "    <tr>\n",
       "      <th>124683</th>\n",
       "      <td>Helping to share Twitch streams 1 tweet at a t...</td>\n",
       "      <td>Sat Mar 01 03:33:38 +0000 2014</td>\n",
       "      <td>The Internets</td>\n",
       "      <td>69</td>\n",
       "    </tr>\n",
       "    <tr>\n",
       "      <th>124807</th>\n",
       "      <td>https://t.co/EZQPnSaVnr Stream retweets | Foll...</td>\n",
       "      <td>Mon May 23 06:41:07 +0000 2016</td>\n",
       "      <td>China, Nuevo León</td>\n",
       "      <td>115</td>\n",
       "    </tr>\n",
       "    <tr>\n",
       "      <th>124829</th>\n",
       "      <td>No Man's Sky Journal By the Unknown Explorer.</td>\n",
       "      <td>Wed May 11 23:00:07 +0000 2016</td>\n",
       "      <td>No Man's Sky</td>\n",
       "      <td>83</td>\n",
       "    </tr>\n",
       "    <tr>\n",
       "      <th>124859</th>\n",
       "      <td>PSN:TheFrostE \\nGek Ambassador\\nchef and daddy...</td>\n",
       "      <td>Wed Apr 16 23:23:52 +0000 2014</td>\n",
       "      <td>Connecticut, USA</td>\n",
       "      <td>226</td>\n",
       "    </tr>\n",
       "    <tr>\n",
       "      <th>124893</th>\n",
       "      <td>IT Technician at Amazon UK. Re-tweeting most i...</td>\n",
       "      <td>Fri Apr 23 17:54:03 +0000 2010</td>\n",
       "      <td>Scotland, United Kingdom</td>\n",
       "      <td>164</td>\n",
       "    </tr>\n",
       "    <tr>\n",
       "      <th>124896</th>\n",
       "      <td>Supporting new content creators on YouTube and...</td>\n",
       "      <td>Fri Jun 24 09:15:50 +0000 2016</td>\n",
       "      <td>Earth</td>\n",
       "      <td>415</td>\n",
       "    </tr>\n",
       "    <tr>\n",
       "      <th>125023</th>\n",
       "      <td>Just a funny, lonely bot that creates one rand...</td>\n",
       "      <td>Wed Aug 10 20:10:56 +0000 2016</td>\n",
       "      <td>Earth</td>\n",
       "      <td>193</td>\n",
       "    </tr>\n",
       "    <tr>\n",
       "      <th>125090</th>\n",
       "      <td>This is a place where you can find Scrims, 8s,...</td>\n",
       "      <td>Sat Dec 05 19:50:08 +0000 2015</td>\n",
       "      <td>United States</td>\n",
       "      <td>83</td>\n",
       "    </tr>\n",
       "    <tr>\n",
       "      <th>125100</th>\n",
       "      <td>Electronics enthusiast and wannabe developer</td>\n",
       "      <td>Mon Jun 10 19:39:45 +0000 2013</td>\n",
       "      <td>Maryland, USA</td>\n",
       "      <td>96</td>\n",
       "    </tr>\n",
       "    <tr>\n",
       "      <th>125113</th>\n",
       "      <td>Trying to put in evidence only content related...</td>\n",
       "      <td>Tue Sep 22 17:41:41 +0000 2015</td>\n",
       "      <td>under @Alex_TNT bed.</td>\n",
       "      <td>107</td>\n",
       "    </tr>\n",
       "    <tr>\n",
       "      <th>125116</th>\n",
       "      <td>Featuring your screenshots from No Mans Sky. T...</td>\n",
       "      <td>Sun Aug 14 16:42:29 +0000 2016</td>\n",
       "      <td></td>\n",
       "      <td>77</td>\n",
       "    </tr>\n",
       "    <tr>\n",
       "      <th>125146</th>\n",
       "      <td>★I RT YouTube/Gaming/MLG/ETC★☆Must Follow For ...</td>\n",
       "      <td>Sun Jan 20 00:54:36 +0000 2013</td>\n",
       "      <td>Indiana</td>\n",
       "      <td>83</td>\n",
       "    </tr>\n",
       "    <tr>\n",
       "      <th>125168</th>\n",
       "      <td>#NoMansSky YouTuber, covering everything from ...</td>\n",
       "      <td>Fri Feb 27 01:55:32 +0000 2015</td>\n",
       "      <td></td>\n",
       "      <td>72</td>\n",
       "    </tr>\n",
       "    <tr>\n",
       "      <th>125180</th>\n",
       "      <td>i play video games and i retweete alot twitch ...</td>\n",
       "      <td>Tue Aug 03 10:16:46 +0000 2010</td>\n",
       "      <td></td>\n",
       "      <td>170</td>\n",
       "    </tr>\n",
       "    <tr>\n",
       "      <th>125206</th>\n",
       "      <td>@PrinceArthasLK 's queen, a twisted mirror of ...</td>\n",
       "      <td>Fri Mar 06 12:28:39 +0000 2015</td>\n",
       "      <td>Lincoln, England</td>\n",
       "      <td>71</td>\n",
       "    </tr>\n",
       "    <tr>\n",
       "      <th>125330</th>\n",
       "      <td>Random tweets about life and cuties. Occasiona...</td>\n",
       "      <td>Sat Jul 24 13:44:03 +0000 2010</td>\n",
       "      <td>Gokk, Norway</td>\n",
       "      <td>345</td>\n",
       "    </tr>\n",
       "    <tr>\n",
       "      <th>125340</th>\n",
       "      <td>On the Atlas Path in search of Enlightenment a...</td>\n",
       "      <td>Thu Oct 04 14:24:47 +0000 2012</td>\n",
       "      <td>Milky Way ✩ Orion Arm ✩ Earth</td>\n",
       "      <td>81</td>\n",
       "    </tr>\n",
       "    <tr>\n",
       "      <th>125343</th>\n",
       "      <td>Gamer, amateur writer, thinker, strategist, hu...</td>\n",
       "      <td>Fri Mar 20 18:58:17 +0000 2009</td>\n",
       "      <td>CA</td>\n",
       "      <td>91</td>\n",
       "    </tr>\n",
       "    <tr>\n",
       "      <th>125349</th>\n",
       "      <td>Spreading the word on Scifi topics.  I retweet...</td>\n",
       "      <td>Sat Jul 11 01:53:43 +0000 2015</td>\n",
       "      <td></td>\n",
       "      <td>200</td>\n",
       "    </tr>\n",
       "    <tr>\n",
       "      <th>125409</th>\n",
       "      <td>Geeky little lady with a coffee addiction. @Be...</td>\n",
       "      <td>Mon May 31 13:40:48 +0000 2010</td>\n",
       "      <td>St Louis, MO</td>\n",
       "      <td>95</td>\n",
       "    </tr>\n",
       "    <tr>\n",
       "      <th>125420</th>\n",
       "      <td>To play a Wookie in chess is my lifelong dream...</td>\n",
       "      <td>Sun Apr 15 20:27:12 +0000 2012</td>\n",
       "      <td></td>\n",
       "      <td>85</td>\n",
       "    </tr>\n",
       "    <tr>\n",
       "      <th>125421</th>\n",
       "      <td>I'm going to post my No Mans Sky Pictures and ...</td>\n",
       "      <td>Fri Aug 05 12:13:19 +0000 2016</td>\n",
       "      <td>Lisbon, Portugal</td>\n",
       "      <td>91</td>\n",
       "    </tr>\n",
       "  </tbody>\n",
       "</table>\n",
       "</div>"
      ],
      "text/plain": [
       "                                         user_description  \\\n",
       "85325   Twitch and Gaming News Reporter Maintained by ...   \n",
       "89928                                                       \n",
       "97263   {♿️}  artist. observer. curiosity. wonder |bir...   \n",
       "99152   Swedish female gamer, Let's Player and Digital...   \n",
       "108344  This is the Retweet account for D2S. We mainly...   \n",
       "114810  Violent Gunny Slayer. Beta tester w/ SCEE. Typ...   \n",
       "116555  i love smoking weed, playing video games, list...   \n",
       "117254                            A record of my travels.   \n",
       "119750  Back Up Account For @DNR_CREW ----------------...   \n",
       "119766               Just some random geek/artist/writer.   \n",
       "121796  I'm a cat meow, my owner is @PowerCircult and ...   \n",
       "122002  Past 20yrs Gaming, roughly 15yrs watching Anim...   \n",
       "122489  Showcasing the best of No Man's Sky in-game ph...   \n",
       "122701                  Follow my voyage in No Man's Sky.   \n",
       "122748  Official home for your Stream Re-Tweets! Re-Tw...   \n",
       "122775  ;) VFX-Animator//VideoEditor//Adventurist. Mil...   \n",
       "122940  Laugh long, laugh hard. Tomorrow may never com...   \n",
       "123031             A lot can happen in a Year. Melissa ❤️   \n",
       "123055  A Smart Bot Designed to Promote CGN Members Co...   \n",
       "123099  No Man’s Sky is a game about exploration and s...   \n",
       "123109  Technology, Games, Film, Entertainment and mor...   \n",
       "123114  Back Up Account For @DNR_CREW ----------------...   \n",
       "123247                 Twitch streaming #NoMansSky. #FTDG   \n",
       "123308  Dedicated to supporting small streamers grow! ...   \n",
       "123425  This is a Twitter for my Librarian Knights cha...   \n",
       "123578  A travelogue of sorts, John Xero exploring the...   \n",
       "124143  Our goal is to help as many streamers as possi...   \n",
       "124206                                PS4, PlayStation, 4   \n",
       "124280  ~The lightning strike of gaming~  \\nMy YouTube...   \n",
       "124357  Content Creator/Streamer. Catch me over at htt...   \n",
       "124421  Dr.Bones music promos & interviews and home to...   \n",
       "124442  Use the #PlayIO in your tweets to be shared wi...   \n",
       "124583  A twitter for promoting cool and small twitch ...   \n",
       "124607  Delivering videogame justice since 2008. Like ...   \n",
       "124632  Wasteland Photographer #Fallout #80s #90s fien...   \n",
       "124649                Youtuber doing videos on #NoMansSky   \n",
       "124683  Helping to share Twitch streams 1 tweet at a t...   \n",
       "124807  https://t.co/EZQPnSaVnr Stream retweets | Foll...   \n",
       "124829      No Man's Sky Journal By the Unknown Explorer.   \n",
       "124859  PSN:TheFrostE \\nGek Ambassador\\nchef and daddy...   \n",
       "124893  IT Technician at Amazon UK. Re-tweeting most i...   \n",
       "124896  Supporting new content creators on YouTube and...   \n",
       "125023  Just a funny, lonely bot that creates one rand...   \n",
       "125090  This is a place where you can find Scrims, 8s,...   \n",
       "125100       Electronics enthusiast and wannabe developer   \n",
       "125113  Trying to put in evidence only content related...   \n",
       "125116  Featuring your screenshots from No Mans Sky. T...   \n",
       "125146  ★I RT YouTube/Gaming/MLG/ETC★☆Must Follow For ...   \n",
       "125168  #NoMansSky YouTuber, covering everything from ...   \n",
       "125180  i play video games and i retweete alot twitch ...   \n",
       "125206  @PrinceArthasLK 's queen, a twisted mirror of ...   \n",
       "125330  Random tweets about life and cuties. Occasiona...   \n",
       "125340  On the Atlas Path in search of Enlightenment a...   \n",
       "125343  Gamer, amateur writer, thinker, strategist, hu...   \n",
       "125349  Spreading the word on Scifi topics.  I retweet...   \n",
       "125409  Geeky little lady with a coffee addiction. @Be...   \n",
       "125420  To play a Wookie in chess is my lifelong dream...   \n",
       "125421  I'm going to post my No Mans Sky Pictures and ...   \n",
       "\n",
       "                       user_created_at                   user_location  \\\n",
       "85325   Wed Dec 09 00:05:09 +0000 2015                                   \n",
       "89928   Wed Aug 10 06:19:44 +0000 2016                                   \n",
       "97263   Tue Dec 02 01:39:06 +0000 2008        British Columbia, Canada   \n",
       "99152   Sun Jan 18 16:38:09 +0000 2009                          Sweden   \n",
       "108344  Sat May 07 00:23:59 +0000 2016                                   \n",
       "114810  Fri Jun 26 20:05:56 +0000 2009                                   \n",
       "116555  Fri Jun 14 17:59:24 +0000 2013                             u.k   \n",
       "117254  Wed Apr 20 02:44:23 +0000 2016              Spaaaaaaaaaaaaaace   \n",
       "119750  Fri Apr 08 13:14:17 +0000 2016                @RTDNR @DNR_CREW   \n",
       "119766  Tue Jan 10 18:53:58 +0000 2012                       Cleveland   \n",
       "121796  Sat Feb 05 22:01:36 +0000 2011      Port Coquitlam, B.C Canada   \n",
       "122002  Thu Jun 13 01:06:08 +0000 2013                  Pembrey, Wales   \n",
       "122489  Tue Feb 09 19:47:50 +0000 2016                    The Universe   \n",
       "122701  Thu Aug 11 14:17:10 +0000 2016                                   \n",
       "122748  Wed Oct 09 00:51:48 +0000 2013  Mention @TwitchTVOnline for RT   \n",
       "122775  Thu Nov 19 00:12:09 +0000 2015                     Hayward, CA   \n",
       "122940  Wed Aug 17 09:44:56 +0000 2011           Weston-super-Mare, UK   \n",
       "123031  Wed Jan 28 06:40:58 +0000 2015                      California   \n",
       "123055  Sun Oct 25 15:01:52 +0000 2015                             CGN   \n",
       "123099  Thu Aug 11 17:39:40 +0000 2016         England, United Kingdom   \n",
       "123109  Tue Jan 13 16:33:18 +0000 2015                 London, England   \n",
       "123114  Tue Apr 05 23:02:05 +0000 2016                                   \n",
       "123247  Mon Jan 17 17:51:25 +0000 2011                      Dallas, TX   \n",
       "123308  Wed Mar 30 00:33:43 +0000 2016                @KapowStreamTeam   \n",
       "123425  Sat Aug 13 06:40:42 +0000 2016                       Australia   \n",
       "123578  Sat Aug 13 07:34:29 +0000 2016             Somewhere out there   \n",
       "124143  Wed Mar 30 04:03:12 +0000 2016                                   \n",
       "124206  Fri Apr 03 22:22:20 +0000 2015   At home in the Euclid galaxy.   \n",
       "124280  Wed May 28 08:02:57 +0000 2014                   US West Coast   \n",
       "124357  Thu Aug 13 13:45:37 +0000 2015                 California, USA   \n",
       "124421  Sat Dec 04 03:58:09 +0000 2010          London Ontario Canada    \n",
       "124442  Mon Jan 18 15:32:03 +0000 2016                                   \n",
       "124583  Fri Apr 22 02:03:32 +0000 2016                  Minnesota, USA   \n",
       "124607  Mon Feb 09 22:17:19 +0000 2009                                   \n",
       "124632  Wed May 13 00:46:15 +0000 2015                           Texas   \n",
       "124649  Sun Apr 12 11:08:59 +0000 2009                   Hollywood, CA   \n",
       "124683  Sat Mar 01 03:33:38 +0000 2014                   The Internets   \n",
       "124807  Mon May 23 06:41:07 +0000 2016               China, Nuevo León   \n",
       "124829  Wed May 11 23:00:07 +0000 2016                    No Man's Sky   \n",
       "124859  Wed Apr 16 23:23:52 +0000 2014                Connecticut, USA   \n",
       "124893  Fri Apr 23 17:54:03 +0000 2010        Scotland, United Kingdom   \n",
       "124896  Fri Jun 24 09:15:50 +0000 2016                           Earth   \n",
       "125023  Wed Aug 10 20:10:56 +0000 2016                           Earth   \n",
       "125090  Sat Dec 05 19:50:08 +0000 2015                   United States   \n",
       "125100  Mon Jun 10 19:39:45 +0000 2013                   Maryland, USA   \n",
       "125113  Tue Sep 22 17:41:41 +0000 2015            under @Alex_TNT bed.   \n",
       "125116  Sun Aug 14 16:42:29 +0000 2016                                   \n",
       "125146  Sun Jan 20 00:54:36 +0000 2013                         Indiana   \n",
       "125168  Fri Feb 27 01:55:32 +0000 2015                                   \n",
       "125180  Tue Aug 03 10:16:46 +0000 2010                                   \n",
       "125206  Fri Mar 06 12:28:39 +0000 2015                Lincoln, England   \n",
       "125330  Sat Jul 24 13:44:03 +0000 2010                    Gokk, Norway   \n",
       "125340  Thu Oct 04 14:24:47 +0000 2012   Milky Way ✩ Orion Arm ✩ Earth   \n",
       "125343  Fri Mar 20 18:58:17 +0000 2009                              CA   \n",
       "125349  Sat Jul 11 01:53:43 +0000 2015                                   \n",
       "125409  Mon May 31 13:40:48 +0000 2010                    St Louis, MO   \n",
       "125420  Sun Apr 15 20:27:12 +0000 2012                                   \n",
       "125421  Fri Aug 05 12:13:19 +0000 2016                Lisbon, Portugal   \n",
       "\n",
       "        tweets_cnt  \n",
       "85325          128  \n",
       "89928           69  \n",
       "97263          110  \n",
       "99152           66  \n",
       "108344          82  \n",
       "114810          65  \n",
       "116555          67  \n",
       "117254          81  \n",
       "119750          78  \n",
       "119766          95  \n",
       "121796          70  \n",
       "122002          95  \n",
       "122489         143  \n",
       "122701          90  \n",
       "122748          70  \n",
       "122775          67  \n",
       "122940         147  \n",
       "123031         157  \n",
       "123055          78  \n",
       "123099          93  \n",
       "123109          90  \n",
       "123114          77  \n",
       "123247          97  \n",
       "123308         190  \n",
       "123425          76  \n",
       "123578         123  \n",
       "124143         132  \n",
       "124206         120  \n",
       "124280          75  \n",
       "124357          65  \n",
       "124421          89  \n",
       "124442          85  \n",
       "124583          74  \n",
       "124607          71  \n",
       "124632          71  \n",
       "124649          82  \n",
       "124683          69  \n",
       "124807         115  \n",
       "124829          83  \n",
       "124859         226  \n",
       "124893         164  \n",
       "124896         415  \n",
       "125023         193  \n",
       "125090          83  \n",
       "125100          96  \n",
       "125113         107  \n",
       "125116          77  \n",
       "125146          83  \n",
       "125168          72  \n",
       "125180         170  \n",
       "125206          71  \n",
       "125330         345  \n",
       "125340          81  \n",
       "125343          91  \n",
       "125349         200  \n",
       "125409          95  \n",
       "125420          85  \n",
       "125421          91  "
      ]
     },
     "execution_count": 17,
     "metadata": {},
     "output_type": "execute_result"
    }
   ],
   "source": [
    "df_active_twitters = df_active_twitters.drop_duplicates(subset='user_id', keep='last')\n",
    "print('Information on the top 5 per cent most active twitter users.')\n",
    "df_active_twitters[['user_description', 'user_created_at', \n",
    "                    'user_location', 'tweets_cnt']]"
   ]
  },
  {
   "cell_type": "markdown",
   "metadata": {},
   "source": [
    "I was expecting quite a number of media outlets, commercial channels, but no."
   ]
  },
  {
   "cell_type": "markdown",
   "metadata": {},
   "source": [
    "## Sentiment analysis\n",
    "### 1. Calculate sentiment scores\n",
    "#### Import positive and negative words  \n",
    "with AFINN valence rated words from\n",
    "http://www2.imm.dtu.dk/pubdb/views/publication_details.php?id=6010"
   ]
  },
  {
   "cell_type": "code",
   "execution_count": 18,
   "metadata": {
    "collapsed": true
   },
   "outputs": [],
   "source": [
    "wd_file = \"AFINN-111.txt\"\n",
    "\n",
    "afinn = dict(map(lambda (k,v): (k,int(v)), [ line.split('\\t') for line in open(wd_file) ]))"
   ]
  },
  {
   "cell_type": "markdown",
   "metadata": {},
   "source": [
    "#### Add in my list of negative words commonly found with computer/video gaming"
   ]
  },
  {
   "cell_type": "code",
   "execution_count": 19,
   "metadata": {
    "collapsed": true
   },
   "outputs": [],
   "source": [
    "my_neg_wd = ['overhype', 'overhyped', 'ctd', 'lag', 'tedious', 'overprice', 'overpriced',\n",
    "             'bug', 'bugs', 'oversight', 'oversights', 'grindy', 'refund', 'crash', 'crashes',\n",
    "             'stuttering', 'unplayable', 'hitching']\n",
    "#neg_wd |= set(my_neg_wd)\n",
    "\n",
    "afinn['bug'] = -2\n",
    "afinn['buggy'] = -3\n",
    "afinn['crash'] = -4\n",
    "afinn['ctd'] = -4\n",
    "afinn['grindy'] = -2\n",
    "afinn['hitching'] = -3\n",
    "afinn['lag'] = -2\n",
    "afinn['lackluster'] = -2\n",
    "afinn['overhype'] = -3\n",
    "afinn['overhyped'] = -3\n",
    "afinn['overpriced'] = -3\n",
    "afinn['oversights'] = -1\n",
    "afinn['refund'] = -4\n",
    "afinn['tedious'] = -2\n",
    "afinn['unplayable'] = -5"
   ]
  },
  {
   "cell_type": "markdown",
   "metadata": {},
   "source": [
    "#### Get a list of stopwords"
   ]
  },
  {
   "cell_type": "code",
   "execution_count": 20,
   "metadata": {
    "collapsed": true
   },
   "outputs": [],
   "source": [
    "# stopwords\n",
    "sw = set(gensim.parsing.preprocessing.STOPWORDS)\n",
    "my_sw = ['http', 'https', 'RT']"
   ]
  },
  {
   "cell_type": "markdown",
   "metadata": {},
   "source": [
    "#### Functions to remove URLs, then tokenize text"
   ]
  },
  {
   "cell_type": "code",
   "execution_count": 21,
   "metadata": {
    "collapsed": true
   },
   "outputs": [],
   "source": [
    "def split_wd(text, stopwords=sw):\n",
    "    new_sw = set(sw)\n",
    "    new_sw |= set(my_sw)\n",
    "    return [wd\n",
    "            for wd in gensim.utils.tokenize(text, lower=True)\n",
    "            if wd not in new_sw and len(wd) > 3]"
   ]
  },
  {
   "cell_type": "code",
   "execution_count": 22,
   "metadata": {
    "collapsed": false
   },
   "outputs": [],
   "source": [
    "# funct to remove links, channel names from string\n",
    "def remove_url(text):\n",
    "    text = text.lower()\n",
    "    text = re.sub(r\"http\\S+\", \" \", text)\n",
    "    text = re.sub(r\"@+\", \" \", text)\n",
    "    return text"
   ]
  },
  {
   "cell_type": "markdown",
   "metadata": {},
   "source": [
    "#### Calculate the sentiment score for each Tweets"
   ]
  },
  {
   "cell_type": "code",
   "execution_count": 23,
   "metadata": {
    "collapsed": false
   },
   "outputs": [],
   "source": [
    "df['sentiment_afinn'] = 0\n",
    "\n",
    "for index, row in df.iterrows():\n",
    "    text = row['text']\n",
    "    text = remove_url(text)\n",
    "    tokens = split_wd(text, sw)\n",
    "\n",
    "    score = sum(map(lambda word: afinn.get(word, 0), tokens))\n",
    "    df.set_value(index, 'sentiment_afinn', score)"
   ]
  },
  {
   "cell_type": "code",
   "execution_count": 25,
   "metadata": {
    "collapsed": false
   },
   "outputs": [
    {
     "data": {
      "image/png": "[encoded data removed]",
      "text/plain": [
       "<matplotlib.figure.Figure at 0xaa4efe48>"
      ]
     },
     "metadata": {},
     "output_type": "display_data"
    },
    {
     "name": "stdout",
     "output_type": "stream",
     "text": [
      "<ggplot: (148127296)>\n"
     ]
    },
    {
     "data": {
      "image/png": "[encoded data removed]",
      "text/plain": [
       "<matplotlib.figure.Figure at 0xd69e7390>"
      ]
     },
     "metadata": {},
     "output_type": "display_data"
    },
    {
     "name": "stdout",
     "output_type": "stream",
     "text": [
      "<ggplot: (145398066)>\n"
     ]
    }
   ],
   "source": [
    "p1 = ggplot(df, aes(x = 'sentiment_afinn')) + geom_bar() + ggtitle(\"Distribution of sentiment scores\")\n",
    "    \n",
    "p2 = ggplot(df, aes(x = 'sentiment_afinn')) + geom_bar() + \\\n",
    "     scale_y_continuous(limits = (0,15000)) + ggtitle(\"Distribution of sentiment scores (zoom in)\")\n",
    "    \n",
    "print(p1)\n",
    "print(p2)"
   ]
  },
  {
   "cell_type": "markdown",
   "metadata": {},
   "source": [
    "#### Clean up commercial/advertisment Tweets\n",
    "\n",
    "After inspecting some of the data, there are quite a number of positive sentiment commercials. Let's add in a 'is_ad' column and tag up the commercials."
   ]
  },
  {
   "cell_type": "code",
   "execution_count": 26,
   "metadata": {
    "collapsed": true
   },
   "outputs": [],
   "source": [
    "df['is_ad'] = 0\n",
    "\n",
    "for index, row in df.iterrows():\n",
    "    text = row['text'].lower()\n",
    "    match = re.search(r'win a copy|giveaway|chance to win|cdiscount|available now|go in the draw', \n",
    "                      text)\n",
    "    if match:\n",
    "        df.set_value(index, 'is_ad', 1)"
   ]
  },
  {
   "cell_type": "code",
   "execution_count": 28,
   "metadata": {
    "collapsed": false,
    "scrolled": true
   },
   "outputs": [
    {
     "name": "stdout",
     "output_type": "stream",
     "text": [
      "RT @PlayStationJobs: #WIN a copy of #NoMansSky \\n\\nFOLLOW + RETWEET + LIKE to ENTER\\n\\nWinner picked at random on Tuesday 9 August 5pm https://…            769\n",
      "RT @GamestaarUK: #Competition time! 5 lucky gamers! #NoMansSky or #FIFA17 up for grabs RT &amp; follow us for a chance to win! #Gamestaar https…            357\n",
      "RT @GAMELutonAC: Would you like to win this awesome limited #NoMansSky stand?\\n\\nLike and retweet this tweet for your chance to win! https://…              181\n",
      "RT @_J0rdi_: Since the hype is real...\\nHow about a #NoMansSky Steam Key giveaway?\\n\\nRT &amp; Like to enter.\\nI will pick a random winner in 2 hou…        135\n",
      "RT @TheSpinoffTV: #NoMansSky GIVEAWAY! Wanna call this sweet merch yours? RT this and comment your best planet name to be in the draw. http…                 14\n",
      "RT @kp0llux: #NoMansSky giveaway TODAY courtesy le amazing @binxtv &lt;3 Enter to win at https://t.co/US9HC22BS8 :) #CGN @TwitchPal https://t.…              13\n",
      "RT @kevinG_harris: Coming back strong with a new vid soon. Feeling generous too...\\n#newvid #Phantom4 #DJI #NoMansSky #giveaway https://t.co…                13\n",
      "RT @DSmytheHG: RT and Follow for your chance to win a 100% FREE copy of #NoMansSky on release!! One retweeter and one follower wins https:/…                  8\n",
      "RT @OptimalAngus: Free #Giveaway of a #LimitedEdition #NoMansSky! Celebrate the #NMS release and help me reach some new YouTube peeps: http…                  7\n",
      "RT @GamestaarUK #Competition time! 5 lucky gamers! #NoMansSky or #FIFA17 up for grabs RT &amp; follow us for a chance to win! #Gamestaar                      5\n",
      "RT @RPGZieg: Congrats to @Mathias28650358 for winning @PhattIsleGaming  #NMS #giveaway from our #twitch channel https://t.co/54XndrWBd1                       5\n",
      "RT @SMOKEYFORMBY: RT @GamestaarUK #Competition time! 5 lucky gamers! #NoMansSky or #FIFA17 up for grabs RT &amp; follow us for a chance to win!…              4\n",
      "RT @Zooie01: Only 5 days left till we draw a winner\\nChance to Win a PC copy of #NoMansSky and  #explore Here:https://t.co/tXccc6yt4S\\n@DNR_C…                3\n",
      "@GamestaarUK #Competition time! 5 lucky gamers! #NoMansSky or #FIFA17 up for grabs RT &amp; follow us for a chance to win! #Gamestaar                         2\n",
      "RT @PlayStationJobs: Huge thanks to everyone who entered. \\n\\nAnd as a thank you, there's another chance to win #NoMansSky tomorrow at 10am h…                2\n",
      "&lt;3 Community! @kp0llux of #CGN: \"#NoMansSky giveaway TODAY courtesy le amazing @binxtv - https://t.co/AjemOkQBk5                                           1\n",
      "Would you like to win this awesome limited #NoMansSky stand?\\n\\nLike and retweet this tweet for your chance to win! https://t.co/NSpldpgpWg                   1\n",
      "RT @theheadlessarmy: Gamer Gear https://t.co/1lUWksgSUC go here for  a chance to win awesome gear also a chance to win no man sky #nms go g…                  1\n",
      "#NoMansSky GIVEAWAY! Wanna call this sweet merch yours? RT this and comment your best planet name to be in the draw. https://t.co/EdP40lzERM                  1\n",
      "Congratulations @OrkunOzyazgan, the winner of the game #NoMansSky CD key in our #GameofChoice Giveaway! https://t.co/gdXTFDRJ5m                               1\n",
      "@wgtc_site #NoMansSky Thank yo for this FANtastic Giveaway! Join in @JudeAnita @LAINDIA928 https://t.co/OsuZZJMMZV                                            1\n",
      "I'm In! RT -&gt; @PlayStationJobs #WIN a copy of #NoMansSky \\n\\nFOLLOW + RETWEET + LIKE to ENTER\\n\\nWinner picked at random on Tuesday 9 August 5pm           1\n",
      "@GamestaarUK : #Competition time! 5 lucky gamers! #NoMansSky or #FIFA17 up for grabs RT &amp; follow us for a chance to win! #Gamestaar                       1\n",
      "Since the hype is real...\\nHow about a #NoMansSky Steam Key giveaway?\\n\\nRT &amp; Like to enter.\\nI will pick a random winner in 2 hours.                     1\n",
      "RT @BeamingGiveaway: Cool #NoMansSky inspired shirts for sale to help gamers! https://t.co/YCjAZ1L2nu @ShoutRTs @GamerRTer @NightRTs https:…                  1\n",
      "Congratulations @OrkunOzyazgan, the winner of the game #NoMansSky CD key in our #GameofChoice Giveaway! https://t.co/yk1QMTur1g                               1\n",
      "Ongoing #NoMansSky Giveaway: Winning viewers name objects discovered in today's stream! Free to… https://t.co/mqJQI9v2Iu                                      1\n",
      "&lt;3 Community! @kp0llux of #CGN: \"#NoMansSky giveaway TODAY courtesy le amazing @binxtv - https://t.co/qKogqV6XdS                                           1\n",
      "I would like to do another #NoMansSky #giveaway but I also want #NoMansSky on PC post screenshots... 10x more beautiful. FU @hellogames                       1\n",
      "@GamestaarUK #Competition time! 5 lucky gamers! #NoMansSky or #FIFA17 up for grabs RT &amp; follow us for a chance to win! #Gamestaar 💕🌟💕🌟💕🌟💕🌟💕      1\n",
      "Why are Mondays the best? Our weekly #podcast is why! Come hang out and get entered in a chance to win #NoMansSky https://t.co/eF5UvjbiI9                     1\n",
      "&lt;3 Community! @kp0llux of #CGN: \"#NoMansSky giveaway TODAY courtesy le amazing @binxtv - https://t.co/9bDmxAWgUI                                           1\n",
      "Gamer Gear https://t.co/1lUWksgSUC go here for  a chance to win awesome gear also a chance to win no man sky #nms go go go                                    1\n",
      "RT @allkeyshop: Congratulations @OrkunOzyazgan, the winner of the game #NoMansSky CD key in our #GameofChoice Giveaway! https://t.co/fpUzwl…                  1\n",
      "RT @Gustofwin: Congrats to @JessixKitten for winning a copy of #nomanssky!!!!\\nFor a chance to win go to https://t.co/rJBD6vw8S9 and enter!                   1\n",
      "#NoMansSky giveaway TODAY courtesy le amazing @binxtv &lt;3 Enter to win at https://t.co/US9HC22BS8 :) #CGN @TwitchPal https://t.co/6vkL37ldSL                1\n",
      "Congratulations @OrkunOzyazgan, the winner of the game #NoMansSky CD key in our #GameofChoice Giveaway! https://t.co/fpUzwlU1yn                               1\n",
      "RT @BKling520: Why are Mondays the best? Our weekly #podcast is why! Come hang out and get entered in a chance to win #NoMansSky https://t.…                  1\n",
      "&lt;3 Community! @kp0llux of #CGN: \"#NoMansSky giveaway TODAY courtesy le amazing @binxtv - https://t.co/TzkWQvux2v                                           1\n",
      "&lt;3 Community! @kp0llux of #CGN: \"#NoMansSky giveaway TODAY courtesy le amazing @binxtv - https://t.co/AdQEjbM353                                           1\n",
      "&lt;3 Community! @kp0llux of #CGN: \"#NoMansSky giveaway TODAY courtesy le amazing @binxtv - https://t.co/T0xXC4Csmu                                           1\n",
      "Wishing you had a copy of #NoMansSky? Here's your lucky chance! At 150 followers on #Twitter I'll be giving away a copy! #TwitterGiveaway                     1\n",
      "RT @PoorUglyDwarf: &lt;3 Community! @kp0llux of #CGN: \"#NoMansSky giveaway TODAY courtesy le amazing @binxtv - https://t.co/qKogqV6XdS                        1\n",
      "Congrats to @JessixKitten for winning a copy of #nomanssky!!!!\\nFor a chance to win go to https://t.co/rJBD6vw8S9 and enter!                                  1\n",
      "#WIN a copy of #NoMansSky \\n\\nFOLLOW + RETWEET + LIKE to ENTER\\n\\nWinner picked at random on Tuesday 9 August 5pm https://t.co/GDA5bCeRKf                     1\n",
      "Last chance to win a copy of #NoMansSky before I draw the winner at 4pm. Get amongst it: https://t.co/HTgJWZbdok                                              1\n",
      "Congrats to @Mathias28650358 for winning @PhattIsleGaming  #NMS #giveaway from our #twitch channel https://t.co/54XndrWBd1                                    1\n",
      "Coming back strong with a new vid soon. Feeling generous too...\\n#newvid #Phantom4 #DJI #NoMansSky #giveaway https://t.co/WnT1ckillv                          1\n",
      "Free #Giveaway of a #LimitedEdition #NoMansSky! Celebrate the #NMS release and help me reach some new YouTube peeps: https://t.co/u6UeNGNgoy                  1\n",
      "#GiveawayAnnouncement Want to increase your chances at winning that copy of #NoMansSky? Follow my #Twitch account! Giving it away at 200!                     1\n",
      "Only 5 days left till we draw a winner\\nChance to Win a PC copy of #NoMansSky and  #explore Here:https://t.co/tXccc6yt4S\\n@DNR_CREW #scifi                    1\n",
      "Name: text, dtype: int64\n"
     ]
    }
   ],
   "source": [
    "# print out a few to check\n",
    "print(df[(df['sentiment_afinn'] >= 5) & (df['is_ad'] == 1)]['text'].value_counts())"
   ]
  },
  {
   "cell_type": "markdown",
   "metadata": {},
   "source": [
    "### 2. Sentiment changes over time\n",
    "#### Function to remove time of the day"
   ]
  },
  {
   "cell_type": "code",
   "execution_count": 29,
   "metadata": {
    "collapsed": true
   },
   "outputs": [],
   "source": [
    "def remove_time(t):\n",
    "    return datetime.datetime(t.year, t.month, t.day)"
   ]
  },
  {
   "cell_type": "markdown",
   "metadata": {},
   "source": [
    "#### Total sentiment score by date"
   ]
  },
  {
   "cell_type": "code",
   "execution_count": 30,
   "metadata": {
    "collapsed": false
   },
   "outputs": [],
   "source": [
    "df['date'] = df['created_at'].apply(parser.parse) # convert string to date object\n",
    "df['date'] = df['date'].apply(remove_time)"
   ]
  },
  {
   "cell_type": "code",
   "execution_count": 36,
   "metadata": {
    "collapsed": false
   },
   "outputs": [],
   "source": [
    "df_no_ad = df[df['is_ad'] == 0]\n",
    "by_date_afinn = pd.DataFrame(df_no_ad.groupby('date')['sentiment_afinn'].sum())\n",
    "by_date_afinn['tweets'] = df_no_ad.groupby('date')['text'].count()\n",
    "by_date_afinn['pos cnt'] = \\\n",
    "    df_no_ad[df_no_ad['sentiment_afinn'] > 0].groupby('date')['sentiment_afinn'].count()\n",
    "by_date_afinn['neg cnt'] = \\\n",
    "    df_no_ad[df_no_ad['sentiment_afinn'] < 0].groupby('date')['sentiment_afinn'].count()\n",
    "#by_date_afinn['date'] = by_date_afinn.index\n",
    "by_date_afinn['date'] = by_date_afinn.index.day\n",
    "\n",
    "by_date_afinn['sentiment_no_RT'] = df_no_ad[df_no_ad['retweet'] == 0].groupby('date')['sentiment_afinn'].sum()\n",
    "by_date_afinn['tweets_no_RT'] = df_no_ad[df_no_ad['retweet'] == 0].groupby('date')['text'].count()\n",
    "\n",
    "by_date_afinn = by_date_afinn.reset_index(drop=True)"
   ]
  },
  {
   "cell_type": "code",
   "execution_count": 37,
   "metadata": {
    "collapsed": false
   },
   "outputs": [
    {
     "data": {
      "text/html": [
       "<div>\n",
       "<table border=\"1\" class=\"dataframe\">\n",
       "  <thead>\n",
       "    <tr style=\"text-align: right;\">\n",
       "      <th></th>\n",
       "      <th>sentiment_afinn</th>\n",
       "      <th>tweets</th>\n",
       "      <th>pos cnt</th>\n",
       "      <th>neg cnt</th>\n",
       "      <th>date</th>\n",
       "      <th>sentiment_no_RT</th>\n",
       "      <th>tweets_no_RT</th>\n",
       "    </tr>\n",
       "  </thead>\n",
       "  <tbody>\n",
       "    <tr>\n",
       "      <th>0</th>\n",
       "      <td>1019</td>\n",
       "      <td>1870</td>\n",
       "      <td>550</td>\n",
       "      <td>200</td>\n",
       "      <td>5</td>\n",
       "      <td>740</td>\n",
       "      <td>1099</td>\n",
       "    </tr>\n",
       "    <tr>\n",
       "      <th>1</th>\n",
       "      <td>881</td>\n",
       "      <td>1783</td>\n",
       "      <td>590</td>\n",
       "      <td>254</td>\n",
       "      <td>6</td>\n",
       "      <td>586</td>\n",
       "      <td>1167</td>\n",
       "    </tr>\n",
       "    <tr>\n",
       "      <th>2</th>\n",
       "      <td>1093</td>\n",
       "      <td>2623</td>\n",
       "      <td>788</td>\n",
       "      <td>571</td>\n",
       "      <td>7</td>\n",
       "      <td>1015</td>\n",
       "      <td>1582</td>\n",
       "    </tr>\n",
       "    <tr>\n",
       "      <th>3</th>\n",
       "      <td>3921</td>\n",
       "      <td>6012</td>\n",
       "      <td>2187</td>\n",
       "      <td>907</td>\n",
       "      <td>8</td>\n",
       "      <td>2444</td>\n",
       "      <td>3540</td>\n",
       "    </tr>\n",
       "    <tr>\n",
       "      <th>4</th>\n",
       "      <td>3448</td>\n",
       "      <td>6436</td>\n",
       "      <td>2030</td>\n",
       "      <td>782</td>\n",
       "      <td>9</td>\n",
       "      <td>2291</td>\n",
       "      <td>4047</td>\n",
       "    </tr>\n",
       "    <tr>\n",
       "      <th>5</th>\n",
       "      <td>6805</td>\n",
       "      <td>12114</td>\n",
       "      <td>3953</td>\n",
       "      <td>1315</td>\n",
       "      <td>10</td>\n",
       "      <td>4403</td>\n",
       "      <td>6326</td>\n",
       "    </tr>\n",
       "    <tr>\n",
       "      <th>6</th>\n",
       "      <td>6633</td>\n",
       "      <td>11623</td>\n",
       "      <td>4022</td>\n",
       "      <td>1652</td>\n",
       "      <td>11</td>\n",
       "      <td>4232</td>\n",
       "      <td>6795</td>\n",
       "    </tr>\n",
       "    <tr>\n",
       "      <th>7</th>\n",
       "      <td>4033</td>\n",
       "      <td>12791</td>\n",
       "      <td>4194</td>\n",
       "      <td>2191</td>\n",
       "      <td>12</td>\n",
       "      <td>2963</td>\n",
       "      <td>8199</td>\n",
       "    </tr>\n",
       "    <tr>\n",
       "      <th>8</th>\n",
       "      <td>7351</td>\n",
       "      <td>13117</td>\n",
       "      <td>5033</td>\n",
       "      <td>1835</td>\n",
       "      <td>13</td>\n",
       "      <td>4923</td>\n",
       "      <td>8211</td>\n",
       "    </tr>\n",
       "    <tr>\n",
       "      <th>9</th>\n",
       "      <td>5719</td>\n",
       "      <td>11537</td>\n",
       "      <td>4199</td>\n",
       "      <td>1953</td>\n",
       "      <td>14</td>\n",
       "      <td>4532</td>\n",
       "      <td>7242</td>\n",
       "    </tr>\n",
       "    <tr>\n",
       "      <th>10</th>\n",
       "      <td>2700</td>\n",
       "      <td>11199</td>\n",
       "      <td>3626</td>\n",
       "      <td>2750</td>\n",
       "      <td>15</td>\n",
       "      <td>3580</td>\n",
       "      <td>6485</td>\n",
       "    </tr>\n",
       "    <tr>\n",
       "      <th>11</th>\n",
       "      <td>3945</td>\n",
       "      <td>8235</td>\n",
       "      <td>3005</td>\n",
       "      <td>1271</td>\n",
       "      <td>16</td>\n",
       "      <td>3039</td>\n",
       "      <td>5437</td>\n",
       "    </tr>\n",
       "    <tr>\n",
       "      <th>12</th>\n",
       "      <td>3494</td>\n",
       "      <td>6777</td>\n",
       "      <td>2573</td>\n",
       "      <td>1137</td>\n",
       "      <td>17</td>\n",
       "      <td>2343</td>\n",
       "      <td>4435</td>\n",
       "    </tr>\n",
       "    <tr>\n",
       "      <th>13</th>\n",
       "      <td>3259</td>\n",
       "      <td>6423</td>\n",
       "      <td>2345</td>\n",
       "      <td>933</td>\n",
       "      <td>18</td>\n",
       "      <td>2295</td>\n",
       "      <td>4123</td>\n",
       "    </tr>\n",
       "    <tr>\n",
       "      <th>14</th>\n",
       "      <td>3162</td>\n",
       "      <td>5414</td>\n",
       "      <td>2023</td>\n",
       "      <td>734</td>\n",
       "      <td>19</td>\n",
       "      <td>1935</td>\n",
       "      <td>3311</td>\n",
       "    </tr>\n",
       "  </tbody>\n",
       "</table>\n",
       "</div>"
      ],
      "text/plain": [
       "    sentiment_afinn  tweets  pos cnt  neg cnt  date  sentiment_no_RT  \\\n",
       "0              1019    1870      550      200     5              740   \n",
       "1               881    1783      590      254     6              586   \n",
       "2              1093    2623      788      571     7             1015   \n",
       "3              3921    6012     2187      907     8             2444   \n",
       "4              3448    6436     2030      782     9             2291   \n",
       "5              6805   12114     3953     1315    10             4403   \n",
       "6              6633   11623     4022     1652    11             4232   \n",
       "7              4033   12791     4194     2191    12             2963   \n",
       "8              7351   13117     5033     1835    13             4923   \n",
       "9              5719   11537     4199     1953    14             4532   \n",
       "10             2700   11199     3626     2750    15             3580   \n",
       "11             3945    8235     3005     1271    16             3039   \n",
       "12             3494    6777     2573     1137    17             2343   \n",
       "13             3259    6423     2345      933    18             2295   \n",
       "14             3162    5414     2023      734    19             1935   \n",
       "\n",
       "    tweets_no_RT  \n",
       "0           1099  \n",
       "1           1167  \n",
       "2           1582  \n",
       "3           3540  \n",
       "4           4047  \n",
       "5           6326  \n",
       "6           6795  \n",
       "7           8199  \n",
       "8           8211  \n",
       "9           7242  \n",
       "10          6485  \n",
       "11          5437  \n",
       "12          4435  \n",
       "13          4123  \n",
       "14          3311  "
      ]
     },
     "execution_count": 37,
     "metadata": {},
     "output_type": "execute_result"
    }
   ],
   "source": [
    "by_date_afinn"
   ]
  },
  {
   "cell_type": "markdown",
   "metadata": {},
   "source": [
    "#### Simple bar plot"
   ]
  },
  {
   "cell_type": "code",
   "execution_count": 46,
   "metadata": {
    "collapsed": false
   },
   "outputs": [
    {
     "data": {
      "image/png": "[encoded data removed]",
      "text/plain": [
       "<matplotlib.figure.Figure at 0xe94e6ac8>"
      ]
     },
     "metadata": {},
     "output_type": "display_data"
    },
    {
     "name": "stdout",
     "output_type": "stream",
     "text": [
      "<ggplot: (176457764)>\n"
     ]
    },
    {
     "data": {
      "image/png": "[encoded data removed]",
      "text/plain": [
       "<matplotlib.figure.Figure at 0xe58df630>"
      ]
     },
     "metadata": {},
     "output_type": "display_data"
    },
    {
     "name": "stdout",
     "output_type": "stream",
     "text": [
      "<ggplot: (176457785)>\n"
     ]
    }
   ],
   "source": [
    "p1 = ggplot(by_date_afinn, aes(x='date', weight='sentiment_afinn')) + geom_bar() + \\\n",
    "    xlab(\"Date (August 2016)\") + ylab(\"Sentiment score\") + \\\n",
    "    ggtitle(\"Sentiment score (NMS released on 9th for PS4, 12th for PC)\") \n",
    "    \n",
    "p2 = ggplot(by_date_afinn, aes(x='date', weight='sentiment_no_RT')) + geom_bar() + \\\n",
    "    xlab(\"Date (August 2016)\") + ylab(\"Sentiment score\") + \\\n",
    "    ggtitle(\"Sentiment score excluding retweets (NMS released on 9th for PS4, 12th for PC)\")\n",
    "    \n",
    "print(p1)\n",
    "print(p2)"
   ]
  },
  {
   "cell_type": "markdown",
   "metadata": {},
   "source": [
    "The sentiment overall is quite positive, however we do see a drop on the 12th, which is the release day of PC version. This coincides with the rough launch of the PC version, according to reviews on Steam (by far the most popular PC games online store), there are many reported incidents of game crashes, performance issues on systems well above the minimal specification requirements.  \n",
    "We do see a general decline in the following few days post game release, although there are numerous discussion over the internet and among various media outlet, that whether the game is up to expectation, without similar data set of other recent new game releases, it's too early to say whether the decline is faster than usual. "
   ]
  },
  {
   "cell_type": "markdown",
   "metadata": {},
   "source": [
    "#### Box plot"
   ]
  },
  {
   "cell_type": "code",
   "execution_count": null,
   "metadata": {
    "collapsed": false
   },
   "outputs": [],
   "source": [
    "def return_day(t):\n",
    "    return t.day\n",
    "\n",
    "df_no_ad['day'] = df_no_ad['date'].apply(return_day)"
   ]
  },
  {
   "cell_type": "code",
   "execution_count": 47,
   "metadata": {
    "collapsed": false
   },
   "outputs": [
    {
     "data": {
      "image/png": "[encoded data removed]",
      "text/plain": [
       "<matplotlib.figure.Figure at 0x80fd3f28>"
      ]
     },
     "metadata": {},
     "output_type": "display_data"
    },
    {
     "name": "stdout",
     "output_type": "stream",
     "text": [
      "<ggplot: (299889426)>\n"
     ]
    }
   ],
   "source": [
    "p1 = ggplot(df_no_ad, aes(x='day', y='sentiment_afinn', group = 'day')) + geom_boxplot() + \\\n",
    "    ylab(\"Sentiment score\") + xlab(\"Date (August 2016)\") + \\\n",
    "    ggtitle(\"Sentiment scores by date\")\n",
    "print(p1)"
   ]
  },
  {
   "cell_type": "code",
   "execution_count": null,
   "metadata": {
    "collapsed": true
   },
   "outputs": [],
   "source": []
  }
 ],
 "metadata": {
  "kernelspec": {
   "display_name": "Python 2",
   "language": "python",
   "name": "python2"
  },
  "language_info": {
   "codemirror_mode": {
    "name": "ipython",
    "version": 2
   },
   "file_extension": ".py",
   "mimetype": "text/x-python",
   "name": "python",
   "nbconvert_exporter": "python",
   "pygments_lexer": "ipython2",
   "version": "2.7.12"
  }
 },
 "nbformat": 4,
 "nbformat_minor": 0
}
